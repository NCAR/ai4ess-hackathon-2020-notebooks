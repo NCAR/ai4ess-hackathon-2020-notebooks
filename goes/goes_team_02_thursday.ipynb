{
 "cells": [
  {
   "cell_type": "markdown",
   "metadata": {},
   "source": [
    "# AI for Earth System Science Hackathon 2020\n",
    "# GOES Challenge\n",
    "David John Gagne, Gunther Wallach, Charlie Becker, Bill Petzke\n",
    "\n",
    "## Introduction\n",
    "![GOES-R satellite image from Wikipedia](goes_images/GOES-R_SPACECRAFT.jpg)\n",
    "\n",
    "Lightning kills roughly 30 people per year in the United States (https://www.weather.gov/safety/lightning-victims) and can have large economic impacts by disrupting outdoor work and events and by sparking fires. Improved short term prediction of lightning onset can help protect life and property by ensuring that people can get to safety with sufficient lead time. The economic impacts of lightning protection practices can also be reduced by improving the prediction of when lightning is expected to end. \n",
    "\n",
    "Recently deployed observational systems combined with advances in machine learning have the potential to improve the short-term prediction of lightning by associating broader scale weather patterns with the future occurrence of lightning in that area. The Geostationary Operational Environmental Satellite 16 (GOES-16) is a weather satellite that orbits the Earth at a fixed point situated along the same longitude as the Eastern United States and can provide a hemispheric, multispectral view of cloud patterns at high space and time resolution through its Advanced Baseline Imager (ABI) camera. The satellite also holds the Geostationary Lightning Mapper (GLM) instrument that records lightning flashes across the hemispheric view of the satellite. By combining the data collected by these two instruments, we can develop new machine learning solutions to the challenge of short range lightning prediction.  "
   ]
  },
  {
   "cell_type": "markdown",
   "metadata": {},
   "source": [
    "## Software Requirements\n",
    "This notebook requires Python >= 3.7. The following libraries are required:\n",
    "* numpy\n",
    "* scipy\n",
    "* matplotlib\n",
    "* xarray\n",
    "* pandas\n",
    "* scikit-learn\n",
    "* tensorflow >= 2.1\n",
    "* netcdf4\n",
    "* tqdm\n"
   ]
  },
  {
   "cell_type": "code",
   "execution_count": 1,
   "metadata": {},
   "outputs": [
    {
     "name": "stdout",
     "output_type": "stream",
     "text": [
      "Requirement already satisfied: numpy in /opt/conda/lib/python3.7/site-packages (1.18.5)\n",
      "Requirement already satisfied: scipy in /opt/conda/lib/python3.7/site-packages (1.4.1)\n",
      "Requirement already satisfied: matplotlib in /opt/conda/lib/python3.7/site-packages (3.2.2)\n",
      "Requirement already satisfied: xarray in /opt/conda/lib/python3.7/site-packages (0.15.1)\n",
      "Requirement already satisfied: pandas in /opt/conda/lib/python3.7/site-packages (1.0.5)\n",
      "Requirement already satisfied: netcdf4 in /opt/conda/lib/python3.7/site-packages (1.5.3)\n",
      "Requirement already satisfied: h5netcdf in /opt/conda/lib/python3.7/site-packages (0.8.0)\n",
      "Requirement already satisfied: tqdm in /opt/conda/lib/python3.7/site-packages (4.46.1)\n",
      "Requirement already satisfied: tensorflow in /opt/conda/lib/python3.7/site-packages (2.2.0)\n",
      "Requirement already satisfied: scikit-learn in /opt/conda/lib/python3.7/site-packages (0.23.1)\n",
      "Requirement already satisfied: dask in /opt/conda/lib/python3.7/site-packages (2.19.0)\n",
      "Requirement already satisfied: s3fs in /opt/conda/lib/python3.7/site-packages (0.4.2)\n",
      "Requirement already satisfied: goes16ci in /opt/conda/lib/python3.7/site-packages (0.1.3)\n",
      "Requirement already satisfied: seaborn in /opt/conda/lib/python3.7/site-packages (0.10.1)\n",
      "Requirement already satisfied: python-dateutil>=2.1 in /opt/conda/lib/python3.7/site-packages (from matplotlib) (2.8.1)\n",
      "Requirement already satisfied: cycler>=0.10 in /opt/conda/lib/python3.7/site-packages (from matplotlib) (0.10.0)\n",
      "Requirement already satisfied: kiwisolver>=1.0.1 in /opt/conda/lib/python3.7/site-packages (from matplotlib) (1.2.0)\n",
      "Requirement already satisfied: pyparsing!=2.0.4,!=2.1.2,!=2.1.6,>=2.0.1 in /opt/conda/lib/python3.7/site-packages (from matplotlib) (2.4.7)\n",
      "Requirement already satisfied: setuptools>=41.2 in /opt/conda/lib/python3.7/site-packages (from xarray) (47.1.1.post20200529)\n",
      "Requirement already satisfied: pytz>=2017.2 in /opt/conda/lib/python3.7/site-packages (from pandas) (2020.1)\n",
      "Requirement already satisfied: cftime in /opt/conda/lib/python3.7/site-packages (from netcdf4) (1.1.3)\n",
      "Requirement already satisfied: h5py in /opt/conda/lib/python3.7/site-packages (from h5netcdf) (2.10.0)\n",
      "Requirement already satisfied: protobuf>=3.8.0 in /opt/conda/lib/python3.7/site-packages (from tensorflow) (3.12.2)\n",
      "Requirement already satisfied: gast==0.3.3 in /opt/conda/lib/python3.7/site-packages (from tensorflow) (0.3.3)\n",
      "Requirement already satisfied: keras-preprocessing>=1.1.0 in /opt/conda/lib/python3.7/site-packages (from tensorflow) (1.1.2)\n",
      "Requirement already satisfied: tensorboard<2.3.0,>=2.2.0 in /opt/conda/lib/python3.7/site-packages (from tensorflow) (2.2.2)\n",
      "Requirement already satisfied: termcolor>=1.1.0 in /opt/conda/lib/python3.7/site-packages (from tensorflow) (1.1.0)\n",
      "Requirement already satisfied: absl-py>=0.7.0 in /opt/conda/lib/python3.7/site-packages (from tensorflow) (0.9.0)\n",
      "Requirement already satisfied: opt-einsum>=2.3.2 in /opt/conda/lib/python3.7/site-packages (from tensorflow) (3.2.1)\n",
      "Requirement already satisfied: google-pasta>=0.1.8 in /opt/conda/lib/python3.7/site-packages (from tensorflow) (0.2.0)\n",
      "Requirement already satisfied: tensorflow-estimator<2.3.0,>=2.2.0 in /opt/conda/lib/python3.7/site-packages (from tensorflow) (2.2.0)\n",
      "Requirement already satisfied: wheel>=0.26; python_version >= \"3\" in /opt/conda/lib/python3.7/site-packages (from tensorflow) (0.34.2)\n",
      "Requirement already satisfied: wrapt>=1.11.1 in /opt/conda/lib/python3.7/site-packages (from tensorflow) (1.12.1)\n",
      "Requirement already satisfied: grpcio>=1.8.6 in /opt/conda/lib/python3.7/site-packages (from tensorflow) (1.30.0)\n",
      "Requirement already satisfied: six>=1.12.0 in /opt/conda/lib/python3.7/site-packages (from tensorflow) (1.15.0)\n",
      "Requirement already satisfied: astunparse==1.6.3 in /opt/conda/lib/python3.7/site-packages (from tensorflow) (1.6.3)\n",
      "Requirement already satisfied: joblib>=0.11 in /opt/conda/lib/python3.7/site-packages (from scikit-learn) (0.15.1)\n",
      "Requirement already satisfied: threadpoolctl>=2.0.0 in /opt/conda/lib/python3.7/site-packages (from scikit-learn) (2.1.0)\n",
      "Requirement already satisfied: pyyaml in /opt/conda/lib/python3.7/site-packages (from dask) (5.3.1)\n",
      "Requirement already satisfied: botocore>=1.12.91 in /opt/conda/lib/python3.7/site-packages (from s3fs) (1.17.9)\n",
      "Requirement already satisfied: fsspec>=0.6.0 in /opt/conda/lib/python3.7/site-packages (from s3fs) (0.7.4)\n",
      "Requirement already satisfied: google-auth-oauthlib<0.5,>=0.4.1 in /opt/conda/lib/python3.7/site-packages (from tensorboard<2.3.0,>=2.2.0->tensorflow) (0.4.1)\n",
      "Requirement already satisfied: werkzeug>=0.11.15 in /opt/conda/lib/python3.7/site-packages (from tensorboard<2.3.0,>=2.2.0->tensorflow) (1.0.1)\n",
      "Requirement already satisfied: requests<3,>=2.21.0 in /opt/conda/lib/python3.7/site-packages (from tensorboard<2.3.0,>=2.2.0->tensorflow) (2.23.0)\n",
      "Requirement already satisfied: tensorboard-plugin-wit>=1.6.0 in /opt/conda/lib/python3.7/site-packages (from tensorboard<2.3.0,>=2.2.0->tensorflow) (1.6.0.post3)\n",
      "Requirement already satisfied: markdown>=2.6.8 in /opt/conda/lib/python3.7/site-packages (from tensorboard<2.3.0,>=2.2.0->tensorflow) (3.2.2)\n",
      "Requirement already satisfied: google-auth<2,>=1.6.3 in /opt/conda/lib/python3.7/site-packages (from tensorboard<2.3.0,>=2.2.0->tensorflow) (1.18.0)\n",
      "Requirement already satisfied: urllib3<1.26,>=1.20 in /opt/conda/lib/python3.7/site-packages (from botocore>=1.12.91->s3fs) (1.25.9)\n",
      "Requirement already satisfied: jmespath<1.0.0,>=0.7.1 in /opt/conda/lib/python3.7/site-packages (from botocore>=1.12.91->s3fs) (0.10.0)\n",
      "Requirement already satisfied: docutils<0.16,>=0.10 in /opt/conda/lib/python3.7/site-packages (from botocore>=1.12.91->s3fs) (0.15.2)\n",
      "Requirement already satisfied: requests-oauthlib>=0.7.0 in /opt/conda/lib/python3.7/site-packages (from google-auth-oauthlib<0.5,>=0.4.1->tensorboard<2.3.0,>=2.2.0->tensorflow) (1.3.0)\n",
      "Requirement already satisfied: certifi>=2017.4.17 in /opt/conda/lib/python3.7/site-packages (from requests<3,>=2.21.0->tensorboard<2.3.0,>=2.2.0->tensorflow) (2020.6.20)\n",
      "Requirement already satisfied: idna<3,>=2.5 in /opt/conda/lib/python3.7/site-packages (from requests<3,>=2.21.0->tensorboard<2.3.0,>=2.2.0->tensorflow) (2.9)\n",
      "Requirement already satisfied: chardet<4,>=3.0.2 in /opt/conda/lib/python3.7/site-packages (from requests<3,>=2.21.0->tensorboard<2.3.0,>=2.2.0->tensorflow) (3.0.4)\n",
      "Requirement already satisfied: importlib-metadata; python_version < \"3.8\" in /opt/conda/lib/python3.7/site-packages (from markdown>=2.6.8->tensorboard<2.3.0,>=2.2.0->tensorflow) (1.6.1)\n",
      "Requirement already satisfied: cachetools<5.0,>=2.0.0 in /opt/conda/lib/python3.7/site-packages (from google-auth<2,>=1.6.3->tensorboard<2.3.0,>=2.2.0->tensorflow) (4.1.0)\n",
      "Requirement already satisfied: pyasn1-modules>=0.2.1 in /opt/conda/lib/python3.7/site-packages (from google-auth<2,>=1.6.3->tensorboard<2.3.0,>=2.2.0->tensorflow) (0.2.8)\n",
      "Requirement already satisfied: rsa<5,>=3.1.4; python_version >= \"3\" in /opt/conda/lib/python3.7/site-packages (from google-auth<2,>=1.6.3->tensorboard<2.3.0,>=2.2.0->tensorflow) (4.6)\n",
      "Requirement already satisfied: oauthlib>=3.0.0 in /opt/conda/lib/python3.7/site-packages (from requests-oauthlib>=0.7.0->google-auth-oauthlib<0.5,>=0.4.1->tensorboard<2.3.0,>=2.2.0->tensorflow) (3.0.1)\n",
      "Requirement already satisfied: zipp>=0.5 in /opt/conda/lib/python3.7/site-packages (from importlib-metadata; python_version < \"3.8\"->markdown>=2.6.8->tensorboard<2.3.0,>=2.2.0->tensorflow) (3.1.0)\n",
      "Requirement already satisfied: pyasn1<0.5.0,>=0.4.6 in /opt/conda/lib/python3.7/site-packages (from pyasn1-modules>=0.2.1->google-auth<2,>=1.6.3->tensorboard<2.3.0,>=2.2.0->tensorflow) (0.4.8)\n"
     ]
    }
   ],
   "source": [
    "! pip install numpy scipy matplotlib xarray pandas netcdf4 h5netcdf tqdm tensorflow scikit-learn dask s3fs goes16ci seaborn"
   ]
  },
  {
   "cell_type": "code",
   "execution_count": 2,
   "metadata": {},
   "outputs": [
    {
     "name": "stdout",
     "output_type": "stream",
     "text": [
      "Collecting keras\n",
      "  Using cached Keras-2.4.2-py2.py3-none-any.whl (170 kB)\n",
      "Requirement already satisfied: h5py in /opt/conda/lib/python3.7/site-packages (from keras) (2.10.0)\n",
      "Requirement already satisfied: scipy>=0.14 in /opt/conda/lib/python3.7/site-packages (from keras) (1.4.1)\n",
      "Requirement already satisfied: numpy>=1.9.1 in /opt/conda/lib/python3.7/site-packages (from keras) (1.18.5)\n",
      "Requirement already satisfied: pyyaml in /opt/conda/lib/python3.7/site-packages (from keras) (5.3.1)\n",
      "Requirement already satisfied: six in /opt/conda/lib/python3.7/site-packages (from h5py->keras) (1.15.0)\n",
      "Installing collected packages: keras\n",
      "Successfully installed keras-2.4.2\n"
     ]
    }
   ],
   "source": [
    "! pip install keras"
   ]
  },
  {
   "cell_type": "code",
   "execution_count": 2,
   "metadata": {},
   "outputs": [
    {
     "name": "stdout",
     "output_type": "stream",
     "text": [
      "PhysicalDevice(name='/physical_device:GPU:0', device_type='GPU')\n"
     ]
    }
   ],
   "source": [
    "import numpy as np\n",
    "import pandas as pd\n",
    "import seaborn as sns\n",
    "import random\n",
    "import xarray as xr\n",
    "import tensorflow as tf\n",
    "import matplotlib.pyplot as plt\n",
    "from dask.distributed import Client, LocalCluster, progress\n",
    "from goes16ci.models import StandardConvNet, ResNet, MinMaxScaler2D\n",
    "import s3fs\n",
    "from glob import glob\n",
    "%matplotlib inline\n",
    "\n",
    "# Set random seed\n",
    "seed = 3985\n",
    "np.random.seed(seed)\n",
    "random.seed(seed)\n",
    "tf.random.set_seed(seed)\n",
    "\n",
    "gpus = tf.config.get_visible_devices(\"GPU\")\n",
    "for device in gpus:\n",
    "    print(device)\n",
    "    tf.config.experimental.set_memory_growth(device, True)"
   ]
  },
  {
   "cell_type": "markdown",
   "metadata": {},
   "source": [
    "## Data\n",
    "\n",
    "### Data Generation\n",
    "\n",
    "\n",
    "There are several GOES-16 data products available. We are primarily interested in the water vapor bands from the Advanced Baseline Imager (ABI) and lightning counts from the Geostationary Lightning Mapper (GLM). The ABI camera’s spatial resolution is 2 km with a temporal resolution of 5 minutes. We chose to select/crop 32 x 32 sized image patches (for each band) across our domain (CONUS Midwest) at an upsampled rate of every 20 minutes from 2019-03-02 through 2019-10-01. We used these same spatio-temporal patches to aggregate all lightning flash counts within that patch but lagged by one hour. Total aggregated data was output at a daily interval.  "
   ]
  },
  {
   "cell_type": "markdown",
   "metadata": {},
   "source": [
    "### Useful Links\n",
    "\n",
    "[Overall GOES-16 Band Reference Guide](https://www.weather.gov/media/crp/GOES_16_Guides_FINALBIS.pdf)\n",
    "\n",
    "[GOES-16 Band 08 Info (Upper-level Water Vapor)](http://cimss.ssec.wisc.edu/goes/OCLOFactSheetPDFs/ABIQuickGuide_Band08.pdf)\n",
    "\n",
    "[GOES-16 Band 09 Info (Mid-level Water Vapor)](http://cimss.ssec.wisc.edu/goes/OCLOFactSheetPDFs/ABIQuickGuide_Band09.pdf)\n",
    "\n",
    "[GOES-16 Band 10 Info (Low-level Water Vapor)](http://cimss.ssec.wisc.edu/goes/OCLOFactSheetPDFs/ABIQuickGuide_Band10.pdf)\n",
    "\n",
    "[GOES-16 Band 14 Info (Longwave Window)](http://cimss.ssec.wisc.edu/goes/OCLOFactSheetPDFs/ABIQuickGuide_Band14.pdf)\n",
    "\n",
    "[GOES-16 Geostationary Lightning Mapper (GLM)](https://www.goes-r.gov/spacesegment/glm.html)\n",
    "\n",
    "\n",
    "### Time span of the dataset\n",
    "\n",
    "|  | Date/Time | \n",
    "| ------------- | :---- |\n",
    "| Start | 2019-03-02 00:20:00 | \n",
    "| End | 2019-10-02 00:00:00 |\n",
    "| Timestep | 00:20:00 | \n",
    "| NOTE: some days are missing (intentionally skipped) to isolate convective cycles\n",
    "\n",
    "\n",
    "\n",
    "\n",
    "\n",
    "### Geographic Coverage of Dataset (Mostly Midwest CONUS)\n",
    "\n",
    "|  | Latitude | Longitude |\n",
    "| ------------- | :----:|:- |\n",
    "| Min | 29.09 | -97.77 |\n",
    "| Max | 48.97 | -82.53 |\n",
    "\n",
    "\n",
    "\n",
    "\n",
    "### Dimensions\n",
    "\n",
    "| Dimension Name | Description | Size |\n",
    "| ------------- | :----:|:----------- |\n",
    "| Band     | ABI Band Number  | 4 (Bands 8,9,10,14) |\n",
    "| Patch      | spatio-temporal patch | ~3600 per day |\n",
    "| X      | X-plane | 32 |\n",
    "| Y      | Y-plane | 32 |\n",
    "\n",
    "### Potential Input Variables\n",
    "\n",
    "| Variable Name | Units | Description | \n",
    "| ------------- | :----:|:----------- | \n",
    "| abi (Band 08)   | K     | Upper-level Water Vapor | \n",
    "| abi (Band 09)   | K     | Mid-level Water Vapor   |\n",
    "| abi (Band 10)   | K     | Lower-level Water Vapor |\n",
    "| abi (Band 14)   | K     | Longwave Window         |\n",
    "\n",
    "### Output Variables\n",
    "\n",
    "| Variable Name | Units | Description |\n",
    "| ------------- | :----:|:----------- |\n",
    "| flash_counts    | -     | Lightning strike count |\n",
    "\n",
    "\n",
    "### Metadata Variables\n",
    "\n",
    "| Variable Name | Units | Description |\n",
    "| ------------- | :----:|:----------- |\n",
    "| Time     | YYYY-MM-DDTHH:MM:SS  | The Date   |\n",
    "| Lat      | Degrees     | Latitude   |\n",
    "| Lon      | Degrees     | Longitude  |\n",
    "\n",
    "\n",
    "### Training/Validation/Testing Sets\n",
    "\n",
    "The function `split_data_files()` will split the data files into approximately equal partitions for training/validation/testing. By default, it takes 4-day contiguous data “chunks” per partition while skipping 1 day between to isolate convective cycles (and thus not validate/test on data linked to the training data), and repeats throughout the selected timespan.  Thus, each set should contain approximately 210,000 (32 x 32)  samples (patches) if the entire timespan is used.\n"
   ]
  },
  {
   "cell_type": "code",
   "execution_count": 2,
   "metadata": {},
   "outputs": [],
   "source": [
    "# How to load the data from disk or cloud\n",
    "\n",
    "def split_data_files(dir_path=\"ncar-aiml-data-commons/goes/ABI_patches_32/\", file_prefix='abi_patches_', \n",
    "               start_date='20190302', end_date='20191001', seq_len=4, skip_len=1):\n",
    "    \"\"\"\n",
    "    Take daily ABI patch files and split into equal training/validation/testing\n",
    "    semi-contiguous partitions, skipping day(s) between chunks to isolate convective \n",
    "    cycles.\n",
    "    \n",
    "    Args: \n",
    "        dir_path: (str) Directory path to daily ABI files\n",
    "        file_prefix: (str) File prefix up to date \n",
    "        start_date: (str) Starting date to get files in format of YYYYMMDD\n",
    "        end_date: (str) Ending date to get files in format of YYYYMMDD\n",
    "        seq_len: (int) Length of days per 'chunk' of data\n",
    "        skip_len: (int) How many days to skip between data chunks\n",
    "        \n",
    "    Returns:\n",
    "        train_f, val_f, test_f: list of training/validation/test files\n",
    "    \"\"\"\n",
    "    \n",
    "    all_files = fs.ls(dir_path)\n",
    "    start_index = all_files.index('{}{}{}T000000.nc'.format(dir_path, file_prefix, start_date))\n",
    "    end_index = all_files.index('{}{}{}T000000.nc'.format(dir_path, file_prefix, end_date))\n",
    "    file_spread = all_files[start_index:end_index+1]\n",
    "    \n",
    "    train_files, val_files, test_files = [], [], []\n",
    "    \n",
    "    for i in np.arange(0, len(file_spread)+1, (seq_len+skip_len)*3):\n",
    "        \n",
    "        val_i = i + seq_len + skip_len\n",
    "        test_i = i + (seq_len + skip_len)*2\n",
    "        \n",
    "        train_files.append(file_spread[i:i+seq_len])\n",
    "        val_files.append(file_spread[val_i:val_i+seq_len])\n",
    "        test_files.append(file_spread[test_i:test_i+seq_len])\n",
    "        \n",
    "    train_f = [item for sublist in train_files for item in sublist]\n",
    "    val_f = [item for sublist in val_files for item in sublist]\n",
    "    test_f = [item for sublist in test_files for item in sublist]\n",
    "    \n",
    "    return train_f, val_f, test_f\n",
    "\n",
    "def fetch_data(file_number, file_list):\n",
    "    \"\"\"\n",
    "    Function to be distributed across a cluster to individually load files directly from an AWS S3 bucket \n",
    "    \n",
    "    Args:\n",
    "        file_number: index for file from file_list\n",
    "        file_list: List of files to index from\n",
    "    Returns:\n",
    "        ds: xarray dataset of daily file \n",
    "    \"\"\"\n",
    "    obj = fs.open(file_list[file_number])\n",
    "    ds = xr.open_dataset(obj, chunks={})\n",
    "    \n",
    "    return ds\n",
    "\n",
    "def merge_data(file_list):\n",
    "    \"\"\"\n",
    "    Take a list of files and distribute across a cluster to be loaded then gathered and concantenated\n",
    "    \n",
    "    Args:\n",
    "        file_list: List of files to be merged together (training, validation, or testing)\n",
    "    Returns:\n",
    "        merged_data: Concatenated xarray dataset of training, validation, or testing data \n",
    "    \"\"\"\n",
    "    futures = client.map(fetch_data, range(len(file_list)), [file_list]*len(file_list))\n",
    "    results = client.gather(futures)\n",
    "    merged_data = xr.concat(results, 'patch').compute()\n",
    "    \n",
    "    return merged_data\n",
    "\n",
    "def prepare_data(data):\n",
    "    \"\"\"\n",
    "    Take GOES netCDF data, filter out NaNs, reshape for tensorflow, convert flash_counts to binary,\n",
    "    and return filtered numpy arrays\n",
    "    Args:\n",
    "        data: GOES patch netCDF data including ABI bands and lightning flash counts\n",
    "    Returns:\n",
    "        good_imagery: NaN filtered numpy array with reshaped dimensions (patch, x, y, band)\n",
    "        binary_output: 1D numpy array of lightnin flash_counts\n",
    "    \"\"\"\n",
    "    \n",
    "    input_data = np.moveaxis(data['abi'].values, 1, -1)\n",
    "    output_data = data['flash_counts'].values\n",
    "    \n",
    "    nan_indices = np.unique(np.where(np.isnan(input_data))[0])\n",
    "    all_indices = np.arange(input_data.shape[0])\n",
    "    valid_indices = all_indices[np.isin(all_indices, nan_indices, assume_unique=True, invert=True)]\n",
    "    \n",
    "    good_imagery = input_data[valid_indices]\n",
    "    binary_output = np.where(output_data > 0, 1, 0)[valid_indices]\n",
    "    \n",
    "    return good_imagery, binary_output, valid_indices"
   ]
  },
  {
   "cell_type": "markdown",
   "metadata": {},
   "source": [
    "We use DASK to create a local cluster to speed up the data loading process (Loading data directly from an AWS S3 bucket can be slow)."
   ]
  },
  {
   "cell_type": "code",
   "execution_count": 3,
   "metadata": {},
   "outputs": [],
   "source": [
    "cluster = LocalCluster(processes=True, threads_per_worker=2)\n",
    "client = Client(cluster)\n",
    "fs = s3fs.S3FileSystem(anon=True)"
   ]
  },
  {
   "cell_type": "code",
   "execution_count": 4,
   "metadata": {},
   "outputs": [
    {
     "name": "stdout",
     "output_type": "stream",
     "text": [
      "CPU times: user 22.3 s, sys: 38.5 s, total: 1min\n",
      "Wall time: 4min 44s\n"
     ]
    }
   ],
   "source": [
    "%%time\n",
    "# Split into training, validation, and test sets\n",
    "# We only load the train and val sets here to save a couple minutes\n",
    "train_files, val_files, test_files = split_data_files()\n",
    "train, val = map(merge_data, [train_files, val_files])"
   ]
  },
  {
   "cell_type": "code",
   "execution_count": 6,
   "metadata": {},
   "outputs": [],
   "source": [
    "client.shutdown()"
   ]
  },
  {
   "cell_type": "markdown",
   "metadata": {},
   "source": [
    "## Exploratory visualizations\n",
    "\n",
    "When seperating by band, lightning active patches usually have a similar brightness temperature (BT) profiles throughout the 4 water vapor channels. Low BT convective cells are often seen as well (as expected)."
   ]
  },
  {
   "cell_type": "code",
   "execution_count": 8,
   "metadata": {},
   "outputs": [
    {
     "data": {
      "image/png": "[encoded data removed]",
      "text/plain": [
       "<Figure size 864x576 with 8 Axes>"
      ]
     },
     "metadata": {
      "needs_background": "light"
     },
     "output_type": "display_data"
    }
   ],
   "source": [
    "high_lc_indices = np.argwhere(train.flash_counts.values > 100).flatten() # indices with more than 100 lightning counts\n",
    "no_lc_indices = np.argwhere(train.flash_counts.values == 0).flatten() # indices with no lightning counts\n",
    "\n",
    "index = high_lc_indices[205]\n",
    "vmin = train['abi'][index,:,:,:].min() # set min/max plotting range  \n",
    "vmax = train['abi'][index,:,:,:].max()\n",
    "\n",
    "fig, ax = plt.subplots(2,2, figsize=(12,8))\n",
    "for i in range(4):\n",
    "    train['abi'][index,i,:,:].plot(ax=ax.ravel()[i], vmin=vmin, vmax=vmax)\n",
    "    plt.suptitle('Exmaple Patch with High Lightning Activity', fontsize=20)"
   ]
  },
  {
   "cell_type": "markdown",
   "metadata": {},
   "source": [
    "Areas without lightning activity often exibit a much larger BT range throughout the channel column, particularily the longwave window (Band 14) which often has much higher values with clear skies."
   ]
  },
  {
   "cell_type": "code",
   "execution_count": 9,
   "metadata": {},
   "outputs": [
    {
     "data": {
      "image/png": "[encoded data removed]",
      "text/plain": [
       "<Figure size 864x576 with 8 Axes>"
      ]
     },
     "metadata": {
      "needs_background": "light"
     },
     "output_type": "display_data"
    }
   ],
   "source": [
    "index = no_lc_indices[300]\n",
    "vmin = train['abi'][index,:,:,:].min() # set min/max plotting range\n",
    "vmax = train['abi'][index,:,:,:].max() # set min/max plotting range\n",
    "\n",
    "fig, ax = plt.subplots(2,2, figsize=(12,8))\n",
    "for i in range(4):\n",
    "    train['abi'][index,i,:,:].plot(ax=ax.ravel()[i], vmin=vmin, vmax=vmax)\n",
    "    plt.suptitle('Exmaple Patch with No Lightning Activity', fontsize=20)"
   ]
  },
  {
   "cell_type": "markdown",
   "metadata": {},
   "source": [
    "This pattern is also noted when taking the mean value of each patch across the dataset."
   ]
  },
  {
   "cell_type": "code",
   "execution_count": 10,
   "metadata": {},
   "outputs": [
    {
     "name": "stderr",
     "output_type": "stream",
     "text": [
      "/opt/conda/lib/python3.7/site-packages/xarray/core/nanops.py:142: RuntimeWarning: Mean of empty slice\n",
      "  return np.nanmean(a, axis=axis, dtype=dtype)\n"
     ]
    },
    {
     "data": {
      "image/png": "[encoded data removed]",
      "text/plain": [
       "<Figure size 864x864 with 2 Axes>"
      ]
     },
     "metadata": {
      "needs_background": "light"
     },
     "output_type": "display_data"
    }
   ],
   "source": [
    "lc_train = train.isel(patch=high_lc_indices) # all patch data with lightning counts (above threshold)\n",
    "no_lc_train = train.isel(patch=no_lc_indices) # all patch data without lightning activity\n",
    "mean_patches_lc = lc_train.abi.mean(dim=('x','y')) # mean BT of each patch\n",
    "mean_patches_no_lc = no_lc_train.abi.mean(dim=('x','y')) # mean BT of each patch\n",
    "\n",
    "fig, ax = plt.subplots(2,1, figsize=(12,12))\n",
    "for i,lab in enumerate(['Band: 08', 'Band: 09', 'Band: 10', 'Band: 14']*2):\n",
    "    if i < 4:\n",
    "        sns.kdeplot(mean_patches_lc[:,i], ax=ax[0], label=lab, shade=True).set_title(\n",
    "            'Mean Patch Distributions With Lightning Activity', fontsize=22)\n",
    "    else:\n",
    "        sns.kdeplot(mean_patches_no_lc[:,i-4], ax=ax[1], label=lab, shade=True).set_title(\n",
    "            'Mean Patch Distributions Without Lightning Activity', fontsize=22)"
   ]
  },
  {
   "cell_type": "markdown",
   "metadata": {},
   "source": [
    "### Data Transforms\n",
    "Discuss any transforms or normalizations that may be needed for this dataset. Remember to fit a scaler only to the training data and then apply it on testing and validation."
   ]
  },
  {
   "cell_type": "code",
   "execution_count": 17,
   "metadata": {},
   "outputs": [],
   "source": [
    "# Visual of input variable before and after transform\n",
    "# Example of data transform procedure for dataset"
   ]
  },
  {
   "cell_type": "code",
   "execution_count": 66,
   "metadata": {},
   "outputs": [],
   "source": [
    "from sklearn.preprocessing import StandardScaler, MinMaxScaler"
   ]
  },
  {
   "cell_type": "code",
   "execution_count": 7,
   "metadata": {},
   "outputs": [
    {
     "name": "stderr",
     "output_type": "stream",
     "text": [
      "distributed.client - ERROR - Failed to reconnect to scheduler after 10.00 seconds, closing client\n",
      "_GatheringFuture exception was never retrieved\n",
      "future: <_GatheringFuture finished exception=CancelledError()>\n",
      "concurrent.futures._base.CancelledError\n"
     ]
    },
    {
     "name": "stdout",
     "output_type": "stream",
     "text": [
      "CPU times: user 17.1 s, sys: 5.77 s, total: 22.9 s\n",
      "Wall time: 22.6 s\n"
     ]
    }
   ],
   "source": [
    "%%time\n",
    "# get numpy arrays of patch data for each band (this also converts all flash_counts to binary classes)\n",
    "train_in, train_out = prepare_data(train) \n",
    "val_in, val_out = prepare_data(val)\n",
    "\n",
    "# scale data\n",
    "scaler = MinMaxScaler2D()\n",
    "scaled_train_in = scaler.fit_transform(train_in)\n",
    "scaled_val_in = scaler.transform(val_in)"
   ]
  },
  {
   "cell_type": "code",
   "execution_count": 7,
   "metadata": {},
   "outputs": [
    {
     "data": {
      "text/plain": [
       "{'min_filters': 16,\n",
       " 'filter_width': 3,\n",
       " 'filter_growth_rate': 2,\n",
       " 'min_data_width': 4,\n",
       " 'hidden_activation': 'relu',\n",
       " 'output_activation': 'sigmoid',\n",
       " 'use_dropout': False,\n",
       " 'pooling': 'mean',\n",
       " 'dropout_alpha': 0.0,\n",
       " 'data_format': 'channels_last',\n",
       " 'optimizer': 'adam',\n",
       " 'learning_rate': 0.001,\n",
       " 'loss': 'mse',\n",
       " 'metrics': None,\n",
       " 'leaky_alpha': 0.1,\n",
       " 'batch_size': 512,\n",
       " 'epochs': 5,\n",
       " 'sgd_momentum': 0.99,\n",
       " 'model': None,\n",
       " 'parallel_model': None,\n",
       " 'time_history': <goes16ci.models.TimeHistory at 0x7f680a267a50>,\n",
       " 'loss_history': <goes16ci.models.LossHistory at 0x7f6880cc7350>,\n",
       " 'verbose': 0}"
      ]
     },
     "execution_count": 7,
     "metadata": {},
     "output_type": "execute_result"
    }
   ],
   "source": [
    "# declare ResNet (residual network from the goes16i module) and list the default parameters\n",
    "# Any of these parameters can be overridden\n",
    "# note using larger batch sizes here can cause memory errors\n",
    "resNet_mod = ResNet(epochs=5, batch_size=512)\n",
    "vars(resNet_mod)"
   ]
  },
  {
   "cell_type": "code",
   "execution_count": 8,
   "metadata": {},
   "outputs": [
    {
     "name": "stdout",
     "output_type": "stream",
     "text": [
      "{'loss': 0.07956266403198242, 'val_loss': 0.10788793116807938}\n",
      "{'loss': 0.06662104278802872, 'val_loss': 0.07865934818983078}\n",
      "{'loss': 0.06324072927236557, 'val_loss': 0.08875022828578949}\n",
      "{'loss': 0.06162538379430771, 'val_loss': 0.08349747955799103}\n",
      "{'loss': 0.059792160987854004, 'val_loss': 0.07703594118356705}\n",
      "Model: \"model\"\n",
      "__________________________________________________________________________________________________\n",
      "Layer (type)                    Output Shape         Param #     Connected to                     \n",
      "==================================================================================================\n",
      "scn_input (InputLayer)          [(None, 32, 32, 4)]  0                                            \n",
      "__________________________________________________________________________________________________\n",
      "conv2d (Conv2D)                 (None, 32, 32, 16)   592         scn_input[0][0]                  \n",
      "__________________________________________________________________________________________________\n",
      "bn_res_00_a (BatchNormalization (None, 32, 32, 16)   64          conv2d[0][0]                     \n",
      "__________________________________________________________________________________________________\n",
      "res_activation_00_a (Activation (None, 32, 32, 16)   0           bn_res_00_a[0][0]                \n",
      "__________________________________________________________________________________________________\n",
      "res_conv_00_a (Conv2D)          (None, 32, 32, 16)   2320        res_activation_00_a[0][0]        \n",
      "__________________________________________________________________________________________________\n",
      "bn_res_00_b (BatchNormalization (None, 32, 32, 16)   64          res_conv_00_a[0][0]              \n",
      "__________________________________________________________________________________________________\n",
      "res_activation_00_b (Activation (None, 32, 32, 16)   0           bn_res_00_b[0][0]                \n",
      "__________________________________________________________________________________________________\n",
      "res_conv_00_b (Conv2D)          (None, 32, 32, 16)   2320        res_activation_00_b[0][0]        \n",
      "__________________________________________________________________________________________________\n",
      "add (Add)                       (None, 32, 32, 16)   0           res_conv_00_b[0][0]              \n",
      "                                                                 conv2d[0][0]                     \n",
      "__________________________________________________________________________________________________\n",
      "pooling_00 (AveragePooling2D)   (None, 16, 16, 16)   0           add[0][0]                        \n",
      "__________________________________________________________________________________________________\n",
      "conv2d_1 (Conv2D)               (None, 16, 16, 32)   4640        pooling_00[0][0]                 \n",
      "__________________________________________________________________________________________________\n",
      "bn_res_01_a (BatchNormalization (None, 16, 16, 32)   128         conv2d_1[0][0]                   \n",
      "__________________________________________________________________________________________________\n",
      "res_activation_01_a (Activation (None, 16, 16, 32)   0           bn_res_01_a[0][0]                \n",
      "__________________________________________________________________________________________________\n",
      "res_conv_01_a (Conv2D)          (None, 16, 16, 32)   9248        res_activation_01_a[0][0]        \n",
      "__________________________________________________________________________________________________\n",
      "bn_res_01_b (BatchNormalization (None, 16, 16, 32)   128         res_conv_01_a[0][0]              \n",
      "__________________________________________________________________________________________________\n",
      "res_activation_01_b (Activation (None, 16, 16, 32)   0           bn_res_01_b[0][0]                \n",
      "__________________________________________________________________________________________________\n",
      "res_conv_01_b (Conv2D)          (None, 16, 16, 32)   9248        res_activation_01_b[0][0]        \n",
      "__________________________________________________________________________________________________\n",
      "add_1 (Add)                     (None, 16, 16, 32)   0           res_conv_01_b[0][0]              \n",
      "                                                                 conv2d_1[0][0]                   \n",
      "__________________________________________________________________________________________________\n",
      "pooling_01 (AveragePooling2D)   (None, 8, 8, 32)     0           add_1[0][0]                      \n",
      "__________________________________________________________________________________________________\n",
      "conv2d_2 (Conv2D)               (None, 8, 8, 64)     18496       pooling_01[0][0]                 \n",
      "__________________________________________________________________________________________________\n",
      "bn_res_02_a (BatchNormalization (None, 8, 8, 64)     256         conv2d_2[0][0]                   \n",
      "__________________________________________________________________________________________________\n",
      "res_activation_02_a (Activation (None, 8, 8, 64)     0           bn_res_02_a[0][0]                \n",
      "__________________________________________________________________________________________________\n",
      "res_conv_02_a (Conv2D)          (None, 8, 8, 64)     36928       res_activation_02_a[0][0]        \n",
      "__________________________________________________________________________________________________\n",
      "bn_res_02_b (BatchNormalization (None, 8, 8, 64)     256         res_conv_02_a[0][0]              \n",
      "__________________________________________________________________________________________________\n",
      "res_activation_02_b (Activation (None, 8, 8, 64)     0           bn_res_02_b[0][0]                \n",
      "__________________________________________________________________________________________________\n",
      "res_conv_02_b (Conv2D)          (None, 8, 8, 64)     36928       res_activation_02_b[0][0]        \n",
      "__________________________________________________________________________________________________\n",
      "add_2 (Add)                     (None, 8, 8, 64)     0           res_conv_02_b[0][0]              \n",
      "                                                                 conv2d_2[0][0]                   \n",
      "__________________________________________________________________________________________________\n",
      "pooling_02 (AveragePooling2D)   (None, 4, 4, 64)     0           add_2[0][0]                      \n",
      "__________________________________________________________________________________________________\n",
      "flatten (Flatten)               (None, 1024)         0           pooling_02[0][0]                 \n",
      "__________________________________________________________________________________________________\n",
      "dense_output (Dense)            (None, 1)            1025        flatten[0][0]                    \n",
      "__________________________________________________________________________________________________\n",
      "activation_output (Activation)  (None, 1)            0           dense_output[0][0]               \n",
      "==================================================================================================\n",
      "Total params: 122,641\n",
      "Trainable params: 122,193\n",
      "Non-trainable params: 448\n",
      "__________________________________________________________________________________________________\n",
      "CPU times: user 2min 13s, sys: 1min 39s, total: 3min 53s\n",
      "Wall time: 5min 40s\n"
     ]
    }
   ],
   "source": [
    "%%time\n",
    "# Fit model and print architecture\n",
    "resNet_mod.fit(scaled_train_in, train_out, scaled_val_in, val_out)\n",
    "resNet_mod.model.summary()"
   ]
  },
  {
   "cell_type": "markdown",
   "metadata": {},
   "source": [
    "## Baseline ResNet Evaluation Metrics\n",
    "We trained on binary output data, but output probabilities before converting to class. This allows us to evaluate regressed and classified metrics:\n",
    "\n",
    "\n",
    "| Type | Metric | Value to beat |\n",
    "| ------------- | :----:|:-------|\n",
    "|  Regressed   ||   \n",
    "|              | RMSE: |0.328|\n",
    "|              | R2: |0.567 |\n",
    "|              | Hellenger Distance: |0.501|\n",
    "|||\n",
    "| Classified   |||\n",
    "|              | Heidke Skill Score: |0.705|\n",
    "|              | Peirce Skill Score:  |0.713|\n",
    "|              | Brier Score: |0.143|\n",
    "|              | Brier Skill Score: |0.402|\n",
    "|              | AUC: |0.856|"
   ]
  },
  {
   "cell_type": "code",
   "execution_count": 9,
   "metadata": {},
   "outputs": [],
   "source": [
    "# set the probability threshold for binary classification; predict on validation; add binary preds\n",
    "binary_threshold = 0.5\n",
    "preds = resNet_mod.predict(scaled_val_in).reshape(val_out.shape[0])\n",
    "binary_preds = np.where(preds >= binary_threshold, 1, 0)"
   ]
  },
  {
   "cell_type": "code",
   "execution_count": 7,
   "metadata": {},
   "outputs": [],
   "source": [
    "# Metric functions\n",
    "from sklearn.metrics import confusion_matrix, mean_squared_error, brier_score_loss, roc_auc_score\n",
    "\n",
    "import numpy as np\n",
    "\n",
    "def calc_pdf_hist(x, x_bins):\n",
    "    return np.histogram(x, x_bins, density=True)[0]\n",
    "\n",
    "def auc_score(y_true, y_pred):\n",
    "    return roc_auc_score(y_true, y_pred)\n",
    "\n",
    "def brier_score(y_true, y_pred):\n",
    "    return brier_score_loss(y_true, y_pred)\n",
    "\n",
    "def brier_skill_score(y_true, y_pred):\n",
    "    \n",
    "    model_brier_score = mean_squared_error(y_true, y_pred)\n",
    "    climo_brier_score = mean_squared_error(y_true, np.ones(y_true.size) * y_true.sum() / y_true.size)\n",
    "    model_brier_skill_score = 1 - model_brier_score / climo_brier_score\n",
    "    return model_brier_skill_score\n",
    "\n",
    "def hellinger(x, pdf_p, pdf_q):\n",
    "    pdf_distances = (np.sqrt(pdf_p) - np.sqrt(pdf_q)) ** 2\n",
    "    return np.trapz(pdf_distances, x) / 2\n",
    "\n",
    "def root_mean_squared_error(y_true, y_pred):\n",
    "    return np.sqrt(mean_squared_error(y_true, y_pred))\n",
    "\n",
    "def hellinger_distance(y_true, y_pred, bins=50):\n",
    "    bin_points = np.linspace(np.minimum(y_true.min(), y_pred.min()),\n",
    "                       np.maximum(y_true.max(), y_pred.max()),\n",
    "                       bins)\n",
    "    bin_centers = 0.5 * (bin_points[:-1] + bin_points[1:])\n",
    "    y_true_pdf = calc_pdf_hist(y_true, bin_points)\n",
    "    y_pred_pdf = calc_pdf_hist(y_pred, bin_points)\n",
    "    return hellinger(bin_centers, y_true_pdf, y_pred_pdf)\n",
    "\n",
    "def peirce_skill_score(y_true, y_pred):\n",
    "    cm = confusion_matrix(y_true, y_pred)\n",
    "    n = float(cm.sum())\n",
    "    nf = cm.sum(axis=0)\n",
    "    no = cm.sum(axis=1)\n",
    "    correct = float(cm.trace())\n",
    "    return (correct / n - (nf * no).sum() / n ** 2) / (1 - (no * no).sum() / n ** 2)\n",
    "\n",
    "def heidke_skill_score(y_true, y_pred):\n",
    "    cm = confusion_matrix(y_true, y_pred)\n",
    "    n = float(cm.sum())\n",
    "    nf = cm.sum(axis=0)\n",
    "    no = cm.sum(axis=1)\n",
    "    correct = float(cm.trace())\n",
    "    return (correct / n - (nf * no).sum() / n ** 2) / (1 - (nf * no).sum() / n ** 2)\n",
    "\n",
    "def r2_corr(y_true, y_pred):\n",
    "    return np.corrcoef(y_true, y_pred)[0, 1] ** 2"
   ]
  },
  {
   "cell_type": "code",
   "execution_count": 11,
   "metadata": {},
   "outputs": [
    {
     "name": "stdout",
     "output_type": "stream",
     "text": [
      "RMSE: 0.278\n",
      "R squared: 0.678\n",
      "Hellenger Distance: 0.292\n",
      "Heidke Skill Score: 0.793\n",
      "Pierce Skill Score: 0.798\n",
      "Brier Score: 0.099\n",
      "Brier Skill Score: 0.584\n",
      "AUC: 0.899\n"
     ]
    }
   ],
   "source": [
    "# Example regressed metrics\n",
    "print('RMSE: {}'.format(np.round(root_mean_squared_error(val_out, preds),3)))\n",
    "print('R squared: {}'.format(np.round(r2_corr(val_out, preds),3)))\n",
    "print('Hellenger Distance: {}'.format(np.round(hellinger_distance(val_out, preds),3)))\n",
    "\n",
    "# Example classified metrics\n",
    "print('Heidke Skill Score: {}'.format(np.round(heidke_skill_score(val_out, binary_preds),3)))\n",
    "print('Pierce Skill Score: {}'.format(np.round(peirce_skill_score(val_out, binary_preds),3)))\n",
    "print('Brier Score: {}'.format(np.round(brier_score(val_out, binary_preds),3)))\n",
    "print('Brier Skill Score: {}'.format(np.round(brier_skill_score(val_out, binary_preds),3)))\n",
    "print('AUC: {}'.format(np.round(roc_auc_score(val_out, binary_preds),3)))"
   ]
  },
  {
   "cell_type": "markdown",
   "metadata": {},
   "source": [
    "## Interpretation\n",
    "Description of interpretation methods for problem"
   ]
  },
  {
   "cell_type": "markdown",
   "metadata": {},
   "source": [
    "## Hackathon Challenges\n",
    "\n",
    "### Monday\n",
    "* Load the data\n",
    "* Create an exploratory visualization of the data\n",
    "* Test two different transformation and scaling methods\n",
    "    * MinMax Scaler and StandardScaler\n",
    "* Test one dimensionality reduction method\n",
    "* Train a linear model\n",
    "* Train a decision tree ensemble method of your choice"
   ]
  },
  {
   "cell_type": "code",
   "execution_count": 19,
   "metadata": {},
   "outputs": [],
   "source": [
    "# Monday's code goes here"
   ]
  },
  {
   "cell_type": "code",
   "execution_count": null,
   "metadata": {},
   "outputs": [],
   "source": [
    "%%time\n",
    "# my StandardScaler (works with the provided model)\n",
    "# get numpy arrays of patch data for each band (this also converts all flash_counts to binary classes)\n",
    "train_in, train_out = prepare_data(train) \n",
    "val_in, val_out = prepare_data(val)\n",
    "\n",
    "scaled_train_in = np.zeros_like(train_in)\n",
    "scaled_val_in   = np.zeros_like(val_in)\n",
    "\n",
    "for i in range(np.shape(scaled_train_in)[-1]):\n",
    "    u = np.mean(train_in[:,:,:,i])\n",
    "    s = np.std(train_in[:,:,:,i])\n",
    "    scaled_train_in[:,:,:,i] = (train_in[:,:,:,i] - u) / s\n",
    "    scaled_val_in[:,:,:,i]   = (val_in[:,:,:,i] - u) / s"
   ]
  },
  {
   "cell_type": "code",
   "execution_count": 65,
   "metadata": {},
   "outputs": [
    {
     "name": "stdout",
     "output_type": "stream",
     "text": [
      "CPU times: user 10.3 s, sys: 1.85 s, total: 12.2 s\n",
      "Wall time: 12.1 s\n"
     ]
    }
   ],
   "source": [
    "%%time\n",
    "# StandardScaler combined with area average (would be nice to add the standard deviation as predictors as it is quite different for the channels and lighning/no lightning)\n",
    "# get numpy arrays of patch data for each band (this also converts all flash_counts to binary classes)\n",
    "train_in, train_out = prepare_data(train) \n",
    "val_in, val_out = prepare_data(val)\n",
    "\n",
    "train_in = np.mean(train_in, axis=(1,2))\n",
    "val_in = np.mean(val_in, axis=(1,2))\n",
    "\n",
    "scaled_train_in = np.zeros_like(train_in)\n",
    "scaled_val_in   = np.zeros_like(val_in)\n",
    "\n",
    "for i in range(np.shape(scaled_train_in)[-1]):\n",
    "    u = np.mean(train_in[:,i])\n",
    "    s = np.std(train_in[:,i])\n",
    "    scaled_train_in[:,i] = (train_in[:,i] - u) / s\n",
    "    scaled_val_in[:,i]   = (val_in[:,i] - u) / s"
   ]
  },
  {
   "cell_type": "code",
   "execution_count": 9,
   "metadata": {},
   "outputs": [
    {
     "name": "stdout",
     "output_type": "stream",
     "text": [
      "CPU times: user 14.7 s, sys: 3.13 s, total: 17.8 s\n",
      "Wall time: 17.7 s\n"
     ]
    }
   ],
   "source": [
    "%%time\n",
    "# StandardScaler combined with area average (mean and std)\n",
    "# get numpy arrays of patch data for each band (this also converts all flash_counts to binary classes)\n",
    "train_in, train_out = prepare_data(train) \n",
    "val_in, val_out = prepare_data(val)\n",
    "\n",
    "scaled_train_in = np.zeros((np.shape(train_in)[0], 8))\n",
    "scaled_val_in   = np.zeros((np.shape(val_in)[0], 8))\n",
    "\n",
    "scaled_train_in[:,:4] = np.mean(train_in, axis=(1,2))\n",
    "scaled_val_in[:,:4] = np.mean(val_in, axis=(1,2))\n",
    "scaled_train_in[:,4:] = np.std(train_in, axis=(1,2))\n",
    "scaled_val_in[:,4:] = np.std(val_in, axis=(1,2))\n",
    "\n",
    "for i in range(np.shape(scaled_train_in)[-1]):\n",
    "    u = np.mean(scaled_train_in[:,i])\n",
    "    s = np.std(scaled_train_in[:,i])\n",
    "    scaled_train_in[:,i] = (scaled_train_in[:,i] - u) / s\n",
    "    scaled_val_in[:,i]   = (scaled_val_in[:,i] - u) / s\n",
    "    \n",
    "scaled_train_in_8 = scaled_train_in\n",
    "scaled_val_in_8 = scaled_val_in"
   ]
  },
  {
   "cell_type": "markdown",
   "metadata": {},
   "source": [
    "### RandomForestClassifier"
   ]
  },
  {
   "cell_type": "code",
   "execution_count": 45,
   "metadata": {},
   "outputs": [],
   "source": [
    "from sklearn.ensemble import RandomForestClassifier"
   ]
  },
  {
   "cell_type": "code",
   "execution_count": 66,
   "metadata": {},
   "outputs": [
    {
     "data": {
      "text/plain": [
       "RandomForestClassifier(min_samples_leaf=25)"
      ]
     },
     "execution_count": 66,
     "metadata": {},
     "output_type": "execute_result"
    }
   ],
   "source": [
    "clf = RandomForestClassifier(n_estimators=100, min_samples_leaf=25)\n",
    "clf.fit(scaled_train_in, train_out)"
   ]
  },
  {
   "cell_type": "code",
   "execution_count": 67,
   "metadata": {},
   "outputs": [
    {
     "data": {
      "text/plain": [
       "RandomForestClassifier(min_samples_leaf=25)"
      ]
     },
     "execution_count": 67,
     "metadata": {},
     "output_type": "execute_result"
    }
   ],
   "source": [
    "clf_MS = RandomForestClassifier(n_estimators=100, min_samples_leaf=25)\n",
    "clf_MS.fit(scaled_train_in_8, train_out)"
   ]
  },
  {
   "cell_type": "code",
   "execution_count": 68,
   "metadata": {},
   "outputs": [],
   "source": [
    "# set the probability threshold for binary classification; predict on validation; add binary preds\n",
    "binary_threshold = 0.5\n",
    "preds = clf.predict(scaled_val_in).reshape(val_out.shape[0])\n",
    "binary_preds = np.where(preds >= binary_threshold, 1, 0)\n",
    "preds_MS = clf_MS.predict(scaled_val_in_8).reshape(val_out.shape[0])\n",
    "binary_preds_MS = np.where(preds_MS >= binary_threshold, 1, 0)"
   ]
  },
  {
   "cell_type": "code",
   "execution_count": 72,
   "metadata": {},
   "outputs": [
    {
     "name": "stdout",
     "output_type": "stream",
     "text": [
      "Score RandomForest (mean)\n",
      "RMSE: 0.449\n",
      "Brier Score: 0.201\n",
      "AUC: 0.775\n",
      "Score RandomForest (mean+std)\n",
      "RMSE: 0.367\n",
      "Brier Score: 0.134\n",
      "AUC: 0.86\n"
     ]
    }
   ],
   "source": [
    "print('Score RandomForest (mean)')\n",
    "print('RMSE: {}'.format(np.round(root_mean_squared_error(val_out, preds),3)))\n",
    "print('Brier Score: {}'.format(np.round(brier_score(val_out, binary_preds),3)))\n",
    "print('AUC: {}'.format(np.round(roc_auc_score(val_out, binary_preds),3)))\n",
    "\n",
    "print('Score RandomForest (mean+std)')\n",
    "print('RMSE: {}'.format(np.round(root_mean_squared_error(val_out, preds_MS),3)))\n",
    "print('Brier Score: {}'.format(np.round(brier_score(val_out, binary_preds_MS),3)))\n",
    "print('AUC: {}'.format(np.round(roc_auc_score(val_out, binary_preds_MS),3)))"
   ]
  },
  {
   "cell_type": "markdown",
   "metadata": {},
   "source": [
    "### Tuesday\n",
    "* Train a densely connected neural network\n",
    "* Train a convolutional or recurrent neural network (depends on problem)\n",
    "* Experiment with different architectures"
   ]
  },
  {
   "cell_type": "markdown",
   "metadata": {},
   "source": [
    "# Dense"
   ]
  },
  {
   "cell_type": "code",
   "execution_count": null,
   "metadata": {},
   "outputs": [],
   "source": [
    "%%time\n",
    "# StandardScaler combined with area average (mean and std)\n",
    "# get numpy arrays of patch data for each band (this also converts all flash_counts to binary classes)\n",
    "train_in, train_out = prepare_data(train) \n",
    "val_in, val_out = prepare_data(val)\n",
    "\n",
    "scaled_train_in = np.zeros((np.shape(train_in)[0], 8))\n",
    "scaled_val_in   = np.zeros((np.shape(val_in)[0], 8))\n",
    "\n",
    "scaled_train_in[:,:4] = np.mean(train_in, axis=(1,2))\n",
    "scaled_val_in[:,:4] = np.mean(val_in, axis=(1,2))\n",
    "scaled_train_in[:,4:] = np.std(train_in, axis=(1,2))\n",
    "scaled_val_in[:,4:] = np.std(val_in, axis=(1,2))\n",
    "\n",
    "for i in range(np.shape(scaled_train_in)[-1]):\n",
    "    u = np.mean(scaled_train_in[:,i])\n",
    "    s = np.std(scaled_train_in[:,i])\n",
    "    scaled_train_in[:,i] = (scaled_train_in[:,i] - u) / s\n",
    "    scaled_val_in[:,i]   = (scaled_val_in[:,i] - u) / s\n",
    "    \n",
    "scaled_train_in_8 = scaled_train_in\n",
    "scaled_val_in_8 = scaled_val_in"
   ]
  },
  {
   "cell_type": "code",
   "execution_count": 62,
   "metadata": {},
   "outputs": [],
   "source": [
    "from keras.models import Sequential\n",
    "from keras.layers import Dense\n",
    "#create model\n",
    "model = Sequential()\n",
    "#add model layers\n",
    "model.add(Dense(16, activation='relu', input_shape=(8,)))\n",
    "model.add(Dense(32, activation='relu'))\n",
    "model.add(Dense(16, activation='relu'))\n",
    "model.add(Dense(1, activation='sigmoid'))"
   ]
  },
  {
   "cell_type": "code",
   "execution_count": 63,
   "metadata": {},
   "outputs": [
    {
     "name": "stdout",
     "output_type": "stream",
     "text": [
      "Model: \"sequential_12\"\n",
      "_________________________________________________________________\n",
      "Layer (type)                 Output Shape              Param #   \n",
      "=================================================================\n",
      "dense_34 (Dense)             (None, 16)                144       \n",
      "_________________________________________________________________\n",
      "dense_35 (Dense)             (None, 32)                544       \n",
      "_________________________________________________________________\n",
      "dense_36 (Dense)             (None, 16)                528       \n",
      "_________________________________________________________________\n",
      "dense_37 (Dense)             (None, 1)                 17        \n",
      "=================================================================\n",
      "Total params: 1,233\n",
      "Trainable params: 1,233\n",
      "Non-trainable params: 0\n",
      "_________________________________________________________________\n"
     ]
    }
   ],
   "source": [
    "model.summary()"
   ]
  },
  {
   "cell_type": "code",
   "execution_count": 64,
   "metadata": {},
   "outputs": [],
   "source": [
    "#compile model\n",
    "model.compile(optimizer='adam', loss='mse')\n",
    "#model.compile(optimizer='adam', loss='binary_crossentropy')"
   ]
  },
  {
   "cell_type": "code",
   "execution_count": 65,
   "metadata": {},
   "outputs": [
    {
     "name": "stdout",
     "output_type": "stream",
     "text": [
      "Epoch 1/5\n",
      "6644/6644 [==============================] - 22s 3ms/step - loss: 0.0910 - val_loss: 0.0979\n",
      "Epoch 2/5\n",
      "6644/6644 [==============================] - 22s 3ms/step - loss: 0.0866 - val_loss: 0.0966\n",
      "Epoch 3/5\n",
      "6644/6644 [==============================] - 22s 3ms/step - loss: 0.0858 - val_loss: 0.0963\n",
      "Epoch 4/5\n",
      "6644/6644 [==============================] - 22s 3ms/step - loss: 0.0852 - val_loss: 0.0956\n",
      "Epoch 5/5\n",
      "6644/6644 [==============================] - 22s 3ms/step - loss: 0.0848 - val_loss: 0.0959\n"
     ]
    },
    {
     "data": {
      "text/plain": [
       "<tensorflow.python.keras.callbacks.History at 0x7fb79eb66750>"
      ]
     },
     "execution_count": 65,
     "metadata": {},
     "output_type": "execute_result"
    }
   ],
   "source": [
    "#train the model\n",
    "model.fit(scaled_train_in, train_out, \n",
    "          validation_data=(scaled_val_in, val_out), \n",
    "          epochs=5)"
   ]
  },
  {
   "cell_type": "code",
   "execution_count": 66,
   "metadata": {},
   "outputs": [],
   "source": [
    "binary_threshold = 0.5\n",
    "preds = model.predict(scaled_val_in).reshape(val_out.shape[0])\n",
    "binary_preds = np.where(preds >= binary_threshold, 1, 0)"
   ]
  },
  {
   "cell_type": "code",
   "execution_count": 67,
   "metadata": {},
   "outputs": [
    {
     "name": "stdout",
     "output_type": "stream",
     "text": [
      "RMSE: 0.31\n",
      "Brier Score: 0.132\n",
      "AUC: 0.866\n"
     ]
    }
   ],
   "source": [
    "print('RMSE: {}'.format(np.round(root_mean_squared_error(val_out, preds),3)))\n",
    "print('Brier Score: {}'.format(np.round(brier_score(val_out, binary_preds),3)))\n",
    "print('AUC: {}'.format(np.round(roc_auc_score(val_out, binary_preds),3)))"
   ]
  },
  {
   "cell_type": "markdown",
   "metadata": {},
   "source": [
    "### Wednesday\n",
    "* Calculate three relevant evaluation metrics for each ML solution and baseline\n",
    "* Refine machine learning approaches and test additional hyperparameter settings"
   ]
  },
  {
   "cell_type": "markdown",
   "metadata": {},
   "source": [
    "### CNN"
   ]
  },
  {
   "cell_type": "code",
   "execution_count": 8,
   "metadata": {},
   "outputs": [
    {
     "name": "stdout",
     "output_type": "stream",
     "text": [
      "CPU times: user 17.5 s, sys: 5.17 s, total: 22.7 s\n",
      "Wall time: 22.6 s\n"
     ]
    }
   ],
   "source": [
    "%%time\n",
    "# get numpy arrays of patch data for each band (this also converts all flash_counts to binary classes)\n",
    "train_in, train_out, train_valid_indices = prepare_data(train)\n",
    "val_in, val_out, val_valid_indices       = prepare_data(val)\n",
    "\n",
    "# scale data\n",
    "# original scaler\n",
    "#scaler = MinMaxScaler2D()\n",
    "#scaled_train_in = scaler.fit_transform(train_in)\n",
    "#scaled_val_in = scaler.transform(val_in)\n",
    "# my StandardScaler\n",
    "scaled_train_in = np.zeros_like(train_in)\n",
    "scaled_val_in   = np.zeros_like(val_in)\n",
    "\n",
    "for i in range(np.shape(scaled_train_in)[-1]):\n",
    "    u = np.mean(train_in[:,:,:,i])\n",
    "    s = np.std(train_in[:,:,:,i])\n",
    "    scaled_train_in[:,:,:,i] = (train_in[:,:,:,i] - u) / s\n",
    "    scaled_val_in[:,:,:,i]   = (val_in[:,:,:,i] - u) / s"
   ]
  },
  {
   "cell_type": "code",
   "execution_count": 10,
   "metadata": {},
   "outputs": [
    {
     "name": "stderr",
     "output_type": "stream",
     "text": [
      "Using TensorFlow backend.\n"
     ]
    }
   ],
   "source": [
    "from keras.models import Sequential\n",
    "from keras.layers import Dense, Conv2D, AveragePooling2D, Flatten, MaxPool2D, BatchNormalization\n",
    "\n",
    "#create model\n",
    "model = Sequential()\n",
    "#add model layers\n",
    "model.add(Conv2D(32 , kernel_size=2, activation='relu', input_shape=(32,32,4)))\n",
    "model.add(BatchNormalization())\n",
    "#model.add(AveragePooling2D(pool_size=(2, 2)))\n",
    "model.add(MaxPool2D(pool_size=(2, 2)))\n",
    "\n",
    "model.add(Conv2D(64, kernel_size=2, activation='relu'))\n",
    "model.add(BatchNormalization())\n",
    "#model.add(AveragePooling2D(pool_size=(2, 2)))\n",
    "model.add(MaxPool2D(pool_size=(2, 2)))\n",
    "\n",
    "#model.add(Conv2D(128, kernel_size=2, activation='relu'))\n",
    "#model.add(BatchNormalization())\n",
    "#model.add(AveragePooling2D(pool_size=(2, 2)))\n",
    "#model.add(MaxPool2D(pool_size=(2, 2)))\n",
    "\n",
    "#model.add(Conv2D(256, kernel_size=2, activation='relu'))\n",
    "#model.add(BatchNormalization())\n",
    "#model.add(AveragePooling2D(pool_size=(2, 2)))\n",
    "#model.add(MaxPool2D(pool_size=(2, 2)))\n",
    "\n",
    "model.add(Flatten())\n",
    "model.add(Dense(32, activation='relu'))\n",
    "model.add(Dense(1, activation='sigmoid'))"
   ]
  },
  {
   "cell_type": "code",
   "execution_count": 11,
   "metadata": {},
   "outputs": [
    {
     "name": "stdout",
     "output_type": "stream",
     "text": [
      "Model: \"sequential\"\n",
      "_________________________________________________________________\n",
      "Layer (type)                 Output Shape              Param #   \n",
      "=================================================================\n",
      "conv2d (Conv2D)              (None, 31, 31, 32)        544       \n",
      "_________________________________________________________________\n",
      "batch_normalization (BatchNo (None, 31, 31, 32)        128       \n",
      "_________________________________________________________________\n",
      "max_pooling2d (MaxPooling2D) (None, 15, 15, 32)        0         \n",
      "_________________________________________________________________\n",
      "conv2d_1 (Conv2D)            (None, 14, 14, 64)        8256      \n",
      "_________________________________________________________________\n",
      "batch_normalization_1 (Batch (None, 14, 14, 64)        256       \n",
      "_________________________________________________________________\n",
      "max_pooling2d_1 (MaxPooling2 (None, 7, 7, 64)          0         \n",
      "_________________________________________________________________\n",
      "flatten (Flatten)            (None, 3136)              0         \n",
      "_________________________________________________________________\n",
      "dense (Dense)                (None, 32)                100384    \n",
      "_________________________________________________________________\n",
      "dense_1 (Dense)              (None, 1)                 33        \n",
      "=================================================================\n",
      "Total params: 109,601\n",
      "Trainable params: 109,409\n",
      "Non-trainable params: 192\n",
      "_________________________________________________________________\n"
     ]
    }
   ],
   "source": [
    "model.summary()"
   ]
  },
  {
   "cell_type": "code",
   "execution_count": 12,
   "metadata": {},
   "outputs": [],
   "source": [
    "#compile model\n",
    "model.compile(optimizer='adam', loss='mse')"
   ]
  },
  {
   "cell_type": "code",
   "execution_count": 13,
   "metadata": {},
   "outputs": [],
   "source": [
    "from sklearn.utils import class_weight\n",
    "\n",
    "class_weights = class_weight.compute_class_weight('balanced',\n",
    "                                                  classes=np.unique(train_out),\n",
    "                                                  y=train_out)"
   ]
  },
  {
   "cell_type": "code",
   "execution_count": 14,
   "metadata": {},
   "outputs": [
    {
     "data": {
      "text/plain": [
       "array([0.78746889, 1.36965933])"
      ]
     },
     "execution_count": 14,
     "metadata": {},
     "output_type": "execute_result"
    }
   ],
   "source": [
    "class_weights"
   ]
  },
  {
   "cell_type": "code",
   "execution_count": 13,
   "metadata": {},
   "outputs": [
    {
     "name": "stdout",
     "output_type": "stream",
     "text": [
      "Epoch 1/4\n",
      "831/831 [==============================] - 40s 48ms/step - loss: 0.0795 - val_loss: 0.0889\n",
      "Epoch 2/4\n",
      "831/831 [==============================] - 22s 26ms/step - loss: 0.0670 - val_loss: 0.0817\n",
      "Epoch 3/4\n",
      "831/831 [==============================] - 22s 26ms/step - loss: 0.0626 - val_loss: 0.0794\n",
      "Epoch 4/4\n",
      "831/831 [==============================] - 22s 26ms/step - loss: 0.0602 - val_loss: 0.0844\n"
     ]
    }
   ],
   "source": [
    "#train the model\n",
    "history = model.fit(scaled_train_in, train_out, #class_weight={0 : 0.78746889, 1 : 1.36965933},\n",
    "                    validation_data=(scaled_val_in, val_out), \n",
    "                    epochs=4, batch_size=256)"
   ]
  },
  {
   "cell_type": "code",
   "execution_count": 18,
   "metadata": {},
   "outputs": [
    {
     "data": {
      "text/plain": [
       "[<matplotlib.lines.Line2D at 0x7f6df041fcd0>]"
      ]
     },
     "execution_count": 18,
     "metadata": {},
     "output_type": "execute_result"
    },
    {
     "data": {
      "image/png": "[encoded data removed]",
      "text/plain": [
       "<Figure size 432x288 with 1 Axes>"
      ]
     },
     "metadata": {
      "needs_background": "light"
     },
     "output_type": "display_data"
    }
   ],
   "source": [
    "plt.plot(history.history['loss'])\n",
    "plt.plot(history.history['val_loss'])"
   ]
  },
  {
   "cell_type": "code",
   "execution_count": 14,
   "metadata": {},
   "outputs": [],
   "source": [
    "binary_threshold = 0.5\n",
    "preds = model.predict(scaled_val_in).reshape(val_out.shape[0])\n",
    "binary_preds = np.where(preds >= binary_threshold, 1, 0)"
   ]
  },
  {
   "cell_type": "code",
   "execution_count": 15,
   "metadata": {},
   "outputs": [
    {
     "name": "stdout",
     "output_type": "stream",
     "text": [
      "RMSE: 0.29\n",
      "R squared: 0.656\n",
      "Hellenger Distance: 0.309\n",
      "Heidke Skill Score: 0.757\n",
      "Pierce Skill Score: 0.742\n",
      "Brier Score: 0.114\n",
      "Brier Skill Score: 0.522\n",
      "AUC: 0.871\n"
     ]
    }
   ],
   "source": [
    "# Example regressed metrics\n",
    "print('RMSE: {}'.format(np.round(root_mean_squared_error(val_out, preds),3)))\n",
    "print('R squared: {}'.format(np.round(r2_corr(val_out, preds),3)))\n",
    "print('Hellenger Distance: {}'.format(np.round(hellinger_distance(val_out, preds),3)))\n",
    "\n",
    "# Example classified metrics\n",
    "print('Heidke Skill Score: {}'.format(np.round(heidke_skill_score(val_out, binary_preds),3)))\n",
    "print('Pierce Skill Score: {}'.format(np.round(peirce_skill_score(val_out, binary_preds),3)))\n",
    "print('Brier Score: {}'.format(np.round(brier_score(val_out, binary_preds),3)))\n",
    "print('Brier Skill Score: {}'.format(np.round(brier_skill_score(val_out, binary_preds),3)))\n",
    "print('AUC: {}'.format(np.round(roc_auc_score(val_out, binary_preds),3)))"
   ]
  },
  {
   "cell_type": "markdown",
   "metadata": {},
   "source": [
    "### CNN plus Metadata"
   ]
  },
  {
   "cell_type": "code",
   "execution_count": 9,
   "metadata": {},
   "outputs": [],
   "source": [
    "train_lat_mean = np.mean(train.lat.values, axis=(1,2))[train_valid_indices]\n",
    "train_lon_mean = np.mean(train.lon.values, axis=(1,2))[train_valid_indices]\n",
    "\n",
    "time              = pd.to_datetime(train.time.values)[train_valid_indices]\n",
    "train_minutes     = time.hour*60 + time.minute\n",
    "train_time_smooth = np.sin(train_minutes) + np.cos(train_minutes)\n",
    "\n",
    "val_lat_mean = np.mean(val.lat.values, axis=(1,2))[val_valid_indices]\n",
    "val_lon_mean = np.mean(val.lon.values, axis=(1,2))[val_valid_indices]\n",
    "\n",
    "time            = pd.to_datetime(val.time.values)[val_valid_indices]\n",
    "val_minutes     = time.hour*60 + time.minute\n",
    "val_time_smooth = np.sin(val_minutes) + np.cos(val_minutes)"
   ]
  },
  {
   "cell_type": "code",
   "execution_count": 10,
   "metadata": {},
   "outputs": [],
   "source": [
    "train_in_bd = np.hstack([train_lat_mean, train_lon_mean, train_minutes]).reshape(-1,3)\n",
    "val_in_bd   = np.hstack([val_lat_mean, val_lon_mean, val_minutes]).reshape(-1,3)"
   ]
  },
  {
   "cell_type": "code",
   "execution_count": 14,
   "metadata": {},
   "outputs": [],
   "source": [
    "from sklearn.preprocessing import StandardScaler, MinMaxScaler"
   ]
  },
  {
   "cell_type": "code",
   "execution_count": 15,
   "metadata": {},
   "outputs": [],
   "source": [
    "scaler = MinMaxScaler()\n",
    "train_in_bd = scaler.fit_transform(train_in_bd)\n",
    "val_in_bd   = scaler.transform(val_in_bd)"
   ]
  },
  {
   "cell_type": "code",
   "execution_count": 16,
   "metadata": {},
   "outputs": [],
   "source": [
    "from keras.models import Model    \n",
    "from keras.layers import *"
   ]
  },
  {
   "cell_type": "code",
   "execution_count": 17,
   "metadata": {},
   "outputs": [],
   "source": [
    "input_X = Input(shape=(32, 32, 4))\n",
    "x = Conv2D(32 , kernel_size=2, activation='relu')(input_X)\n",
    "x = BatchNormalization()(x)\n",
    "x = MaxPool2D(pool_size=(2, 2))(x)\n",
    "\n",
    "x = Conv2D(64, kernel_size=2, activation='relu')(x)\n",
    "x = BatchNormalization()(x)\n",
    "x = MaxPool2D(pool_size=(2, 2))(x)\n",
    "\n",
    "x = Conv2D(128, kernel_size=2, activation='relu')(x)\n",
    "x = BatchNormalization()(x)\n",
    "x = MaxPool2D(pool_size=(2, 2))(x)\n",
    "\n",
    "output_X = Flatten()(x)\n",
    "cnn = Model(inputs=input_X, outputs=output_X)"
   ]
  },
  {
   "cell_type": "code",
   "execution_count": 18,
   "metadata": {},
   "outputs": [],
   "source": [
    "additionalInput = Input(shape=(3,))\n",
    "output_Y = Dense(8, activation='relu')(additionalInput)\n",
    "#output_Y = Dense(16, activation=\"relu\")(y)\n",
    "ann = Model(inputs=additionalInput, outputs=output_Y)"
   ]
  },
  {
   "cell_type": "code",
   "execution_count": 19,
   "metadata": {},
   "outputs": [],
   "source": [
    "con = concatenate([cnn.output, ann.output])\n",
    "z = Dense(32, activation='relu')(con)\n",
    "z = Dense(16, activation='relu')(z)\n",
    "finalOutput = Dense(1, activation='sigmoid')(z)"
   ]
  },
  {
   "cell_type": "code",
   "execution_count": 20,
   "metadata": {},
   "outputs": [],
   "source": [
    "bobby = Model(inputs=[input_X, additionalInput], outputs=finalOutput)"
   ]
  },
  {
   "cell_type": "code",
   "execution_count": 21,
   "metadata": {},
   "outputs": [
    {
     "name": "stdout",
     "output_type": "stream",
     "text": [
      "Model: \"model_2\"\n",
      "__________________________________________________________________________________________________\n",
      "Layer (type)                    Output Shape         Param #     Connected to                     \n",
      "==================================================================================================\n",
      "input_1 (InputLayer)            [(None, 32, 32, 4)]  0                                            \n",
      "__________________________________________________________________________________________________\n",
      "conv2d (Conv2D)                 (None, 31, 31, 32)   544         input_1[0][0]                    \n",
      "__________________________________________________________________________________________________\n",
      "batch_normalization (BatchNorma (None, 31, 31, 32)   128         conv2d[0][0]                     \n",
      "__________________________________________________________________________________________________\n",
      "max_pooling2d (MaxPooling2D)    (None, 15, 15, 32)   0           batch_normalization[0][0]        \n",
      "__________________________________________________________________________________________________\n",
      "conv2d_1 (Conv2D)               (None, 14, 14, 64)   8256        max_pooling2d[0][0]              \n",
      "__________________________________________________________________________________________________\n",
      "batch_normalization_1 (BatchNor (None, 14, 14, 64)   256         conv2d_1[0][0]                   \n",
      "__________________________________________________________________________________________________\n",
      "max_pooling2d_1 (MaxPooling2D)  (None, 7, 7, 64)     0           batch_normalization_1[0][0]      \n",
      "__________________________________________________________________________________________________\n",
      "conv2d_2 (Conv2D)               (None, 6, 6, 128)    32896       max_pooling2d_1[0][0]            \n",
      "__________________________________________________________________________________________________\n",
      "batch_normalization_2 (BatchNor (None, 6, 6, 128)    512         conv2d_2[0][0]                   \n",
      "__________________________________________________________________________________________________\n",
      "max_pooling2d_2 (MaxPooling2D)  (None, 3, 3, 128)    0           batch_normalization_2[0][0]      \n",
      "__________________________________________________________________________________________________\n",
      "input_2 (InputLayer)            [(None, 3)]          0                                            \n",
      "__________________________________________________________________________________________________\n",
      "flatten (Flatten)               (None, 1152)         0           max_pooling2d_2[0][0]            \n",
      "__________________________________________________________________________________________________\n",
      "dense (Dense)                   (None, 8)            32          input_2[0][0]                    \n",
      "__________________________________________________________________________________________________\n",
      "concatenate (Concatenate)       (None, 1160)         0           flatten[0][0]                    \n",
      "                                                                 dense[0][0]                      \n",
      "__________________________________________________________________________________________________\n",
      "dense_1 (Dense)                 (None, 32)           37152       concatenate[0][0]                \n",
      "__________________________________________________________________________________________________\n",
      "dense_2 (Dense)                 (None, 16)           528         dense_1[0][0]                    \n",
      "__________________________________________________________________________________________________\n",
      "dense_3 (Dense)                 (None, 1)            17          dense_2[0][0]                    \n",
      "==================================================================================================\n",
      "Total params: 80,321\n",
      "Trainable params: 79,873\n",
      "Non-trainable params: 448\n",
      "__________________________________________________________________________________________________\n"
     ]
    }
   ],
   "source": [
    "bobby.summary()"
   ]
  },
  {
   "cell_type": "code",
   "execution_count": 22,
   "metadata": {},
   "outputs": [],
   "source": [
    "bobby.compile(optimizer='adam', loss='mse')"
   ]
  },
  {
   "cell_type": "code",
   "execution_count": 33,
   "metadata": {},
   "outputs": [
    {
     "name": "stdout",
     "output_type": "stream",
     "text": [
      "Epoch 1/4\n",
      "831/831 [==============================] - 86s 104ms/step - loss: 0.0722 - val_loss: 0.0923\n",
      "Epoch 2/4\n",
      "831/831 [==============================] - 26s 31ms/step - loss: 0.0635 - val_loss: 0.0760\n",
      "Epoch 3/4\n",
      "831/831 [==============================] - 26s 31ms/step - loss: 0.0603 - val_loss: 0.0854\n",
      "Epoch 4/4\n",
      "831/831 [==============================] - 26s 31ms/step - loss: 0.0581 - val_loss: 0.0719\n"
     ]
    }
   ],
   "source": [
    "history = bobby.fit(x=[scaled_train_in, train_in_bd], y=train_out,\n",
    "                    validation_data=([scaled_val_in, val_in_bd], val_out),\n",
    "                    epochs=4, batch_size=256)"
   ]
  },
  {
   "cell_type": "code",
   "execution_count": 25,
   "metadata": {},
   "outputs": [],
   "source": [
    "binary_threshold = 0.5\n",
    "preds = bobby.predict([scaled_val_in, val_in_bd]).reshape(val_out.shape[0])\n",
    "binary_preds = np.where(preds >= binary_threshold, 1, 0)"
   ]
  },
  {
   "cell_type": "code",
   "execution_count": 26,
   "metadata": {},
   "outputs": [
    {
     "name": "stdout",
     "output_type": "stream",
     "text": [
      "RMSE: 0.268\n",
      "MSE: 0.072\n",
      "Brier Score: 0.096\n",
      "AUC: 0.897\n"
     ]
    }
   ],
   "source": [
    "print('RMSE: {}'.format(np.round(root_mean_squared_error(val_out, preds),3)))\n",
    "print('MSE: {}'.format(np.round(mean_squared_error(val_out, preds),3)))\n",
    "print('Brier Score: {}'.format(np.round(brier_score(val_out, binary_preds),3)))\n",
    "print('AUC: {}'.format(np.round(roc_auc_score(val_out, binary_preds),3)))"
   ]
  },
  {
   "cell_type": "code",
   "execution_count": 27,
   "metadata": {},
   "outputs": [
    {
     "name": "stdout",
     "output_type": "stream",
     "text": [
      "RMSE: 0.268\n",
      "R squared: 0.7\n",
      "Hellenger Distance: 0.314\n",
      "Heidke Skill Score: 0.798\n",
      "Pierce Skill Score: 0.795\n",
      "Brier Score: 0.096\n",
      "Brier Skill Score: 0.598\n",
      "AUC: 0.897\n"
     ]
    }
   ],
   "source": [
    "# Example regressed metrics\n",
    "print('RMSE: {}'.format(np.round(root_mean_squared_error(val_out, preds),3)))\n",
    "print('R squared: {}'.format(np.round(r2_corr(val_out, preds),3)))\n",
    "print('Hellenger Distance: {}'.format(np.round(hellinger_distance(val_out, preds),3)))\n",
    "\n",
    "# Example classified metrics\n",
    "print('Heidke Skill Score: {}'.format(np.round(heidke_skill_score(val_out, binary_preds),3)))\n",
    "print('Pierce Skill Score: {}'.format(np.round(peirce_skill_score(val_out, binary_preds),3)))\n",
    "print('Brier Score: {}'.format(np.round(brier_score(val_out, binary_preds),3)))\n",
    "print('Brier Skill Score: {}'.format(np.round(brier_skill_score(val_out, binary_preds),3)))\n",
    "print('AUC: {}'.format(np.round(roc_auc_score(val_out, binary_preds),3)))"
   ]
  },
  {
   "cell_type": "markdown",
   "metadata": {},
   "source": [
    "### boxplot for slides"
   ]
  },
  {
   "cell_type": "code",
   "execution_count": 4,
   "metadata": {},
   "outputs": [],
   "source": [
    "import seaborn as sns"
   ]
  },
  {
   "cell_type": "code",
   "execution_count": 5,
   "metadata": {},
   "outputs": [],
   "source": [
    "d = {'RMSE': [.328, .366, .309, .29, .268], 'R2': [.567, .518, .603, .656, .7], 'BrierScore': [.143, .134, .134, .114, .096], 'AUC': [.856, .861, .867, .871, .908], 'model': ['baseline', 'GradBoost', 'PolyReg', 'CNN', 'CNN+']}\n",
    "df = pd.DataFrame(data=d)"
   ]
  },
  {
   "cell_type": "code",
   "execution_count": 6,
   "metadata": {},
   "outputs": [
    {
     "data": {
      "text/html": [
       "<div>\n",
       "<style scoped>\n",
       "    .dataframe tbody tr th:only-of-type {\n",
       "        vertical-align: middle;\n",
       "    }\n",
       "\n",
       "    .dataframe tbody tr th {\n",
       "        vertical-align: top;\n",
       "    }\n",
       "\n",
       "    .dataframe thead th {\n",
       "        text-align: right;\n",
       "    }\n",
       "</style>\n",
       "<table border=\"1\" class=\"dataframe\">\n",
       "  <thead>\n",
       "    <tr style=\"text-align: right;\">\n",
       "      <th></th>\n",
       "      <th>RMSE</th>\n",
       "      <th>R2</th>\n",
       "      <th>BrierScore</th>\n",
       "      <th>AUC</th>\n",
       "      <th>model</th>\n",
       "    </tr>\n",
       "  </thead>\n",
       "  <tbody>\n",
       "    <tr>\n",
       "      <th>0</th>\n",
       "      <td>0.328</td>\n",
       "      <td>0.567</td>\n",
       "      <td>0.143</td>\n",
       "      <td>0.856</td>\n",
       "      <td>baseline</td>\n",
       "    </tr>\n",
       "    <tr>\n",
       "      <th>1</th>\n",
       "      <td>0.366</td>\n",
       "      <td>0.518</td>\n",
       "      <td>0.134</td>\n",
       "      <td>0.861</td>\n",
       "      <td>GradBoost</td>\n",
       "    </tr>\n",
       "    <tr>\n",
       "      <th>2</th>\n",
       "      <td>0.309</td>\n",
       "      <td>0.603</td>\n",
       "      <td>0.134</td>\n",
       "      <td>0.867</td>\n",
       "      <td>PolyReg</td>\n",
       "    </tr>\n",
       "    <tr>\n",
       "      <th>3</th>\n",
       "      <td>0.290</td>\n",
       "      <td>0.656</td>\n",
       "      <td>0.114</td>\n",
       "      <td>0.871</td>\n",
       "      <td>CNN</td>\n",
       "    </tr>\n",
       "    <tr>\n",
       "      <th>4</th>\n",
       "      <td>0.268</td>\n",
       "      <td>0.700</td>\n",
       "      <td>0.096</td>\n",
       "      <td>0.908</td>\n",
       "      <td>CNN+</td>\n",
       "    </tr>\n",
       "  </tbody>\n",
       "</table>\n",
       "</div>"
      ],
      "text/plain": [
       "    RMSE     R2  BrierScore    AUC      model\n",
       "0  0.328  0.567       0.143  0.856   baseline\n",
       "1  0.366  0.518       0.134  0.861  GradBoost\n",
       "2  0.309  0.603       0.134  0.867    PolyReg\n",
       "3  0.290  0.656       0.114  0.871        CNN\n",
       "4  0.268  0.700       0.096  0.908       CNN+"
      ]
     },
     "execution_count": 6,
     "metadata": {},
     "output_type": "execute_result"
    }
   ],
   "source": [
    "df"
   ]
  },
  {
   "cell_type": "code",
   "execution_count": 7,
   "metadata": {},
   "outputs": [],
   "source": [
    "plt.rcParams.update({'font.size': 14})\n"
   ]
  },
  {
   "cell_type": "code",
   "execution_count": 8,
   "metadata": {},
   "outputs": [
    {
     "data": {
      "text/plain": [
       "<matplotlib.axes._subplots.AxesSubplot at 0x7f16478496d0>"
      ]
     },
     "execution_count": 8,
     "metadata": {},
     "output_type": "execute_result"
    },
    {
     "data": {
      "image/png": "[encoded data removed]",
      "text/plain": [
       "<Figure size 432x288 with 1 Axes>"
      ]
     },
     "metadata": {
      "needs_background": "light"
     },
     "output_type": "display_data"
    }
   ],
   "source": [
    "sns.barplot(data=df, x='model', y='RMSE')"
   ]
  },
  {
   "cell_type": "code",
   "execution_count": 9,
   "metadata": {},
   "outputs": [
    {
     "data": {
      "text/plain": [
       "<matplotlib.axes._subplots.AxesSubplot at 0x7f16448c89d0>"
      ]
     },
     "execution_count": 9,
     "metadata": {},
     "output_type": "execute_result"
    },
    {
     "data": {
      "image/png": "[encoded data removed]",
      "text/plain": [
       "<Figure size 432x288 with 1 Axes>"
      ]
     },
     "metadata": {
      "needs_background": "light"
     },
     "output_type": "display_data"
    }
   ],
   "source": [
    "sns.barplot(data=df, x='model', y='BrierScore')"
   ]
  },
  {
   "cell_type": "code",
   "execution_count": 10,
   "metadata": {},
   "outputs": [
    {
     "data": {
      "text/plain": [
       "<matplotlib.axes._subplots.AxesSubplot at 0x7f164484f5d0>"
      ]
     },
     "execution_count": 10,
     "metadata": {},
     "output_type": "execute_result"
    },
    {
     "data": {
      "image/png": "[encoded data removed]",
      "text/plain": [
       "<Figure size 432x288 with 1 Axes>"
      ]
     },
     "metadata": {
      "needs_background": "light"
     },
     "output_type": "display_data"
    }
   ],
   "source": [
    "sns.barplot(data=df, x='model', y='AUC')"
   ]
  },
  {
   "cell_type": "markdown",
   "metadata": {},
   "source": [
    "### Score Validation"
   ]
  },
  {
   "cell_type": "code",
   "execution_count": 13,
   "metadata": {},
   "outputs": [],
   "source": [
    "binary_threshold = 0.5\n",
    "preds = model.predict(scaled_val_in).reshape(val_out.shape[0])\n",
    "binary_preds = np.where(preds >= binary_threshold, 1, 0)"
   ]
  },
  {
   "cell_type": "code",
   "execution_count": 14,
   "metadata": {},
   "outputs": [
    {
     "name": "stdout",
     "output_type": "stream",
     "text": [
      "RMSE: 0.269\n",
      "MSE: 0.072\n",
      "Brier Score: 0.095\n",
      "AUC: 0.899\n"
     ]
    }
   ],
   "source": [
    "print('RMSE: {}'.format(np.round(root_mean_squared_error(val_out, preds),3)))\n",
    "print('MSE: {}'.format(np.round(mean_squared_error(val_out, preds),3)))\n",
    "print('Brier Score: {}'.format(np.round(brier_score(val_out, binary_preds),3)))\n",
    "print('AUC: {}'.format(np.round(roc_auc_score(val_out, binary_preds),3)))"
   ]
  },
  {
   "cell_type": "code",
   "execution_count": null,
   "metadata": {},
   "outputs": [],
   "source": [
    "RMSE = []"
   ]
  },
  {
   "cell_type": "markdown",
   "metadata": {},
   "source": [
    "### Score Training (can I overfit)"
   ]
  },
  {
   "cell_type": "code",
   "execution_count": 39,
   "metadata": {},
   "outputs": [],
   "source": [
    "binary_threshold = 0.5\n",
    "preds = model.predict(scaled_train_in).reshape(train_out.shape[0])\n",
    "binary_preds = np.where(preds >= binary_threshold, 1, 0)"
   ]
  },
  {
   "cell_type": "code",
   "execution_count": 41,
   "metadata": {},
   "outputs": [
    {
     "name": "stdout",
     "output_type": "stream",
     "text": [
      "RMSE: 0.247\n",
      "Brier Score: 0.076\n",
      "AUC: 0.935\n"
     ]
    }
   ],
   "source": [
    "print('RMSE: {}'.format(np.round(root_mean_squared_error(train_out, preds),3)))\n",
    "print('Brier Score: {}'.format(np.round(brier_score(train_out, binary_preds),3)))\n",
    "print('AUC: {}'.format(np.round(roc_auc_score(train_out, binary_preds),3)))"
   ]
  },
  {
   "cell_type": "markdown",
   "metadata": {},
   "source": [
    "### predicting no lighning / lightning all the time"
   ]
  },
  {
   "cell_type": "code",
   "execution_count": 24,
   "metadata": {},
   "outputs": [
    {
     "name": "stdout",
     "output_type": "stream",
     "text": [
      "RMSE: 0.629\n",
      "Brier Score: 0.395\n",
      "AUC: 0.5\n"
     ]
    }
   ],
   "source": [
    "print('RMSE: {}'.format(np.round(root_mean_squared_error(val_out, np.zeros_like(val_out)),3)))\n",
    "print('Brier Score: {}'.format(np.round(brier_score(val_out, np.zeros_like(val_out)),3)))\n",
    "print('AUC: {}'.format(np.round(roc_auc_score(val_out, np.zeros_like(val_out)),3)))"
   ]
  },
  {
   "cell_type": "code",
   "execution_count": 25,
   "metadata": {},
   "outputs": [
    {
     "name": "stdout",
     "output_type": "stream",
     "text": [
      "RMSE: 0.778\n",
      "Brier Score: 0.605\n",
      "AUC: 0.5\n"
     ]
    }
   ],
   "source": [
    "print('RMSE: {}'.format(np.round(root_mean_squared_error(val_out, np.ones_like(val_out)),3)))\n",
    "print('Brier Score: {}'.format(np.round(brier_score(val_out, np.ones_like(val_out)),3)))\n",
    "print('AUC: {}'.format(np.round(roc_auc_score(val_out, np.ones_like(val_out)),3)))"
   ]
  },
  {
   "cell_type": "markdown",
   "metadata": {},
   "source": [
    "### Thursday \n",
    "* Evaluate two interpretation methods for your machine learning solution\n",
    "* Compare interpretation of baseline with your approach\n",
    "* Submit best results on project to leaderboard\n",
    "* Prepare 2 Google Slides on team's approach and submit them "
   ]
  },
  {
   "cell_type": "code",
   "execution_count": 22,
   "metadata": {},
   "outputs": [],
   "source": [
    "# Thursday's code goes here\n"
   ]
  },
  {
   "cell_type": "markdown",
   "metadata": {},
   "source": [
    "## Ultimate Submission Code\n",
    "Please insert your full data processing and machine learning pipeline code in the cell below."
   ]
  },
  {
   "cell_type": "code",
   "execution_count": null,
   "metadata": {},
   "outputs": [],
   "source": []
  }
 ],
 "metadata": {
  "kernelspec": {
   "display_name": "Python 3",
   "language": "python",
   "name": "python3"
  },
  "language_info": {
   "codemirror_mode": {
    "name": "ipython",
    "version": 3
   },
   "file_extension": ".py",
   "mimetype": "text/x-python",
   "name": "python",
   "nbconvert_exporter": "python",
   "pygments_lexer": "ipython3",
   "version": "3.7.6"
  }
 },
 "nbformat": 4,
 "nbformat_minor": 4
}

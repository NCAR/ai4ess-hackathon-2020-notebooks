{
 "cells": [
  {
   "cell_type": "markdown",
   "metadata": {},
   "source": [
    "# AI for Earth System Science Hackathon 2020\n",
    "# GOES Challenge\n",
    "David John Gagne, Gunther Wallach, Charlie Becker, Bill Petzke\n",
    "\n",
    "## Introduction\n",
    "![GOES-R satellite image from Wikipedia](goes_images/GOES-R_SPACECRAFT.jpg)\n",
    "\n",
    "Lightning kills roughly 30 people per year in the United States (https://www.weather.gov/safety/lightning-victims) and can have large economic impacts by disrupting outdoor work and events and by sparking fires. Improved short term prediction of lightning onset can help protect life and property by ensuring that people can get to safety with sufficient lead time. The economic impacts of lightning protection practices can also be reduced by improving the prediction of when lightning is expected to end. \n",
    "\n",
    "Recently deployed observational systems combined with advances in machine learning have the potential to improve the short-term prediction of lightning by associating broader scale weather patterns with the future occurrence of lightning in that area. The Geostationary Operational Environmental Satellite 16 (GOES-16) is a weather satellite that orbits the Earth at a fixed point situated along the same longitude as the Eastern United States and can provide a hemispheric, multispectral view of cloud patterns at high space and time resolution through its Advanced Baseline Imager (ABI) camera. The satellite also holds the Geostationary Lightning Mapper (GLM) instrument that records lightning flashes across the hemispheric view of the satellite. By combining the data collected by these two instruments, we can develop new machine learning solutions to the challenge of short range lightning prediction.  "
   ]
  },
  {
   "cell_type": "markdown",
   "metadata": {},
   "source": [
    "## Software Requirements\n",
    "This notebook requires Python >= 3.7. The following libraries are required:\n",
    "* numpy\n",
    "* scipy\n",
    "* matplotlib\n",
    "* xarray\n",
    "* pandas\n",
    "* scikit-learn\n",
    "* tensorflow >= 2.1\n",
    "* netcdf4\n",
    "* tqdm\n"
   ]
  },
  {
   "cell_type": "code",
   "execution_count": 1,
   "metadata": {},
   "outputs": [
    {
     "name": "stdout",
     "output_type": "stream",
     "text": [
      "Requirement already satisfied: numpy in /opt/conda/lib/python3.7/site-packages (1.18.5)\n",
      "Requirement already satisfied: scipy in /opt/conda/lib/python3.7/site-packages (1.4.1)\n",
      "Requirement already satisfied: matplotlib in /opt/conda/lib/python3.7/site-packages (3.2.2)\n",
      "Requirement already satisfied: xarray in /opt/conda/lib/python3.7/site-packages (0.15.1)\n",
      "Requirement already satisfied: pandas in /opt/conda/lib/python3.7/site-packages (1.0.5)\n",
      "Requirement already satisfied: netcdf4 in /opt/conda/lib/python3.7/site-packages (1.5.3)\n",
      "Requirement already satisfied: h5netcdf in /opt/conda/lib/python3.7/site-packages (0.8.0)\n",
      "Requirement already satisfied: tqdm in /opt/conda/lib/python3.7/site-packages (4.46.1)\n",
      "Requirement already satisfied: tensorflow in /opt/conda/lib/python3.7/site-packages (2.2.0)\n",
      "Requirement already satisfied: scikit-learn in /opt/conda/lib/python3.7/site-packages (0.23.1)\n",
      "Requirement already satisfied: dask in /opt/conda/lib/python3.7/site-packages (2.19.0)\n",
      "Requirement already satisfied: s3fs in /opt/conda/lib/python3.7/site-packages (0.4.2)\n",
      "Requirement already satisfied: goes16ci in /opt/conda/lib/python3.7/site-packages (0.1.3)\n",
      "Requirement already satisfied: seaborn in /opt/conda/lib/python3.7/site-packages (0.10.1)\n",
      "Requirement already satisfied: kiwisolver>=1.0.1 in /opt/conda/lib/python3.7/site-packages (from matplotlib) (1.2.0)\n",
      "Requirement already satisfied: pyparsing!=2.0.4,!=2.1.2,!=2.1.6,>=2.0.1 in /opt/conda/lib/python3.7/site-packages (from matplotlib) (2.4.7)\n",
      "Requirement already satisfied: cycler>=0.10 in /opt/conda/lib/python3.7/site-packages (from matplotlib) (0.10.0)\n",
      "Requirement already satisfied: python-dateutil>=2.1 in /opt/conda/lib/python3.7/site-packages (from matplotlib) (2.8.1)\n",
      "Requirement already satisfied: setuptools>=41.2 in /opt/conda/lib/python3.7/site-packages (from xarray) (47.1.1.post20200529)\n",
      "Requirement already satisfied: pytz>=2017.2 in /opt/conda/lib/python3.7/site-packages (from pandas) (2020.1)\n",
      "Requirement already satisfied: cftime in /opt/conda/lib/python3.7/site-packages (from netcdf4) (1.1.3)\n",
      "Requirement already satisfied: h5py in /opt/conda/lib/python3.7/site-packages (from h5netcdf) (2.10.0)\n",
      "Requirement already satisfied: wrapt>=1.11.1 in /opt/conda/lib/python3.7/site-packages (from tensorflow) (1.12.1)\n",
      "Requirement already satisfied: gast==0.3.3 in /opt/conda/lib/python3.7/site-packages (from tensorflow) (0.3.3)\n",
      "Requirement already satisfied: absl-py>=0.7.0 in /opt/conda/lib/python3.7/site-packages (from tensorflow) (0.9.0)\n",
      "Requirement already satisfied: google-pasta>=0.1.8 in /opt/conda/lib/python3.7/site-packages (from tensorflow) (0.2.0)\n",
      "Requirement already satisfied: keras-preprocessing>=1.1.0 in /opt/conda/lib/python3.7/site-packages (from tensorflow) (1.1.2)\n",
      "Requirement already satisfied: termcolor>=1.1.0 in /opt/conda/lib/python3.7/site-packages (from tensorflow) (1.1.0)\n",
      "Requirement already satisfied: astunparse==1.6.3 in /opt/conda/lib/python3.7/site-packages (from tensorflow) (1.6.3)\n",
      "Requirement already satisfied: grpcio>=1.8.6 in /opt/conda/lib/python3.7/site-packages (from tensorflow) (1.30.0)\n",
      "Requirement already satisfied: wheel>=0.26; python_version >= \"3\" in /opt/conda/lib/python3.7/site-packages (from tensorflow) (0.34.2)\n",
      "Requirement already satisfied: protobuf>=3.8.0 in /opt/conda/lib/python3.7/site-packages (from tensorflow) (3.12.2)\n",
      "Requirement already satisfied: tensorflow-estimator<2.3.0,>=2.2.0 in /opt/conda/lib/python3.7/site-packages (from tensorflow) (2.2.0)\n",
      "Requirement already satisfied: opt-einsum>=2.3.2 in /opt/conda/lib/python3.7/site-packages (from tensorflow) (3.2.1)\n",
      "Requirement already satisfied: tensorboard<2.3.0,>=2.2.0 in /opt/conda/lib/python3.7/site-packages (from tensorflow) (2.2.2)\n",
      "Requirement already satisfied: six>=1.12.0 in /opt/conda/lib/python3.7/site-packages (from tensorflow) (1.15.0)\n",
      "Requirement already satisfied: joblib>=0.11 in /opt/conda/lib/python3.7/site-packages (from scikit-learn) (0.15.1)\n",
      "Requirement already satisfied: threadpoolctl>=2.0.0 in /opt/conda/lib/python3.7/site-packages (from scikit-learn) (2.1.0)\n",
      "Requirement already satisfied: pyyaml in /opt/conda/lib/python3.7/site-packages (from dask) (5.3.1)\n",
      "Requirement already satisfied: botocore>=1.12.91 in /opt/conda/lib/python3.7/site-packages (from s3fs) (1.17.9)\n",
      "Requirement already satisfied: fsspec>=0.6.0 in /opt/conda/lib/python3.7/site-packages (from s3fs) (0.7.4)\n",
      "Requirement already satisfied: werkzeug>=0.11.15 in /opt/conda/lib/python3.7/site-packages (from tensorboard<2.3.0,>=2.2.0->tensorflow) (1.0.1)\n",
      "Requirement already satisfied: google-auth-oauthlib<0.5,>=0.4.1 in /opt/conda/lib/python3.7/site-packages (from tensorboard<2.3.0,>=2.2.0->tensorflow) (0.4.1)\n",
      "Requirement already satisfied: markdown>=2.6.8 in /opt/conda/lib/python3.7/site-packages (from tensorboard<2.3.0,>=2.2.0->tensorflow) (3.2.2)\n",
      "Requirement already satisfied: requests<3,>=2.21.0 in /opt/conda/lib/python3.7/site-packages (from tensorboard<2.3.0,>=2.2.0->tensorflow) (2.23.0)\n",
      "Requirement already satisfied: tensorboard-plugin-wit>=1.6.0 in /opt/conda/lib/python3.7/site-packages (from tensorboard<2.3.0,>=2.2.0->tensorflow) (1.6.0.post3)\n",
      "Requirement already satisfied: google-auth<2,>=1.6.3 in /opt/conda/lib/python3.7/site-packages (from tensorboard<2.3.0,>=2.2.0->tensorflow) (1.18.0)\n",
      "Requirement already satisfied: urllib3<1.26,>=1.20 in /opt/conda/lib/python3.7/site-packages (from botocore>=1.12.91->s3fs) (1.25.9)\n",
      "Requirement already satisfied: jmespath<1.0.0,>=0.7.1 in /opt/conda/lib/python3.7/site-packages (from botocore>=1.12.91->s3fs) (0.10.0)\n",
      "Requirement already satisfied: docutils<0.16,>=0.10 in /opt/conda/lib/python3.7/site-packages (from botocore>=1.12.91->s3fs) (0.15.2)\n",
      "Requirement already satisfied: requests-oauthlib>=0.7.0 in /opt/conda/lib/python3.7/site-packages (from google-auth-oauthlib<0.5,>=0.4.1->tensorboard<2.3.0,>=2.2.0->tensorflow) (1.3.0)\n",
      "Requirement already satisfied: importlib-metadata; python_version < \"3.8\" in /opt/conda/lib/python3.7/site-packages (from markdown>=2.6.8->tensorboard<2.3.0,>=2.2.0->tensorflow) (1.6.1)\n",
      "Requirement already satisfied: chardet<4,>=3.0.2 in /opt/conda/lib/python3.7/site-packages (from requests<3,>=2.21.0->tensorboard<2.3.0,>=2.2.0->tensorflow) (3.0.4)\n",
      "Requirement already satisfied: idna<3,>=2.5 in /opt/conda/lib/python3.7/site-packages (from requests<3,>=2.21.0->tensorboard<2.3.0,>=2.2.0->tensorflow) (2.9)\n",
      "Requirement already satisfied: certifi>=2017.4.17 in /opt/conda/lib/python3.7/site-packages (from requests<3,>=2.21.0->tensorboard<2.3.0,>=2.2.0->tensorflow) (2020.6.20)\n",
      "Requirement already satisfied: rsa<5,>=3.1.4; python_version >= \"3\" in /opt/conda/lib/python3.7/site-packages (from google-auth<2,>=1.6.3->tensorboard<2.3.0,>=2.2.0->tensorflow) (4.6)\n",
      "Requirement already satisfied: cachetools<5.0,>=2.0.0 in /opt/conda/lib/python3.7/site-packages (from google-auth<2,>=1.6.3->tensorboard<2.3.0,>=2.2.0->tensorflow) (4.1.0)\n",
      "Requirement already satisfied: pyasn1-modules>=0.2.1 in /opt/conda/lib/python3.7/site-packages (from google-auth<2,>=1.6.3->tensorboard<2.3.0,>=2.2.0->tensorflow) (0.2.8)\n",
      "Requirement already satisfied: oauthlib>=3.0.0 in /opt/conda/lib/python3.7/site-packages (from requests-oauthlib>=0.7.0->google-auth-oauthlib<0.5,>=0.4.1->tensorboard<2.3.0,>=2.2.0->tensorflow) (3.0.1)\n",
      "Requirement already satisfied: zipp>=0.5 in /opt/conda/lib/python3.7/site-packages (from importlib-metadata; python_version < \"3.8\"->markdown>=2.6.8->tensorboard<2.3.0,>=2.2.0->tensorflow) (3.1.0)\n",
      "Requirement already satisfied: pyasn1>=0.1.3 in /opt/conda/lib/python3.7/site-packages (from rsa<5,>=3.1.4; python_version >= \"3\"->google-auth<2,>=1.6.3->tensorboard<2.3.0,>=2.2.0->tensorflow) (0.4.8)\n"
     ]
    }
   ],
   "source": [
    "! pip install numpy scipy matplotlib xarray pandas netcdf4 h5netcdf tqdm tensorflow scikit-learn dask s3fs goes16ci seaborn"
   ]
  },
  {
   "cell_type": "code",
   "execution_count": 2,
   "metadata": {},
   "outputs": [
    {
     "name": "stdout",
     "output_type": "stream",
     "text": [
      "PhysicalDevice(name='/physical_device:GPU:0', device_type='GPU')\n"
     ]
    }
   ],
   "source": [
    "import os\n",
    "import sys\n",
    "import numpy as np\n",
    "import pandas as pd\n",
    "import seaborn as sns\n",
    "import random\n",
    "import xarray as xr\n",
    "import tensorflow as tf\n",
    "import matplotlib.pyplot as plt\n",
    "from dask.distributed import Client, LocalCluster, progress\n",
    "from goes16ci.models import StandardConvNet, ResNet, MinMaxScaler2D\n",
    "from sklearn.preprocessing import StandardScaler\n",
    "import s3fs\n",
    "from glob import glob\n",
    "%matplotlib inline\n",
    "\n",
    "# Set random seed\n",
    "seed = 3985\n",
    "np.random.seed(seed)\n",
    "random.seed(seed)\n",
    "tf.random.set_seed(seed)\n",
    "\n",
    "gpus = tf.config.get_visible_devices(\"GPU\")\n",
    "for device in gpus:\n",
    "    print(device)\n",
    "    tf.config.experimental.set_memory_growth(device, True)"
   ]
  },
  {
   "cell_type": "markdown",
   "metadata": {},
   "source": [
    "## Data\n",
    "\n",
    "### Data Generation\n",
    "\n",
    "\n",
    "There are several GOES-16 data products available. We are primarily interested in the water vapor bands from the Advanced Baseline Imager (ABI) and lightning counts from the Geostationary Lightning Mapper (GLM). The ABI camera’s spatial resolution is 2 km with a temporal resolution of 5 minutes. We chose to select/crop 32 x 32 sized image patches (for each band) across our domain (CONUS Midwest) at an upsampled rate of every 20 minutes from 2019-03-02 through 2019-10-01. We used these same spatio-temporal patches to aggregate all lightning flash counts within that patch but lagged by one hour. Total aggregated data was output at a daily interval.  "
   ]
  },
  {
   "cell_type": "markdown",
   "metadata": {},
   "source": [
    "### Useful Links\n",
    "\n",
    "[Overall GOES-16 Band Reference Guide](https://www.weather.gov/media/crp/GOES_16_Guides_FINALBIS.pdf)\n",
    "\n",
    "[GOES-16 Band 08 Info (Upper-level Water Vapor)](http://cimss.ssec.wisc.edu/goes/OCLOFactSheetPDFs/ABIQuickGuide_Band08.pdf)\n",
    "\n",
    "[GOES-16 Band 09 Info (Mid-level Water Vapor)](http://cimss.ssec.wisc.edu/goes/OCLOFactSheetPDFs/ABIQuickGuide_Band09.pdf)\n",
    "\n",
    "[GOES-16 Band 10 Info (Low-level Water Vapor)](http://cimss.ssec.wisc.edu/goes/OCLOFactSheetPDFs/ABIQuickGuide_Band10.pdf)\n",
    "\n",
    "[GOES-16 Band 14 Info (Longwave Window)](http://cimss.ssec.wisc.edu/goes/OCLOFactSheetPDFs/ABIQuickGuide_Band14.pdf)\n",
    "\n",
    "[GOES-16 Geostationary Lightning Mapper (GLM)](https://www.goes-r.gov/spacesegment/glm.html)\n",
    "\n",
    "\n",
    "### Time span of the dataset\n",
    "\n",
    "|  | Date/Time | \n",
    "| ------------- | :---- |\n",
    "| Start | 2019-03-02 00:20:00 | \n",
    "| End | 2019-10-02 00:00:00 |\n",
    "| Timestep | 00:20:00 | \n",
    "| NOTE: some days are missing (intentionally skipped) to isolate convective cycles\n",
    "\n",
    "\n",
    "\n",
    "\n",
    "\n",
    "### Geographic Coverage of Dataset (Mostly Midwest CONUS)\n",
    "\n",
    "|  | Latitude | Longitude |\n",
    "| ------------- | :----:|:- |\n",
    "| Min | 29.09 | -97.77 |\n",
    "| Max | 48.97 | -82.53 |\n",
    "\n",
    "\n",
    "\n",
    "\n",
    "### Dimensions\n",
    "\n",
    "| Dimension Name | Description | Size |\n",
    "| ------------- | :----:|:----------- |\n",
    "| Band     | ABI Band Number  | 4 (Bands 8,9,10,14) |\n",
    "| Patch      | spatio-temporal patch | ~3600 per day |\n",
    "| X      | X-plane | 32 |\n",
    "| Y      | Y-plane | 32 |\n",
    "\n",
    "### Potential Input Variables\n",
    "\n",
    "| Variable Name | Units | Description | \n",
    "| ------------- | :----:|:----------- | \n",
    "| abi (Band 08)   | K     | Upper-level Water Vapor | \n",
    "| abi (Band 09)   | K     | Mid-level Water Vapor   |\n",
    "| abi (Band 10)   | K     | Lower-level Water Vapor |\n",
    "| abi (Band 14)   | K     | Longwave Window         |\n",
    "\n",
    "### Output Variables\n",
    "\n",
    "| Variable Name | Units | Description |\n",
    "| ------------- | :----:|:----------- |\n",
    "| flash_counts    | -     | Lightning strike count |\n",
    "\n",
    "\n",
    "### Metadata Variables\n",
    "\n",
    "| Variable Name | Units | Description |\n",
    "| ------------- | :----:|:----------- |\n",
    "| Time     | YYYY-MM-DDTHH:MM:SS  | The Date   |\n",
    "| Lat      | Degrees     | Latitude   |\n",
    "| Lon      | Degrees     | Longitude  |\n",
    "\n",
    "\n",
    "### Training/Validation/Testing Sets\n",
    "\n",
    "The function `split_data_files()` will split the data files into approximately equal partitions for training/validation/testing. By default, it takes 4-day contiguous data “chunks” per partition while skipping 1 day between to isolate convective cycles (and thus not validate/test on data linked to the training data), and repeats throughout the selected timespan.  Thus, each set should contain approximately 210,000 (32 x 32)  samples (patches) if the entire timespan is used.\n"
   ]
  },
  {
   "cell_type": "code",
   "execution_count": 3,
   "metadata": {},
   "outputs": [],
   "source": [
    "# How to load the data from disk or cloud\n",
    "\n",
    "def split_data_files(dir_path=\"ncar-aiml-data-commons/goes/ABI_patches_32/\", file_prefix='abi_patches_', \n",
    "               start_date='20190302', end_date='20191001', seq_len=4, skip_len=1):\n",
    "    \"\"\"\n",
    "    Take daily ABI patch files and split into equal training/validation/testing\n",
    "    semi-contiguous partitions, skipping day(s) between chunks to isolate convective \n",
    "    cycles.\n",
    "    \n",
    "    Args: \n",
    "        dir_path: (str) Directory path to daily ABI files\n",
    "        file_prefix: (str) File prefix up to date \n",
    "        start_date: (str) Starting date to get files in format of YYYYMMDD\n",
    "        end_date: (str) Ending date to get files in format of YYYYMMDD\n",
    "        seq_len: (int) Length of days per 'chunk' of data\n",
    "        skip_len: (int) How many days to skip between data chunks\n",
    "        \n",
    "    Returns:\n",
    "        train_f, val_f, test_f: list of training/validation/test files\n",
    "    \"\"\"\n",
    "    \n",
    "    all_files = fs.ls(dir_path)\n",
    "    start_index = all_files.index('{}{}{}T000000.nc'.format(dir_path, file_prefix, start_date))\n",
    "    end_index = all_files.index('{}{}{}T000000.nc'.format(dir_path, file_prefix, end_date))\n",
    "    file_spread = all_files[start_index:end_index+1]\n",
    "    \n",
    "    train_files, val_files, test_files = [], [], []\n",
    "    \n",
    "    for i in np.arange(0, len(file_spread)+1, (seq_len+skip_len)*3):\n",
    "        \n",
    "        val_i = i + seq_len + skip_len\n",
    "        test_i = i + (seq_len + skip_len)*2\n",
    "        \n",
    "        train_files.append(file_spread[i:i+seq_len])\n",
    "        val_files.append(file_spread[val_i:val_i+seq_len])\n",
    "        test_files.append(file_spread[test_i:test_i+seq_len])\n",
    "        \n",
    "    train_f = [item for sublist in train_files for item in sublist]\n",
    "    val_f = [item for sublist in val_files for item in sublist]\n",
    "    test_f = [item for sublist in test_files for item in sublist]\n",
    "    \n",
    "    return train_f, val_f, test_f\n",
    "\n",
    "def fetch_data(file_number, file_list):\n",
    "    \"\"\"\n",
    "    Function to be distributed across a cluster to individually load files directly from an AWS S3 bucket \n",
    "    \n",
    "    Args:\n",
    "        file_number: index for file from file_list\n",
    "        file_list: List of files to index from\n",
    "    Returns:\n",
    "        ds: xarray dataset of daily file \n",
    "    \"\"\"\n",
    "    obj = fs.open(file_list[file_number])\n",
    "    ds = xr.open_dataset(obj, chunks={})\n",
    "    \n",
    "    return ds\n",
    "\n",
    "def merge_data(file_list):\n",
    "    \"\"\"\n",
    "    Take a list of files and distribute across a cluster to be loaded then gathered and concantenated\n",
    "    \n",
    "    Args:\n",
    "        file_list: List of files to be merged together (training, validation, or testing)\n",
    "    Returns:\n",
    "        merged_data: Concatenated xarray dataset of training, validation, or testing data \n",
    "    \"\"\"\n",
    "    futures = client.map(fetch_data, range(len(file_list)), [file_list]*len(file_list))\n",
    "    results = client.gather(futures)\n",
    "    merged_data = xr.concat(results, 'patch').compute()\n",
    "    #merged_data.to_netcdf('local_dataset.nc')\n",
    "    return merged_data\n",
    "\n",
    "def prepare_data(data):\n",
    "    \"\"\"\n",
    "    Take GOES netCDF data, filter out NaNs, reshape for tensorflow, convert flash_counts to binary,\n",
    "    and return filtered numpy arrays\n",
    "    Args:\n",
    "        data: GOES patch netCDF data including ABI bands and lightning flash counts\n",
    "    Returns:\n",
    "        good_imagery: NaN filtered numpy array with reshaped dimensions (patch, x, y, band)\n",
    "        binary_output: 1D numpy array of lightnin flash_counts\n",
    "    \"\"\"\n",
    "    \n",
    "    input_data = np.moveaxis(data['abi'].values, 1, -1)\n",
    "    output_data = data['flash_counts'].values\n",
    "    \n",
    "    nan_indices = np.unique(np.where(np.isnan(input_data))[0])\n",
    "    all_indices = np.arange(input_data.shape[0])\n",
    "    valid_indices = all_indices[np.isin(all_indices, nan_indices, assume_unique=True, invert=True)]\n",
    "    \n",
    "    good_imagery = input_data[valid_indices]\n",
    "    binary_output = np.where(output_data > 0, 1, 0)[valid_indices]\n",
    "    \n",
    "    return good_imagery, binary_output"
   ]
  },
  {
   "cell_type": "markdown",
   "metadata": {},
   "source": [
    "We use DASK to create a local cluster to speed up the data loading process (Loading data directly from an AWS S3 bucket can be slow)."
   ]
  },
  {
   "cell_type": "code",
   "execution_count": 4,
   "metadata": {},
   "outputs": [],
   "source": [
    "cluster = LocalCluster(processes=True, threads_per_worker=2)\n",
    "client = Client(cluster)\n",
    "fs = s3fs.S3FileSystem(anon=True)"
   ]
  },
  {
   "cell_type": "code",
   "execution_count": 5,
   "metadata": {},
   "outputs": [
    {
     "name": "stdout",
     "output_type": "stream",
     "text": [
      "CPU times: user 42.4 ms, sys: 10.6 ms, total: 53.1 ms\n",
      "Wall time: 135 ms\n"
     ]
    }
   ],
   "source": [
    "%%time\n",
    "# Split into training, validation, and test sets\n",
    "if os.path.isfile('./train_data.nc') and os.path.isfile('./train_data.nc') and os.path.isfile('./test_data.nc'):\n",
    "    train = xr.open_dataset('./train_data.nc')\n",
    "    val = xr.open_dataset('./val_data.nc')\n",
    "    test = xr.open_dataset('./test_data.nc')\n",
    "else:\n",
    "    # We only load the train and val sets here to save a couple minutes\n",
    "    train_files, val_files, test_files = split_data_files()\n",
    "    train, val, test = map(merge_data, [train_files, val_files, test_files])\n",
    "    train.to_netcdf('./train_data.nc')\n",
    "    val.to_netcdf('./val_data.nc')\n",
    "    test.to_netcdf('./test_data.nc')"
   ]
  },
  {
   "cell_type": "code",
   "execution_count": 6,
   "metadata": {},
   "outputs": [],
   "source": [
    "client.shutdown()"
   ]
  },
  {
   "cell_type": "markdown",
   "metadata": {},
   "source": [
    "## Exploratory visualizations\n",
    "\n",
    "When seperating by band, lightning active patches usually have a similar brightness temperature (BT) profiles throughout the 4 water vapor channels. Low BT convective cells are often seen as well (as expected)."
   ]
  },
  {
   "cell_type": "code",
   "execution_count": 7,
   "metadata": {},
   "outputs": [
    {
     "name": "stderr",
     "output_type": "stream",
     "text": [
      "distributed.client - ERROR - Failed to reconnect to scheduler after 10.00 seconds, closing client\n",
      "_GatheringFuture exception was never retrieved\n",
      "future: <_GatheringFuture finished exception=CancelledError()>\n",
      "concurrent.futures._base.CancelledError\n"
     ]
    },
    {
     "data": {
      "image/png": "[encoded data removed]",
      "text/plain": [
       "<Figure size 864x576 with 8 Axes>"
      ]
     },
     "metadata": {
      "needs_background": "light"
     },
     "output_type": "display_data"
    }
   ],
   "source": [
    "high_lc_indices = np.argwhere(train.flash_counts.values > 100).flatten() # indices with more than 100 lightning counts\n",
    "no_lc_indices = np.argwhere(train.flash_counts.values == 0).flatten() # indices with no lightning counts\n",
    "\n",
    "index = high_lc_indices[205]\n",
    "vmin = train['abi'][index,:,:,:].min() # set min/max plotting range  \n",
    "vmax = train['abi'][index,:,:,:].max()\n",
    "\n",
    "fig, ax = plt.subplots(2,2, figsize=(12,8))\n",
    "for i in range(4):\n",
    "    train['abi'][index,i,:,:].plot(ax=ax.ravel()[i], vmin=vmin, vmax=vmax)\n",
    "    plt.suptitle('Example Patch with High Lightning Activity', fontsize=20)"
   ]
  },
  {
   "cell_type": "markdown",
   "metadata": {},
   "source": [
    "Areas without lightning activity often exibit a much larger BT range throughout the channel column, particularily the longwave window (Band 14) which often has much higher values with clear skies."
   ]
  },
  {
   "cell_type": "code",
   "execution_count": 50,
   "metadata": {
    "collapsed": true,
    "jupyter": {
     "outputs_hidden": true
    }
   },
   "outputs": [
    {
     "data": {
      "image/png": "[encoded data removed]",
      "text/plain": [
       "<Figure size 864x576 with 8 Axes>"
      ]
     },
     "metadata": {
      "needs_background": "light"
     },
     "output_type": "display_data"
    }
   ],
   "source": [
    "index = no_lc_indices[300]\n",
    "vmin = train['abi'][index,:,:,:].min() # set min/max plotting range\n",
    "vmax = train['abi'][index,:,:,:].max() # set min/max plotting range\n",
    "\n",
    "fig, ax = plt.subplots(2,2, figsize=(12,8))\n",
    "for i in range(4):\n",
    "    train['abi'][index,i,:,:].plot(ax=ax.ravel()[i], vmin=vmin, vmax=vmax)\n",
    "    plt.suptitle('Example Patch with No Lightning Activity', fontsize=20)"
   ]
  },
  {
   "cell_type": "markdown",
   "metadata": {},
   "source": [
    "This pattern is also noted when taking the mean value of each patch across the dataset."
   ]
  },
  {
   "cell_type": "code",
   "execution_count": 58,
   "metadata": {
    "collapsed": true,
    "jupyter": {
     "outputs_hidden": true
    }
   },
   "outputs": [
    {
     "name": "stderr",
     "output_type": "stream",
     "text": [
      "/opt/conda/lib/python3.7/site-packages/xarray/core/nanops.py:142: RuntimeWarning: Mean of empty slice\n",
      "  return np.nanmean(a, axis=axis, dtype=dtype)\n"
     ]
    },
    {
     "data": {
      "image/png": "[encoded data removed]",
      "text/plain": [
       "<Figure size 864x864 with 2 Axes>"
      ]
     },
     "metadata": {
      "needs_background": "light"
     },
     "output_type": "display_data"
    }
   ],
   "source": [
    "high_lc_indices = np.argwhere(train.flash_counts.values > 100).flatten() # indices with more than 100 lightning counts\n",
    "no_lc_indices = np.argwhere(train.flash_counts.values == 0).flatten() # indices with no lightning counts\n",
    "\n",
    "lc_train = train.isel(patch=high_lc_indices) # all patch data with lightning counts (above threshold)\n",
    "no_lc_train = train.isel(patch=no_lc_indices) # all patch data without lightning activity\n",
    "mean_patches_lc = lc_train.abi.mean(dim=('x','y')) # mean BT of each patch\n",
    "mean_patches_no_lc = no_lc_train.abi.mean(dim=('x','y')) # mean BT of each patch\n",
    "\n",
    "fig, ax = plt.subplots(2,1, figsize=(12,12))\n",
    "for i,lab in enumerate(['Band: 08', 'Band: 09', 'Band: 10', 'Band: 14']*2):\n",
    "    if i < 4:\n",
    "        sns.kdeplot(mean_patches_lc[:,i], ax=ax[0], label=lab, shade=True).set_title(\n",
    "            'Mean Patch Distributions With Lightning Activity', fontsize=22)\n",
    "    else:\n",
    "        sns.kdeplot(mean_patches_no_lc[:,i-4], ax=ax[1], label=lab, shade=True).set_title(\n",
    "            'Mean Patch Distributions Without Lightning Activity', fontsize=22)"
   ]
  },
  {
   "cell_type": "markdown",
   "metadata": {},
   "source": [
    "### Data Transforms\n",
    "Discuss any transforms or normalizations that may be needed for this dataset. Remember to fit a scaler only to the training data and then apply it on testing and validation."
   ]
  },
  {
   "cell_type": "code",
   "execution_count": 8,
   "metadata": {},
   "outputs": [
    {
     "name": "stdout",
     "output_type": "stream",
     "text": [
      "CPU times: user 1min 11s, sys: 4.21 s, total: 1min 15s\n",
      "Wall time: 1min 27s\n"
     ]
    }
   ],
   "source": [
    "%%time\n",
    "# get numpy arrays of patch data for each band (this also converts all flash_counts to binary classes)\n",
    "train_in, train_out = prepare_data(train) \n",
    "val_in, val_out = prepare_data(val)"
   ]
  },
  {
   "cell_type": "code",
   "execution_count": 8,
   "metadata": {},
   "outputs": [],
   "source": [
    "# scale data\n",
    "scaler = MinMaxScaler2D()\n",
    "scaled_train_in = scaler.fit_transform(train_in)\n",
    "scaled_val_in = scaler.transform(val_in)"
   ]
  },
  {
   "cell_type": "code",
   "execution_count": null,
   "metadata": {
    "collapsed": true,
    "jupyter": {
     "outputs_hidden": true
    }
   },
   "outputs": [],
   "source": [
    "# declare ResNet (residual network from the goes16i module) and list the default parameters\n",
    "# Any of these parameters can be overridden\n",
    "# note using larger batch sizes here can cause memory errors\n",
    "resNet_mod = ResNet(epochs=5, batch_size=512)\n",
    "vars(resNet_mod)"
   ]
  },
  {
   "cell_type": "code",
   "execution_count": null,
   "metadata": {
    "collapsed": true,
    "jupyter": {
     "outputs_hidden": true
    }
   },
   "outputs": [],
   "source": [
    "%%time\n",
    "# Fit model and print architecture\n",
    "resNet_mod.fit(scaled_train_in, train_out, scaled_val_in, val_out)\n",
    "resNet_mod.model.summary()"
   ]
  },
  {
   "cell_type": "markdown",
   "metadata": {},
   "source": [
    "## Baseline ResNet Evaluation Metrics\n",
    "We trained on binary output data, but output probabilities before converting to class. This allows us to evaluate regressed and classified metrics:\n",
    "\n",
    "\n",
    "| Type | Metric | Value to beat |\n",
    "| ------------- | :----:|:-------|\n",
    "|  Regressed   ||   \n",
    "|              | RMSE: |0.328|\n",
    "|              | R2: |0.567 |\n",
    "|              | Hellenger Distance: |0.501|\n",
    "|||\n",
    "| Classified   |||\n",
    "|              | Heidke Skill Score: |0.705|\n",
    "|              | Peirce Skill Score:  |0.713|\n",
    "|              | Brier Score: |0.143|\n",
    "|              | Brier Skill Score: |0.402|\n",
    "|              | AUC: |0.856|"
   ]
  },
  {
   "cell_type": "code",
   "execution_count": null,
   "metadata": {
    "collapsed": true,
    "jupyter": {
     "outputs_hidden": true
    }
   },
   "outputs": [],
   "source": [
    "# set the probability threshold for binary classification; predict on validation; add binary preds\n",
    "binary_threshold = 0.5\n",
    "preds = resNet_mod.predict(scaled_val_in).reshape(val_out.shape[0])\n",
    "binary_preds = np.where(preds >= binary_threshold, 1, 0)"
   ]
  },
  {
   "cell_type": "code",
   "execution_count": 9,
   "metadata": {},
   "outputs": [],
   "source": [
    "# Metric functions\n",
    "from sklearn.metrics import confusion_matrix, mean_squared_error, brier_score_loss, roc_auc_score\n",
    "\n",
    "import numpy as np\n",
    "\n",
    "def calc_pdf_hist(x, x_bins):\n",
    "    return np.histogram(x, x_bins, density=True)[0]\n",
    "\n",
    "def auc_score(y_true, y_pred):\n",
    "    return roc_auc_score(y_true, y_pred)\n",
    "\n",
    "def brier_score(y_true, y_pred):\n",
    "    return brier_score_loss(y_true, y_pred)\n",
    "\n",
    "def brier_skill_score(y_true, y_pred):\n",
    "    \n",
    "    model_brier_score = mean_squared_error(y_true, y_pred)\n",
    "    climo_brier_score = mean_squared_error(y_true, np.ones(y_true.size) * y_true.sum() / y_true.size)\n",
    "    model_brier_skill_score = 1 - model_brier_score / climo_brier_score\n",
    "    return model_brier_skill_score\n",
    "\n",
    "def hellinger(x, pdf_p, pdf_q):\n",
    "    pdf_distances = (np.sqrt(pdf_p) - np.sqrt(pdf_q)) ** 2\n",
    "    return np.trapz(pdf_distances, x) / 2\n",
    "\n",
    "def root_mean_squared_error(y_true, y_pred):\n",
    "    return np.sqrt(mean_squared_error(y_true, y_pred))\n",
    "\n",
    "def hellinger_distance(y_true, y_pred, bins=50):\n",
    "    bin_points = np.linspace(np.minimum(y_true.min(), y_pred.min()),\n",
    "                       np.maximum(y_true.max(), y_pred.max()),\n",
    "                       bins)\n",
    "    bin_centers = 0.5 * (bin_points[:-1] + bin_points[1:])\n",
    "    y_true_pdf = calc_pdf_hist(y_true, bin_points)\n",
    "    y_pred_pdf = calc_pdf_hist(y_pred, bin_points)\n",
    "    return hellinger(bin_centers, y_true_pdf, y_pred_pdf)\n",
    "\n",
    "def peirce_skill_score(y_true, y_pred):\n",
    "    cm = confusion_matrix(y_true, y_pred)\n",
    "    n = float(cm.sum())\n",
    "    nf = cm.sum(axis=0)\n",
    "    no = cm.sum(axis=1)\n",
    "    correct = float(cm.trace())\n",
    "    return (correct / n - (nf * no).sum() / n ** 2) / (1 - (no * no).sum() / n ** 2)\n",
    "\n",
    "def heidke_skill_score(y_true, y_pred):\n",
    "    cm = confusion_matrix(y_true, y_pred)\n",
    "    n = float(cm.sum())\n",
    "    nf = cm.sum(axis=0)\n",
    "    no = cm.sum(axis=1)\n",
    "    correct = float(cm.trace())\n",
    "    return (correct / n - (nf * no).sum() / n ** 2) / (1 - (nf * no).sum() / n ** 2)\n",
    "\n",
    "def r2_corr(y_true, y_pred):\n",
    "    return np.corrcoef(y_true, y_pred)[0, 1] ** 2\n",
    "\n",
    "def perf_measure(y_true, y_pred):\n",
    "    TP = 0\n",
    "    FP = 0\n",
    "    TN = 0\n",
    "    FN = 0\n",
    "    for i in range(len(y_true)): \n",
    "        if y_true[i]==y_pred[i]==1:\n",
    "           TP += 1\n",
    "        if y_pred[i]==1 and y_true[i]!=y_pred[i]:\n",
    "           FP += 1\n",
    "        if y_true[i]==y_pred[i]==0:\n",
    "           TN += 1\n",
    "        if y_pred[i]==0 and y_true[i]!=y_pred[i]:\n",
    "           FN += 1\n",
    "    # Sensitivity, hit rate, recall, or true positive rate, or probability of detection\n",
    "    TPR = TP/(TP+FN)\n",
    "    # Specificity or true negative rate\n",
    "    TNR = TN/(TN+FP) \n",
    "    # Precision or positive predictive value\n",
    "    PPV = TP/(TP+FP)\n",
    "    # Negative predictive value\n",
    "    NPV = TN/(TN+FN)\n",
    "    # Fall out or false positive rate or false alarm ratio\n",
    "    FPR = FP/(FP+TN)\n",
    "    # False negative rate\n",
    "    FNR = FN/(TP+FN)\n",
    "    # False discovery rate\n",
    "    FDR = FP/(TP+FP)\n",
    "    # Overall accuracy\n",
    "    ACC = (TP+TN)/(TP+FP+FN+TN)\n",
    "    return {\n",
    "        'TP'  : TP,\n",
    "        'FP'  : FP,\n",
    "        'TN'  : TN,\n",
    "        'FN'  : FN,\n",
    "        'TPR' : TPR,\n",
    "        'TNR' : TNR,\n",
    "        'PPV' : PPV,\n",
    "        'NPV' : NPV,\n",
    "        'FPR' : FPR,\n",
    "        'FNR' : FNR,\n",
    "        'FDR' : FDR,\n",
    "        'ACC' : ACC,\n",
    "        }\n",
    "    "
   ]
  },
  {
   "cell_type": "code",
   "execution_count": null,
   "metadata": {
    "collapsed": true,
    "jupyter": {
     "outputs_hidden": true
    }
   },
   "outputs": [],
   "source": [
    "# Example regressed metrics\n",
    "print('RMSE: {}'.format(np.round(root_mean_squared_error(val_out, preds),3)))\n",
    "print('R squared: {}'.format(np.round(r2_corr(val_out, preds),3)))\n",
    "print('Hellenger Distance: {}'.format(np.round(hellinger_distance(val_out, preds),3)))\n",
    "\n",
    "# Example classified metrics\n",
    "print('Heidke Skill Score: {}'.format(np.round(heidke_skill_score(val_out, binary_preds),3)))\n",
    "print('Pierce Skill Score: {}'.format(np.round(peirce_skill_score(val_out, binary_preds),3)))\n",
    "print('Brier Score: {}'.format(np.round(brier_score(val_out, binary_preds),3)))\n",
    "print('Brier Skill Score: {}'.format(np.round(brier_skill_score(val_out, binary_preds),3)))\n",
    "print('AUC: {}'.format(np.round(roc_auc_score(val_out, binary_preds),3)))"
   ]
  },
  {
   "cell_type": "markdown",
   "metadata": {},
   "source": [
    "## Interpretation\n",
    "Description of interpretation methods for problem"
   ]
  },
  {
   "cell_type": "code",
   "execution_count": null,
   "metadata": {
    "collapsed": true,
    "jupyter": {
     "outputs_hidden": true
    }
   },
   "outputs": [],
   "source": [
    "# Include examples of interpretation code"
   ]
  },
  {
   "cell_type": "markdown",
   "metadata": {},
   "source": [
    "## Hackathon Challenges\n",
    "\n",
    "### Monday\n",
    "* Load the data\n",
    "* Create an exploratory visualization of the data\n",
    "* Test two different transformation and scaling methods\n",
    "* Test one dimensionality reduction method\n",
    "* Train a linear model\n",
    "* Train a decision tree ensemble method of your choice"
   ]
  },
  {
   "cell_type": "code",
   "execution_count": null,
   "metadata": {
    "collapsed": true,
    "jupyter": {
     "outputs_hidden": true
    }
   },
   "outputs": [],
   "source": [
    "# First play with different thresholds for the binary classification - 0.25\n",
    "binary_threshold = 0.25\n",
    "preds = resNet_mod.predict(scaled_val_in).reshape(val_out.shape[0])\n",
    "binary_preds = np.where(preds >= binary_threshold, 1, 0)"
   ]
  },
  {
   "cell_type": "code",
   "execution_count": null,
   "metadata": {
    "collapsed": true,
    "jupyter": {
     "outputs_hidden": true
    }
   },
   "outputs": [],
   "source": [
    "# Example regressed metrics\n",
    "print('RMSE: {}'.format(np.round(root_mean_squared_error(val_out, preds),3)))\n",
    "print('R squared: {}'.format(np.round(r2_corr(val_out, preds),3)))\n",
    "print('Hellenger Distance: {}'.format(np.round(hellinger_distance(val_out, preds),3)))\n",
    "\n",
    "# Example classified metrics\n",
    "print('Heidke Skill Score: {}'.format(np.round(heidke_skill_score(val_out, binary_preds),3)))\n",
    "print('Pierce Skill Score: {}'.format(np.round(peirce_skill_score(val_out, binary_preds),3)))\n",
    "print('Brier Score: {}'.format(np.round(brier_score(val_out, binary_preds),3)))\n",
    "print('Brier Skill Score: {}'.format(np.round(brier_skill_score(val_out, binary_preds),3)))\n",
    "print('AUC: {}'.format(np.round(roc_auc_score(val_out, binary_preds),3)))"
   ]
  },
  {
   "cell_type": "code",
   "execution_count": null,
   "metadata": {
    "collapsed": true,
    "jupyter": {
     "outputs_hidden": true
    }
   },
   "outputs": [],
   "source": [
    "# First play with different thresholds for the binary classification - 0.75\n",
    "binary_threshold = 0.75\n",
    "preds = resNet_mod.predict(scaled_val_in).reshape(val_out.shape[0])\n",
    "binary_preds = np.where(preds >= binary_threshold, 1, 0)"
   ]
  },
  {
   "cell_type": "code",
   "execution_count": null,
   "metadata": {
    "collapsed": true,
    "jupyter": {
     "outputs_hidden": true
    }
   },
   "outputs": [],
   "source": [
    "# Example regressed metrics\n",
    "print('RMSE: {}'.format(np.round(root_mean_squared_error(val_out, preds),3)))\n",
    "print('R squared: {}'.format(np.round(r2_corr(val_out, preds),3)))\n",
    "print('Hellenger Distance: {}'.format(np.round(hellinger_distance(val_out, preds),3)))\n",
    "\n",
    "# Example classified metrics\n",
    "print('Heidke Skill Score: {}'.format(np.round(heidke_skill_score(val_out, binary_preds),3)))\n",
    "print('Pierce Skill Score: {}'.format(np.round(peirce_skill_score(val_out, binary_preds),3)))\n",
    "print('Brier Score: {}'.format(np.round(brier_score(val_out, binary_preds),3)))\n",
    "print('Brier Skill Score: {}'.format(np.round(brier_skill_score(val_out, binary_preds),3)))\n",
    "print('AUC: {}'.format(np.round(roc_auc_score(val_out, binary_preds),3)))"
   ]
  },
  {
   "cell_type": "raw",
   "metadata": {},
   "source": [
    "Plot the standard deviation for exploratory visualization"
   ]
  },
  {
   "cell_type": "code",
   "execution_count": null,
   "metadata": {
    "collapsed": true,
    "jupyter": {
     "outputs_hidden": true
    }
   },
   "outputs": [],
   "source": [
    "high_lc_indices = np.argwhere(train.flash_counts.values > 100).flatten() # indices with more than 100 lightning counts\n",
    "no_lc_indices = np.argwhere(train.flash_counts.values == 0).flatten() # indices with no lightning counts\n",
    "\n",
    "lc_train = train.isel(patch=high_lc_indices) # all patch data with lightning counts (above threshold)\n",
    "no_lc_train = train.isel(patch=no_lc_indices) # all patch data without lightning activity\n",
    "\n",
    "#standard deviation\n",
    "std_patches_lc = lc_train.abi.std(dim=('x','y')) # mean BT of each patch\n",
    "std_patches_no_lc = no_lc_train.abi.std(dim=('x','y')) # mean BT of each patch\n",
    "fig, ax = plt.subplots(2,1, figsize=(12,12))\n",
    "for i,lab in enumerate(['Band: 08', 'Band: 09', 'Band: 10', 'Band: 14']*2):\n",
    "    if i < 4:\n",
    "        sns.kdeplot(std_patches_lc[:,i], ax=ax[0], label=lab, shade=True).set_title(\n",
    "            'Standard deviation Patch Distributions With Lightning Activity', fontsize=22)\n",
    "    else:\n",
    "        sns.kdeplot(std_patches_no_lc[:,i-4], ax=ax[1], label=lab, shade=True).set_title(\n",
    "            'Standard deviation Patch Distributions Without Lightning Activity', fontsize=22)"
   ]
  },
  {
   "cell_type": "raw",
   "metadata": {},
   "source": [
    "Try a different scaler: StandardScaler"
   ]
  },
  {
   "cell_type": "code",
   "execution_count": null,
   "metadata": {
    "collapsed": true,
    "jupyter": {
     "outputs_hidden": true
    }
   },
   "outputs": [],
   "source": [
    "# Room to improve: don't specify dimension by hand ...\n",
    "scaler = StandardScaler()\n",
    "scaled_train_in = scaler.fit_transform(train_in.reshape(212604,32*32*4)).reshape(212604,32,32,4)\n",
    "scaled_val_in = scaler.transform(val_in.reshape(199399,32*32*4)).reshape(199399,32,32,4)"
   ]
  },
  {
   "cell_type": "code",
   "execution_count": null,
   "metadata": {
    "collapsed": true,
    "jupyter": {
     "outputs_hidden": true
    }
   },
   "outputs": [],
   "source": [
    "# declare ResNet (residual network from the goes16i module) and list the default parameters\n",
    "# Any of these parameters can be overridden\n",
    "# note using larger batch sizes here can cause memory errors\n",
    "resNet_mod = ResNet(epochs=5, batch_size=512)\n",
    "vars(resNet_mod)"
   ]
  },
  {
   "cell_type": "code",
   "execution_count": null,
   "metadata": {
    "collapsed": true,
    "jupyter": {
     "outputs_hidden": true
    }
   },
   "outputs": [],
   "source": [
    "%%time\n",
    "# Fit model and print architecture\n",
    "resNet_mod.fit(scaled_train_in, train_out, scaled_val_in, val_out)\n",
    "resNet_mod.model.summary()"
   ]
  },
  {
   "cell_type": "code",
   "execution_count": null,
   "metadata": {
    "collapsed": true,
    "jupyter": {
     "outputs_hidden": true
    }
   },
   "outputs": [],
   "source": [
    "# set the probability threshold for binary classification; predict on validation; add binary preds\n",
    "binary_threshold = 0.5\n",
    "preds = resNet_mod.predict(scaled_val_in).reshape(val_out.shape[0])\n",
    "binary_preds = np.where(preds >= binary_threshold, 1, 0)"
   ]
  },
  {
   "cell_type": "code",
   "execution_count": null,
   "metadata": {
    "collapsed": true,
    "jupyter": {
     "outputs_hidden": true
    }
   },
   "outputs": [],
   "source": [
    "# Example regressed metrics\n",
    "print('RMSE: {}'.format(np.round(root_mean_squared_error(val_out, preds),3)))\n",
    "print('R squared: {}'.format(np.round(r2_corr(val_out, preds),3)))\n",
    "print('Hellenger Distance: {}'.format(np.round(hellinger_distance(val_out, preds),3)))\n",
    "\n",
    "# Example classified metrics\n",
    "print('Heidke Skill Score: {}'.format(np.round(heidke_skill_score(val_out, binary_preds),3)))\n",
    "print('Pierce Skill Score: {}'.format(np.round(peirce_skill_score(val_out, binary_preds),3)))\n",
    "print('Brier Score: {}'.format(np.round(brier_score(val_out, binary_preds),3)))\n",
    "print('Brier Skill Score: {}'.format(np.round(brier_skill_score(val_out, binary_preds),3)))\n",
    "print('AUC: {}'.format(np.round(roc_auc_score(val_out, binary_preds),3)))"
   ]
  },
  {
   "cell_type": "raw",
   "metadata": {},
   "source": [
    "Better results!"
   ]
  },
  {
   "cell_type": "raw",
   "metadata": {},
   "source": [
    "Now try linear regression - use mean value of each patch across bands (this is going to be poor ...)"
   ]
  },
  {
   "cell_type": "code",
   "execution_count": null,
   "metadata": {
    "collapsed": true,
    "jupyter": {
     "outputs_hidden": true
    }
   },
   "outputs": [],
   "source": [
    "# back to the original scaler\n",
    "scaler = MinMaxScaler2D()\n",
    "scaled_train_in = scaler.fit_transform(train_in)\n",
    "scaled_val_in = scaler.transform(val_in)"
   ]
  },
  {
   "cell_type": "code",
   "execution_count": 16,
   "metadata": {
    "collapsed": true,
    "jupyter": {
     "outputs_hidden": true
    }
   },
   "outputs": [],
   "source": [
    "from sklearn import linear_model\n",
    "LinMod = linear_model.LinearRegression()"
   ]
  },
  {
   "cell_type": "code",
   "execution_count": 18,
   "metadata": {
    "collapsed": true,
    "jupyter": {
     "outputs_hidden": true
    }
   },
   "outputs": [
    {
     "data": {
      "text/plain": [
       "LinearRegression()"
      ]
     },
     "execution_count": 18,
     "metadata": {},
     "output_type": "execute_result"
    }
   ],
   "source": [
    "LinMod.fit(scaled_train_in.mean(axis=(1,2,3)).reshape(212604,1), train_out)"
   ]
  },
  {
   "cell_type": "code",
   "execution_count": 19,
   "metadata": {
    "collapsed": true,
    "jupyter": {
     "outputs_hidden": true
    }
   },
   "outputs": [],
   "source": [
    "# set the probability threshold for binary classification; predict on validation; add binary preds\n",
    "binary_threshold = 0.5\n",
    "preds = LinMod.predict(scaled_val_in.mean(axis=(1,2,3)).reshape(199399,1))\n",
    "binary_preds = np.where(preds >= binary_threshold, 1, 0)"
   ]
  },
  {
   "cell_type": "code",
   "execution_count": 22,
   "metadata": {
    "collapsed": true,
    "jupyter": {
     "outputs_hidden": true
    }
   },
   "outputs": [
    {
     "name": "stdout",
     "output_type": "stream",
     "text": [
      "RMSE: 0.404\n",
      "R squared: 0.32\n",
      "Hellenger Distance: 0.823\n",
      "Heidke Skill Score: 0.47\n",
      "Pierce Skill Score: 0.449\n",
      "Brier Score: 0.242\n",
      "Brier Skill Score: -0.014\n",
      "AUC: 0.725\n"
     ]
    }
   ],
   "source": [
    "# Example regressed metrics\n",
    "print('RMSE: {}'.format(np.round(root_mean_squared_error(val_out, preds),3)))\n",
    "print('R squared: {}'.format(np.round(r2_corr(val_out, preds),3)))\n",
    "print('Hellenger Distance: {}'.format(np.round(hellinger_distance(val_out, preds),3)))\n",
    "\n",
    "# Example classified metrics\n",
    "print('Heidke Skill Score: {}'.format(np.round(heidke_skill_score(val_out, binary_preds),3)))\n",
    "print('Pierce Skill Score: {}'.format(np.round(peirce_skill_score(val_out, binary_preds),3)))\n",
    "print('Brier Score: {}'.format(np.round(brier_score(val_out, binary_preds),3)))\n",
    "print('Brier Skill Score: {}'.format(np.round(brier_skill_score(val_out, binary_preds),3)))\n",
    "print('AUC: {}'.format(np.round(roc_auc_score(val_out, binary_preds),3)))"
   ]
  },
  {
   "cell_type": "raw",
   "metadata": {},
   "source": [
    "Poor results, as expected"
   ]
  },
  {
   "cell_type": "code",
   "execution_count": null,
   "metadata": {
    "collapsed": true,
    "jupyter": {
     "outputs_hidden": true
    }
   },
   "outputs": [],
   "source": []
  },
  {
   "cell_type": "code",
   "execution_count": null,
   "metadata": {
    "collapsed": true,
    "jupyter": {
     "outputs_hidden": true
    }
   },
   "outputs": [],
   "source": []
  },
  {
   "cell_type": "code",
   "execution_count": null,
   "metadata": {
    "collapsed": true,
    "jupyter": {
     "outputs_hidden": true
    }
   },
   "outputs": [],
   "source": []
  },
  {
   "cell_type": "code",
   "execution_count": null,
   "metadata": {
    "collapsed": true,
    "jupyter": {
     "outputs_hidden": true
    }
   },
   "outputs": [],
   "source": []
  },
  {
   "cell_type": "code",
   "execution_count": null,
   "metadata": {
    "collapsed": true,
    "jupyter": {
     "outputs_hidden": true
    }
   },
   "outputs": [],
   "source": []
  },
  {
   "cell_type": "markdown",
   "metadata": {},
   "source": [
    "### Tuesday\n",
    "* Train a densely connected neural network\n",
    "* Train a convolutional or recurrent neural network (depends on problem)\n",
    "* Experiment with different architectures"
   ]
  },
  {
   "cell_type": "markdown",
   "metadata": {},
   "source": [
    "### Helper functions"
   ]
  },
  {
   "cell_type": "code",
   "execution_count": 185,
   "metadata": {},
   "outputs": [],
   "source": [
    "def plot_loss(model_history):\n",
    "    train_loss=[value for key, value in model_history.items() if 'loss' in key.lower()][0]\n",
    "    valid_loss=[value for key, value in model_history.items() if 'loss' in key.lower()][1]\n",
    "    fig, ax1 = plt.subplots()\n",
    "    color = 'tab:blue'\n",
    "    ax1.set_xlabel('Epoch')\n",
    "    ax1.set_ylabel('Loss', color=color)\n",
    "    ax1.plot(train_loss, '--', color=color, label='Train Loss')\n",
    "    ax1.plot(valid_loss, color=color, label='Valid Loss')\n",
    "    ax1.tick_params(axis='y', labelcolor=color)\n",
    "    plt.legend(loc='upper left')\n",
    "    plt.title('Model Loss')\n",
    "    plt.show()\n",
    "    \n",
    "def plot_model_recall_fpr(model_history):\n",
    "    train_recall=[value for key, value in model_history.items() if 'recall' in key.lower()][0]\n",
    "    valid_recall=[value for key, value in model_history.items() if 'recall' in key.lower()][1]\n",
    "    train_fpr=[value for key, value in model_history.items() if 'false_positive_rate' in key.lower()][0]\n",
    "    valid_fpr=[value for key, value in model_history.items() if 'false_positive_rate' in key.lower()][1]\n",
    "    fig, ax1 = plt.subplots()\n",
    "    color = 'tab:red'\n",
    "    ax1.set_xlabel('Epoch')\n",
    "    ax1.set_ylabel('Recall', color=color)\n",
    "    ax1.set_ylim([-0.05,1.05])\n",
    "    ax1.plot(train_recall, '--', color=color, label='Train Recall')\n",
    "    ax1.plot(valid_recall, color=color, label='Valid Recall')\n",
    "    ax1.tick_params(axis='y', labelcolor=color)\n",
    "    plt.legend(loc='upper left')\n",
    "    plt.title('Model Recall and FPR')\n",
    "    ax2 = ax1.twinx()  # instantiate a second axes that shares the same x-axis\n",
    "    color = 'tab:blue'\n",
    "    ax2.set_ylabel('False Positive Rate', color=color)  # we already handled the x-label with ax1\n",
    "    ax2.plot(train_fpr, '--', color=color, label='Train FPR')\n",
    "    ax2.plot(valid_fpr, color=color, label='Valid FPR')\n",
    "    ax2.tick_params(axis='y', labelcolor=color)\n",
    "    ax2.set_ylim([-0.05,1.05])\n",
    "    fig.tight_layout()  # otherwise the right y-label is slightly clipped\n",
    "    plt.legend(loc='upper right')\n",
    "    plt.show()\n",
    "\n",
    "class FalsePositiveRate(tf.keras.metrics.Metric):\n",
    "    def __init__(self, name='false_positive_rate', **kwargs):\n",
    "        super(FalsePositiveRate, self).__init__(name=name, **kwargs)\n",
    "        self.negatives = self.add_weight(name='negatives', initializer='zeros')\n",
    "        self.false_positives = self.add_weight(name='false_negatives', initializer='zeros')\n",
    "        \n",
    "    def update_state(self, y_true, y_pred, sample_weight=None):\n",
    "        '''\n",
    "        Arguments:\n",
    "        y_true  The actual y. Passed by default to Metric classes.\n",
    "        y_pred  The predicted y. Passed by default to Metric classes.\n",
    "        \n",
    "        '''\n",
    "        # Compute the number of negatives.\n",
    "        y_true = tf.cast(y_true, tf.bool)\n",
    "        \n",
    "        negatives = tf.reduce_sum(tf.cast(tf.equal(y_true, False), self.dtype))\n",
    "        \n",
    "        self.negatives.assign_add(negatives)\n",
    "        \n",
    "        # Compute the number of false positives.\n",
    "        y_pred = tf.greater_equal(y_pred, 0.5)  # Using default threshold of 0.5 to call a prediction as positive labeled.\n",
    "        \n",
    "        false_positive_values = tf.logical_and(tf.equal(y_true, False), tf.equal(y_pred, True)) \n",
    "        false_positive_values = tf.cast(false_positive_values, self.dtype)\n",
    "        if sample_weight is not None:\n",
    "            sample_weight = tf.cast(sample_weight, self.dtype)\n",
    "            sample_weight = tf.broadcast_weights(sample_weight, values)\n",
    "            values = tf.multiply(false_positive_values, sample_weight)\n",
    "        \n",
    "        false_positives = tf.reduce_sum(false_positive_values)\n",
    "        \n",
    "        self.false_positives.assign_add(false_positives)\n",
    "        \n",
    "    def result(self):\n",
    "        return tf.divide(self.false_positives, self.negatives)"
   ]
  },
  {
   "cell_type": "code",
   "execution_count": 186,
   "metadata": {},
   "outputs": [
    {
     "data": {
      "text/plain": [
       "4"
      ]
     },
     "execution_count": 186,
     "metadata": {},
     "output_type": "execute_result"
    }
   ],
   "source": [
    "nchannels = train_in.shape[-1]\n",
    "nchannels"
   ]
  },
  {
   "cell_type": "code",
   "execution_count": 188,
   "metadata": {},
   "outputs": [],
   "source": [
    "from tensorflow.keras.models import Sequential\n",
    "from tensorflow.keras.layers import Input, Dense, Dropout, AlphaDropout"
   ]
  },
  {
   "cell_type": "markdown",
   "metadata": {},
   "source": [
    "### Dense NN using mean values of patches"
   ]
  },
  {
   "cell_type": "code",
   "execution_count": 187,
   "metadata": {},
   "outputs": [
    {
     "name": "stdout",
     "output_type": "stream",
     "text": [
      "CPU times: user 910 ms, sys: 0 ns, total: 910 ms\n",
      "Wall time: 904 ms\n"
     ]
    }
   ],
   "source": [
    "%%time\n",
    "# Use standard scaler, since this gave better results yesterday\n",
    "scaler = StandardScaler()\n",
    "mean_train_in = train_in.mean(axis=(1,2))\n",
    "scaled_train_in = scaler.fit_transform(mean_train_in)\n",
    "mean_val_in = val_in.mean(axis=(1,2))\n",
    "scaled_val_in = scaler.fit_transform(mean_val_in)"
   ]
  },
  {
   "cell_type": "code",
   "execution_count": 189,
   "metadata": {},
   "outputs": [],
   "source": [
    "mlp = Sequential()"
   ]
  },
  {
   "cell_type": "code",
   "execution_count": 190,
   "metadata": {},
   "outputs": [
    {
     "name": "stdout",
     "output_type": "stream",
     "text": [
      "Model: \"sequential_7\"\n",
      "_________________________________________________________________\n",
      "Layer (type)                 Output Shape              Param #   \n",
      "=================================================================\n",
      "dense_19 (Dense)             (None, 2)                 10        \n",
      "_________________________________________________________________\n",
      "dense_20 (Dense)             (None, 1)                 3         \n",
      "=================================================================\n",
      "Total params: 13\n",
      "Trainable params: 13\n",
      "Non-trainable params: 0\n",
      "_________________________________________________________________\n"
     ]
    }
   ],
   "source": [
    "mlp.add(Input(shape=scaled_train_in.shape[1:]))\n",
    "mlp.add(Dense(2, activation='relu'))\n",
    "mlp.add(Dense(1, activation='sigmoid'))\n",
    "mlp.summary()"
   ]
  },
  {
   "cell_type": "code",
   "execution_count": 191,
   "metadata": {},
   "outputs": [],
   "source": [
    "mlp.compile(optimizer='adam',\n",
    "            loss='binary_crossentropy',\n",
    "            metrics=['accuracy', tf.keras.metrics.Recall(), FalsePositiveRate()]\n",
    "           )"
   ]
  },
  {
   "cell_type": "code",
   "execution_count": 192,
   "metadata": {},
   "outputs": [
    {
     "name": "stdout",
     "output_type": "stream",
     "text": [
      "Epoch 1/50\n",
      "416/416 [==============================] - 3s 7ms/step - loss: 0.5815 - accuracy: 0.7627 - recall_6: 0.5802 - false_positive_rate: 0.1339 - val_loss: 0.5251 - val_accuracy: 0.7522 - val_recall_6: 0.5302 - val_false_positive_rate: 0.1028\n",
      "Epoch 2/50\n",
      "416/416 [==============================] - 2s 6ms/step - loss: 0.4978 - accuracy: 0.7769 - recall_6: 0.5504 - false_positive_rate: 0.0928 - val_loss: 0.5096 - val_accuracy: 0.7542 - val_recall_6: 0.5429 - val_false_positive_rate: 0.1077\n",
      "Epoch 3/50\n",
      "416/416 [==============================] - 2s 6ms/step - loss: 0.4889 - accuracy: 0.7773 - recall_6: 0.5563 - false_positive_rate: 0.0956 - val_loss: 0.5012 - val_accuracy: 0.7539 - val_recall_6: 0.5438 - val_false_positive_rate: 0.1088\n",
      "Epoch 4/50\n",
      "416/416 [==============================] - 2s 6ms/step - loss: 0.4831 - accuracy: 0.7773 - recall_6: 0.5496 - false_positive_rate: 0.0918 - val_loss: 0.4951 - val_accuracy: 0.7534 - val_recall_6: 0.5304 - val_false_positive_rate: 0.1009\n",
      "Epoch 5/50\n",
      "416/416 [==============================] - 2s 6ms/step - loss: 0.4784 - accuracy: 0.7782 - recall_6: 0.5420 - false_positive_rate: 0.0860 - val_loss: 0.4897 - val_accuracy: 0.7537 - val_recall_6: 0.5265 - val_false_positive_rate: 0.0979\n",
      "Epoch 6/50\n",
      "416/416 [==============================] - 2s 6ms/step - loss: 0.4743 - accuracy: 0.7787 - recall_6: 0.5386 - false_positive_rate: 0.0832 - val_loss: 0.4848 - val_accuracy: 0.7540 - val_recall_6: 0.5257 - val_false_positive_rate: 0.0968\n",
      "Epoch 7/50\n",
      "416/416 [==============================] - 2s 6ms/step - loss: 0.4706 - accuracy: 0.7793 - recall_6: 0.5374 - false_positive_rate: 0.0815 - val_loss: 0.4803 - val_accuracy: 0.7541 - val_recall_6: 0.5217 - val_false_positive_rate: 0.0941\n",
      "Epoch 8/50\n",
      "416/416 [==============================] - 2s 6ms/step - loss: 0.4671 - accuracy: 0.7798 - recall_6: 0.5371 - false_positive_rate: 0.0806 - val_loss: 0.4758 - val_accuracy: 0.7546 - val_recall_6: 0.5220 - val_false_positive_rate: 0.0934\n",
      "Epoch 9/50\n",
      "416/416 [==============================] - 2s 6ms/step - loss: 0.4640 - accuracy: 0.7803 - recall_6: 0.5372 - false_positive_rate: 0.0799 - val_loss: 0.4718 - val_accuracy: 0.7548 - val_recall_6: 0.5194 - val_false_positive_rate: 0.0914\n",
      "Epoch 10/50\n",
      "416/416 [==============================] - 2s 6ms/step - loss: 0.4611 - accuracy: 0.7808 - recall_6: 0.5373 - false_positive_rate: 0.0792 - val_loss: 0.4683 - val_accuracy: 0.7558 - val_recall_6: 0.5225 - val_false_positive_rate: 0.0917\n",
      "Epoch 11/50\n",
      "416/416 [==============================] - 2s 6ms/step - loss: 0.4587 - accuracy: 0.7856 - recall_6: 0.5803 - false_positive_rate: 0.0963 - val_loss: 0.4655 - val_accuracy: 0.7720 - val_recall_6: 0.5965 - val_false_positive_rate: 0.1133\n",
      "Epoch 12/50\n",
      "416/416 [==============================] - 2s 6ms/step - loss: 0.4568 - accuracy: 0.7887 - recall_6: 0.6019 - false_positive_rate: 0.1039 - val_loss: 0.4628 - val_accuracy: 0.7740 - val_recall_6: 0.6049 - val_false_positive_rate: 0.1155\n",
      "Epoch 13/50\n",
      "416/416 [==============================] - 3s 6ms/step - loss: 0.4554 - accuracy: 0.7901 - recall_6: 0.6064 - false_positive_rate: 0.1043 - val_loss: 0.4611 - val_accuracy: 0.7760 - val_recall_6: 0.6090 - val_false_positive_rate: 0.1148\n",
      "Epoch 14/50\n",
      "416/416 [==============================] - 2s 6ms/step - loss: 0.4545 - accuracy: 0.7912 - recall_6: 0.6116 - false_positive_rate: 0.1056 - val_loss: 0.4602 - val_accuracy: 0.7769 - val_recall_6: 0.6094 - val_false_positive_rate: 0.1136\n",
      "Epoch 15/50\n",
      "416/416 [==============================] - 2s 6ms/step - loss: 0.4538 - accuracy: 0.7922 - recall_6: 0.6154 - false_positive_rate: 0.1062 - val_loss: 0.4591 - val_accuracy: 0.7783 - val_recall_6: 0.6145 - val_false_positive_rate: 0.1147\n",
      "Epoch 16/50\n",
      "416/416 [==============================] - 2s 6ms/step - loss: 0.4534 - accuracy: 0.7929 - recall_6: 0.6168 - false_positive_rate: 0.1059 - val_loss: 0.4580 - val_accuracy: 0.7792 - val_recall_6: 0.6209 - val_false_positive_rate: 0.1173\n",
      "Epoch 17/50\n",
      "416/416 [==============================] - 3s 6ms/step - loss: 0.4531 - accuracy: 0.7929 - recall_6: 0.6197 - false_positive_rate: 0.1075 - val_loss: 0.4575 - val_accuracy: 0.7796 - val_recall_6: 0.6214 - val_false_positive_rate: 0.1170\n",
      "Epoch 18/50\n",
      "416/416 [==============================] - 2s 6ms/step - loss: 0.4529 - accuracy: 0.7935 - recall_6: 0.6198 - false_positive_rate: 0.1066 - val_loss: 0.4566 - val_accuracy: 0.7801 - val_recall_6: 0.6284 - val_false_positive_rate: 0.1207\n",
      "Epoch 19/50\n",
      "416/416 [==============================] - 2s 6ms/step - loss: 0.4528 - accuracy: 0.7934 - recall_6: 0.6233 - false_positive_rate: 0.1088 - val_loss: 0.4577 - val_accuracy: 0.7798 - val_recall_6: 0.6175 - val_false_positive_rate: 0.1142\n",
      "Epoch 20/50\n",
      "416/416 [==============================] - 2s 6ms/step - loss: 0.4527 - accuracy: 0.7935 - recall_6: 0.6203 - false_positive_rate: 0.1069 - val_loss: 0.4564 - val_accuracy: 0.7806 - val_recall_6: 0.6265 - val_false_positive_rate: 0.1187\n",
      "Epoch 21/50\n",
      "416/416 [==============================] - 2s 6ms/step - loss: 0.4526 - accuracy: 0.7936 - recall_6: 0.6225 - false_positive_rate: 0.1081 - val_loss: 0.4565 - val_accuracy: 0.7807 - val_recall_6: 0.6256 - val_false_positive_rate: 0.1180\n",
      "Epoch 22/50\n",
      "416/416 [==============================] - 2s 6ms/step - loss: 0.4526 - accuracy: 0.7937 - recall_6: 0.6221 - false_positive_rate: 0.1076 - val_loss: 0.4561 - val_accuracy: 0.7810 - val_recall_6: 0.6273 - val_false_positive_rate: 0.1186\n",
      "Epoch 23/50\n",
      "416/416 [==============================] - 2s 6ms/step - loss: 0.4526 - accuracy: 0.7936 - recall_6: 0.6230 - false_positive_rate: 0.1084 - val_loss: 0.4569 - val_accuracy: 0.7802 - val_recall_6: 0.6206 - val_false_positive_rate: 0.1155\n",
      "Epoch 24/50\n",
      "416/416 [==============================] - 2s 6ms/step - loss: 0.4526 - accuracy: 0.7937 - recall_6: 0.6221 - false_positive_rate: 0.1076 - val_loss: 0.4569 - val_accuracy: 0.7801 - val_recall_6: 0.6203 - val_false_positive_rate: 0.1156\n",
      "Epoch 25/50\n",
      "416/416 [==============================] - 3s 6ms/step - loss: 0.4525 - accuracy: 0.7938 - recall_6: 0.6217 - false_positive_rate: 0.1073 - val_loss: 0.4567 - val_accuracy: 0.7805 - val_recall_6: 0.6212 - val_false_positive_rate: 0.1153\n",
      "Epoch 26/50\n",
      "416/416 [==============================] - 2s 6ms/step - loss: 0.4524 - accuracy: 0.7938 - recall_6: 0.6199 - false_positive_rate: 0.1062 - val_loss: 0.4557 - val_accuracy: 0.7810 - val_recall_6: 0.6278 - val_false_positive_rate: 0.1189\n",
      "Epoch 27/50\n",
      "416/416 [==============================] - 2s 6ms/step - loss: 0.4524 - accuracy: 0.7938 - recall_6: 0.6213 - false_positive_rate: 0.1070 - val_loss: 0.4561 - val_accuracy: 0.7806 - val_recall_6: 0.6237 - val_false_positive_rate: 0.1169\n",
      "Epoch 28/50\n",
      "416/416 [==============================] - 2s 6ms/step - loss: 0.4524 - accuracy: 0.7939 - recall_6: 0.6217 - false_positive_rate: 0.1071 - val_loss: 0.4566 - val_accuracy: 0.7805 - val_recall_6: 0.6198 - val_false_positive_rate: 0.1145\n",
      "Epoch 29/50\n",
      "416/416 [==============================] - 3s 6ms/step - loss: 0.4524 - accuracy: 0.7939 - recall_6: 0.6204 - false_positive_rate: 0.1063 - val_loss: 0.4561 - val_accuracy: 0.7809 - val_recall_6: 0.6243 - val_false_positive_rate: 0.1168\n",
      "Epoch 30/50\n",
      "416/416 [==============================] - 2s 6ms/step - loss: 0.4524 - accuracy: 0.7941 - recall_6: 0.6202 - false_positive_rate: 0.1060 - val_loss: 0.4561 - val_accuracy: 0.7804 - val_recall_6: 0.6223 - val_false_positive_rate: 0.1162\n",
      "Epoch 31/50\n",
      "416/416 [==============================] - 2s 6ms/step - loss: 0.4524 - accuracy: 0.7939 - recall_6: 0.6205 - false_positive_rate: 0.1064 - val_loss: 0.4562 - val_accuracy: 0.7802 - val_recall_6: 0.6230 - val_false_positive_rate: 0.1170\n",
      "Epoch 32/50\n",
      "416/416 [==============================] - 2s 6ms/step - loss: 0.4523 - accuracy: 0.7938 - recall_6: 0.6197 - false_positive_rate: 0.1060 - val_loss: 0.4561 - val_accuracy: 0.7805 - val_recall_6: 0.6215 - val_false_positive_rate: 0.1157\n",
      "Epoch 33/50\n",
      "416/416 [==============================] - 2s 6ms/step - loss: 0.4523 - accuracy: 0.7938 - recall_6: 0.6204 - false_positive_rate: 0.1065 - val_loss: 0.4562 - val_accuracy: 0.7810 - val_recall_6: 0.6228 - val_false_positive_rate: 0.1156\n",
      "Epoch 34/50\n",
      "416/416 [==============================] - 2s 6ms/step - loss: 0.4523 - accuracy: 0.7939 - recall_6: 0.6194 - false_positive_rate: 0.1058 - val_loss: 0.4559 - val_accuracy: 0.7806 - val_recall_6: 0.6232 - val_false_positive_rate: 0.1166\n",
      "Epoch 35/50\n",
      "416/416 [==============================] - 2s 6ms/step - loss: 0.4523 - accuracy: 0.7939 - recall_6: 0.6201 - false_positive_rate: 0.1062 - val_loss: 0.4564 - val_accuracy: 0.7802 - val_recall_6: 0.6191 - val_false_positive_rate: 0.1145\n",
      "Epoch 36/50\n",
      "416/416 [==============================] - 2s 6ms/step - loss: 0.4523 - accuracy: 0.7938 - recall_6: 0.6196 - false_positive_rate: 0.1060 - val_loss: 0.4561 - val_accuracy: 0.7802 - val_recall_6: 0.6215 - val_false_positive_rate: 0.1161\n",
      "Epoch 37/50\n",
      "416/416 [==============================] - 3s 6ms/step - loss: 0.4522 - accuracy: 0.7937 - recall_6: 0.6183 - false_positive_rate: 0.1054 - val_loss: 0.4555 - val_accuracy: 0.7808 - val_recall_6: 0.6261 - val_false_positive_rate: 0.1181\n",
      "Epoch 38/50\n",
      "416/416 [==============================] - 2s 6ms/step - loss: 0.4523 - accuracy: 0.7939 - recall_6: 0.6203 - false_positive_rate: 0.1064 - val_loss: 0.4560 - val_accuracy: 0.7804 - val_recall_6: 0.6219 - val_false_positive_rate: 0.1160\n",
      "Epoch 39/50\n",
      "416/416 [==============================] - 2s 6ms/step - loss: 0.4522 - accuracy: 0.7938 - recall_6: 0.6198 - false_positive_rate: 0.1061 - val_loss: 0.4563 - val_accuracy: 0.7801 - val_recall_6: 0.6195 - val_false_positive_rate: 0.1150\n",
      "Epoch 40/50\n",
      "416/416 [==============================] - 2s 6ms/step - loss: 0.4522 - accuracy: 0.7940 - recall_6: 0.6196 - false_positive_rate: 0.1058 - val_loss: 0.4558 - val_accuracy: 0.7805 - val_recall_6: 0.6230 - val_false_positive_rate: 0.1165\n",
      "Epoch 41/50\n",
      "416/416 [==============================] - 2s 6ms/step - loss: 0.4522 - accuracy: 0.7939 - recall_6: 0.6201 - false_positive_rate: 0.1063 - val_loss: 0.4564 - val_accuracy: 0.7802 - val_recall_6: 0.6168 - val_false_positive_rate: 0.1130\n",
      "Epoch 42/50\n",
      "416/416 [==============================] - 2s 6ms/step - loss: 0.4522 - accuracy: 0.7940 - recall_6: 0.6195 - false_positive_rate: 0.1057 - val_loss: 0.4563 - val_accuracy: 0.7800 - val_recall_6: 0.6192 - val_false_positive_rate: 0.1148\n",
      "Epoch 43/50\n",
      "416/416 [==============================] - 2s 6ms/step - loss: 0.4522 - accuracy: 0.7939 - recall_6: 0.6196 - false_positive_rate: 0.1059 - val_loss: 0.4570 - val_accuracy: 0.7795 - val_recall_6: 0.6129 - val_false_positive_rate: 0.1116\n",
      "Epoch 44/50\n",
      "416/416 [==============================] - 2s 6ms/step - loss: 0.4522 - accuracy: 0.7938 - recall_6: 0.6180 - false_positive_rate: 0.1051 - val_loss: 0.4560 - val_accuracy: 0.7803 - val_recall_6: 0.6203 - val_false_positive_rate: 0.1151\n",
      "Epoch 45/50\n",
      "416/416 [==============================] - 3s 6ms/step - loss: 0.4521 - accuracy: 0.7937 - recall_6: 0.6195 - false_positive_rate: 0.1062 - val_loss: 0.4566 - val_accuracy: 0.7798 - val_recall_6: 0.6144 - val_false_positive_rate: 0.1121\n",
      "Epoch 46/50\n",
      "416/416 [==============================] - 2s 6ms/step - loss: 0.4521 - accuracy: 0.7938 - recall_6: 0.6187 - false_positive_rate: 0.1056 - val_loss: 0.4564 - val_accuracy: 0.7801 - val_recall_6: 0.6175 - val_false_positive_rate: 0.1137\n",
      "Epoch 47/50\n",
      "416/416 [==============================] - 2s 6ms/step - loss: 0.4521 - accuracy: 0.7939 - recall_6: 0.6190 - false_positive_rate: 0.1055 - val_loss: 0.4562 - val_accuracy: 0.7805 - val_recall_6: 0.6193 - val_false_positive_rate: 0.1142\n",
      "Epoch 48/50\n",
      "416/416 [==============================] - 2s 6ms/step - loss: 0.4521 - accuracy: 0.7937 - recall_6: 0.6194 - false_positive_rate: 0.1060 - val_loss: 0.4565 - val_accuracy: 0.7801 - val_recall_6: 0.6152 - val_false_positive_rate: 0.1121\n",
      "Epoch 49/50\n",
      "416/416 [==============================] - 3s 6ms/step - loss: 0.4521 - accuracy: 0.7939 - recall_6: 0.6178 - false_positive_rate: 0.1049 - val_loss: 0.4554 - val_accuracy: 0.7810 - val_recall_6: 0.6256 - val_false_positive_rate: 0.1174\n",
      "Epoch 50/50\n",
      "416/416 [==============================] - 2s 6ms/step - loss: 0.4521 - accuracy: 0.7940 - recall_6: 0.6199 - false_positive_rate: 0.1059 - val_loss: 0.4557 - val_accuracy: 0.7804 - val_recall_6: 0.6216 - val_false_positive_rate: 0.1158\n",
      "CPU times: user 3min 41s, sys: 34.9 s, total: 4min 15s\n",
      "Wall time: 2min 4s\n"
     ]
    }
   ],
   "source": [
    "%%time\n",
    "ntrain = scaled_train_in.shape[0]\n",
    "nval   = scaled_val_in.shape[0]\n",
    "history = mlp.fit(x=scaled_train_in[:ntrain],\n",
    "                  y=train_out[:ntrain],\n",
    "                  batch_size=512,\n",
    "                  epochs=50,\n",
    "                  validation_data=(scaled_val_in[:nval], val_out[:nval]),\n",
    "                  verbose=1).history"
   ]
  },
  {
   "cell_type": "code",
   "execution_count": 193,
   "metadata": {},
   "outputs": [
    {
     "data": {
      "image/png": "[encoded data removed]",
      "text/plain": [
       "<Figure size 432x288 with 1 Axes>"
      ]
     },
     "metadata": {
      "needs_background": "light"
     },
     "output_type": "display_data"
    }
   ],
   "source": [
    "plot_loss(history)"
   ]
  },
  {
   "cell_type": "code",
   "execution_count": 194,
   "metadata": {},
   "outputs": [
    {
     "data": {
      "image/png": "[encoded data removed]",
      "text/plain": [
       "<Figure size 432x288 with 2 Axes>"
      ]
     },
     "metadata": {
      "needs_background": "light"
     },
     "output_type": "display_data"
    }
   ],
   "source": [
    "plot_model_recall_fpr(history)"
   ]
  },
  {
   "cell_type": "code",
   "execution_count": 195,
   "metadata": {},
   "outputs": [],
   "source": [
    "# set the probability threshold for binary classification; predict on validation; add binary preds\n",
    "binary_threshold = 0.5\n",
    "preds = mlp.predict(scaled_val_in[:nval]).reshape(scaled_val_in[:nval].shape[0]) # scaled_val_in.mean(axis=(1,2,3)).reshape(199399,1))\n",
    "binary_preds = np.where(preds >= binary_threshold, 1, 0)"
   ]
  },
  {
   "cell_type": "code",
   "execution_count": 196,
   "metadata": {},
   "outputs": [
    {
     "name": "stdout",
     "output_type": "stream",
     "text": [
      "RMSE: 0.386\n",
      "R squared: 0.378\n",
      "Hellenger Distance: 0.687\n",
      "Heidke Skill Score: 0.524\n",
      "Pierce Skill Score: 0.506\n",
      "Brier Score: 0.22\n",
      "Brier Skill Score: 0.081\n",
      "AUC: 0.753\n"
     ]
    }
   ],
   "source": [
    "# Example regressed metrics\n",
    "print('RMSE: {}'.format(np.round(root_mean_squared_error(val_out, preds),3)))\n",
    "print('R squared: {}'.format(np.round(r2_corr(val_out, preds),3)))\n",
    "print('Hellenger Distance: {}'.format(np.round(hellinger_distance(val_out, preds),3)))\n",
    "\n",
    "# Example classified metrics\n",
    "print('Heidke Skill Score: {}'.format(np.round(heidke_skill_score(val_out, binary_preds),3)))\n",
    "print('Pierce Skill Score: {}'.format(np.round(peirce_skill_score(val_out, binary_preds),3)))\n",
    "print('Brier Score: {}'.format(np.round(brier_score(val_out, binary_preds),3)))\n",
    "print('Brier Skill Score: {}'.format(np.round(brier_skill_score(val_out, binary_preds),3)))\n",
    "print('AUC: {}'.format(np.round(roc_auc_score(val_out, binary_preds),3)))"
   ]
  },
  {
   "cell_type": "markdown",
   "metadata": {},
   "source": [
    "... ah well ..."
   ]
  },
  {
   "cell_type": "markdown",
   "metadata": {},
   "source": [
    "### Dense NN using lower-resolution patches"
   ]
  },
  {
   "cell_type": "code",
   "execution_count": 42,
   "metadata": {},
   "outputs": [],
   "source": [
    "def rebin(arr, new_shape):\n",
    "    shape = (new_shape[0], arr.shape[0] // new_shape[0],\n",
    "             new_shape[1], arr.shape[1] // new_shape[1])\n",
    "    return arr.reshape(shape).mean(-1).mean(1)"
   ]
  },
  {
   "cell_type": "code",
   "execution_count": 43,
   "metadata": {},
   "outputs": [
    {
     "name": "stdout",
     "output_type": "stream",
     "text": [
      "CPU times: user 21.3 s, sys: 495 ms, total: 21.8 s\n",
      "Wall time: 21.1 s\n"
     ]
    }
   ],
   "source": [
    "%%time\n",
    "lowres_patch = 4\n",
    "lowres_train_in = np.zeros((train_in.shape[0],lowres_patch,lowres_patch,nchannels))\n",
    "for i in range(train_in.shape[0]):\n",
    "    for k in range(nchannels):\n",
    "        lowres_train_in[i,:,:,k] = rebin(train_in[i,:,:,k], (lowres_patch, lowres_patch))"
   ]
  },
  {
   "cell_type": "code",
   "execution_count": 44,
   "metadata": {},
   "outputs": [
    {
     "name": "stdout",
     "output_type": "stream",
     "text": [
      "CPU times: user 20.1 s, sys: 431 ms, total: 20.5 s\n",
      "Wall time: 19.7 s\n"
     ]
    }
   ],
   "source": [
    "%%time\n",
    "lowres_val_in = np.zeros((val_in.shape[0],lowres_patch,lowres_patch,nchannels))\n",
    "for i in range(val_in.shape[0]):\n",
    "    for k in range(nchannels):\n",
    "        lowres_val_in[i,:,:,k] = rebin(val_in[i,:,:,k], (lowres_patch, lowres_patch))"
   ]
  },
  {
   "cell_type": "code",
   "execution_count": 45,
   "metadata": {},
   "outputs": [
    {
     "name": "stdout",
     "output_type": "stream",
     "text": [
      "CPU times: user 531 ms, sys: 157 ms, total: 688 ms\n",
      "Wall time: 682 ms\n"
     ]
    }
   ],
   "source": [
    "%%time\n",
    "# use standard scaler, since this gave better results yesterday\n",
    "scaler = StandardScaler()\n",
    "scaled_train_in = scaler.fit_transform(lowres_train_in.reshape(lowres_train_in.shape[0],lowres_patch*lowres_patch*nchannels))#.reshape(lowres_train_in.shape[0],lowres_patch,lowres_patch,nchannels)\n",
    "scaled_val_in = scaler.fit_transform(lowres_val_in.reshape(lowres_val_in.shape[0],lowres_patch*lowres_patch*nchannels))#.reshape(lowres_val_in.shape[0],lowres_patch,lowres_patch,nchannels)"
   ]
  },
  {
   "cell_type": "code",
   "execution_count": 46,
   "metadata": {},
   "outputs": [
    {
     "data": {
      "text/plain": [
       "(212604, 64)"
      ]
     },
     "execution_count": 46,
     "metadata": {},
     "output_type": "execute_result"
    }
   ],
   "source": [
    "scaled_train_in.shape"
   ]
  },
  {
   "cell_type": "code",
   "execution_count": 47,
   "metadata": {},
   "outputs": [
    {
     "name": "stdout",
     "output_type": "stream",
     "text": [
      "Model: \"sequential_1\"\n",
      "_________________________________________________________________\n",
      "Layer (type)                 Output Shape              Param #   \n",
      "=================================================================\n",
      "dense_5 (Dense)              (None, 32)                2080      \n",
      "_________________________________________________________________\n",
      "dense_6 (Dense)              (None, 16)                528       \n",
      "_________________________________________________________________\n",
      "dense_7 (Dense)              (None, 8)                 136       \n",
      "_________________________________________________________________\n",
      "dense_8 (Dense)              (None, 4)                 36        \n",
      "_________________________________________________________________\n",
      "dense_9 (Dense)              (None, 2)                 10        \n",
      "_________________________________________________________________\n",
      "dense_10 (Dense)             (None, 1)                 3         \n",
      "=================================================================\n",
      "Total params: 2,793\n",
      "Trainable params: 2,793\n",
      "Non-trainable params: 0\n",
      "_________________________________________________________________\n"
     ]
    }
   ],
   "source": [
    "mlp = Sequential()\n",
    "mlp.add(Input(shape=scaled_train_in.shape[1:]))\n",
    "mlp.add(Dense(32, activation='relu'))\n",
    "mlp.add(Dense(16, activation='relu'))\n",
    "mlp.add(Dense(8, activation='relu'))\n",
    "mlp.add(Dense(4, activation='relu'))\n",
    "mlp.add(Dense(2, activation='relu'))\n",
    "mlp.add(Dense(1, activation='sigmoid'))\n",
    "mlp.summary()"
   ]
  },
  {
   "cell_type": "code",
   "execution_count": 48,
   "metadata": {},
   "outputs": [],
   "source": [
    "mlp.compile(optimizer='adam',\n",
    "            loss='binary_crossentropy',\n",
    "            metrics=['accuracy', tf.keras.metrics.Recall(), FalsePositiveRate()]\n",
    "           )"
   ]
  },
  {
   "cell_type": "code",
   "execution_count": 49,
   "metadata": {},
   "outputs": [
    {
     "name": "stdout",
     "output_type": "stream",
     "text": [
      "Epoch 1/50\n",
      "416/416 [==============================] - 3s 8ms/step - loss: 0.3916 - accuracy: 0.8274 - recall_1: 0.6894 - false_positive_rate: 0.0933 - val_loss: 0.3533 - val_accuracy: 0.8452 - val_recall_1: 0.7798 - val_false_positive_rate: 0.1120\n",
      "Epoch 2/50\n",
      "416/416 [==============================] - 3s 7ms/step - loss: 0.3237 - accuracy: 0.8659 - recall_1: 0.7999 - false_positive_rate: 0.0961 - val_loss: 0.3413 - val_accuracy: 0.8552 - val_recall_1: 0.7809 - val_false_positive_rate: 0.0962\n",
      "Epoch 3/50\n",
      "416/416 [==============================] - 3s 7ms/step - loss: 0.3132 - accuracy: 0.8712 - recall_1: 0.8131 - false_positive_rate: 0.0953 - val_loss: 0.3388 - val_accuracy: 0.8582 - val_recall_1: 0.8006 - val_false_positive_rate: 0.1042\n",
      "Epoch 4/50\n",
      "416/416 [==============================] - 3s 7ms/step - loss: 0.3060 - accuracy: 0.8742 - recall_1: 0.8171 - false_positive_rate: 0.0929 - val_loss: 0.3360 - val_accuracy: 0.8589 - val_recall_1: 0.7746 - val_false_positive_rate: 0.0860\n",
      "Epoch 5/50\n",
      "416/416 [==============================] - 3s 7ms/step - loss: 0.3024 - accuracy: 0.8758 - recall_1: 0.8182 - false_positive_rate: 0.0911 - val_loss: 0.3263 - val_accuracy: 0.8620 - val_recall_1: 0.8010 - val_false_positive_rate: 0.0982\n",
      "Epoch 6/50\n",
      "416/416 [==============================] - 3s 7ms/step - loss: 0.2987 - accuracy: 0.8777 - recall_1: 0.8216 - false_positive_rate: 0.0901 - val_loss: 0.3282 - val_accuracy: 0.8630 - val_recall_1: 0.7990 - val_false_positive_rate: 0.0952\n",
      "Epoch 7/50\n",
      "416/416 [==============================] - 3s 7ms/step - loss: 0.2955 - accuracy: 0.8790 - recall_1: 0.8235 - false_positive_rate: 0.0890 - val_loss: 0.3408 - val_accuracy: 0.8581 - val_recall_1: 0.7520 - val_false_positive_rate: 0.0726\n",
      "Epoch 8/50\n",
      "416/416 [==============================] - 3s 7ms/step - loss: 0.2937 - accuracy: 0.8798 - recall_1: 0.8242 - false_positive_rate: 0.0882 - val_loss: 0.3253 - val_accuracy: 0.8637 - val_recall_1: 0.7922 - val_false_positive_rate: 0.0896\n",
      "Epoch 9/50\n",
      "416/416 [==============================] - 3s 7ms/step - loss: 0.2915 - accuracy: 0.8811 - recall_1: 0.8268 - false_positive_rate: 0.0877 - val_loss: 0.3221 - val_accuracy: 0.8642 - val_recall_1: 0.7910 - val_false_positive_rate: 0.0881\n",
      "Epoch 10/50\n",
      "416/416 [==============================] - 3s 7ms/step - loss: 0.2901 - accuracy: 0.8817 - recall_1: 0.8279 - false_positive_rate: 0.0874 - val_loss: 0.3241 - val_accuracy: 0.8646 - val_recall_1: 0.8206 - val_false_positive_rate: 0.1067\n",
      "Epoch 11/50\n",
      "416/416 [==============================] - 3s 7ms/step - loss: 0.2883 - accuracy: 0.8823 - recall_1: 0.8288 - false_positive_rate: 0.0870 - val_loss: 0.3237 - val_accuracy: 0.8635 - val_recall_1: 0.7903 - val_false_positive_rate: 0.0886\n",
      "Epoch 12/50\n",
      "416/416 [==============================] - 3s 7ms/step - loss: 0.2869 - accuracy: 0.8828 - recall_1: 0.8294 - false_positive_rate: 0.0865 - val_loss: 0.3215 - val_accuracy: 0.8652 - val_recall_1: 0.7924 - val_false_positive_rate: 0.0872\n",
      "Epoch 13/50\n",
      "416/416 [==============================] - 3s 7ms/step - loss: 0.2856 - accuracy: 0.8841 - recall_1: 0.8313 - false_positive_rate: 0.0856 - val_loss: 0.3156 - val_accuracy: 0.8669 - val_recall_1: 0.8067 - val_false_positive_rate: 0.0937\n",
      "Epoch 14/50\n",
      "416/416 [==============================] - 3s 7ms/step - loss: 0.2842 - accuracy: 0.8844 - recall_1: 0.8318 - false_positive_rate: 0.0853 - val_loss: 0.3277 - val_accuracy: 0.8633 - val_recall_1: 0.7932 - val_false_positive_rate: 0.0909\n",
      "Epoch 15/50\n",
      "416/416 [==============================] - 3s 7ms/step - loss: 0.2831 - accuracy: 0.8848 - recall_1: 0.8340 - false_positive_rate: 0.0859 - val_loss: 0.3226 - val_accuracy: 0.8650 - val_recall_1: 0.7886 - val_false_positive_rate: 0.0850\n",
      "Epoch 16/50\n",
      "416/416 [==============================] - 3s 7ms/step - loss: 0.2817 - accuracy: 0.8857 - recall_1: 0.8328 - false_positive_rate: 0.0839 - val_loss: 0.3129 - val_accuracy: 0.8681 - val_recall_1: 0.8242 - val_false_positive_rate: 0.1032\n",
      "Epoch 17/50\n",
      "416/416 [==============================] - 3s 7ms/step - loss: 0.2808 - accuracy: 0.8857 - recall_1: 0.8343 - false_positive_rate: 0.0848 - val_loss: 0.3191 - val_accuracy: 0.8658 - val_recall_1: 0.7854 - val_false_positive_rate: 0.0817\n",
      "Epoch 18/50\n",
      "416/416 [==============================] - 3s 7ms/step - loss: 0.2798 - accuracy: 0.8867 - recall_1: 0.8347 - false_positive_rate: 0.0834 - val_loss: 0.3240 - val_accuracy: 0.8633 - val_recall_1: 0.7751 - val_false_positive_rate: 0.0791\n",
      "Epoch 19/50\n",
      "416/416 [==============================] - 3s 7ms/step - loss: 0.2795 - accuracy: 0.8865 - recall_1: 0.8363 - false_positive_rate: 0.0847 - val_loss: 0.3203 - val_accuracy: 0.8666 - val_recall_1: 0.7839 - val_false_positive_rate: 0.0795\n",
      "Epoch 20/50\n",
      "416/416 [==============================] - 3s 7ms/step - loss: 0.2785 - accuracy: 0.8871 - recall_1: 0.8355 - false_positive_rate: 0.0833 - val_loss: 0.3134 - val_accuracy: 0.8675 - val_recall_1: 0.7987 - val_false_positive_rate: 0.0876\n",
      "Epoch 21/50\n",
      "416/416 [==============================] - 3s 7ms/step - loss: 0.2771 - accuracy: 0.8876 - recall_1: 0.8369 - false_positive_rate: 0.0833 - val_loss: 0.3184 - val_accuracy: 0.8665 - val_recall_1: 0.8035 - val_false_positive_rate: 0.0923\n",
      "Epoch 22/50\n",
      "416/416 [==============================] - 3s 7ms/step - loss: 0.2769 - accuracy: 0.8875 - recall_1: 0.8364 - false_positive_rate: 0.0832 - val_loss: 0.3186 - val_accuracy: 0.8658 - val_recall_1: 0.8263 - val_false_positive_rate: 0.1084\n",
      "Epoch 23/50\n",
      "416/416 [==============================] - 3s 7ms/step - loss: 0.2760 - accuracy: 0.8876 - recall_1: 0.8376 - false_positive_rate: 0.0836 - val_loss: 0.3271 - val_accuracy: 0.8638 - val_recall_1: 0.7687 - val_false_positive_rate: 0.0741\n",
      "Epoch 24/50\n",
      "416/416 [==============================] - 3s 7ms/step - loss: 0.2758 - accuracy: 0.8881 - recall_1: 0.8385 - false_positive_rate: 0.0833 - val_loss: 0.3290 - val_accuracy: 0.8632 - val_recall_1: 0.7901 - val_false_positive_rate: 0.0889\n",
      "Epoch 25/50\n",
      "416/416 [==============================] - 3s 7ms/step - loss: 0.2755 - accuracy: 0.8879 - recall_1: 0.8374 - false_positive_rate: 0.0830 - val_loss: 0.3122 - val_accuracy: 0.8683 - val_recall_1: 0.8051 - val_false_positive_rate: 0.0904\n",
      "Epoch 26/50\n",
      "416/416 [==============================] - 3s 7ms/step - loss: 0.2742 - accuracy: 0.8878 - recall_1: 0.8384 - false_positive_rate: 0.0838 - val_loss: 0.3089 - val_accuracy: 0.8697 - val_recall_1: 0.8140 - val_false_positive_rate: 0.0939\n",
      "Epoch 27/50\n",
      "416/416 [==============================] - 3s 7ms/step - loss: 0.2750 - accuracy: 0.8878 - recall_1: 0.8385 - false_positive_rate: 0.0838 - val_loss: 0.3111 - val_accuracy: 0.8687 - val_recall_1: 0.8239 - val_false_positive_rate: 0.1020\n",
      "Epoch 28/50\n",
      "416/416 [==============================] - 3s 7ms/step - loss: 0.2742 - accuracy: 0.8882 - recall_1: 0.8393 - false_positive_rate: 0.0836 - val_loss: 0.3191 - val_accuracy: 0.8681 - val_recall_1: 0.7988 - val_false_positive_rate: 0.0866\n",
      "Epoch 29/50\n",
      "416/416 [==============================] - 3s 7ms/step - loss: 0.2736 - accuracy: 0.8887 - recall_1: 0.8386 - false_positive_rate: 0.0825 - val_loss: 0.3205 - val_accuracy: 0.8651 - val_recall_1: 0.7840 - val_false_positive_rate: 0.0819\n",
      "Epoch 30/50\n",
      "416/416 [==============================] - 3s 7ms/step - loss: 0.2732 - accuracy: 0.8887 - recall_1: 0.8390 - false_positive_rate: 0.0827 - val_loss: 0.3146 - val_accuracy: 0.8690 - val_recall_1: 0.8084 - val_false_positive_rate: 0.0914\n",
      "Epoch 31/50\n",
      "416/416 [==============================] - 3s 7ms/step - loss: 0.2727 - accuracy: 0.8891 - recall_1: 0.8409 - false_positive_rate: 0.0831 - val_loss: 0.3145 - val_accuracy: 0.8682 - val_recall_1: 0.7936 - val_false_positive_rate: 0.0830\n",
      "Epoch 32/50\n",
      "416/416 [==============================] - 3s 7ms/step - loss: 0.2719 - accuracy: 0.8886 - recall_1: 0.8393 - false_positive_rate: 0.0831 - val_loss: 0.3133 - val_accuracy: 0.8683 - val_recall_1: 0.7942 - val_false_positive_rate: 0.0833\n",
      "Epoch 33/50\n",
      "416/416 [==============================] - 3s 7ms/step - loss: 0.2717 - accuracy: 0.8888 - recall_1: 0.8393 - false_positive_rate: 0.0827 - val_loss: 0.3174 - val_accuracy: 0.8687 - val_recall_1: 0.7907 - val_false_positive_rate: 0.0803\n",
      "Epoch 34/50\n",
      "416/416 [==============================] - 3s 7ms/step - loss: 0.2719 - accuracy: 0.8894 - recall_1: 0.8416 - false_positive_rate: 0.0831 - val_loss: 0.3131 - val_accuracy: 0.8688 - val_recall_1: 0.7968 - val_false_positive_rate: 0.0842\n",
      "Epoch 35/50\n",
      "416/416 [==============================] - 3s 7ms/step - loss: 0.2715 - accuracy: 0.8894 - recall_1: 0.8405 - false_positive_rate: 0.0825 - val_loss: 0.3107 - val_accuracy: 0.8699 - val_recall_1: 0.8033 - val_false_positive_rate: 0.0865\n",
      "Epoch 36/50\n",
      "416/416 [==============================] - 3s 7ms/step - loss: 0.2711 - accuracy: 0.8892 - recall_1: 0.8405 - false_positive_rate: 0.0829 - val_loss: 0.3142 - val_accuracy: 0.8688 - val_recall_1: 0.7978 - val_false_positive_rate: 0.0848\n",
      "Epoch 37/50\n",
      "416/416 [==============================] - 3s 7ms/step - loss: 0.2712 - accuracy: 0.8895 - recall_1: 0.8404 - false_positive_rate: 0.0824 - val_loss: 0.3238 - val_accuracy: 0.8629 - val_recall_1: 0.7798 - val_false_positive_rate: 0.0828\n",
      "Epoch 38/50\n",
      "416/416 [==============================] - 3s 7ms/step - loss: 0.2698 - accuracy: 0.8904 - recall_1: 0.8423 - false_positive_rate: 0.0820 - val_loss: 0.3158 - val_accuracy: 0.8678 - val_recall_1: 0.7869 - val_false_positive_rate: 0.0793\n",
      "Epoch 39/50\n",
      "416/416 [==============================] - 3s 7ms/step - loss: 0.2697 - accuracy: 0.8901 - recall_1: 0.8421 - false_positive_rate: 0.0823 - val_loss: 0.3258 - val_accuracy: 0.8622 - val_recall_1: 0.7619 - val_false_positive_rate: 0.0723\n",
      "Epoch 40/50\n",
      "416/416 [==============================] - 3s 7ms/step - loss: 0.2703 - accuracy: 0.8894 - recall_1: 0.8409 - false_positive_rate: 0.0827 - val_loss: 0.3093 - val_accuracy: 0.8706 - val_recall_1: 0.8096 - val_false_positive_rate: 0.0896\n",
      "Epoch 41/50\n",
      "416/416 [==============================] - 3s 7ms/step - loss: 0.2698 - accuracy: 0.8896 - recall_1: 0.8415 - false_positive_rate: 0.0828 - val_loss: 0.3464 - val_accuracy: 0.8609 - val_recall_1: 0.7729 - val_false_positive_rate: 0.0816\n",
      "Epoch 42/50\n",
      "416/416 [==============================] - 3s 7ms/step - loss: 0.2694 - accuracy: 0.8900 - recall_1: 0.8415 - false_positive_rate: 0.0822 - val_loss: 0.3161 - val_accuracy: 0.8678 - val_recall_1: 0.7891 - val_false_positive_rate: 0.0807\n",
      "Epoch 43/50\n",
      "416/416 [==============================] - 3s 7ms/step - loss: 0.2690 - accuracy: 0.8900 - recall_1: 0.8413 - false_positive_rate: 0.0819 - val_loss: 0.3116 - val_accuracy: 0.8699 - val_recall_1: 0.8010 - val_false_positive_rate: 0.0851\n",
      "Epoch 44/50\n",
      "416/416 [==============================] - 3s 7ms/step - loss: 0.2687 - accuracy: 0.8901 - recall_1: 0.8419 - false_positive_rate: 0.0822 - val_loss: 0.3327 - val_accuracy: 0.8605 - val_recall_1: 0.7693 - val_false_positive_rate: 0.0800\n",
      "Epoch 45/50\n",
      "416/416 [==============================] - 3s 7ms/step - loss: 0.2680 - accuracy: 0.8901 - recall_1: 0.8428 - false_positive_rate: 0.0827 - val_loss: 0.3135 - val_accuracy: 0.8686 - val_recall_1: 0.8059 - val_false_positive_rate: 0.0905\n",
      "Epoch 46/50\n",
      "416/416 [==============================] - 3s 7ms/step - loss: 0.2682 - accuracy: 0.8905 - recall_1: 0.8428 - false_positive_rate: 0.0820 - val_loss: 0.3209 - val_accuracy: 0.8649 - val_recall_1: 0.7708 - val_false_positive_rate: 0.0736\n",
      "Epoch 47/50\n",
      "416/416 [==============================] - 3s 7ms/step - loss: 0.2679 - accuracy: 0.8904 - recall_1: 0.8427 - false_positive_rate: 0.0822 - val_loss: 0.3132 - val_accuracy: 0.8699 - val_recall_1: 0.8037 - val_false_positive_rate: 0.0868\n",
      "Epoch 48/50\n",
      "416/416 [==============================] - 3s 7ms/step - loss: 0.2677 - accuracy: 0.8903 - recall_1: 0.8423 - false_positive_rate: 0.0821 - val_loss: 0.3273 - val_accuracy: 0.8633 - val_recall_1: 0.7722 - val_false_positive_rate: 0.0771\n",
      "Epoch 49/50\n",
      "416/416 [==============================] - 3s 7ms/step - loss: 0.2674 - accuracy: 0.8907 - recall_1: 0.8433 - false_positive_rate: 0.0821 - val_loss: 0.3091 - val_accuracy: 0.8695 - val_recall_1: 0.8148 - val_false_positive_rate: 0.0948\n",
      "Epoch 50/50\n",
      "416/416 [==============================] - 3s 7ms/step - loss: 0.2673 - accuracy: 0.8905 - recall_1: 0.8431 - false_positive_rate: 0.0822 - val_loss: 0.3082 - val_accuracy: 0.8696 - val_recall_1: 0.8154 - val_false_positive_rate: 0.0950\n",
      "CPU times: user 4min 9s, sys: 31.8 s, total: 4min 40s\n",
      "Wall time: 2min 26s\n"
     ]
    }
   ],
   "source": [
    "%%time\n",
    "ntrain = scaled_train_in.shape[0]\n",
    "nval   = scaled_val_in.shape[0]\n",
    "history = mlp.fit(x=scaled_train_in[:ntrain],\n",
    "                  y=train_out[:ntrain],\n",
    "                  batch_size=512,\n",
    "                  epochs=50,\n",
    "                  validation_data=(scaled_val_in[:nval], val_out[:nval]),\n",
    "                  verbose=1).history"
   ]
  },
  {
   "cell_type": "code",
   "execution_count": 50,
   "metadata": {},
   "outputs": [
    {
     "data": {
      "image/png": "[encoded data removed]",
      "text/plain": [
       "<Figure size 432x288 with 1 Axes>"
      ]
     },
     "metadata": {
      "needs_background": "light"
     },
     "output_type": "display_data"
    }
   ],
   "source": [
    "plot_loss(history)"
   ]
  },
  {
   "cell_type": "code",
   "execution_count": 51,
   "metadata": {},
   "outputs": [
    {
     "data": {
      "image/png": "[encoded data removed]",
      "text/plain": [
       "<Figure size 432x288 with 2 Axes>"
      ]
     },
     "metadata": {
      "needs_background": "light"
     },
     "output_type": "display_data"
    }
   ],
   "source": [
    "plot_model_recall_fpr(history)"
   ]
  },
  {
   "cell_type": "code",
   "execution_count": 52,
   "metadata": {},
   "outputs": [],
   "source": [
    "# set the probability threshold for binary classification; predict on validation; add binary preds\n",
    "binary_threshold = 0.5\n",
    "preds = mlp.predict(scaled_val_in[:nval]).reshape(scaled_val_in[:nval].shape[0]) # scaled_val_in.mean(axis=(1,2,3)).reshape(199399,1))\n",
    "binary_preds = np.where(preds >= binary_threshold, 1, 0)"
   ]
  },
  {
   "cell_type": "code",
   "execution_count": 53,
   "metadata": {},
   "outputs": [
    {
     "name": "stdout",
     "output_type": "stream",
     "text": [
      "RMSE: 0.308\n",
      "R squared: 0.603\n",
      "Hellenger Distance: 0.452\n",
      "Heidke Skill Score: 0.725\n",
      "Pierce Skill Score: 0.72\n",
      "Brier Score: 0.13\n",
      "Brier Skill Score: 0.454\n",
      "AUC: 0.86\n"
     ]
    }
   ],
   "source": [
    "# Example regressed metrics\n",
    "print('RMSE: {}'.format(np.round(root_mean_squared_error(val_out, preds),3)))\n",
    "print('R squared: {}'.format(np.round(r2_corr(val_out, preds),3)))\n",
    "print('Hellenger Distance: {}'.format(np.round(hellinger_distance(val_out, preds),3)))\n",
    "\n",
    "# Example classified metrics\n",
    "print('Heidke Skill Score: {}'.format(np.round(heidke_skill_score(val_out, binary_preds),3)))\n",
    "print('Pierce Skill Score: {}'.format(np.round(peirce_skill_score(val_out, binary_preds),3)))\n",
    "print('Brier Score: {}'.format(np.round(brier_score(val_out, binary_preds),3)))\n",
    "print('Brier Skill Score: {}'.format(np.round(brier_skill_score(val_out, binary_preds),3)))\n",
    "print('AUC: {}'.format(np.round(roc_auc_score(val_out, binary_preds),3)))"
   ]
  },
  {
   "cell_type": "markdown",
   "metadata": {},
   "source": [
    "### Wednesday\n",
    "* Calculate three relevant evaluation metrics for each ML solution and baseline\n",
    "* Refine machine learning approaches and test additional hyperparameter settings"
   ]
  },
  {
   "cell_type": "markdown",
   "metadata": {},
   "source": [
    "### Helper functions"
   ]
  },
  {
   "cell_type": "code",
   "execution_count": 9,
   "metadata": {},
   "outputs": [],
   "source": [
    "def plot_loss(model_history):\n",
    "    train_loss=[value for key, value in model_history.items() if 'loss' in key.lower()][0]\n",
    "    valid_loss=[value for key, value in model_history.items() if 'loss' in key.lower()][1]\n",
    "    fig, ax1 = plt.subplots()\n",
    "    color = 'tab:blue'\n",
    "    ax1.set_xlabel('Epoch')\n",
    "    ax1.set_ylabel('Loss', color=color)\n",
    "    ax1.set_ylim([-0.05,1.05])\n",
    "    ax1.plot(train_loss, '--', color=color, label='Train Loss')\n",
    "    ax1.plot(valid_loss, color=color, label='Valid Loss')\n",
    "    ax1.tick_params(axis='y', labelcolor=color)\n",
    "    plt.legend(loc='upper left')\n",
    "    plt.title('Model Loss')\n",
    "    plt.show()\n",
    "    \n",
    "def plot_model_recall_fpr(model_history):\n",
    "    train_recall=[value for key, value in model_history.items() if 'recall' in key.lower()][0]\n",
    "    valid_recall=[value for key, value in model_history.items() if 'recall' in key.lower()][1]\n",
    "    train_fpr=[value for key, value in model_history.items() if 'false_positive_rate' in key.lower()][0]\n",
    "    valid_fpr=[value for key, value in model_history.items() if 'false_positive_rate' in key.lower()][1]\n",
    "    fig, ax1 = plt.subplots()\n",
    "    color = 'tab:red'\n",
    "    ax1.set_xlabel('Epoch')\n",
    "    ax1.set_ylabel('POD', color=color)\n",
    "    ax1.set_ylim([-0.05,1.05])\n",
    "    ax1.plot(train_recall, '--', color=color, label='Train POD')\n",
    "    ax1.plot(valid_recall, color=color, label='Valid POD')\n",
    "    ax1.tick_params(axis='y', labelcolor=color)\n",
    "    plt.legend(loc='upper left')\n",
    "    plt.title('Model Recall (POD) and False Positive Rate (FAR)')\n",
    "    ax2 = ax1.twinx()  # instantiate a second axes that shares the same x-axis\n",
    "    color = 'tab:blue'\n",
    "    ax2.set_ylabel('FAR', color=color)  # we already handled the x-label with ax1\n",
    "    ax2.plot(train_fpr, '--', color=color, label='Train FAR')\n",
    "    ax2.plot(valid_fpr, color=color, label='Valid FAR')\n",
    "    ax2.tick_params(axis='y', labelcolor=color)\n",
    "    ax2.set_ylim([-0.05,1.05])\n",
    "    fig.tight_layout()  # otherwise the right y-label is slightly clipped\n",
    "    plt.legend(loc='upper right')\n",
    "    plt.show()\n",
    "\n",
    "class FalsePositiveRate(tf.keras.metrics.Metric):\n",
    "    def __init__(self, name='false_positive_rate', **kwargs):\n",
    "        super(FalsePositiveRate, self).__init__(name=name, **kwargs)\n",
    "        self.negatives = self.add_weight(name='negatives', initializer='zeros')\n",
    "        self.false_positives = self.add_weight(name='false_negatives', initializer='zeros')\n",
    "        \n",
    "    def update_state(self, y_true, y_pred, sample_weight=None):\n",
    "        '''\n",
    "        Arguments:\n",
    "        y_true  The actual y. Passed by default to Metric classes.\n",
    "        y_pred  The predicted y. Passed by default to Metric classes.\n",
    "        \n",
    "        '''\n",
    "        # Compute the number of negatives.\n",
    "        y_true = tf.cast(y_true, tf.bool)\n",
    "        \n",
    "        negatives = tf.reduce_sum(tf.cast(tf.equal(y_true, False), self.dtype))\n",
    "        \n",
    "        self.negatives.assign_add(negatives)\n",
    "        \n",
    "        # Compute the number of false positives.\n",
    "        y_pred = tf.greater_equal(y_pred, 0.5)  # Using default threshold of 0.5 to call a prediction as positive labeled.\n",
    "        \n",
    "        false_positive_values = tf.logical_and(tf.equal(y_true, False), tf.equal(y_pred, True)) \n",
    "        false_positive_values = tf.cast(false_positive_values, self.dtype)\n",
    "        if sample_weight is not None:\n",
    "            sample_weight = tf.cast(sample_weight, self.dtype)\n",
    "            sample_weight = tf.broadcast_weights(sample_weight, values)\n",
    "            values = tf.multiply(false_positive_values, sample_weight)\n",
    "        \n",
    "        false_positives = tf.reduce_sum(false_positive_values)\n",
    "        \n",
    "        self.false_positives.assign_add(false_positives)\n",
    "        \n",
    "    def result(self):\n",
    "        return tf.divide(self.false_positives, self.negatives)\n"
   ]
  },
  {
   "cell_type": "code",
   "execution_count": 10,
   "metadata": {},
   "outputs": [],
   "source": [
    "# Metric functions\n",
    "from sklearn.metrics import confusion_matrix, mean_squared_error, brier_score_loss, roc_auc_score\n",
    "\n",
    "import numpy as np\n",
    "\n",
    "def calc_pdf_hist(x, x_bins):\n",
    "    return np.histogram(x, x_bins, density=True)[0]\n",
    "\n",
    "def auc_score(y_true, y_pred):\n",
    "    return roc_auc_score(y_true, y_pred)\n",
    "\n",
    "def brier_score(y_true, y_pred):\n",
    "    return brier_score_loss(y_true, y_pred)\n",
    "\n",
    "def brier_skill_score(y_true, y_pred):\n",
    "    \n",
    "    model_brier_score = mean_squared_error(y_true, y_pred)\n",
    "    climo_brier_score = mean_squared_error(y_true, np.ones(y_true.size) * y_true.sum() / y_true.size)\n",
    "    model_brier_skill_score = 1 - model_brier_score / climo_brier_score\n",
    "    return model_brier_skill_score\n",
    "\n",
    "def hellinger(x, pdf_p, pdf_q):\n",
    "    pdf_distances = (np.sqrt(pdf_p) - np.sqrt(pdf_q)) ** 2\n",
    "    return np.trapz(pdf_distances, x) / 2\n",
    "\n",
    "def root_mean_squared_error(y_true, y_pred):\n",
    "    return np.sqrt(mean_squared_error(y_true, y_pred))\n",
    "\n",
    "def hellinger_distance(y_true, y_pred, bins=50):\n",
    "    bin_points = np.linspace(np.minimum(y_true.min(), y_pred.min()),\n",
    "                       np.maximum(y_true.max(), y_pred.max()),\n",
    "                       bins)\n",
    "    bin_centers = 0.5 * (bin_points[:-1] + bin_points[1:])\n",
    "    y_true_pdf = calc_pdf_hist(y_true, bin_points)\n",
    "    y_pred_pdf = calc_pdf_hist(y_pred, bin_points)\n",
    "    return hellinger(bin_centers, y_true_pdf, y_pred_pdf)\n",
    "\n",
    "def peirce_skill_score(y_true, y_pred):\n",
    "    cm = confusion_matrix(y_true, y_pred)\n",
    "    n = float(cm.sum())\n",
    "    nf = cm.sum(axis=0)\n",
    "    no = cm.sum(axis=1)\n",
    "    correct = float(cm.trace())\n",
    "    return (correct / n - (nf * no).sum() / n ** 2) / (1 - (no * no).sum() / n ** 2)\n",
    "\n",
    "def heidke_skill_score(y_true, y_pred):\n",
    "    cm = confusion_matrix(y_true, y_pred)\n",
    "    n = float(cm.sum())\n",
    "    nf = cm.sum(axis=0)\n",
    "    no = cm.sum(axis=1)\n",
    "    correct = float(cm.trace())\n",
    "    return (correct / n - (nf * no).sum() / n ** 2) / (1 - (nf * no).sum() / n ** 2)\n",
    "\n",
    "def r2_corr(y_true, y_pred):\n",
    "    return np.corrcoef(y_true, y_pred)[0, 1] ** 2\n",
    "\n",
    "def perf_measure(y_true, y_pred):\n",
    "    TP = 0\n",
    "    FP = 0\n",
    "    TN = 0\n",
    "    FN = 0\n",
    "    for i in range(len(y_true)): \n",
    "        if y_true[i]==y_pred[i]==1:\n",
    "           TP += 1\n",
    "        if y_pred[i]==1 and y_true[i]!=y_pred[i]:\n",
    "           FP += 1\n",
    "        if y_true[i]==y_pred[i]==0:\n",
    "           TN += 1\n",
    "        if y_pred[i]==0 and y_true[i]!=y_pred[i]:\n",
    "           FN += 1\n",
    "    # Sensitivity, hit rate, recall, or true positive rate, or probability of detection\n",
    "    TPR = TP/(TP+FN)\n",
    "    # Specificity or true negative rate\n",
    "    TNR = TN/(TN+FP) \n",
    "    # Precision or positive predictive value\n",
    "    PPV = TP/(TP+FP)\n",
    "    # Negative predictive value\n",
    "    NPV = TN/(TN+FN)\n",
    "    # Fall out or false positive rate or false alarm ratio\n",
    "    FPR = FP/(FP+TN)\n",
    "    # False negative rate\n",
    "    FNR = FN/(TP+FN)\n",
    "    # False discovery rate\n",
    "    FDR = FP/(TP+FP)\n",
    "    # Overall accuracy\n",
    "    ACC = (TP+TN)/(TP+FP+FN+TN)\n",
    "    return {\n",
    "        'TP'  : TP,\n",
    "        'FP'  : FP,\n",
    "        'TN'  : TN,\n",
    "        'FN'  : FN,\n",
    "        'TPR' : TPR,\n",
    "        'TNR' : TNR,\n",
    "        'PPV' : PPV,\n",
    "        'NPV' : NPV,\n",
    "        'FPR' : FPR,\n",
    "        'FNR' : FNR,\n",
    "        'FDR' : FDR,\n",
    "        'ACC' : ACC,\n",
    "        }"
   ]
  },
  {
   "cell_type": "code",
   "execution_count": 11,
   "metadata": {},
   "outputs": [
    {
     "name": "stdout",
     "output_type": "stream",
     "text": [
      "212604 32 32 4\n"
     ]
    }
   ],
   "source": [
    "nsamples_train = train_in.shape[0]\n",
    "nx = train_in.shape[1]\n",
    "ny = train_in.shape[2]\n",
    "nchannels = train_in.shape[3]\n",
    "print(nsamples_train, nx, ny, nchannels)"
   ]
  },
  {
   "cell_type": "code",
   "execution_count": 12,
   "metadata": {},
   "outputs": [
    {
     "name": "stdout",
     "output_type": "stream",
     "text": [
      "199399 32 32 4\n"
     ]
    }
   ],
   "source": [
    "nsamples_val = val_in.shape[0]\n",
    "#nx = val_in.shape[1]\n",
    "#ny = val_in.shape[2]\n",
    "#nchannels = val_in.shape[3]\n",
    "print(nsamples_val, nx, ny, nchannels)"
   ]
  },
  {
   "cell_type": "markdown",
   "metadata": {},
   "source": [
    "### Combine the dense neural network with a PCA"
   ]
  },
  {
   "cell_type": "code",
   "execution_count": 27,
   "metadata": {},
   "outputs": [],
   "source": [
    "from tensorflow.keras.models import Sequential\n",
    "from tensorflow.keras.layers import Input, Dense, Dropout, AlphaDropout, Conv2D, MaxPooling2D, Flatten\n",
    "from sklearn.preprocessing import StandardScaler\n",
    "from sklearn.decomposition import PCA"
   ]
  },
  {
   "cell_type": "code",
   "execution_count": 28,
   "metadata": {},
   "outputs": [
    {
     "name": "stdout",
     "output_type": "stream",
     "text": [
      "(212604, 4096)\n",
      "CPU times: user 34 s, sys: 6.64 s, total: 40.7 s\n",
      "Wall time: 40.5 s\n"
     ]
    }
   ],
   "source": [
    "%%time\n",
    "scaler = StandardScaler()\n",
    "scaled_train_in = scaler.fit_transform(train_in.reshape(nsamples_train,nx*ny*nchannels))#.reshape(lowres_train_in.shape[0],lowres_patch,lowres_patch,nchannels)\n",
    "scaled_val_in = scaler.fit_transform(val_in.reshape(nsamples_val,nx*ny*nchannels))#.reshape(lowres_val_in.shape[0],lowres_patch,lowres_patch,nchannels)\n",
    "print(scaled_train_in.shape)"
   ]
  },
  {
   "cell_type": "code",
   "execution_count": 29,
   "metadata": {},
   "outputs": [],
   "source": [
    "# Data dimension reduction.\n",
    "pca = PCA(n_components=32)"
   ]
  },
  {
   "cell_type": "code",
   "execution_count": 30,
   "metadata": {},
   "outputs": [
    {
     "name": "stdout",
     "output_type": "stream",
     "text": [
      "CPU times: user 1min 24s, sys: 1.66 s, total: 1min 25s\n",
      "Wall time: 27.7 s\n"
     ]
    }
   ],
   "source": [
    "%%time\n",
    "pca_train_in = pca.fit_transform(X=scaled_train_in)\n",
    "pca_val_in = pca.transform(X=scaled_val_in)"
   ]
  },
  {
   "cell_type": "code",
   "execution_count": 31,
   "metadata": {},
   "outputs": [
    {
     "name": "stdout",
     "output_type": "stream",
     "text": [
      "(212604, 32)\n",
      "(212604,)\n",
      "(199399, 32)\n",
      "(199399,)\n"
     ]
    },
    {
     "data": {
      "image/png": "[encoded data removed]",
      "text/plain": [
       "<Figure size 432x288 with 1 Axes>"
      ]
     },
     "metadata": {
      "needs_background": "light"
     },
     "output_type": "display_data"
    }
   ],
   "source": [
    "# Cumulative explained variance ratio.\n",
    "plt.plot(np.cumsum(pca.explained_variance_ratio_*100), \".-b\")\n",
    "print(pca_train_in.shape)\n",
    "print(train_out.shape)\n",
    "print(pca_val_in.shape)\n",
    "print(val_out.shape)"
   ]
  },
  {
   "cell_type": "code",
   "execution_count": 32,
   "metadata": {},
   "outputs": [
    {
     "name": "stdout",
     "output_type": "stream",
     "text": [
      "Model: \"sequential_2\"\n",
      "_________________________________________________________________\n",
      "Layer (type)                 Output Shape              Param #   \n",
      "=================================================================\n",
      "dense_5 (Dense)              (None, 16)                528       \n",
      "_________________________________________________________________\n",
      "dense_6 (Dense)              (None, 8)                 136       \n",
      "_________________________________________________________________\n",
      "dense_7 (Dense)              (None, 4)                 36        \n",
      "_________________________________________________________________\n",
      "dense_8 (Dense)              (None, 2)                 10        \n",
      "_________________________________________________________________\n",
      "dense_9 (Dense)              (None, 1)                 3         \n",
      "=================================================================\n",
      "Total params: 713\n",
      "Trainable params: 713\n",
      "Non-trainable params: 0\n",
      "_________________________________________________________________\n"
     ]
    }
   ],
   "source": [
    "do_selu = False\n",
    "if do_selu:\n",
    "    mlp = Sequential()\n",
    "    mlp.add(Input(shape=pca_train_in.shape[1:]))\n",
    "    mlp.add(Dense(16, kernel_initializer='lecun_normal', activation='selu'))\n",
    "    mlp.add(Dense(8, kernel_initializer='lecun_normal', activation='selu'))\n",
    "    mlp.add(AlphaDropout(0.1))\n",
    "    mlp.add(Dense(4, kernel_initializer='lecun_normal', activation='selu'))\n",
    "    mlp.add(Dense(2, kernel_initializer='lecun_normal', activation='selu'))\n",
    "    mlp.add(Dense(1, activation='sigmoid'))\n",
    "    mlp.summary()\n",
    "else:\n",
    "    mlp = Sequential()\n",
    "    mlp.add(Input(shape=pca_train_in.shape[1:]))\n",
    "    mlp.add(Dense(16, activation='relu'))\n",
    "    mlp.add(Dense(8, activation='relu'))\n",
    "    mlp.add(Dense(4, activation='relu'))\n",
    "    mlp.add(Dense(2, activation='relu'))\n",
    "    mlp.add(Dense(1, activation='sigmoid'))\n",
    "    mlp.summary()"
   ]
  },
  {
   "cell_type": "code",
   "execution_count": 33,
   "metadata": {},
   "outputs": [],
   "source": [
    "mlp.compile(optimizer='adam',\n",
    "            loss='binary_crossentropy',\n",
    "            metrics=['accuracy', tf.keras.metrics.Recall(), FalsePositiveRate()]\n",
    "           )"
   ]
  },
  {
   "cell_type": "code",
   "execution_count": 34,
   "metadata": {},
   "outputs": [
    {
     "name": "stdout",
     "output_type": "stream",
     "text": [
      "Epoch 1/50\n",
      "416/416 [==============================] - 3s 7ms/step - loss: 0.5507 - accuracy: 0.6897 - recall_1: 0.2908 - false_positive_rate: 0.0825 - val_loss: 0.4077 - val_accuracy: 0.7764 - val_recall_1: 0.5794 - val_false_positive_rate: 0.0949\n",
      "Epoch 2/50\n",
      "416/416 [==============================] - 3s 7ms/step - loss: 0.3714 - accuracy: 0.8257 - recall_1: 0.6702 - false_positive_rate: 0.0849 - val_loss: 0.3679 - val_accuracy: 0.8277 - val_recall_1: 0.7077 - val_false_positive_rate: 0.0939\n",
      "Epoch 3/50\n",
      "416/416 [==============================] - 3s 7ms/step - loss: 0.3414 - accuracy: 0.8489 - recall_1: 0.7420 - false_positive_rate: 0.0896 - val_loss: 0.3528 - val_accuracy: 0.8412 - val_recall_1: 0.7575 - val_false_positive_rate: 0.1042\n",
      "Epoch 4/50\n",
      "416/416 [==============================] - 3s 7ms/step - loss: 0.3303 - accuracy: 0.8567 - recall_1: 0.7638 - false_positive_rate: 0.0898 - val_loss: 0.3462 - val_accuracy: 0.8472 - val_recall_1: 0.7746 - val_false_positive_rate: 0.1054\n",
      "Epoch 5/50\n",
      "416/416 [==============================] - 3s 7ms/step - loss: 0.3225 - accuracy: 0.8635 - recall_1: 0.7813 - false_positive_rate: 0.0892 - val_loss: 0.3401 - val_accuracy: 0.8531 - val_recall_1: 0.7938 - val_false_positive_rate: 0.1081\n",
      "Epoch 6/50\n",
      "416/416 [==============================] - 3s 7ms/step - loss: 0.3158 - accuracy: 0.8687 - recall_1: 0.7975 - false_positive_rate: 0.0903 - val_loss: 0.3380 - val_accuracy: 0.8550 - val_recall_1: 0.7920 - val_false_positive_rate: 0.1038\n",
      "Epoch 7/50\n",
      "416/416 [==============================] - 3s 7ms/step - loss: 0.3114 - accuracy: 0.8711 - recall_1: 0.8031 - false_positive_rate: 0.0898 - val_loss: 0.3352 - val_accuracy: 0.8561 - val_recall_1: 0.7915 - val_false_positive_rate: 0.1016\n",
      "Epoch 8/50\n",
      "416/416 [==============================] - 3s 7ms/step - loss: 0.3083 - accuracy: 0.8730 - recall_1: 0.8068 - false_positive_rate: 0.0890 - val_loss: 0.3345 - val_accuracy: 0.8576 - val_recall_1: 0.7922 - val_false_positive_rate: 0.0996\n",
      "Epoch 9/50\n",
      "416/416 [==============================] - 3s 7ms/step - loss: 0.3059 - accuracy: 0.8741 - recall_1: 0.8101 - false_positive_rate: 0.0891 - val_loss: 0.3327 - val_accuracy: 0.8581 - val_recall_1: 0.7920 - val_false_positive_rate: 0.0987\n",
      "Epoch 10/50\n",
      "416/416 [==============================] - 3s 7ms/step - loss: 0.3042 - accuracy: 0.8747 - recall_1: 0.8118 - false_positive_rate: 0.0892 - val_loss: 0.3320 - val_accuracy: 0.8586 - val_recall_1: 0.8039 - val_false_positive_rate: 0.1056\n",
      "Epoch 11/50\n",
      "416/416 [==============================] - 3s 7ms/step - loss: 0.3024 - accuracy: 0.8757 - recall_1: 0.8134 - false_positive_rate: 0.0885 - val_loss: 0.3322 - val_accuracy: 0.8587 - val_recall_1: 0.7835 - val_false_positive_rate: 0.0921\n",
      "Epoch 12/50\n",
      "416/416 [==============================] - 3s 7ms/step - loss: 0.3009 - accuracy: 0.8763 - recall_1: 0.8145 - false_positive_rate: 0.0882 - val_loss: 0.3304 - val_accuracy: 0.8601 - val_recall_1: 0.7881 - val_false_positive_rate: 0.0929\n",
      "Epoch 13/50\n",
      "416/416 [==============================] - 3s 7ms/step - loss: 0.2994 - accuracy: 0.8771 - recall_1: 0.8151 - false_positive_rate: 0.0873 - val_loss: 0.3294 - val_accuracy: 0.8609 - val_recall_1: 0.7911 - val_false_positive_rate: 0.0935\n",
      "Epoch 14/50\n",
      "416/416 [==============================] - 3s 7ms/step - loss: 0.2981 - accuracy: 0.8775 - recall_1: 0.8159 - false_positive_rate: 0.0870 - val_loss: 0.3279 - val_accuracy: 0.8612 - val_recall_1: 0.8029 - val_false_positive_rate: 0.1007\n",
      "Epoch 15/50\n",
      "416/416 [==============================] - 3s 7ms/step - loss: 0.2970 - accuracy: 0.8784 - recall_1: 0.8173 - false_positive_rate: 0.0865 - val_loss: 0.3319 - val_accuracy: 0.8601 - val_recall_1: 0.7740 - val_false_positive_rate: 0.0837\n",
      "Epoch 16/50\n",
      "416/416 [==============================] - 3s 7ms/step - loss: 0.2960 - accuracy: 0.8789 - recall_1: 0.8172 - false_positive_rate: 0.0856 - val_loss: 0.3280 - val_accuracy: 0.8613 - val_recall_1: 0.7964 - val_false_positive_rate: 0.0963\n",
      "Epoch 17/50\n",
      "416/416 [==============================] - 3s 7ms/step - loss: 0.2950 - accuracy: 0.8794 - recall_1: 0.8193 - false_positive_rate: 0.0861 - val_loss: 0.3272 - val_accuracy: 0.8618 - val_recall_1: 0.7907 - val_false_positive_rate: 0.0918\n",
      "Epoch 18/50\n",
      "416/416 [==============================] - 3s 7ms/step - loss: 0.2943 - accuracy: 0.8794 - recall_1: 0.8192 - false_positive_rate: 0.0859 - val_loss: 0.3264 - val_accuracy: 0.8618 - val_recall_1: 0.7938 - val_false_positive_rate: 0.0937\n",
      "Epoch 19/50\n",
      "416/416 [==============================] - 3s 7ms/step - loss: 0.2935 - accuracy: 0.8800 - recall_1: 0.8205 - false_positive_rate: 0.0858 - val_loss: 0.3353 - val_accuracy: 0.8593 - val_recall_1: 0.7656 - val_false_positive_rate: 0.0794\n",
      "Epoch 20/50\n",
      "416/416 [==============================] - 3s 7ms/step - loss: 0.2928 - accuracy: 0.8801 - recall_1: 0.8207 - false_positive_rate: 0.0857 - val_loss: 0.3313 - val_accuracy: 0.8605 - val_recall_1: 0.7769 - val_false_positive_rate: 0.0848\n",
      "Epoch 21/50\n",
      "416/416 [==============================] - 3s 7ms/step - loss: 0.2926 - accuracy: 0.8803 - recall_1: 0.8211 - false_positive_rate: 0.0857 - val_loss: 0.3251 - val_accuracy: 0.8622 - val_recall_1: 0.8061 - val_false_positive_rate: 0.1011\n",
      "Epoch 22/50\n",
      "416/416 [==============================] - 3s 7ms/step - loss: 0.2918 - accuracy: 0.8806 - recall_1: 0.8220 - false_positive_rate: 0.0857 - val_loss: 0.3258 - val_accuracy: 0.8623 - val_recall_1: 0.8036 - val_false_positive_rate: 0.0993\n",
      "Epoch 23/50\n",
      "416/416 [==============================] - 3s 7ms/step - loss: 0.2915 - accuracy: 0.8806 - recall_1: 0.8221 - false_positive_rate: 0.0858 - val_loss: 0.3287 - val_accuracy: 0.8615 - val_recall_1: 0.7821 - val_false_positive_rate: 0.0866\n",
      "Epoch 24/50\n",
      "416/416 [==============================] - 3s 7ms/step - loss: 0.2909 - accuracy: 0.8809 - recall_1: 0.8235 - false_positive_rate: 0.0861 - val_loss: 0.3253 - val_accuracy: 0.8623 - val_recall_1: 0.7979 - val_false_positive_rate: 0.0956\n",
      "Epoch 25/50\n",
      "416/416 [==============================] - 3s 7ms/step - loss: 0.2903 - accuracy: 0.8812 - recall_1: 0.8234 - false_positive_rate: 0.0856 - val_loss: 0.3239 - val_accuracy: 0.8624 - val_recall_1: 0.8107 - val_false_positive_rate: 0.1038\n",
      "Epoch 26/50\n",
      "416/416 [==============================] - 3s 7ms/step - loss: 0.2901 - accuracy: 0.8813 - recall_1: 0.8231 - false_positive_rate: 0.0853 - val_loss: 0.3243 - val_accuracy: 0.8635 - val_recall_1: 0.7989 - val_false_positive_rate: 0.0944\n",
      "Epoch 27/50\n",
      "416/416 [==============================] - 3s 7ms/step - loss: 0.2899 - accuracy: 0.8816 - recall_1: 0.8245 - false_positive_rate: 0.0856 - val_loss: 0.3243 - val_accuracy: 0.8631 - val_recall_1: 0.7953 - val_false_positive_rate: 0.0926\n",
      "Epoch 28/50\n",
      "416/416 [==============================] - 3s 7ms/step - loss: 0.2894 - accuracy: 0.8818 - recall_1: 0.8245 - false_positive_rate: 0.0852 - val_loss: 0.3256 - val_accuracy: 0.8634 - val_recall_1: 0.7950 - val_false_positive_rate: 0.0919\n",
      "Epoch 29/50\n",
      "416/416 [==============================] - 3s 7ms/step - loss: 0.2892 - accuracy: 0.8818 - recall_1: 0.8247 - false_positive_rate: 0.0854 - val_loss: 0.3242 - val_accuracy: 0.8636 - val_recall_1: 0.7977 - val_false_positive_rate: 0.0933\n",
      "Epoch 30/50\n",
      "416/416 [==============================] - 3s 7ms/step - loss: 0.2887 - accuracy: 0.8819 - recall_1: 0.8243 - false_positive_rate: 0.0849 - val_loss: 0.3251 - val_accuracy: 0.8633 - val_recall_1: 0.7954 - val_false_positive_rate: 0.0924\n",
      "Epoch 31/50\n",
      "416/416 [==============================] - 3s 7ms/step - loss: 0.2884 - accuracy: 0.8823 - recall_1: 0.8252 - false_positive_rate: 0.0848 - val_loss: 0.3277 - val_accuracy: 0.8633 - val_recall_1: 0.7893 - val_false_positive_rate: 0.0883\n",
      "Epoch 32/50\n",
      "416/416 [==============================] - 3s 7ms/step - loss: 0.2882 - accuracy: 0.8824 - recall_1: 0.8256 - false_positive_rate: 0.0849 - val_loss: 0.3236 - val_accuracy: 0.8637 - val_recall_1: 0.8022 - val_false_positive_rate: 0.0962\n",
      "Epoch 33/50\n",
      "416/416 [==============================] - 3s 7ms/step - loss: 0.2879 - accuracy: 0.8822 - recall_1: 0.8256 - false_positive_rate: 0.0852 - val_loss: 0.3292 - val_accuracy: 0.8625 - val_recall_1: 0.7879 - val_false_positive_rate: 0.0888\n",
      "Epoch 34/50\n",
      "416/416 [==============================] - 3s 7ms/step - loss: 0.2877 - accuracy: 0.8823 - recall_1: 0.8260 - false_positive_rate: 0.0854 - val_loss: 0.3291 - val_accuracy: 0.8631 - val_recall_1: 0.7858 - val_false_positive_rate: 0.0863\n",
      "Epoch 35/50\n",
      "416/416 [==============================] - 3s 7ms/step - loss: 0.2877 - accuracy: 0.8824 - recall_1: 0.8262 - false_positive_rate: 0.0853 - val_loss: 0.3263 - val_accuracy: 0.8631 - val_recall_1: 0.7863 - val_false_positive_rate: 0.0868\n",
      "Epoch 36/50\n",
      "416/416 [==============================] - 3s 7ms/step - loss: 0.2873 - accuracy: 0.8824 - recall_1: 0.8264 - false_positive_rate: 0.0854 - val_loss: 0.3286 - val_accuracy: 0.8631 - val_recall_1: 0.7862 - val_false_positive_rate: 0.0867\n",
      "Epoch 37/50\n",
      "416/416 [==============================] - 3s 7ms/step - loss: 0.2870 - accuracy: 0.8826 - recall_1: 0.8260 - false_positive_rate: 0.0849 - val_loss: 0.3268 - val_accuracy: 0.8637 - val_recall_1: 0.7905 - val_false_positive_rate: 0.0885\n",
      "Epoch 38/50\n",
      "416/416 [==============================] - 3s 7ms/step - loss: 0.2868 - accuracy: 0.8829 - recall_1: 0.8268 - false_positive_rate: 0.0849 - val_loss: 0.3235 - val_accuracy: 0.8641 - val_recall_1: 0.8004 - val_false_positive_rate: 0.0943\n",
      "Epoch 39/50\n",
      "416/416 [==============================] - 3s 7ms/step - loss: 0.2867 - accuracy: 0.8828 - recall_1: 0.8269 - false_positive_rate: 0.0850 - val_loss: 0.3228 - val_accuracy: 0.8642 - val_recall_1: 0.8027 - val_false_positive_rate: 0.0956\n",
      "Epoch 40/50\n",
      "416/416 [==============================] - 3s 7ms/step - loss: 0.2867 - accuracy: 0.8828 - recall_1: 0.8268 - false_positive_rate: 0.0850 - val_loss: 0.3220 - val_accuracy: 0.8649 - val_recall_1: 0.8056 - val_false_positive_rate: 0.0963\n",
      "Epoch 41/50\n",
      "416/416 [==============================] - 3s 7ms/step - loss: 0.2864 - accuracy: 0.8830 - recall_1: 0.8270 - false_positive_rate: 0.0848 - val_loss: 0.3252 - val_accuracy: 0.8638 - val_recall_1: 0.7902 - val_false_positive_rate: 0.0881\n",
      "Epoch 42/50\n",
      "416/416 [==============================] - 3s 7ms/step - loss: 0.2860 - accuracy: 0.8829 - recall_1: 0.8277 - false_positive_rate: 0.0853 - val_loss: 0.3264 - val_accuracy: 0.8636 - val_recall_1: 0.7899 - val_false_positive_rate: 0.0882\n",
      "Epoch 43/50\n",
      "416/416 [==============================] - 3s 7ms/step - loss: 0.2860 - accuracy: 0.8834 - recall_1: 0.8277 - false_positive_rate: 0.0845 - val_loss: 0.3230 - val_accuracy: 0.8641 - val_recall_1: 0.7948 - val_false_positive_rate: 0.0906\n",
      "Epoch 44/50\n",
      "416/416 [==============================] - 3s 7ms/step - loss: 0.2859 - accuracy: 0.8834 - recall_1: 0.8273 - false_positive_rate: 0.0844 - val_loss: 0.3238 - val_accuracy: 0.8643 - val_recall_1: 0.7941 - val_false_positive_rate: 0.0898\n",
      "Epoch 45/50\n",
      "416/416 [==============================] - 3s 7ms/step - loss: 0.2857 - accuracy: 0.8829 - recall_1: 0.8269 - false_positive_rate: 0.0849 - val_loss: 0.3215 - val_accuracy: 0.8646 - val_recall_1: 0.8059 - val_false_positive_rate: 0.0971\n",
      "Epoch 46/50\n",
      "416/416 [==============================] - 3s 7ms/step - loss: 0.2854 - accuracy: 0.8834 - recall_1: 0.8289 - false_positive_rate: 0.0853 - val_loss: 0.3272 - val_accuracy: 0.8629 - val_recall_1: 0.7883 - val_false_positive_rate: 0.0883\n",
      "Epoch 47/50\n",
      "416/416 [==============================] - 3s 7ms/step - loss: 0.2855 - accuracy: 0.8832 - recall_1: 0.8282 - false_positive_rate: 0.0852 - val_loss: 0.3247 - val_accuracy: 0.8638 - val_recall_1: 0.7879 - val_false_positive_rate: 0.0865\n",
      "Epoch 48/50\n",
      "416/416 [==============================] - 3s 7ms/step - loss: 0.2852 - accuracy: 0.8836 - recall_1: 0.8278 - false_positive_rate: 0.0843 - val_loss: 0.3244 - val_accuracy: 0.8638 - val_recall_1: 0.7901 - val_false_positive_rate: 0.0880\n",
      "Epoch 49/50\n",
      "416/416 [==============================] - 3s 7ms/step - loss: 0.2854 - accuracy: 0.8835 - recall_1: 0.8281 - false_positive_rate: 0.0847 - val_loss: 0.3222 - val_accuracy: 0.8649 - val_recall_1: 0.8022 - val_false_positive_rate: 0.0942\n",
      "Epoch 50/50\n",
      "416/416 [==============================] - 3s 7ms/step - loss: 0.2849 - accuracy: 0.8833 - recall_1: 0.8283 - false_positive_rate: 0.0851 - val_loss: 0.3246 - val_accuracy: 0.8642 - val_recall_1: 0.7922 - val_false_positive_rate: 0.0887\n",
      "CPU times: user 3min 51s, sys: 42.9 s, total: 4min 34s\n",
      "Wall time: 2min 19s\n"
     ]
    }
   ],
   "source": [
    "%%time\n",
    "history = mlp.fit(x=pca_train_in[:nsamples_train],\n",
    "                  y=train_out[:nsamples_train],\n",
    "                  batch_size=512,\n",
    "                  epochs=50,\n",
    "                  validation_data=(pca_val_in[:nsamples_val], val_out[:nsamples_val]),\n",
    "                  verbose=1).history"
   ]
  },
  {
   "cell_type": "code",
   "execution_count": 35,
   "metadata": {},
   "outputs": [
    {
     "data": {
      "image/png": "[encoded data removed]",
      "text/plain": [
       "<Figure size 432x288 with 1 Axes>"
      ]
     },
     "metadata": {
      "needs_background": "light"
     },
     "output_type": "display_data"
    }
   ],
   "source": [
    "plot_loss(history)"
   ]
  },
  {
   "cell_type": "code",
   "execution_count": 36,
   "metadata": {},
   "outputs": [
    {
     "data": {
      "image/png": "[encoded data removed]",
      "text/plain": [
       "<Figure size 432x288 with 2 Axes>"
      ]
     },
     "metadata": {
      "needs_background": "light"
     },
     "output_type": "display_data"
    }
   ],
   "source": [
    "plot_model_recall_fpr(history)"
   ]
  },
  {
   "cell_type": "code",
   "execution_count": 37,
   "metadata": {},
   "outputs": [],
   "source": [
    "# set the probability threshold for binary classification; predict on validation; add binary preds\n",
    "binary_threshold = 0.5\n",
    "preds = mlp.predict(pca_val_in[:nsamples_val]).reshape(pca_val_in[:nsamples_val].shape[0]) # scaled_val_in.mean(axis=(1,2,3)).reshape(199399,1))\n",
    "binary_preds = np.where(preds >= binary_threshold, 1, 0)"
   ]
  },
  {
   "cell_type": "code",
   "execution_count": 38,
   "metadata": {},
   "outputs": [
    {
     "name": "stdout",
     "output_type": "stream",
     "text": [
      "RMSE: 0.316\n",
      "R squared: 0.584\n",
      "Hellenger Distance: 0.462\n",
      "Heidke Skill Score: 0.712\n",
      "Pierce Skill Score: 0.704\n",
      "Brier Score: 0.136\n",
      "Brier Skill Score: 0.432\n",
      "AUC: 0.852\n",
      "Probability of detection: 0.792\n",
      "False alarm ratio: 0.089\n",
      "Accuracy: 0.864\n"
     ]
    }
   ],
   "source": [
    "# Example regressed metrics\n",
    "print('RMSE: {}'.format(np.round(root_mean_squared_error(val_out, preds),3)))\n",
    "print('R squared: {}'.format(np.round(r2_corr(val_out, preds),3)))\n",
    "print('Hellenger Distance: {}'.format(np.round(hellinger_distance(val_out, preds),3)))\n",
    "\n",
    "# Example classified metrics\n",
    "print('Heidke Skill Score: {}'.format(np.round(heidke_skill_score(val_out, binary_preds),3)))\n",
    "print('Pierce Skill Score: {}'.format(np.round(peirce_skill_score(val_out, binary_preds),3)))\n",
    "print('Brier Score: {}'.format(np.round(brier_score(val_out, binary_preds),3)))\n",
    "print('Brier Skill Score: {}'.format(np.round(brier_skill_score(val_out, binary_preds),3)))\n",
    "print('AUC: {}'.format(np.round(roc_auc_score(val_out, binary_preds),3)))\n",
    "performance = perf_measure(val_out, binary_preds)\n",
    "print('Probability of detection: {}'.format(np.round(performance['TPR'],3)))\n",
    "print('False alarm ratio: {}'.format(np.round(performance['FPR'],3)))\n",
    "print('Accuracy: {}'.format(np.round(performance['ACC'],3)))"
   ]
  },
  {
   "cell_type": "raw",
   "metadata": {},
   "source": [
    "# Results when using selu activation in the hidden layers, and AlphaDropout:\n",
    "RMSE: 0.312\n",
    "R squared: 0.594\n",
    "Hellenger Distance: 0.481\n",
    "Heidke Skill Score: 0.718\n",
    "Pierce Skill Score: 0.709\n",
    "Brier Score: 0.133\n",
    "Brier Skill Score: 0.444\n",
    "AUC: 0.855\n",
    "Probability of detection: 0.795\n",
    "False alarm ratio: 0.086\n",
    "Accuracy: 0.867"
   ]
  },
  {
   "cell_type": "raw",
   "metadata": {},
   "source": [
    "# Results when using relu activation in the hidden layers, and no dropout:\n",
    "RMSE: 0.316\n",
    "R squared: 0.584\n",
    "Hellenger Distance: 0.462\n",
    "Heidke Skill Score: 0.712\n",
    "Pierce Skill Score: 0.704\n",
    "Brier Score: 0.136\n",
    "Brier Skill Score: 0.432\n",
    "AUC: 0.852\n",
    "Probability of detection: 0.792\n",
    "False alarm ratio: 0.089\n",
    "Accuracy: 0.864"
   ]
  },
  {
   "cell_type": "markdown",
   "metadata": {},
   "source": [
    "### CNN"
   ]
  },
  {
   "cell_type": "code",
   "execution_count": 13,
   "metadata": {},
   "outputs": [],
   "source": [
    "from tensorflow.keras.models import Sequential\n",
    "from tensorflow.keras.layers import Input, Dense, Dropout, AlphaDropout, Conv2D, MaxPooling2D, Flatten\n",
    "from sklearn.preprocessing import StandardScaler\n",
    "from sklearn.decomposition import PCA"
   ]
  },
  {
   "cell_type": "code",
   "execution_count": 14,
   "metadata": {},
   "outputs": [
    {
     "name": "stdout",
     "output_type": "stream",
     "text": [
      "(212604, 32, 32, 4)\n",
      "CPU times: user 33.8 s, sys: 7.35 s, total: 41.1 s\n",
      "Wall time: 41 s\n"
     ]
    }
   ],
   "source": [
    "%%time\n",
    "scaler = StandardScaler()\n",
    "scaled_train_in = scaler.fit_transform(train_in.reshape(nsamples_train,nx*ny*nchannels)).reshape(nsamples_train,nx,ny,nchannels)\n",
    "scaled_val_in = scaler.fit_transform(val_in.reshape(nsamples_val,nx*ny*nchannels)).reshape(nsamples_val,nx,ny,nchannels)\n",
    "print(scaled_train_in.shape)"
   ]
  },
  {
   "cell_type": "code",
   "execution_count": 15,
   "metadata": {},
   "outputs": [
    {
     "name": "stdout",
     "output_type": "stream",
     "text": [
      "Model: \"sequential\"\n",
      "_________________________________________________________________\n",
      "Layer (type)                 Output Shape              Param #   \n",
      "=================================================================\n",
      "conv2d (Conv2D)              (None, 30, 30, 8)         296       \n",
      "_________________________________________________________________\n",
      "max_pooling2d (MaxPooling2D) (None, 15, 15, 8)         0         \n",
      "_________________________________________________________________\n",
      "conv2d_1 (Conv2D)            (None, 13, 13, 8)         584       \n",
      "_________________________________________________________________\n",
      "max_pooling2d_1 (MaxPooling2 (None, 6, 6, 8)           0         \n",
      "_________________________________________________________________\n",
      "conv2d_2 (Conv2D)            (None, 4, 4, 8)           584       \n",
      "_________________________________________________________________\n",
      "max_pooling2d_2 (MaxPooling2 (None, 2, 2, 8)           0         \n",
      "_________________________________________________________________\n",
      "flatten (Flatten)            (None, 32)                0         \n",
      "_________________________________________________________________\n",
      "dense (Dense)                (None, 16)                528       \n",
      "_________________________________________________________________\n",
      "dense_1 (Dense)              (None, 1)                 17        \n",
      "=================================================================\n",
      "Total params: 2,009\n",
      "Trainable params: 2,009\n",
      "Non-trainable params: 0\n",
      "_________________________________________________________________\n"
     ]
    }
   ],
   "source": [
    "mlp = Sequential()\n",
    "mlp.add(Input(shape=scaled_train_in.shape[1:]))\n",
    "mlp.add(Conv2D(8, (3, 3), activation='relu'))\n",
    "mlp.add(MaxPooling2D(2, 2))\n",
    "mlp.add(Conv2D(8, (3, 3), activation='relu'))\n",
    "mlp.add(MaxPooling2D(2, 2))\n",
    "mlp.add(Conv2D(8, (3, 3), activation='relu'))\n",
    "mlp.add(MaxPooling2D(2, 2))\n",
    "mlp.add(Flatten())\n",
    "mlp.add(Dense(16, activation='relu'))\n",
    "mlp.add(Dense(1, activation='sigmoid'))\n",
    "mlp.summary()"
   ]
  },
  {
   "cell_type": "code",
   "execution_count": 16,
   "metadata": {},
   "outputs": [],
   "source": [
    "mlp.compile(optimizer='adam',\n",
    "            loss='binary_crossentropy',\n",
    "            metrics=['accuracy', tf.keras.metrics.Recall(), FalsePositiveRate()]\n",
    "           )"
   ]
  },
  {
   "cell_type": "code",
   "execution_count": 17,
   "metadata": {},
   "outputs": [
    {
     "name": "stdout",
     "output_type": "stream",
     "text": [
      "Epoch 1/25\n",
      "416/416 [==============================] - 29s 70ms/step - loss: 0.3580 - accuracy: 0.8510 - recall: 0.7763 - false_positive_rate: 0.1061 - val_loss: 0.3266 - val_accuracy: 0.8614 - val_recall: 0.7774 - val_false_positive_rate: 0.0837\n",
      "Epoch 2/25\n",
      "416/416 [==============================] - 10s 24ms/step - loss: 0.2795 - accuracy: 0.8850 - recall: 0.8366 - false_positive_rate: 0.0872 - val_loss: 0.3103 - val_accuracy: 0.8689 - val_recall: 0.7807 - val_false_positive_rate: 0.0735\n",
      "Epoch 3/25\n",
      "416/416 [==============================] - 10s 24ms/step - loss: 0.2627 - accuracy: 0.8925 - recall: 0.8520 - false_positive_rate: 0.0843 - val_loss: 0.2917 - val_accuracy: 0.8788 - val_recall: 0.8271 - val_false_positive_rate: 0.0873\n",
      "Epoch 4/25\n",
      "416/416 [==============================] - 10s 24ms/step - loss: 0.2565 - accuracy: 0.8955 - recall: 0.8586 - false_positive_rate: 0.0833 - val_loss: 0.3147 - val_accuracy: 0.8686 - val_recall: 0.7494 - val_false_positive_rate: 0.0535\n",
      "Epoch 5/25\n",
      "416/416 [==============================] - 10s 23ms/step - loss: 0.2489 - accuracy: 0.8994 - recall: 0.8633 - false_positive_rate: 0.0798 - val_loss: 0.2788 - val_accuracy: 0.8849 - val_recall: 0.8488 - val_false_positive_rate: 0.0916\n",
      "Epoch 6/25\n",
      "416/416 [==============================] - 10s 23ms/step - loss: 0.2442 - accuracy: 0.9015 - recall: 0.8671 - false_positive_rate: 0.0786 - val_loss: 0.2835 - val_accuracy: 0.8843 - val_recall: 0.8261 - val_false_positive_rate: 0.0777\n",
      "Epoch 7/25\n",
      "416/416 [==============================] - 10s 24ms/step - loss: 0.2398 - accuracy: 0.9038 - recall: 0.8709 - false_positive_rate: 0.0772 - val_loss: 0.3087 - val_accuracy: 0.8712 - val_recall: 0.7500 - val_false_positive_rate: 0.0496\n",
      "Epoch 8/25\n",
      "416/416 [==============================] - 10s 24ms/step - loss: 0.2369 - accuracy: 0.9052 - recall: 0.8743 - false_positive_rate: 0.0770 - val_loss: 0.2888 - val_accuracy: 0.8819 - val_recall: 0.7908 - val_false_positive_rate: 0.0586\n",
      "Epoch 9/25\n",
      "416/416 [==============================] - 10s 24ms/step - loss: 0.2350 - accuracy: 0.9061 - recall: 0.8753 - false_positive_rate: 0.0762 - val_loss: 0.2890 - val_accuracy: 0.8814 - val_recall: 0.7932 - val_false_positive_rate: 0.0609\n",
      "Epoch 10/25\n",
      "416/416 [==============================] - 10s 23ms/step - loss: 0.2321 - accuracy: 0.9077 - recall: 0.8783 - false_positive_rate: 0.0754 - val_loss: 0.2663 - val_accuracy: 0.8921 - val_recall: 0.8589 - val_false_positive_rate: 0.0862\n",
      "Epoch 11/25\n",
      "416/416 [==============================] - 10s 23ms/step - loss: 0.2302 - accuracy: 0.9084 - recall: 0.8788 - false_positive_rate: 0.0747 - val_loss: 0.2795 - val_accuracy: 0.8878 - val_recall: 0.8151 - val_false_positive_rate: 0.0647\n",
      "Epoch 12/25\n",
      "416/416 [==============================] - 10s 24ms/step - loss: 0.2284 - accuracy: 0.9095 - recall: 0.8805 - false_positive_rate: 0.0739 - val_loss: 0.2675 - val_accuracy: 0.8920 - val_recall: 0.8329 - val_false_positive_rate: 0.0693\n",
      "Epoch 13/25\n",
      "416/416 [==============================] - 10s 24ms/step - loss: 0.2273 - accuracy: 0.9098 - recall: 0.8811 - false_positive_rate: 0.0737 - val_loss: 0.2846 - val_accuracy: 0.8841 - val_recall: 0.7951 - val_false_positive_rate: 0.0578\n",
      "Epoch 14/25\n",
      "416/416 [==============================] - 10s 24ms/step - loss: 0.2262 - accuracy: 0.9104 - recall: 0.8829 - false_positive_rate: 0.0738 - val_loss: 0.2800 - val_accuracy: 0.8878 - val_recall: 0.8018 - val_false_positive_rate: 0.0560\n",
      "Epoch 15/25\n",
      "416/416 [==============================] - 10s 23ms/step - loss: 0.2263 - accuracy: 0.9109 - recall: 0.8842 - false_positive_rate: 0.0738 - val_loss: 0.2915 - val_accuracy: 0.8785 - val_recall: 0.7700 - val_false_positive_rate: 0.0506\n",
      "Epoch 16/25\n",
      "416/416 [==============================] - 10s 23ms/step - loss: 0.2238 - accuracy: 0.9116 - recall: 0.8834 - false_positive_rate: 0.0723 - val_loss: 0.2626 - val_accuracy: 0.8956 - val_recall: 0.8447 - val_false_positive_rate: 0.0711\n",
      "Epoch 17/25\n",
      "416/416 [==============================] - 11s 26ms/step - loss: 0.2227 - accuracy: 0.9122 - recall: 0.8850 - false_positive_rate: 0.0722 - val_loss: 0.2790 - val_accuracy: 0.8886 - val_recall: 0.7994 - val_false_positive_rate: 0.0530\n",
      "Epoch 18/25\n",
      "416/416 [==============================] - 10s 23ms/step - loss: 0.2214 - accuracy: 0.9128 - recall: 0.8857 - false_positive_rate: 0.0717 - val_loss: 0.2609 - val_accuracy: 0.8955 - val_recall: 0.8384 - val_false_positive_rate: 0.0671\n",
      "Epoch 19/25\n",
      "416/416 [==============================] - 10s 24ms/step - loss: 0.2215 - accuracy: 0.9131 - recall: 0.8870 - false_positive_rate: 0.0719 - val_loss: 0.2836 - val_accuracy: 0.8865 - val_recall: 0.7909 - val_false_positive_rate: 0.0510\n",
      "Epoch 20/25\n",
      "416/416 [==============================] - 10s 23ms/step - loss: 0.2206 - accuracy: 0.9133 - recall: 0.8862 - false_positive_rate: 0.0711 - val_loss: 0.2735 - val_accuracy: 0.8921 - val_recall: 0.8162 - val_false_positive_rate: 0.0583\n",
      "Epoch 21/25\n",
      "416/416 [==============================] - 10s 23ms/step - loss: 0.2194 - accuracy: 0.9136 - recall: 0.8876 - false_positive_rate: 0.0714 - val_loss: 0.2662 - val_accuracy: 0.8936 - val_recall: 0.8262 - val_false_positive_rate: 0.0623\n",
      "Epoch 22/25\n",
      "416/416 [==============================] - 10s 23ms/step - loss: 0.2185 - accuracy: 0.9140 - recall: 0.8885 - false_positive_rate: 0.0714 - val_loss: 0.2841 - val_accuracy: 0.8830 - val_recall: 0.7922 - val_false_positive_rate: 0.0577\n",
      "Epoch 23/25\n",
      "416/416 [==============================] - 10s 23ms/step - loss: 0.2179 - accuracy: 0.9140 - recall: 0.8886 - false_positive_rate: 0.0713 - val_loss: 0.2767 - val_accuracy: 0.8902 - val_recall: 0.8069 - val_false_positive_rate: 0.0553\n",
      "Epoch 24/25\n",
      "416/416 [==============================] - 10s 24ms/step - loss: 0.2178 - accuracy: 0.9147 - recall: 0.8901 - false_positive_rate: 0.0712 - val_loss: 0.2750 - val_accuracy: 0.8892 - val_recall: 0.8006 - val_false_positive_rate: 0.0530\n",
      "Epoch 25/25\n",
      "416/416 [==============================] - 10s 24ms/step - loss: 0.2164 - accuracy: 0.9151 - recall: 0.8895 - false_positive_rate: 0.0702 - val_loss: 0.2578 - val_accuracy: 0.8970 - val_recall: 0.8427 - val_false_positive_rate: 0.0675\n",
      "CPU times: user 4min 28s, sys: 1min 27s, total: 5min 56s\n",
      "Wall time: 4min 43s\n"
     ]
    }
   ],
   "source": [
    "%%time\n",
    "history = mlp.fit(x=scaled_train_in[:nsamples_train],\n",
    "                  y=train_out[:nsamples_train],\n",
    "                  batch_size=512,\n",
    "                  epochs=25,\n",
    "                  validation_data=(scaled_val_in[:nsamples_val],\n",
    "                                   val_out[:nsamples_val]),\n",
    "                  verbose=1).history"
   ]
  },
  {
   "cell_type": "code",
   "execution_count": 18,
   "metadata": {},
   "outputs": [
    {
     "data": {
      "image/png": "[encoded data removed]",
      "text/plain": [
       "<Figure size 432x288 with 1 Axes>"
      ]
     },
     "metadata": {
      "needs_background": "light"
     },
     "output_type": "display_data"
    }
   ],
   "source": [
    "plot_loss(history)"
   ]
  },
  {
   "cell_type": "code",
   "execution_count": 19,
   "metadata": {},
   "outputs": [
    {
     "data": {
      "image/png": "[encoded data removed]",
      "text/plain": [
       "<Figure size 432x288 with 2 Axes>"
      ]
     },
     "metadata": {
      "needs_background": "light"
     },
     "output_type": "display_data"
    }
   ],
   "source": [
    "plot_model_recall_fpr(history)"
   ]
  },
  {
   "cell_type": "code",
   "execution_count": 20,
   "metadata": {},
   "outputs": [],
   "source": [
    "# set the probability threshold for binary classification; predict on validation; add binary preds\n",
    "binary_threshold = 0.5\n",
    "preds = mlp.predict(scaled_val_in[:nsamples_val]).reshape(scaled_val_in[:nsamples_val].shape[0])\n",
    "binary_preds = np.where(preds >= binary_threshold, 1, 0)"
   ]
  },
  {
   "cell_type": "code",
   "execution_count": 21,
   "metadata": {},
   "outputs": [
    {
     "name": "stdout",
     "output_type": "stream",
     "text": [
      "RMSE: 0.278\n",
      "R squared: 0.681\n",
      "Hellenger Distance: 0.369\n",
      "Heidke Skill Score: 0.782\n",
      "Pierce Skill Score: 0.775\n",
      "Brier Score: 0.103\n",
      "Brier Skill Score: 0.569\n",
      "AUC: 0.888\n",
      "Probability of detection: 0.843\n",
      "False alarm ratio: 0.068\n",
      "Accuracy: 0.897\n"
     ]
    }
   ],
   "source": [
    "# Example regressed metrics\n",
    "print('RMSE: {}'.format(np.round(root_mean_squared_error(val_out, preds),3)))\n",
    "print('R squared: {}'.format(np.round(r2_corr(val_out, preds),3)))\n",
    "print('Hellenger Distance: {}'.format(np.round(hellinger_distance(val_out, preds),3)))\n",
    "\n",
    "# Example classified metrics\n",
    "print('Heidke Skill Score: {}'.format(np.round(heidke_skill_score(val_out, binary_preds),3)))\n",
    "print('Pierce Skill Score: {}'.format(np.round(peirce_skill_score(val_out, binary_preds),3)))\n",
    "print('Brier Score: {}'.format(np.round(brier_score(val_out, binary_preds),3)))\n",
    "print('Brier Skill Score: {}'.format(np.round(brier_skill_score(val_out, binary_preds),3)))\n",
    "print('AUC: {}'.format(np.round(roc_auc_score(val_out, binary_preds),3)))\n",
    "performance = perf_measure(val_out, binary_preds)\n",
    "print('Probability of detection: {}'.format(np.round(performance['TPR'],3)))\n",
    "print('False alarm ratio: {}'.format(np.round(performance['FPR'],3)))\n",
    "print('Accuracy: {}'.format(np.round(performance['ACC'],3)))"
   ]
  },
  {
   "cell_type": "code",
   "execution_count": null,
   "metadata": {},
   "outputs": [],
   "source": []
  },
  {
   "cell_type": "code",
   "execution_count": 24,
   "metadata": {},
   "outputs": [
    {
     "name": "stdout",
     "output_type": "stream",
     "text": [
      "CPU times: user 1min 11s, sys: 1.41 s, total: 1min 13s\n",
      "Wall time: 1min 12s\n"
     ]
    }
   ],
   "source": [
    "%%time\n",
    "\n",
    "from sklearn.preprocessing import StandardScaler, RobustScaler\n",
    "\n",
    "# Scale train data by Standard scaler.\n",
    "old_shape_train = train_in.shape\n",
    "new_shape_train = (old_shape_train[0], -1)\n",
    "scaler = RobustScaler().fit(X=train_in.reshape(*new_shape_train))\n",
    "scaled_train_in_reshaped = scaler.transform(X=train_in.reshape(*new_shape_train))\n",
    "\n",
    "# Scale validation data using Standard scaler fit on training data.\n",
    "old_shape_val = val_in.shape\n",
    "new_shape_val = (old_shape_val[0], -1)\n",
    "scaled_val_in_reshaped = scaler.transform(X=val_in.reshape(*new_shape_val))"
   ]
  },
  {
   "cell_type": "code",
   "execution_count": 25,
   "metadata": {},
   "outputs": [
    {
     "name": "stdout",
     "output_type": "stream",
     "text": [
      "CPU times: user 1min 17s, sys: 2.81 s, total: 1min 19s\n",
      "Wall time: 26.2 s\n"
     ]
    },
    {
     "data": {
      "text/plain": [
       "[<matplotlib.lines.Line2D at 0x7fec640f3050>]"
      ]
     },
     "execution_count": 25,
     "metadata": {},
     "output_type": "execute_result"
    },
    {
     "data": {
      "image/png": "[encoded data removed]",
      "text/plain": [
       "<Figure size 432x288 with 1 Axes>"
      ]
     },
     "metadata": {
      "needs_background": "light"
     },
     "output_type": "display_data"
    }
   ],
   "source": [
    "%%time\n",
    "\n",
    "from sklearn.decomposition import PCA\n",
    "\n",
    "# Data dimension reduction.\n",
    "n_components = 20\n",
    "pca = PCA(n_components=n_components)\n",
    "scaled_train_in_reshaped_reduced = pca.fit_transform(X=scaled_train_in_reshaped)\n",
    "scaled_val_in_reshaped_reduced = pca.transform(X=scaled_val_in_reshaped)\n",
    "\n",
    "# Cumulative explained variance ratio.\n",
    "plt.plot(np.cumsum(pca.explained_variance_ratio_*100), \".-b\")"
   ]
  },
  {
   "cell_type": "code",
   "execution_count": 28,
   "metadata": {},
   "outputs": [
    {
     "name": "stdout",
     "output_type": "stream",
     "text": [
      "Model: \"sequential\"\n",
      "_________________________________________________________________\n",
      "Layer (type)                 Output Shape              Param #   \n",
      "=================================================================\n",
      "lstm (LSTM)                  (None, 8)                 928       \n",
      "_________________________________________________________________\n",
      "dense (Dense)                (None, 4)                 36        \n",
      "_________________________________________________________________\n",
      "dense_1 (Dense)              (None, 1)                 5         \n",
      "=================================================================\n",
      "Total params: 969\n",
      "Trainable params: 969\n",
      "Non-trainable params: 0\n",
      "_________________________________________________________________\n",
      "WARNING:tensorflow:From <timed exec>:52: Model.fit_generator (from tensorflow.python.keras.engine.training) is deprecated and will be removed in a future version.\n",
      "Instructions for updating:\n",
      "Please use Model.fit, which supports generators.\n",
      "Epoch 1/50\n",
      "1661/1661 [==============================] - 10s 6ms/step - loss: 0.3983 - accuracy: 0.8385 - val_loss: 0.3412 - val_accuracy: 0.8652\n",
      "Epoch 2/50\n",
      "1661/1661 [==============================] - 10s 6ms/step - loss: 0.3082 - accuracy: 0.8820 - val_loss: 0.3243 - val_accuracy: 0.8743\n",
      "Epoch 3/50\n",
      "1661/1661 [==============================] - 10s 6ms/step - loss: 0.2954 - accuracy: 0.8888 - val_loss: 0.3173 - val_accuracy: 0.8793\n",
      "Epoch 4/50\n",
      "1661/1661 [==============================] - 10s 6ms/step - loss: 0.2906 - accuracy: 0.8912 - val_loss: 0.3179 - val_accuracy: 0.8775\n",
      "Epoch 5/50\n",
      "1661/1661 [==============================] - 10s 6ms/step - loss: 0.2872 - accuracy: 0.8928 - val_loss: 0.3144 - val_accuracy: 0.8802\n",
      "Epoch 6/50\n",
      "1661/1661 [==============================] - 10s 6ms/step - loss: 0.2851 - accuracy: 0.8938 - val_loss: 0.3130 - val_accuracy: 0.8819\n",
      "Epoch 7/50\n",
      "1661/1661 [==============================] - 10s 6ms/step - loss: 0.2824 - accuracy: 0.8950 - val_loss: 0.3142 - val_accuracy: 0.8803\n",
      "Epoch 8/50\n",
      "1661/1661 [==============================] - 10s 6ms/step - loss: 0.2814 - accuracy: 0.8959 - val_loss: 0.3104 - val_accuracy: 0.8825\n",
      "Epoch 9/50\n",
      "1661/1661 [==============================] - 10s 6ms/step - loss: 0.2806 - accuracy: 0.8958 - val_loss: 0.3126 - val_accuracy: 0.8810\n",
      "Epoch 10/50\n",
      "1661/1661 [==============================] - 10s 6ms/step - loss: 0.2790 - accuracy: 0.8966 - val_loss: 0.3142 - val_accuracy: 0.8797\n",
      "Epoch 11/50\n",
      "1661/1661 [==============================] - 10s 6ms/step - loss: 0.2783 - accuracy: 0.8967 - val_loss: 0.3107 - val_accuracy: 0.8821\n",
      "Epoch 12/50\n",
      "1661/1661 [==============================] - 10s 6ms/step - loss: 0.2777 - accuracy: 0.8970 - val_loss: 0.3105 - val_accuracy: 0.8825\n",
      "Epoch 13/50\n",
      "1661/1661 [==============================] - 10s 6ms/step - loss: 0.2767 - accuracy: 0.8975 - val_loss: 0.3142 - val_accuracy: 0.8801\n",
      "Epoch 14/50\n",
      "1661/1661 [==============================] - 10s 6ms/step - loss: 0.2766 - accuracy: 0.8978 - val_loss: 0.3109 - val_accuracy: 0.8816\n",
      "Epoch 15/50\n",
      "1661/1661 [==============================] - 10s 6ms/step - loss: 0.2760 - accuracy: 0.8980 - val_loss: 0.3094 - val_accuracy: 0.8835\n",
      "Epoch 16/50\n",
      "1661/1661 [==============================] - 10s 6ms/step - loss: 0.2757 - accuracy: 0.8980 - val_loss: 0.3188 - val_accuracy: 0.8771\n",
      "Epoch 17/50\n",
      "1661/1661 [==============================] - 10s 6ms/step - loss: 0.2757 - accuracy: 0.8980 - val_loss: 0.3110 - val_accuracy: 0.8834\n",
      "Epoch 18/50\n",
      "1661/1661 [==============================] - 10s 6ms/step - loss: 0.2749 - accuracy: 0.8988 - val_loss: 0.3150 - val_accuracy: 0.8795\n",
      "Epoch 19/50\n",
      "1661/1661 [==============================] - 10s 6ms/step - loss: 0.2744 - accuracy: 0.8984 - val_loss: 0.3107 - val_accuracy: 0.8823\n",
      "Epoch 20/50\n",
      "1661/1661 [==============================] - 10s 6ms/step - loss: 0.2744 - accuracy: 0.8987 - val_loss: 0.3101 - val_accuracy: 0.8825\n",
      "Epoch 21/50\n",
      "1661/1661 [==============================] - 10s 6ms/step - loss: 0.2738 - accuracy: 0.8992 - val_loss: 0.3080 - val_accuracy: 0.8839\n",
      "Epoch 22/50\n",
      "1661/1661 [==============================] - 10s 6ms/step - loss: 0.2733 - accuracy: 0.8993 - val_loss: 0.3086 - val_accuracy: 0.8837\n",
      "Epoch 23/50\n",
      "1661/1661 [==============================] - 10s 6ms/step - loss: 0.2738 - accuracy: 0.8985 - val_loss: 0.3076 - val_accuracy: 0.8839\n",
      "Epoch 24/50\n",
      "1661/1661 [==============================] - 10s 6ms/step - loss: 0.2728 - accuracy: 0.8990 - val_loss: 0.3095 - val_accuracy: 0.8835\n",
      "Epoch 25/50\n",
      "1661/1661 [==============================] - 10s 6ms/step - loss: 0.2725 - accuracy: 0.8993 - val_loss: 0.3076 - val_accuracy: 0.8841\n",
      "Epoch 26/50\n",
      "1661/1661 [==============================] - 10s 6ms/step - loss: 0.2727 - accuracy: 0.8994 - val_loss: 0.3066 - val_accuracy: 0.8844\n",
      "Epoch 27/50\n",
      "1661/1661 [==============================] - 10s 6ms/step - loss: 0.2721 - accuracy: 0.8998 - val_loss: 0.3060 - val_accuracy: 0.8849\n",
      "Epoch 28/50\n",
      "1661/1661 [==============================] - 10s 6ms/step - loss: 0.2717 - accuracy: 0.8996 - val_loss: 0.3069 - val_accuracy: 0.8852\n",
      "Epoch 29/50\n",
      "1661/1661 [==============================] - 10s 6ms/step - loss: 0.2721 - accuracy: 0.9000 - val_loss: 0.3089 - val_accuracy: 0.8828\n",
      "Epoch 30/50\n",
      "1661/1661 [==============================] - 10s 6ms/step - loss: 0.2714 - accuracy: 0.9003 - val_loss: 0.3073 - val_accuracy: 0.8836\n",
      "Epoch 31/50\n",
      "1661/1661 [==============================] - 10s 6ms/step - loss: 0.2715 - accuracy: 0.9000 - val_loss: 0.3063 - val_accuracy: 0.8848\n",
      "Epoch 32/50\n",
      "1661/1661 [==============================] - 10s 6ms/step - loss: 0.2709 - accuracy: 0.9003 - val_loss: 0.3089 - val_accuracy: 0.8834\n",
      "Epoch 33/50\n",
      "1661/1661 [==============================] - 10s 6ms/step - loss: 0.2708 - accuracy: 0.9007 - val_loss: 0.3082 - val_accuracy: 0.8829\n",
      "Epoch 34/50\n",
      "1661/1661 [==============================] - 10s 6ms/step - loss: 0.2705 - accuracy: 0.9006 - val_loss: 0.3062 - val_accuracy: 0.8846\n",
      "Epoch 35/50\n",
      "1661/1661 [==============================] - 10s 6ms/step - loss: 0.2705 - accuracy: 0.9009 - val_loss: 0.3148 - val_accuracy: 0.8795\n",
      "Epoch 36/50\n",
      "1661/1661 [==============================] - 10s 6ms/step - loss: 0.2705 - accuracy: 0.9004 - val_loss: 0.3062 - val_accuracy: 0.8843\n",
      "Epoch 37/50\n",
      "1661/1661 [==============================] - 10s 6ms/step - loss: 0.2699 - accuracy: 0.9010 - val_loss: 0.3076 - val_accuracy: 0.8848\n",
      "Epoch 38/50\n",
      "1661/1661 [==============================] - 10s 6ms/step - loss: 0.2699 - accuracy: 0.9010 - val_loss: 0.3087 - val_accuracy: 0.8835\n",
      "Epoch 39/50\n",
      "1661/1661 [==============================] - 10s 6ms/step - loss: 0.2697 - accuracy: 0.9010 - val_loss: 0.3081 - val_accuracy: 0.8837\n",
      "Epoch 40/50\n",
      "1661/1661 [==============================] - 11s 6ms/step - loss: 0.2694 - accuracy: 0.9012 - val_loss: 0.3062 - val_accuracy: 0.8852\n",
      "Epoch 41/50\n",
      "1661/1661 [==============================] - 10s 6ms/step - loss: 0.2694 - accuracy: 0.9016 - val_loss: 0.3073 - val_accuracy: 0.8845\n",
      "Epoch 42/50\n",
      "1661/1661 [==============================] - 10s 6ms/step - loss: 0.2689 - accuracy: 0.9011 - val_loss: 0.3067 - val_accuracy: 0.8845\n",
      "Epoch 43/50\n",
      "1661/1661 [==============================] - 10s 6ms/step - loss: 0.2692 - accuracy: 0.9014 - val_loss: 0.3060 - val_accuracy: 0.8848\n",
      "Epoch 44/50\n",
      "1661/1661 [==============================] - 10s 6ms/step - loss: 0.2685 - accuracy: 0.9017 - val_loss: 0.3063 - val_accuracy: 0.8847\n",
      "Epoch 45/50\n",
      "1661/1661 [==============================] - 10s 6ms/step - loss: 0.2685 - accuracy: 0.9019 - val_loss: 0.3066 - val_accuracy: 0.8853\n",
      "Epoch 46/50\n",
      "1661/1661 [==============================] - 10s 6ms/step - loss: 0.2684 - accuracy: 0.9017 - val_loss: 0.3080 - val_accuracy: 0.8835\n",
      "Epoch 47/50\n",
      "1661/1661 [==============================] - 10s 6ms/step - loss: 0.2686 - accuracy: 0.9014 - val_loss: 0.3055 - val_accuracy: 0.8849\n",
      "Epoch 48/50\n",
      "1661/1661 [==============================] - 10s 6ms/step - loss: 0.2676 - accuracy: 0.9017 - val_loss: 0.3094 - val_accuracy: 0.8833\n",
      "Epoch 49/50\n",
      "1661/1661 [==============================] - 10s 6ms/step - loss: 0.2679 - accuracy: 0.9021 - val_loss: 0.3115 - val_accuracy: 0.8815\n",
      "Epoch 50/50\n",
      "1661/1661 [==============================] - 10s 6ms/step - loss: 0.2681 - accuracy: 0.9016 - val_loss: 0.3156 - val_accuracy: 0.8796\n",
      "\n",
      ">>> LSTM\n",
      "RMSE: 0.305\n",
      "R squared: 0.617\n",
      "Hellenger Distance: 0.633\n",
      "Heidke Skill Score: 0.751\n",
      "Pierce Skill Score: 0.757\n",
      "Brier Score: 0.12\n",
      "Brier Skill Score: 0.496\n",
      "AUC: 0.879\n",
      "CPU times: user 13min 46s, sys: 2min, total: 15min 47s\n",
      "Wall time: 8min 26s\n"
     ]
    },
    {
     "data": {
      "image/png": "[encoded data removed]",
      "text/plain": [
       "<Figure size 432x288 with 1 Axes>"
      ]
     },
     "metadata": {
      "needs_background": "light"
     },
     "output_type": "display_data"
    }
   ],
   "source": [
    "%%time\n",
    "\n",
    "import tensorflow as tf\n",
    "tf.keras.backend.clear_session()\n",
    "\n",
    "# (ti, ti+1, ti+2) are used to predict ti+3.\n",
    "n_features = n_components # From pca.\n",
    "window_size = 3\n",
    "batch_size= 128\n",
    "time_steps = scaled_train_in_reshaped_reduced.shape[0]\n",
    "\n",
    "# Utility class for generating batches of temporal training data.\n",
    "dg_train = tf.keras.preprocessing.sequence.TimeseriesGenerator(\n",
    "    data=scaled_train_in_reshaped_reduced,\n",
    "    targets=train_out,\n",
    "    length=window_size,\n",
    "    sampling_rate=1,\n",
    "    stride=1,\n",
    "    batch_size=batch_size\n",
    ")\n",
    "\n",
    "# Utility class for generating batches of temporal validation data.\n",
    "dg_val = tf.keras.preprocessing.sequence.TimeseriesGenerator(\n",
    "    data=scaled_val_in_reshaped_reduced,\n",
    "    targets=val_out,\n",
    "    length=window_size,\n",
    "    sampling_rate=1,\n",
    "    stride=1,\n",
    "    batch_size=batch_size\n",
    ")\n",
    "\n",
    "# LSTM architecture.\n",
    "model = model = tf.keras.models.Sequential([\n",
    "    tf.keras.layers.LSTM(8, input_shape=(time_steps, n_features)),\n",
    "    tf.keras.layers.Dense(4, activation=\"tanh\"),\n",
    "    tf.keras.layers.Dense(1, activation=\"sigmoid\")\n",
    "])\n",
    "\n",
    "# Model architecture.\n",
    "model.summary()\n",
    "\n",
    "# Prepare for training.\n",
    "model.compile(\n",
    "    optimizer=tf.keras.optimizers.Adam(),\n",
    "    loss=\"binary_crossentropy\",\n",
    "    metrics=[\"accuracy\"]\n",
    ")\n",
    "\n",
    "# Train!\n",
    "history = model.fit_generator(\n",
    "    generator=dg_train, \n",
    "    epochs=50, \n",
    "    verbose=1,\n",
    "    validation_data=dg_val\n",
    ")\n",
    "\n",
    "# Accuracy as function of epochs.\n",
    "plt.plot(history.history[\"val_accuracy\"], \".-r\", label=\"validation\")\n",
    "plt.plot(history.history[\"accuracy\"],  \".-b\", label=\"train\")\n",
    "plt.xlabel(\"Epoch number\")\n",
    "plt.ylabel(\"Accuracy\")\n",
    "plt.title(\"LSTM\", weight=\"bold\")\n",
    "plt.legend()\n",
    "plt.grid()\n",
    "\n",
    "# Set the probability threshold for binary classification.\n",
    "# Predict on validation. \n",
    "# Add binary preds.\n",
    "binary_threshold = 0.5\n",
    "preds = model.predict(x=dg_val).reshape((-1, ))\n",
    "binary_preds = np.where(preds >= binary_threshold, 1, 0)\n",
    "\n",
    "print(\"\\n>>> LSTM\")\n",
    "\n",
    "# Example regressed metrics\n",
    "print('RMSE: {}'.format(np.round(root_mean_squared_error(val_out[window_size:], preds),3)))\n",
    "print('R squared: {}'.format(np.round(r2_corr(val_out[window_size:], preds),3)))\n",
    "print('Hellenger Distance: {}'.format(np.round(hellinger_distance(val_out[window_size:], preds),3)))\n",
    "\n",
    "# Example classified metrics\n",
    "print('Heidke Skill Score: {}'.format(np.round(heidke_skill_score(val_out[window_size:], binary_preds),3)))\n",
    "print('Pierce Skill Score: {}'.format(np.round(peirce_skill_score(val_out[window_size:], binary_preds),3)))\n",
    "print('Brier Score: {}'.format(np.round(brier_score(val_out[window_size:], binary_preds),3)))\n",
    "print('Brier Skill Score: {}'.format(np.round(brier_skill_score(val_out[window_size:], binary_preds),3)))\n",
    "print('AUC: {}'.format(np.round(roc_auc_score(val_out[window_size:], binary_preds),3)))"
   ]
  },
  {
   "cell_type": "markdown",
   "metadata": {},
   "source": [
    "### Thursday \n",
    "* Evaluate two interpretation methods for your machine learning solution\n",
    "* Compare interpretation of baseline with your approach\n",
    "* Submit best results on project to leaderboard\n",
    "* Prepare 2 Google Slides on team's approach and submit them "
   ]
  },
  {
   "cell_type": "code",
   "execution_count": null,
   "metadata": {
    "collapsed": true,
    "jupyter": {
     "outputs_hidden": true
    }
   },
   "outputs": [],
   "source": [
    "# Thursday's code goes here\n"
   ]
  },
  {
   "cell_type": "markdown",
   "metadata": {},
   "source": [
    "## Ultimate Submission Code\n",
    "Please insert your full data processing and machine learning pipeline code in the cell below."
   ]
  },
  {
   "cell_type": "code",
   "execution_count": null,
   "metadata": {
    "collapsed": true,
    "jupyter": {
     "outputs_hidden": true
    }
   },
   "outputs": [],
   "source": []
  }
 ],
 "metadata": {
  "kernelspec": {
   "display_name": "Python 3",
   "language": "python",
   "name": "python3"
  },
  "language_info": {
   "codemirror_mode": {
    "name": "ipython",
    "version": 3
   },
   "file_extension": ".py",
   "mimetype": "text/x-python",
   "name": "python",
   "nbconvert_exporter": "python",
   "pygments_lexer": "ipython3",
   "version": "3.7.6"
  }
 },
 "nbformat": 4,
 "nbformat_minor": 4
}

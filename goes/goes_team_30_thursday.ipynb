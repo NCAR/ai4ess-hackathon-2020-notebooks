{
 "cells": [
  {
   "cell_type": "markdown",
   "metadata": {},
   "source": [
    "# AI for Earth System Science Hackathon 2020\n",
    "# GOES Challenge\n",
    "David John Gagne, Gunther Wallach, Charlie Becker, Bill Petzke\n",
    "\n",
    "## Introduction\n",
    "![GOES-R satellite image from Wikipedia](goes_images/GOES-R_SPACECRAFT.jpg)\n",
    "\n",
    "Lightning kills roughly 30 people per year in the United States (https://www.weather.gov/safety/lightning-victims) and can have large economic impacts by disrupting outdoor work and events and by sparking fires. Improved short term prediction of lightning onset can help protect life and property by ensuring that people can get to safety with sufficient lead time. The economic impacts of lightning protection practices can also be reduced by improving the prediction of when lightning is expected to end. \n",
    "\n",
    "Recently deployed observational systems combined with advances in machine learning have the potential to improve the short-term prediction of lightning by associating broader scale weather patterns with the future occurrence of lightning in that area. The Geostationary Operational Environmental Satellite 16 (GOES-16) is a weather satellite that orbits the Earth at a fixed point situated along the same longitude as the Eastern United States and can provide a hemispheric, multispectral view of cloud patterns at high space and time resolution through its Advanced Baseline Imager (ABI) camera. The satellite also holds the Geostationary Lightning Mapper (GLM) instrument that records lightning flashes across the hemispheric view of the satellite. By combining the data collected by these two instruments, we can develop new machine learning solutions to the challenge of short range lightning prediction.  "
   ]
  },
  {
   "cell_type": "markdown",
   "metadata": {},
   "source": [
    "## Software Requirements\n",
    "This notebook requires Python >= 3.7. The following libraries are required:\n",
    "* numpy\n",
    "* scipy\n",
    "* matplotlib\n",
    "* xarray\n",
    "* pandas\n",
    "* scikit-learn\n",
    "* tensorflow >= 2.1\n",
    "* netcdf4\n",
    "* tqdm\n"
   ]
  },
  {
   "cell_type": "code",
   "execution_count": 2,
   "metadata": {},
   "outputs": [
    {
     "name": "stdout",
     "output_type": "stream",
     "text": [
      "Requirement already satisfied: numpy in /opt/conda/lib/python3.7/site-packages (1.17.5)\n",
      "Requirement already satisfied: scipy in /opt/conda/lib/python3.7/site-packages (1.4.1)\n",
      "Requirement already satisfied: matplotlib in /opt/conda/lib/python3.7/site-packages (3.2.2)\n",
      "Requirement already satisfied: xarray in /opt/conda/lib/python3.7/site-packages (0.15.1)\n",
      "Requirement already satisfied: pandas in /opt/conda/lib/python3.7/site-packages (1.0.5)\n",
      "Requirement already satisfied: netcdf4 in /opt/conda/lib/python3.7/site-packages (1.5.3)\n",
      "Requirement already satisfied: h5netcdf in /opt/conda/lib/python3.7/site-packages (0.8.0)\n",
      "Requirement already satisfied: tqdm in /opt/conda/lib/python3.7/site-packages (4.46.1)\n",
      "Requirement already satisfied: tensorflow in /opt/conda/lib/python3.7/site-packages (2.2.0)\n",
      "Requirement already satisfied: scikit-learn in /opt/conda/lib/python3.7/site-packages (0.23.1)\n",
      "Requirement already satisfied: dask in /opt/conda/lib/python3.7/site-packages (2.19.0)\n",
      "Requirement already satisfied: s3fs in /opt/conda/lib/python3.7/site-packages (0.4.2)\n",
      "Requirement already satisfied: goes16ci in /opt/conda/lib/python3.7/site-packages (0.1.3)\n",
      "Requirement already satisfied: seaborn in /opt/conda/lib/python3.7/site-packages (0.10.1)\n",
      "Requirement already satisfied: kiwisolver>=1.0.1 in /opt/conda/lib/python3.7/site-packages (from matplotlib) (1.2.0)\n",
      "Requirement already satisfied: python-dateutil>=2.1 in /opt/conda/lib/python3.7/site-packages (from matplotlib) (2.8.1)\n",
      "Requirement already satisfied: pyparsing!=2.0.4,!=2.1.2,!=2.1.6,>=2.0.1 in /opt/conda/lib/python3.7/site-packages (from matplotlib) (2.4.7)\n",
      "Requirement already satisfied: cycler>=0.10 in /opt/conda/lib/python3.7/site-packages (from matplotlib) (0.10.0)\n",
      "Requirement already satisfied: setuptools>=41.2 in /opt/conda/lib/python3.7/site-packages (from xarray) (47.1.1.post20200529)\n",
      "Requirement already satisfied: pytz>=2017.2 in /opt/conda/lib/python3.7/site-packages (from pandas) (2020.1)\n",
      "Requirement already satisfied: cftime in /opt/conda/lib/python3.7/site-packages (from netcdf4) (1.1.3)\n",
      "Requirement already satisfied: h5py in /opt/conda/lib/python3.7/site-packages (from h5netcdf) (2.10.0)\n",
      "Requirement already satisfied: wrapt>=1.11.1 in /opt/conda/lib/python3.7/site-packages (from tensorflow) (1.12.1)\n",
      "Requirement already satisfied: tensorflow-estimator<2.3.0,>=2.2.0 in /opt/conda/lib/python3.7/site-packages (from tensorflow) (2.2.0)\n",
      "Requirement already satisfied: gast==0.3.3 in /opt/conda/lib/python3.7/site-packages (from tensorflow) (0.3.3)\n",
      "Requirement already satisfied: keras-preprocessing>=1.1.0 in /opt/conda/lib/python3.7/site-packages (from tensorflow) (1.1.2)\n",
      "Requirement already satisfied: tensorboard<2.3.0,>=2.2.0 in /opt/conda/lib/python3.7/site-packages (from tensorflow) (2.2.2)\n",
      "Requirement already satisfied: six>=1.12.0 in /opt/conda/lib/python3.7/site-packages (from tensorflow) (1.15.0)\n",
      "Requirement already satisfied: wheel>=0.26; python_version >= \"3\" in /opt/conda/lib/python3.7/site-packages (from tensorflow) (0.34.2)\n",
      "Requirement already satisfied: google-pasta>=0.1.8 in /opt/conda/lib/python3.7/site-packages (from tensorflow) (0.2.0)\n",
      "Requirement already satisfied: astunparse==1.6.3 in /opt/conda/lib/python3.7/site-packages (from tensorflow) (1.6.3)\n",
      "Requirement already satisfied: opt-einsum>=2.3.2 in /opt/conda/lib/python3.7/site-packages (from tensorflow) (3.2.1)\n",
      "Requirement already satisfied: grpcio>=1.8.6 in /opt/conda/lib/python3.7/site-packages (from tensorflow) (1.29.0)\n",
      "Requirement already satisfied: absl-py>=0.7.0 in /opt/conda/lib/python3.7/site-packages (from tensorflow) (0.9.0)\n",
      "Requirement already satisfied: termcolor>=1.1.0 in /opt/conda/lib/python3.7/site-packages (from tensorflow) (1.1.0)\n",
      "Requirement already satisfied: protobuf>=3.8.0 in /opt/conda/lib/python3.7/site-packages (from tensorflow) (3.12.2)\n",
      "Requirement already satisfied: joblib>=0.11 in /opt/conda/lib/python3.7/site-packages (from scikit-learn) (0.15.1)\n",
      "Requirement already satisfied: threadpoolctl>=2.0.0 in /opt/conda/lib/python3.7/site-packages (from scikit-learn) (2.1.0)\n",
      "Requirement already satisfied: pyyaml in /opt/conda/lib/python3.7/site-packages (from dask) (5.3.1)\n",
      "Requirement already satisfied: fsspec>=0.6.0 in /opt/conda/lib/python3.7/site-packages (from s3fs) (0.7.4)\n",
      "Requirement already satisfied: botocore>=1.12.91 in /opt/conda/lib/python3.7/site-packages (from s3fs) (1.17.7)\n",
      "Requirement already satisfied: requests<3,>=2.21.0 in /opt/conda/lib/python3.7/site-packages (from tensorboard<2.3.0,>=2.2.0->tensorflow) (2.23.0)\n",
      "Requirement already satisfied: markdown>=2.6.8 in /opt/conda/lib/python3.7/site-packages (from tensorboard<2.3.0,>=2.2.0->tensorflow) (3.2.2)\n",
      "Requirement already satisfied: werkzeug>=0.11.15 in /opt/conda/lib/python3.7/site-packages (from tensorboard<2.3.0,>=2.2.0->tensorflow) (1.0.1)\n",
      "Requirement already satisfied: tensorboard-plugin-wit>=1.6.0 in /opt/conda/lib/python3.7/site-packages (from tensorboard<2.3.0,>=2.2.0->tensorflow) (1.6.0.post3)\n",
      "Requirement already satisfied: google-auth<2,>=1.6.3 in /opt/conda/lib/python3.7/site-packages (from tensorboard<2.3.0,>=2.2.0->tensorflow) (1.18.0)\n",
      "Requirement already satisfied: google-auth-oauthlib<0.5,>=0.4.1 in /opt/conda/lib/python3.7/site-packages (from tensorboard<2.3.0,>=2.2.0->tensorflow) (0.4.1)\n",
      "Requirement already satisfied: docutils<0.16,>=0.10 in /opt/conda/lib/python3.7/site-packages (from botocore>=1.12.91->s3fs) (0.15.2)\n",
      "Requirement already satisfied: urllib3<1.26,>=1.20 in /opt/conda/lib/python3.7/site-packages (from botocore>=1.12.91->s3fs) (1.25.9)\n",
      "Requirement already satisfied: jmespath<1.0.0,>=0.7.1 in /opt/conda/lib/python3.7/site-packages (from botocore>=1.12.91->s3fs) (0.10.0)\n",
      "Requirement already satisfied: chardet<4,>=3.0.2 in /opt/conda/lib/python3.7/site-packages (from requests<3,>=2.21.0->tensorboard<2.3.0,>=2.2.0->tensorflow) (3.0.4)\n",
      "Requirement already satisfied: idna<3,>=2.5 in /opt/conda/lib/python3.7/site-packages (from requests<3,>=2.21.0->tensorboard<2.3.0,>=2.2.0->tensorflow) (2.9)\n",
      "Requirement already satisfied: certifi>=2017.4.17 in /opt/conda/lib/python3.7/site-packages (from requests<3,>=2.21.0->tensorboard<2.3.0,>=2.2.0->tensorflow) (2020.6.20)\n",
      "Requirement already satisfied: importlib-metadata; python_version < \"3.8\" in /opt/conda/lib/python3.7/site-packages (from markdown>=2.6.8->tensorboard<2.3.0,>=2.2.0->tensorflow) (1.6.1)\n",
      "Requirement already satisfied: pyasn1-modules>=0.2.1 in /opt/conda/lib/python3.7/site-packages (from google-auth<2,>=1.6.3->tensorboard<2.3.0,>=2.2.0->tensorflow) (0.2.8)\n",
      "Requirement already satisfied: rsa<5,>=3.1.4; python_version >= \"3\" in /opt/conda/lib/python3.7/site-packages (from google-auth<2,>=1.6.3->tensorboard<2.3.0,>=2.2.0->tensorflow) (4.6)\n",
      "Requirement already satisfied: cachetools<5.0,>=2.0.0 in /opt/conda/lib/python3.7/site-packages (from google-auth<2,>=1.6.3->tensorboard<2.3.0,>=2.2.0->tensorflow) (4.1.0)\n",
      "Requirement already satisfied: requests-oauthlib>=0.7.0 in /opt/conda/lib/python3.7/site-packages (from google-auth-oauthlib<0.5,>=0.4.1->tensorboard<2.3.0,>=2.2.0->tensorflow) (1.3.0)\n",
      "Requirement already satisfied: zipp>=0.5 in /opt/conda/lib/python3.7/site-packages (from importlib-metadata; python_version < \"3.8\"->markdown>=2.6.8->tensorboard<2.3.0,>=2.2.0->tensorflow) (3.1.0)\n",
      "Requirement already satisfied: pyasn1<0.5.0,>=0.4.6 in /opt/conda/lib/python3.7/site-packages (from pyasn1-modules>=0.2.1->google-auth<2,>=1.6.3->tensorboard<2.3.0,>=2.2.0->tensorflow) (0.4.8)\n",
      "Requirement already satisfied: oauthlib>=3.0.0 in /opt/conda/lib/python3.7/site-packages (from requests-oauthlib>=0.7.0->google-auth-oauthlib<0.5,>=0.4.1->tensorboard<2.3.0,>=2.2.0->tensorflow) (3.0.1)\n"
     ]
    }
   ],
   "source": [
    "! pip install numpy scipy matplotlib xarray pandas netcdf4 h5netcdf tqdm tensorflow scikit-learn dask s3fs goes16ci seaborn"
   ]
  },
  {
   "cell_type": "code",
   "execution_count": 3,
   "metadata": {},
   "outputs": [
    {
     "name": "stdout",
     "output_type": "stream",
     "text": [
      "PhysicalDevice(name='/physical_device:GPU:0', device_type='GPU')\n"
     ]
    }
   ],
   "source": [
    "import numpy as np\n",
    "import pandas as pd\n",
    "import seaborn as sns\n",
    "import random\n",
    "import xarray as xr\n",
    "import tensorflow as tf\n",
    "import matplotlib.pyplot as plt\n",
    "from dask.distributed import Client, LocalCluster, progress\n",
    "from goes16ci.models import StandardConvNet, ResNet, MinMaxScaler2D\n",
    "import s3fs\n",
    "from glob import glob\n",
    "%matplotlib inline\n",
    "\n",
    "# Set random seed\n",
    "seed = 3985\n",
    "np.random.seed(seed)\n",
    "random.seed(seed)\n",
    "tf.random.set_seed(seed)\n",
    "\n",
    "gpus = tf.config.get_visible_devices(\"GPU\")\n",
    "for device in gpus:\n",
    "    print(device)\n",
    "    tf.config.experimental.set_memory_growth(device, True)"
   ]
  },
  {
   "cell_type": "markdown",
   "metadata": {},
   "source": [
    "## Data\n",
    "\n",
    "### Data Generation\n",
    "\n",
    "\n",
    "There are several GOES-16 data products available. We are primarily interested in the water vapor bands from the Advanced Baseline Imager (ABI) and lightning counts from the Geostationary Lightning Mapper (GLM). The ABI camera’s spatial resolution is 2 km with a temporal resolution of 5 minutes. We chose to select/crop 32 x 32 sized image patches (for each band) across our domain (CONUS Midwest) at an upsampled rate of every 20 minutes from 2019-03-02 through 2019-10-01. We used these same spatio-temporal patches to aggregate all lightning flash counts within that patch but lagged by one hour. Total aggregated data was output at a daily interval.  "
   ]
  },
  {
   "cell_type": "markdown",
   "metadata": {},
   "source": [
    "### Useful Links\n",
    "\n",
    "[Overall GOES-16 Band Reference Guide](https://www.weather.gov/media/crp/GOES_16_Guides_FINALBIS.pdf)\n",
    "\n",
    "[GOES-16 Band 08 Info (Upper-level Water Vapor)](http://cimss.ssec.wisc.edu/goes/OCLOFactSheetPDFs/ABIQuickGuide_Band08.pdf)\n",
    "\n",
    "[GOES-16 Band 09 Info (Mid-level Water Vapor)](http://cimss.ssec.wisc.edu/goes/OCLOFactSheetPDFs/ABIQuickGuide_Band09.pdf)\n",
    "\n",
    "[GOES-16 Band 10 Info (Low-level Water Vapor)](http://cimss.ssec.wisc.edu/goes/OCLOFactSheetPDFs/ABIQuickGuide_Band10.pdf)\n",
    "\n",
    "[GOES-16 Band 14 Info (Longwave Window)](http://cimss.ssec.wisc.edu/goes/OCLOFactSheetPDFs/ABIQuickGuide_Band14.pdf)\n",
    "\n",
    "[GOES-16 Geostationary Lightning Mapper (GLM)](https://www.goes-r.gov/spacesegment/glm.html)\n",
    "\n",
    "\n",
    "### Time span of the dataset\n",
    "\n",
    "|  | Date/Time | \n",
    "| ------------- | :---- |\n",
    "| Start | 2019-03-02 00:20:00 | \n",
    "| End | 2019-10-02 00:00:00 |\n",
    "| Timestep | 00:20:00 | \n",
    "| NOTE: some days are missing (intentionally skipped) to isolate convective cycles\n",
    "\n",
    "\n",
    "\n",
    "\n",
    "\n",
    "### Geographic Coverage of Dataset (Mostly Midwest CONUS)\n",
    "\n",
    "|  | Latitude | Longitude |\n",
    "| ------------- | :----:|:- |\n",
    "| Min | 29.09 | -97.77 |\n",
    "| Max | 48.97 | -82.53 |\n",
    "\n",
    "\n",
    "\n",
    "\n",
    "### Dimensions\n",
    "\n",
    "| Dimension Name | Description | Size |\n",
    "| ------------- | :----:|:----------- |\n",
    "| Band     | ABI Band Number  | 4 (Bands 8,9,10,14) |\n",
    "| Patch      | spatio-temporal patch | ~3600 per day |\n",
    "| X      | X-plane | 32 |\n",
    "| Y      | Y-plane | 32 |\n",
    "\n",
    "### Potential Input Variables\n",
    "\n",
    "| Variable Name | Units | Description | \n",
    "| ------------- | :----:|:----------- | \n",
    "| abi (Band 08)   | K     | Upper-level Water Vapor | \n",
    "| abi (Band 09)   | K     | Mid-level Water Vapor   |\n",
    "| abi (Band 10)   | K     | Lower-level Water Vapor |\n",
    "| abi (Band 14)   | K     | Longwave Window         |\n",
    "\n",
    "### Output Variables\n",
    "\n",
    "| Variable Name | Units | Description |\n",
    "| ------------- | :----:|:----------- |\n",
    "| flash_counts    | -     | Lightning strike count |\n",
    "\n",
    "\n",
    "### Metadata Variables\n",
    "\n",
    "| Variable Name | Units | Description |\n",
    "| ------------- | :----:|:----------- |\n",
    "| Time     | YYYY-MM-DDTHH:MM:SS  | The Date   |\n",
    "| Lat      | Degrees     | Latitude   |\n",
    "| Lon      | Degrees     | Longitude  |\n",
    "\n",
    "\n",
    "### Training/Validation/Testing Sets\n",
    "\n",
    "The function `split_data_files()` will split the data files into approximately equal partitions for training/validation/testing. By default, it takes 4-day contiguous data “chunks” per partition while skipping 1 day between to isolate convective cycles (and thus not validate/test on data linked to the training data), and repeats throughout the selected timespan.  Thus, each set should contain approximately 210,000 (32 x 32)  samples (patches) if the entire timespan is used.\n"
   ]
  },
  {
   "cell_type": "code",
   "execution_count": 4,
   "metadata": {},
   "outputs": [],
   "source": [
    "# How to load the data from disk or cloud\n",
    "\n",
    "def split_data_files(dir_path=\"ncar-aiml-data-commons/goes/ABI_patches_32/\", file_prefix='abi_patches_', \n",
    "               start_date='20190302', end_date='20191001', seq_len=4, skip_len=1):\n",
    "    \"\"\"\n",
    "    Take daily ABI patch files and split into equal training/validation/testing\n",
    "    semi-contiguous partitions, skipping day(s) between chunks to isolate convective \n",
    "    cycles.\n",
    "    \n",
    "    Args: \n",
    "        dir_path: (str) Directory path to daily ABI files\n",
    "        file_prefix: (str) File prefix up to date \n",
    "        start_date: (str) Starting date to get files in format of YYYYMMDD\n",
    "        end_date: (str) Ending date to get files in format of YYYYMMDD\n",
    "        seq_len: (int) Length of days per 'chunk' of data\n",
    "        skip_len: (int) How many days to skip between data chunks\n",
    "        \n",
    "    Returns:\n",
    "        train_f, val_f, test_f: list of training/validation/test files\n",
    "    \"\"\"\n",
    "    \n",
    "    all_files = fs.ls(dir_path)\n",
    "    start_index = all_files.index('{}{}{}T000000.nc'.format(dir_path, file_prefix, start_date))\n",
    "    end_index = all_files.index('{}{}{}T000000.nc'.format(dir_path, file_prefix, end_date))\n",
    "    file_spread = all_files[start_index:end_index+1]\n",
    "    \n",
    "    train_files, val_files, test_files = [], [], []\n",
    "    \n",
    "    for i in np.arange(0, len(file_spread)+1, (seq_len+skip_len)*3):\n",
    "        \n",
    "        val_i = i + seq_len + skip_len\n",
    "        test_i = i + (seq_len + skip_len)*2\n",
    "        \n",
    "        train_files.append(file_spread[i:i+seq_len])\n",
    "        val_files.append(file_spread[val_i:val_i+seq_len])\n",
    "        test_files.append(file_spread[test_i:test_i+seq_len])\n",
    "        \n",
    "    train_f = [item for sublist in train_files for item in sublist]\n",
    "    val_f = [item for sublist in val_files for item in sublist]\n",
    "    test_f = [item for sublist in test_files for item in sublist]\n",
    "    \n",
    "    return train_f, val_f, test_f\n",
    "\n",
    "def fetch_data(file_number, file_list):\n",
    "    \"\"\"\n",
    "    Function to be distributed across a cluster to individually load files directly from an AWS S3 bucket \n",
    "    \n",
    "    Args:\n",
    "        file_number: index for file from file_list\n",
    "        file_list: List of files to index from\n",
    "    Returns:\n",
    "        ds: xarray dataset of daily file \n",
    "    \"\"\"\n",
    "    obj = fs.open(file_list[file_number])\n",
    "    ds = xr.open_dataset(obj, chunks={})\n",
    "    \n",
    "    return ds\n",
    "\n",
    "def merge_data(file_list):\n",
    "    \"\"\"\n",
    "    Take a list of files and distribute across a cluster to be loaded then gathered and concantenated\n",
    "    \n",
    "    Args:\n",
    "        file_list: List of files to be merged together (training, validation, or testing)\n",
    "    Returns:\n",
    "        merged_data: Concatenated xarray dataset of training, validation, or testing data \n",
    "    \"\"\"\n",
    "    futures = client.map(fetch_data, range(len(file_list)), [file_list]*len(file_list))\n",
    "    results = client.gather(futures)\n",
    "    merged_data = xr.concat(results, 'patch').compute()\n",
    "    \n",
    "    return merged_data\n",
    "\n",
    "def prepare_data(data):\n",
    "    \"\"\"\n",
    "    Take GOES netCDF data, filter out NaNs, reshape for tensorflow, convert flash_counts to binary,\n",
    "    and return filtered numpy arrays\n",
    "    Args:\n",
    "        data: GOES patch netCDF data including ABI bands and lightning flash counts\n",
    "    Returns:\n",
    "        good_imagery: NaN filtered numpy array with reshaped dimensions (patch, x, y, band)\n",
    "        binary_output: 1D numpy array of lightnin flash_counts\n",
    "    \"\"\"\n",
    "    \n",
    "    input_data = np.moveaxis(data['abi'].values, 1, -1)\n",
    "    output_data = data['flash_counts'].values\n",
    "    \n",
    "    nan_indices = np.unique(np.where(np.isnan(input_data))[0])\n",
    "    all_indices = np.arange(input_data.shape[0])\n",
    "    valid_indices = all_indices[np.isin(all_indices, nan_indices, assume_unique=True, invert=True)]\n",
    "    \n",
    "    good_imagery = input_data[valid_indices]\n",
    "    binary_output = np.where(output_data > 0, 1, 0)[valid_indices]\n",
    "    \n",
    "    return good_imagery, binary_output"
   ]
  },
  {
   "cell_type": "markdown",
   "metadata": {},
   "source": [
    "We use DASK to create a local cluster to speed up the data loading process (Loading data directly from an AWS S3 bucket can be slow)."
   ]
  },
  {
   "cell_type": "code",
   "execution_count": 5,
   "metadata": {},
   "outputs": [],
   "source": [
    "cluster = LocalCluster(processes=True, threads_per_worker=2)\n",
    "client = Client(cluster)\n",
    "fs = s3fs.S3FileSystem(anon=True)"
   ]
  },
  {
   "cell_type": "code",
   "execution_count": 6,
   "metadata": {},
   "outputs": [
    {
     "name": "stdout",
     "output_type": "stream",
     "text": [
      "CPU times: user 26 s, sys: 44.6 s, total: 1min 10s\n",
      "Wall time: 4min 58s\n"
     ]
    }
   ],
   "source": [
    "%%time\n",
    "# Split into training, validation, and test sets\n",
    "# We only load the train and val sets here to save a couple minutes\n",
    "train_files, val_files, test_files = split_data_files()\n",
    "train, val = map(merge_data, [train_files, val_files])"
   ]
  },
  {
   "cell_type": "code",
   "execution_count": 7,
   "metadata": {},
   "outputs": [
    {
     "name": "stderr",
     "output_type": "stream",
     "text": [
      "distributed.client - ERROR - Failed to reconnect to scheduler after 10.00 seconds, closing client\n",
      "_GatheringFuture exception was never retrieved\n",
      "future: <_GatheringFuture finished exception=CancelledError()>\n",
      "concurrent.futures._base.CancelledError\n"
     ]
    }
   ],
   "source": [
    "client.shutdown()"
   ]
  },
  {
   "cell_type": "markdown",
   "metadata": {},
   "source": [
    "# run till here\n"
   ]
  },
  {
   "cell_type": "markdown",
   "metadata": {},
   "source": [
    "## Exploratory visualizations\n",
    "\n",
    "##When seperating by band, lightning active patches usually have a similar brightness temperature (BT) profiles throughout the 4 water vapor channels. Low BT convective cells are often seen as well (as expected)."
   ]
  },
  {
   "cell_type": "code",
   "execution_count": 7,
   "metadata": {},
   "outputs": [
    {
     "data": {
      "image/png": "[encoded data removed]",
      "text/plain": [
       "<Figure size 864x576 with 8 Axes>"
      ]
     },
     "metadata": {
      "needs_background": "light"
     },
     "output_type": "display_data"
    }
   ],
   "source": [
    "high_lc_indices = np.argwhere(train.flash_counts.values > 100).flatten() # indices with more than 100 lightning counts\n",
    "no_lc_indices = np.argwhere(train.flash_counts.values == 0).flatten() # indices with no lightning counts\n",
    "\n",
    "index = high_lc_indices[205]\n",
    "vmin = train['abi'][index,:,:,:].min() # set min/max plotting range  \n",
    "vmax = train['abi'][index,:,:,:].max()\n",
    "\n",
    "fig, ax = plt.subplots(2,2, figsize=(12,8))\n",
    "for i in range(4):\n",
    "    train['abi'][index,i,:,:].plot(ax=ax.ravel()[i], vmin=vmin, vmax=vmax)\n",
    "    plt.suptitle('Exmaple Patch with High Lightning Activity', fontsize=20)"
   ]
  },
  {
   "cell_type": "markdown",
   "metadata": {},
   "source": [
    "Areas without lightning activity often exibit a much larger BT range throughout the channel column, particularily the longwave window (Band 14) which often has much higher values with clear skies."
   ]
  },
  {
   "cell_type": "code",
   "execution_count": 8,
   "metadata": {},
   "outputs": [
    {
     "data": {
      "image/png": "[encoded data removed]",
      "text/plain": [
       "<Figure size 864x576 with 8 Axes>"
      ]
     },
     "metadata": {
      "needs_background": "light"
     },
     "output_type": "display_data"
    }
   ],
   "source": [
    "index = no_lc_indices[300]\n",
    "vmin = train['abi'][index,:,:,:].min() # set min/max plotting range\n",
    "vmax = train['abi'][index,:,:,:].max() # set min/max plotting range\n",
    "\n",
    "fig, ax = plt.subplots(2,2, figsize=(12,8))\n",
    "for i in range(4):\n",
    "    train['abi'][index,i,:,:].plot(ax=ax.ravel()[i], vmin=vmin, vmax=vmax)\n",
    "    plt.suptitle('Exmaple Patch with No Lightning Activity', fontsize=20)"
   ]
  },
  {
   "cell_type": "markdown",
   "metadata": {},
   "source": [
    "This pattern is also noted when taking the mean value of each patch across the dataset."
   ]
  },
  {
   "cell_type": "code",
   "execution_count": 9,
   "metadata": {},
   "outputs": [
    {
     "name": "stderr",
     "output_type": "stream",
     "text": [
      "/opt/conda/lib/python3.7/site-packages/xarray/core/nanops.py:142: RuntimeWarning: Mean of empty slice\n",
      "  return np.nanmean(a, axis=axis, dtype=dtype)\n"
     ]
    },
    {
     "data": {
      "image/png": "[encoded data removed]",
      "text/plain": [
       "<Figure size 864x864 with 2 Axes>"
      ]
     },
     "metadata": {
      "needs_background": "light"
     },
     "output_type": "display_data"
    }
   ],
   "source": [
    "lc_train = train.isel(patch=high_lc_indices) # all patch data with lightning counts (above threshold)\n",
    "no_lc_train = train.isel(patch=no_lc_indices) # all patch data without lightning activity\n",
    "mean_patches_lc = lc_train.abi.mean(dim=('x','y')) # mean BT of each patch\n",
    "mean_patches_no_lc = no_lc_train.abi.mean(dim=('x','y')) # mean BT of each patch\n",
    "\n",
    "fig, ax = plt.subplots(2,1, figsize=(12,12))\n",
    "for i,lab in enumerate(['Band: 08', 'Band: 09', 'Band: 10', 'Band: 14']*2):\n",
    "    if i < 4:\n",
    "        sns.kdeplot(mean_patches_lc[:,i], ax=ax[0], label=lab, shade=True).set_title(\n",
    "            'Mean Patch Distributions With Lightning Activity', fontsize=22)\n",
    "    else:\n",
    "        sns.kdeplot(mean_patches_no_lc[:,i-4], ax=ax[1], label=lab, shade=True).set_title(\n",
    "            'Mean Patch Distributions Without Lightning Activity', fontsize=22)"
   ]
  },
  {
   "cell_type": "markdown",
   "metadata": {},
   "source": [
    "### Data Transforms\n",
    "Discuss any transforms or normalizations that may be needed for this dataset. Remember to fit a scaler only to the training data and then apply it on testing and validation."
   ]
  },
  {
   "cell_type": "code",
   "execution_count": 10,
   "metadata": {},
   "outputs": [],
   "source": [
    "# Visual of input variable before and after transform\n",
    "# Example of data transform procedure for dataset"
   ]
  },
  {
   "cell_type": "code",
   "execution_count": 11,
   "metadata": {},
   "outputs": [
    {
     "name": "stderr",
     "output_type": "stream",
     "text": [
      "distributed.client - ERROR - Failed to reconnect to scheduler after 10.00 seconds, closing client\n",
      "_GatheringFuture exception was never retrieved\n",
      "future: <_GatheringFuture finished exception=CancelledError()>\n",
      "concurrent.futures._base.CancelledError\n"
     ]
    },
    {
     "name": "stdout",
     "output_type": "stream",
     "text": [
      "CPU times: user 21.7 s, sys: 7.5 s, total: 29.2 s\n",
      "Wall time: 28.9 s\n"
     ]
    }
   ],
   "source": [
    "%%time\n",
    "# get numpy arrays of patch data for each band (this also converts all flash_counts to binary classes)\n",
    "train_in, train_out = prepare_data(train) \n",
    "val_in, val_out = prepare_data(val)\n",
    "\n",
    "# scale data\n",
    "scaler = MinMaxScaler2D()\n",
    "scaled_train_in = scaler.fit_transform(train_in)\n",
    "scaled_val_in = scaler.transform(val_in)"
   ]
  },
  {
   "cell_type": "code",
   "execution_count": 12,
   "metadata": {},
   "outputs": [
    {
     "data": {
      "text/plain": [
       "{'min_filters': 16,\n",
       " 'filter_width': 3,\n",
       " 'filter_growth_rate': 2,\n",
       " 'min_data_width': 4,\n",
       " 'hidden_activation': 'relu',\n",
       " 'output_activation': 'sigmoid',\n",
       " 'use_dropout': False,\n",
       " 'pooling': 'mean',\n",
       " 'dropout_alpha': 0.0,\n",
       " 'data_format': 'channels_last',\n",
       " 'optimizer': 'adam',\n",
       " 'learning_rate': 0.001,\n",
       " 'loss': 'mse',\n",
       " 'metrics': None,\n",
       " 'leaky_alpha': 0.1,\n",
       " 'batch_size': 512,\n",
       " 'epochs': 5,\n",
       " 'sgd_momentum': 0.99,\n",
       " 'model': None,\n",
       " 'parallel_model': None,\n",
       " 'time_history': <goes16ci.models.TimeHistory at 0x7f1e21b8b290>,\n",
       " 'loss_history': <goes16ci.models.LossHistory at 0x7f1e21750190>,\n",
       " 'verbose': 0}"
      ]
     },
     "execution_count": 12,
     "metadata": {},
     "output_type": "execute_result"
    }
   ],
   "source": [
    "# declare ResNet (residual network from the goes16i module) and list the default parameters\n",
    "# Any of these parameters can be overridden\n",
    "# note using larger batch sizes here can cause memory errors\n",
    "resNet_mod = ResNet(epochs=5, batch_size=512)\n",
    "vars(resNet_mod)"
   ]
  },
  {
   "cell_type": "code",
   "execution_count": 13,
   "metadata": {},
   "outputs": [
    {
     "name": "stdout",
     "output_type": "stream",
     "text": [
      "{'loss': 0.08095646649599075, 'val_loss': 0.2931648790836334}\n",
      "{'loss': 0.06789491325616837, 'val_loss': 0.08812424540519714}\n",
      "{'loss': 0.06436078250408173, 'val_loss': 0.09999733418226242}\n",
      "{'loss': 0.06302028894424438, 'val_loss': 0.11229163408279419}\n",
      "{'loss': 0.06096876785159111, 'val_loss': 0.11667578667402267}\n",
      "Model: \"model\"\n",
      "__________________________________________________________________________________________________\n",
      "Layer (type)                    Output Shape         Param #     Connected to                     \n",
      "==================================================================================================\n",
      "scn_input (InputLayer)          [(None, 32, 32, 4)]  0                                            \n",
      "__________________________________________________________________________________________________\n",
      "conv2d (Conv2D)                 (None, 32, 32, 16)   592         scn_input[0][0]                  \n",
      "__________________________________________________________________________________________________\n",
      "bn_res_00_a (BatchNormalization (None, 32, 32, 16)   64          conv2d[0][0]                     \n",
      "__________________________________________________________________________________________________\n",
      "res_activation_00_a (Activation (None, 32, 32, 16)   0           bn_res_00_a[0][0]                \n",
      "__________________________________________________________________________________________________\n",
      "res_conv_00_a (Conv2D)          (None, 32, 32, 16)   2320        res_activation_00_a[0][0]        \n",
      "__________________________________________________________________________________________________\n",
      "bn_res_00_b (BatchNormalization (None, 32, 32, 16)   64          res_conv_00_a[0][0]              \n",
      "__________________________________________________________________________________________________\n",
      "res_activation_00_b (Activation (None, 32, 32, 16)   0           bn_res_00_b[0][0]                \n",
      "__________________________________________________________________________________________________\n",
      "res_conv_00_b (Conv2D)          (None, 32, 32, 16)   2320        res_activation_00_b[0][0]        \n",
      "__________________________________________________________________________________________________\n",
      "add (Add)                       (None, 32, 32, 16)   0           res_conv_00_b[0][0]              \n",
      "                                                                 conv2d[0][0]                     \n",
      "__________________________________________________________________________________________________\n",
      "pooling_00 (AveragePooling2D)   (None, 16, 16, 16)   0           add[0][0]                        \n",
      "__________________________________________________________________________________________________\n",
      "conv2d_1 (Conv2D)               (None, 16, 16, 32)   4640        pooling_00[0][0]                 \n",
      "__________________________________________________________________________________________________\n",
      "bn_res_01_a (BatchNormalization (None, 16, 16, 32)   128         conv2d_1[0][0]                   \n",
      "__________________________________________________________________________________________________\n",
      "res_activation_01_a (Activation (None, 16, 16, 32)   0           bn_res_01_a[0][0]                \n",
      "__________________________________________________________________________________________________\n",
      "res_conv_01_a (Conv2D)          (None, 16, 16, 32)   9248        res_activation_01_a[0][0]        \n",
      "__________________________________________________________________________________________________\n",
      "bn_res_01_b (BatchNormalization (None, 16, 16, 32)   128         res_conv_01_a[0][0]              \n",
      "__________________________________________________________________________________________________\n",
      "res_activation_01_b (Activation (None, 16, 16, 32)   0           bn_res_01_b[0][0]                \n",
      "__________________________________________________________________________________________________\n",
      "res_conv_01_b (Conv2D)          (None, 16, 16, 32)   9248        res_activation_01_b[0][0]        \n",
      "__________________________________________________________________________________________________\n",
      "add_1 (Add)                     (None, 16, 16, 32)   0           res_conv_01_b[0][0]              \n",
      "                                                                 conv2d_1[0][0]                   \n",
      "__________________________________________________________________________________________________\n",
      "pooling_01 (AveragePooling2D)   (None, 8, 8, 32)     0           add_1[0][0]                      \n",
      "__________________________________________________________________________________________________\n",
      "conv2d_2 (Conv2D)               (None, 8, 8, 64)     18496       pooling_01[0][0]                 \n",
      "__________________________________________________________________________________________________\n",
      "bn_res_02_a (BatchNormalization (None, 8, 8, 64)     256         conv2d_2[0][0]                   \n",
      "__________________________________________________________________________________________________\n",
      "res_activation_02_a (Activation (None, 8, 8, 64)     0           bn_res_02_a[0][0]                \n",
      "__________________________________________________________________________________________________\n",
      "res_conv_02_a (Conv2D)          (None, 8, 8, 64)     36928       res_activation_02_a[0][0]        \n",
      "__________________________________________________________________________________________________\n",
      "bn_res_02_b (BatchNormalization (None, 8, 8, 64)     256         res_conv_02_a[0][0]              \n",
      "__________________________________________________________________________________________________\n",
      "res_activation_02_b (Activation (None, 8, 8, 64)     0           bn_res_02_b[0][0]                \n",
      "__________________________________________________________________________________________________\n",
      "res_conv_02_b (Conv2D)          (None, 8, 8, 64)     36928       res_activation_02_b[0][0]        \n",
      "__________________________________________________________________________________________________\n",
      "add_2 (Add)                     (None, 8, 8, 64)     0           res_conv_02_b[0][0]              \n",
      "                                                                 conv2d_2[0][0]                   \n",
      "__________________________________________________________________________________________________\n",
      "pooling_02 (AveragePooling2D)   (None, 4, 4, 64)     0           add_2[0][0]                      \n",
      "__________________________________________________________________________________________________\n",
      "flatten (Flatten)               (None, 1024)         0           pooling_02[0][0]                 \n",
      "__________________________________________________________________________________________________\n",
      "dense_output (Dense)            (None, 1)            1025        flatten[0][0]                    \n",
      "__________________________________________________________________________________________________\n",
      "activation_output (Activation)  (None, 1)            0           dense_output[0][0]               \n",
      "==================================================================================================\n",
      "Total params: 122,641\n",
      "Trainable params: 122,193\n",
      "Non-trainable params: 448\n",
      "__________________________________________________________________________________________________\n",
      "CPU times: user 2min 23s, sys: 2min 22s, total: 4min 46s\n",
      "Wall time: 7min 7s\n"
     ]
    }
   ],
   "source": [
    "%%time\n",
    "# Fit model and print architecture\n",
    "resNet_mod.fit(scaled_train_in, train_out, scaled_val_in, val_out)\n",
    "resNet_mod.model.summary()"
   ]
  },
  {
   "cell_type": "markdown",
   "metadata": {},
   "source": [
    "## Baseline ResNet Evaluation Metrics\n",
    "We trained on binary output data, but output probabilities before converting to class. This allows us to evaluate regressed and classified metrics:\n",
    "\n",
    "\n",
    "| Type | Metric | Value to beat |\n",
    "| ------------- | :----:|:-------|\n",
    "|  Regressed   ||   \n",
    "|              | RMSE: |0.328|\n",
    "|              | R2: |0.567 |\n",
    "|              | Hellenger Distance: |0.501|\n",
    "|||\n",
    "| Classified   |||\n",
    "|              | Heidke Skill Score: |0.705|\n",
    "|              | Peirce Skill Score:  |0.713|\n",
    "|              | Brier Score: |0.143|\n",
    "|              | Brier Skill Score: |0.402|\n",
    "|              | AUC: |0.856|"
   ]
  },
  {
   "cell_type": "code",
   "execution_count": 14,
   "metadata": {},
   "outputs": [],
   "source": [
    "# set the probability threshold for binary classification; predict on validation; add binary preds\n",
    "binary_threshold = 0.5\n",
    "preds = resNet_mod.predict(scaled_val_in).reshape(val_out.shape[0])\n",
    "binary_preds = np.where(preds >= binary_threshold, 1, 0)"
   ]
  },
  {
   "cell_type": "code",
   "execution_count": 14,
   "metadata": {},
   "outputs": [],
   "source": [
    "# Metric functions\n",
    "from sklearn.metrics import confusion_matrix, mean_squared_error, brier_score_loss, roc_auc_score\n",
    "\n",
    "import numpy as np\n",
    "\n",
    "def calc_pdf_hist(x, x_bins):\n",
    "    return np.histogram(x, x_bins, density=True)[0]\n",
    "\n",
    "def auc_score(y_true, y_pred):\n",
    "    return roc_auc_score(y_true, y_pred)\n",
    "\n",
    "def brier_score(y_true, y_pred):\n",
    "    return brier_score_loss(y_true, y_pred)\n",
    "\n",
    "def brier_skill_score(y_true, y_pred):\n",
    "    \n",
    "    model_brier_score = mean_squared_error(y_true, y_pred)\n",
    "    climo_brier_score = mean_squared_error(y_true, np.ones(y_true.size) * y_true.sum() / y_true.size)\n",
    "    model_brier_skill_score = 1 - model_brier_score / climo_brier_score\n",
    "    return model_brier_skill_score\n",
    "\n",
    "def hellinger(x, pdf_p, pdf_q):\n",
    "    pdf_distances = (np.sqrt(pdf_p) - np.sqrt(pdf_q)) ** 2\n",
    "    return np.trapz(pdf_distances, x) / 2\n",
    "\n",
    "def root_mean_squared_error(y_true, y_pred):\n",
    "    return np.sqrt(mean_squared_error(y_true, y_pred))\n",
    "\n",
    "def hellinger_distance(y_true, y_pred, bins=50):\n",
    "    bin_points = np.linspace(np.minimum(y_true.min(), y_pred.min()),\n",
    "                       np.maximum(y_true.max(), y_pred.max()),\n",
    "                       bins)\n",
    "    bin_centers = 0.5 * (bin_points[:-1] + bin_points[1:])\n",
    "    y_true_pdf = calc_pdf_hist(y_true, bin_points)\n",
    "    y_pred_pdf = calc_pdf_hist(y_pred, bin_points)\n",
    "    return hellinger(bin_centers, y_true_pdf, y_pred_pdf)\n",
    "\n",
    "def peirce_skill_score(y_true, y_pred):\n",
    "    cm = confusion_matrix(y_true, y_pred)\n",
    "    n = float(cm.sum())\n",
    "    nf = cm.sum(axis=0)\n",
    "    no = cm.sum(axis=1)\n",
    "    correct = float(cm.trace())\n",
    "    return (correct / n - (nf * no).sum() / n ** 2) / (1 - (no * no).sum() / n ** 2)\n",
    "\n",
    "def heidke_skill_score(y_true, y_pred):\n",
    "    cm = confusion_matrix(y_true, y_pred)\n",
    "    n = float(cm.sum())\n",
    "    nf = cm.sum(axis=0)\n",
    "    no = cm.sum(axis=1)\n",
    "    correct = float(cm.trace())\n",
    "    return (correct / n - (nf * no).sum() / n ** 2) / (1 - (nf * no).sum() / n ** 2)\n",
    "\n",
    "def r2_corr(y_true, y_pred):\n",
    "    return np.corrcoef(y_true, y_pred)[0, 1] ** 2"
   ]
  },
  {
   "cell_type": "code",
   "execution_count": 16,
   "metadata": {},
   "outputs": [
    {
     "name": "stdout",
     "output_type": "stream",
     "text": [
      "RMSE: 0.342\n",
      "R squared: 0.542\n",
      "Hellenger Distance: 0.564\n",
      "Heidke Skill Score: 0.677\n",
      "Pierce Skill Score: 0.696\n",
      "Brier Score: 0.159\n",
      "Brier Skill Score: 0.337\n",
      "AUC: 0.848\n"
     ]
    }
   ],
   "source": [
    "# Example regressed metrics\n",
    "print('RMSE: {}'.format(np.round(root_mean_squared_error(val_out, preds),3)))\n",
    "print('R squared: {}'.format(np.round(r2_corr(val_out, preds),3)))\n",
    "print('Hellenger Distance: {}'.format(np.round(hellinger_distance(val_out, preds),3)))\n",
    "\n",
    "# Example classified metrics\n",
    "print('Heidke Skill Score: {}'.format(np.round(heidke_skill_score(val_out, binary_preds),3)))\n",
    "print('Pierce Skill Score: {}'.format(np.round(peirce_skill_score(val_out, binary_preds),3)))\n",
    "print('Brier Score: {}'.format(np.round(brier_score(val_out, binary_preds),3)))\n",
    "print('Brier Skill Score: {}'.format(np.round(brier_skill_score(val_out, binary_preds),3)))\n",
    "print('AUC: {}'.format(np.round(roc_auc_score(val_out, binary_preds),3)))"
   ]
  },
  {
   "cell_type": "markdown",
   "metadata": {},
   "source": [
    "## Interpretation\n",
    "Description of interpretation methods for problem"
   ]
  },
  {
   "cell_type": "code",
   "execution_count": 17,
   "metadata": {},
   "outputs": [],
   "source": [
    "# Include examples of interpretation code"
   ]
  },
  {
   "cell_type": "markdown",
   "metadata": {},
   "source": [
    "## Hackathon Challenges\n",
    "\n",
    "### Monday\n",
    "* Load the data\n",
    "* Create an exploratory visualization of the data\n",
    "* Test two different transformation and scaling methods\n",
    "* Test one dimensionality reduction method\n",
    "* Train a linear model\n",
    "* Train a decision tree ensemble method of your choice"
   ]
  },
  {
   "cell_type": "code",
   "execution_count": 17,
   "metadata": {},
   "outputs": [
    {
     "name": "stderr",
     "output_type": "stream",
     "text": [
      "/opt/conda/lib/python3.7/site-packages/distributed/node.py:155: UserWarning: Port 8787 is already in use.\n",
      "Perhaps you already have a cluster running?\n",
      "Hosting the HTTP server on port 45747 instead\n",
      "  http_address[\"port\"], self.http_server.port\n",
      "distributed.client - ERROR - Failed to reconnect to scheduler after 10.00 seconds, closing client\n",
      "_GatheringFuture exception was never retrieved\n",
      "future: <_GatheringFuture finished exception=CancelledError()>\n",
      "concurrent.futures._base.CancelledError\n",
      "distributed.client - ERROR - Failed to reconnect to scheduler after 10.00 seconds, closing client\n",
      "_GatheringFuture exception was never retrieved\n",
      "future: <_GatheringFuture finished exception=CancelledError()>\n",
      "concurrent.futures._base.CancelledError\n"
     ]
    }
   ],
   "source": [
    "# Monday's code goes here\n",
    "\n",
    "# From YiFei Guan\n",
    "# Load data\n",
    "cluster = LocalCluster(processes=True, threads_per_worker=2)\n",
    "client = Client(cluster)\n",
    "fs = s3fs.S3FileSystem(anon=True)\n",
    "\n",
    "# Split into training, validation, and test sets\n",
    "# We only load the train and val sets here to save a couple minutes\n",
    "train_files, val_files, test_files = split_data_files()\n",
    "train, val = map(merge_data, [train_files, val_files])\n",
    "client.shutdown()"
   ]
  },
  {
   "cell_type": "code",
   "execution_count": 18,
   "metadata": {},
   "outputs": [
    {
     "data": {
      "image/png": "[encoded data removed]",
      "text/plain": [
       "<Figure size 864x576 with 8 Axes>"
      ]
     },
     "metadata": {
      "needs_background": "light"
     },
     "output_type": "display_data"
    }
   ],
   "source": [
    "# Exploratory visualization of the data\n",
    "high_lc_indices = np.argwhere(train.flash_counts.values > 100).flatten() # indices with more than 100 lightning counts\n",
    "no_lc_indices = np.argwhere(train.flash_counts.values == 0).flatten() # indices with no lightning counts\n",
    "\n",
    "index = high_lc_indices[205]\n",
    "vmin = train['abi'][index,:,:,:].min() # set min/max plotting range  \n",
    "vmax = train['abi'][index,:,:,:].max()\n",
    "\n",
    "fig, ax = plt.subplots(2,2, figsize=(12,8))\n",
    "for i in range(4):\n",
    "    train['abi'][index,i,:,:].plot(ax=ax.ravel()[i], vmin=vmin, vmax=vmax)\n",
    "    plt.suptitle('Exmaple Patch with High Lightning Activity', fontsize=20)"
   ]
  },
  {
   "cell_type": "code",
   "execution_count": 19,
   "metadata": {},
   "outputs": [],
   "source": [
    "# Test 2 different transformations and scaling methods\n",
    "# get numpy arrays of patch data for each band (this also converts all flash_counts to binary classes)\n",
    "train_in, train_out = prepare_data(train) \n",
    "val_in, val_out = prepare_data(val)\n",
    "\n",
    "# scale data\n",
    "# 1st transformation and scaling methods\n",
    "scaler = MinMaxScaler2D()\n",
    "scaled_train_in = scaler.fit_transform(train_in)\n",
    "scaled_val_in = scaler.transform(val_in)\n",
    "\n",
    " # 2nd transformation and scaling methods\n",
    "scaled_train_in = (train_in - np.mean(train_in.flatten()))/np.std(train_in.flatten())\n",
    "scaled_val_in = (val_in - np.mean(val_in.flatten()))/np.std(val_in.flatten())"
   ]
  },
  {
   "cell_type": "code",
   "execution_count": 20,
   "metadata": {},
   "outputs": [
    {
     "name": "stdout",
     "output_type": "stream",
     "text": [
      "(212604, 32, 32)\n"
     ]
    }
   ],
   "source": [
    "n_times = np.shape(train_in[:,:,:,0])\n",
    "print(n_times)"
   ]
  },
  {
   "cell_type": "code",
   "execution_count": 21,
   "metadata": {},
   "outputs": [
    {
     "ename": "TypeError",
     "evalue": "'tuple' object cannot be interpreted as an integer",
     "output_type": "error",
     "traceback": [
      "\u001b[0;31m---------------------------------------------------------------------------\u001b[0m",
      "\u001b[0;31mTypeError\u001b[0m                                 Traceback (most recent call last)",
      "\u001b[0;32m<ipython-input-21-6244c0083ea0>\u001b[0m in \u001b[0;36m<module>\u001b[0;34m\u001b[0m\n\u001b[1;32m     11\u001b[0m \u001b[0;32mfor\u001b[0m \u001b[0mi\u001b[0m \u001b[0;32min\u001b[0m \u001b[0mrange\u001b[0m\u001b[0;34m(\u001b[0m\u001b[0mn_channels\u001b[0m\u001b[0;34m)\u001b[0m\u001b[0;34m:\u001b[0m\u001b[0;34m\u001b[0m\u001b[0;34m\u001b[0m\u001b[0m\n\u001b[1;32m     12\u001b[0m     \u001b[0mmmx\u001b[0m \u001b[0;34m=\u001b[0m \u001b[0mMinMaxScaler\u001b[0m\u001b[0;34m(\u001b[0m\u001b[0;34m)\u001b[0m\u001b[0;34m\u001b[0m\u001b[0;34m\u001b[0m\u001b[0m\n\u001b[0;32m---> 13\u001b[0;31m     \u001b[0mslc\u001b[0m \u001b[0;34m=\u001b[0m \u001b[0mtrain_in\u001b[0m\u001b[0;34m[\u001b[0m\u001b[0;34m:\u001b[0m\u001b[0;34m,\u001b[0m \u001b[0;34m:\u001b[0m\u001b[0;34m,\u001b[0m \u001b[0;34m:\u001b[0m\u001b[0;34m,\u001b[0m \u001b[0mi\u001b[0m\u001b[0;34m]\u001b[0m\u001b[0;34m.\u001b[0m\u001b[0mreshape\u001b[0m\u001b[0;34m(\u001b[0m\u001b[0mn_times\u001b[0m\u001b[0;34m,\u001b[0m \u001b[0;36m32\u001b[0m\u001b[0;34m*\u001b[0m\u001b[0;36m32\u001b[0m\u001b[0;34m)\u001b[0m \u001b[0;31m# make it a bunch of row vectors\u001b[0m\u001b[0;34m\u001b[0m\u001b[0;34m\u001b[0m\u001b[0m\n\u001b[0m\u001b[1;32m     14\u001b[0m     \u001b[0mtransformed\u001b[0m \u001b[0;34m=\u001b[0m \u001b[0mmmx\u001b[0m\u001b[0;34m.\u001b[0m\u001b[0mfit_transform\u001b[0m\u001b[0;34m(\u001b[0m\u001b[0mslc\u001b[0m\u001b[0;34m)\u001b[0m\u001b[0;34m\u001b[0m\u001b[0;34m\u001b[0m\u001b[0m\n\u001b[1;32m     15\u001b[0m     \u001b[0mtransformed\u001b[0m \u001b[0;34m=\u001b[0m \u001b[0mtransformed\u001b[0m\u001b[0;34m.\u001b[0m\u001b[0mreshape\u001b[0m\u001b[0;34m(\u001b[0m\u001b[0mn_times\u001b[0m\u001b[0;34m,\u001b[0m \u001b[0;36m32\u001b[0m\u001b[0;34m,\u001b[0m \u001b[0;36m32\u001b[0m\u001b[0;34m)\u001b[0m \u001b[0;31m# reshape it back to tiles\u001b[0m\u001b[0;34m\u001b[0m\u001b[0;34m\u001b[0m\u001b[0m\n",
      "\u001b[0;31mTypeError\u001b[0m: 'tuple' object cannot be interpreted as an integer"
     ]
    }
   ],
   "source": [
    "from sklearn.preprocessing import MinMaxScaler\n",
    "n_channels = 4\n",
    "nt_times = np.shape(train_in)[0]\n",
    "nv_times = np.shape(val_in)[0]\n",
    "\n",
    "scaled_train_in = np.zeros_like(train_in)\n",
    "scaled_val_in = np.zeros_like(val_in)\n",
    "\n",
    "channel_scalers = []\n",
    "\n",
    "for i in range(n_channels):\n",
    "    mmx = MinMaxScaler()\n",
    "    slc = train_in[:, :, :, i].reshape(n_times, 32*32) # make it a bunch of row vectors\n",
    "    transformed = mmx.fit_transform(slc)\n",
    "    transformed = transformed.reshape(n_times, 32, 32) # reshape it back to tiles\n",
    "    scaled_train_in[:, :, :, i] = transformed # put it in the transformed array\n",
    "    \n",
    "    slc = val_in[:, :, :, i].reshape(nv_times, 32*32) # make it a bunch of row vectors\n",
    "    transformed = mmx.fit_transform(slc)\n",
    "    transformed = transformed.reshape(nv_times, 32, 32) # reshape it back to tiles\n",
    "    scaled_val_in[:, :, :, i] = transformed # put it in the transformed array"
   ]
  },
  {
   "cell_type": "code",
   "execution_count": 30,
   "metadata": {},
   "outputs": [
    {
     "name": "stderr",
     "output_type": "stream",
     "text": [
      "/opt/conda/lib/python3.7/site-packages/sklearn/decomposition/_pca.py:555: RuntimeWarning: invalid value encountered in true_divide\n",
      "  self.explained_variance_ / total_var.sum()\n",
      "/opt/conda/lib/python3.7/site-packages/sklearn/decomposition/_pca.py:555: RuntimeWarning: invalid value encountered in true_divide\n",
      "  self.explained_variance_ / total_var.sum()\n",
      "/opt/conda/lib/python3.7/site-packages/sklearn/decomposition/_pca.py:555: RuntimeWarning: invalid value encountered in true_divide\n",
      "  self.explained_variance_ / total_var.sum()\n",
      "/opt/conda/lib/python3.7/site-packages/sklearn/decomposition/_pca.py:555: RuntimeWarning: invalid value encountered in true_divide\n",
      "  self.explained_variance_ / total_var.sum()\n",
      "/opt/conda/lib/python3.7/site-packages/sklearn/decomposition/_pca.py:555: RuntimeWarning: invalid value encountered in true_divide\n",
      "  self.explained_variance_ / total_var.sum()\n",
      "/opt/conda/lib/python3.7/site-packages/sklearn/decomposition/_pca.py:555: RuntimeWarning: invalid value encountered in true_divide\n",
      "  self.explained_variance_ / total_var.sum()\n",
      "/opt/conda/lib/python3.7/site-packages/sklearn/decomposition/_pca.py:555: RuntimeWarning: invalid value encountered in true_divide\n",
      "  self.explained_variance_ / total_var.sum()\n",
      "/opt/conda/lib/python3.7/site-packages/sklearn/decomposition/_pca.py:555: RuntimeWarning: invalid value encountered in true_divide\n",
      "  self.explained_variance_ / total_var.sum()\n"
     ]
    }
   ],
   "source": [
    "# Dimensionality reduction via PCA\n",
    "from sklearn.decomposition import PCA\n",
    "n_channels = 4\n",
    "nt_times = np.shape(train_in)[0]\n",
    "nv_times = np.shape(val_in)[0]\n",
    "\n",
    "X_train_pca = np.zeros([nt_times, 2, 2, n_channels])\n",
    "X_val_pca = np.zeros([nv_times, 2, 2, n_channels])\n",
    "\n",
    "for i in range(n_channels):\n",
    "    pca = PCA(n_components = 4)\n",
    "    slc = scaled_train_in[:, :, :, i].reshape(nt_times, 32*32) # make it a bunch of row vectors\n",
    "    slc.shape\n",
    "    transformed = pca.fit_transform(slc)\n",
    "    transformed = transformed.reshape(nt_times, 2, 2) # reshape it back to tiles\n",
    "    X_train_pca[:, :, :, i] = transformed # put it in the transformed array\n",
    "    \n",
    "    pca = PCA(n_components = 4)\n",
    "    slc = scaled_val_in[:, :, :, i].reshape(nv_times, 32*32) # make it a bunch of row vectors\n",
    "    transformed = pca.fit_transform(slc)\n",
    "    transformed = transformed.reshape(nv_times, 2, 2) # reshape it back to tiles\n",
    "    X_val_pca[:, :, :, i] = transformed # put it in the transformed array\n"
   ]
  },
  {
   "cell_type": "code",
   "execution_count": null,
   "metadata": {},
   "outputs": [],
   "source": [
    "# Train a linear model\n",
    "from sklearn.linear_model import LogisticRegression\n",
    "n_channels = 4\n",
    "n_components = 4\n",
    "nt_times = np.shape(train_in)[0]\n",
    "lr = LogisticRegression()\n",
    "lr.fit(X_train_pca[:,:,:,0].reshape(nt_times,n_components), train_out)"
   ]
  },
  {
   "cell_type": "code",
   "execution_count": null,
   "metadata": {},
   "outputs": [],
   "source": [
    "# Train a decision tree ensemble method of your choice\n",
    "from sklearn.tree import DecisionTreeClassifier\n",
    "tree = DecisionTreeClassifier(criterion = 'gini', max_depth = 4, random_state = 1)\n",
    "tree.fit(X_train_pca[:,:,:,0].reshape(nt_times,n_components), train_out)"
   ]
  },
  {
   "cell_type": "markdown",
   "metadata": {},
   "source": [
    "### Tuesday\n",
    "* Train a densely connected neural network\n",
    "* Train a convolutional or recurrent neural network (depends on problem)\n",
    "* Experiment with different architectures"
   ]
  },
  {
   "cell_type": "code",
   "execution_count": 2,
   "metadata": {},
   "outputs": [],
   "source": [
    "# Tuesday's code goes here\n",
    "# CNN"
   ]
  },
  {
   "cell_type": "code",
   "execution_count": 1,
   "metadata": {},
   "outputs": [
    {
     "name": "stdout",
     "output_type": "stream",
     "text": [
      "Requirement already satisfied: numpy in /opt/conda/lib/python3.7/site-packages (1.18.5)\n",
      "Requirement already satisfied: scipy in /opt/conda/lib/python3.7/site-packages (1.4.1)\n",
      "Requirement already satisfied: matplotlib in /opt/conda/lib/python3.7/site-packages (3.2.2)\n",
      "Requirement already satisfied: xarray in /opt/conda/lib/python3.7/site-packages (0.15.1)\n",
      "Requirement already satisfied: pandas in /opt/conda/lib/python3.7/site-packages (1.0.5)\n",
      "Requirement already satisfied: netcdf4 in /opt/conda/lib/python3.7/site-packages (1.5.3)\n",
      "Requirement already satisfied: h5netcdf in /opt/conda/lib/python3.7/site-packages (0.8.0)\n",
      "Requirement already satisfied: tqdm in /opt/conda/lib/python3.7/site-packages (4.46.1)\n",
      "Requirement already satisfied: tensorflow in /opt/conda/lib/python3.7/site-packages (2.2.0)\n",
      "Requirement already satisfied: scikit-learn in /opt/conda/lib/python3.7/site-packages (0.23.1)\n",
      "Requirement already satisfied: dask in /opt/conda/lib/python3.7/site-packages (2.19.0)\n",
      "Requirement already satisfied: s3fs in /opt/conda/lib/python3.7/site-packages (0.4.2)\n",
      "Requirement already satisfied: goes16ci in /opt/conda/lib/python3.7/site-packages (0.1.3)\n",
      "Requirement already satisfied: seaborn in /opt/conda/lib/python3.7/site-packages (0.10.1)\n",
      "Requirement already satisfied: kiwisolver>=1.0.1 in /opt/conda/lib/python3.7/site-packages (from matplotlib) (1.2.0)\n",
      "Requirement already satisfied: cycler>=0.10 in /opt/conda/lib/python3.7/site-packages (from matplotlib) (0.10.0)\n",
      "Requirement already satisfied: pyparsing!=2.0.4,!=2.1.2,!=2.1.6,>=2.0.1 in /opt/conda/lib/python3.7/site-packages (from matplotlib) (2.4.7)\n",
      "Requirement already satisfied: python-dateutil>=2.1 in /opt/conda/lib/python3.7/site-packages (from matplotlib) (2.8.1)\n",
      "Requirement already satisfied: setuptools>=41.2 in /opt/conda/lib/python3.7/site-packages (from xarray) (47.1.1.post20200529)\n",
      "Requirement already satisfied: pytz>=2017.2 in /opt/conda/lib/python3.7/site-packages (from pandas) (2020.1)\n",
      "Requirement already satisfied: cftime in /opt/conda/lib/python3.7/site-packages (from netcdf4) (1.1.3)\n",
      "Requirement already satisfied: h5py in /opt/conda/lib/python3.7/site-packages (from h5netcdf) (2.10.0)\n",
      "Requirement already satisfied: gast==0.3.3 in /opt/conda/lib/python3.7/site-packages (from tensorflow) (0.3.3)\n",
      "Requirement already satisfied: astunparse==1.6.3 in /opt/conda/lib/python3.7/site-packages (from tensorflow) (1.6.3)\n",
      "Requirement already satisfied: opt-einsum>=2.3.2 in /opt/conda/lib/python3.7/site-packages (from tensorflow) (3.2.1)\n",
      "Requirement already satisfied: wheel>=0.26; python_version >= \"3\" in /opt/conda/lib/python3.7/site-packages (from tensorflow) (0.34.2)\n",
      "Requirement already satisfied: google-pasta>=0.1.8 in /opt/conda/lib/python3.7/site-packages (from tensorflow) (0.2.0)\n",
      "Requirement already satisfied: keras-preprocessing>=1.1.0 in /opt/conda/lib/python3.7/site-packages (from tensorflow) (1.1.2)\n",
      "Requirement already satisfied: termcolor>=1.1.0 in /opt/conda/lib/python3.7/site-packages (from tensorflow) (1.1.0)\n",
      "Requirement already satisfied: grpcio>=1.8.6 in /opt/conda/lib/python3.7/site-packages (from tensorflow) (1.30.0)\n",
      "Requirement already satisfied: wrapt>=1.11.1 in /opt/conda/lib/python3.7/site-packages (from tensorflow) (1.12.1)\n",
      "Requirement already satisfied: tensorboard<2.3.0,>=2.2.0 in /opt/conda/lib/python3.7/site-packages (from tensorflow) (2.2.2)\n",
      "Requirement already satisfied: absl-py>=0.7.0 in /opt/conda/lib/python3.7/site-packages (from tensorflow) (0.9.0)\n",
      "Requirement already satisfied: protobuf>=3.8.0 in /opt/conda/lib/python3.7/site-packages (from tensorflow) (3.12.2)\n",
      "Requirement already satisfied: six>=1.12.0 in /opt/conda/lib/python3.7/site-packages (from tensorflow) (1.15.0)\n",
      "Requirement already satisfied: tensorflow-estimator<2.3.0,>=2.2.0 in /opt/conda/lib/python3.7/site-packages (from tensorflow) (2.2.0)\n",
      "Requirement already satisfied: joblib>=0.11 in /opt/conda/lib/python3.7/site-packages (from scikit-learn) (0.15.1)\n",
      "Requirement already satisfied: threadpoolctl>=2.0.0 in /opt/conda/lib/python3.7/site-packages (from scikit-learn) (2.1.0)\n",
      "Requirement already satisfied: pyyaml in /opt/conda/lib/python3.7/site-packages (from dask) (5.3.1)\n",
      "Requirement already satisfied: botocore>=1.12.91 in /opt/conda/lib/python3.7/site-packages (from s3fs) (1.17.9)\n",
      "Requirement already satisfied: fsspec>=0.6.0 in /opt/conda/lib/python3.7/site-packages (from s3fs) (0.7.4)\n",
      "Requirement already satisfied: requests<3,>=2.21.0 in /opt/conda/lib/python3.7/site-packages (from tensorboard<2.3.0,>=2.2.0->tensorflow) (2.23.0)\n",
      "Requirement already satisfied: werkzeug>=0.11.15 in /opt/conda/lib/python3.7/site-packages (from tensorboard<2.3.0,>=2.2.0->tensorflow) (1.0.1)\n",
      "Requirement already satisfied: tensorboard-plugin-wit>=1.6.0 in /opt/conda/lib/python3.7/site-packages (from tensorboard<2.3.0,>=2.2.0->tensorflow) (1.6.0.post3)\n",
      "Requirement already satisfied: google-auth-oauthlib<0.5,>=0.4.1 in /opt/conda/lib/python3.7/site-packages (from tensorboard<2.3.0,>=2.2.0->tensorflow) (0.4.1)\n",
      "Requirement already satisfied: google-auth<2,>=1.6.3 in /opt/conda/lib/python3.7/site-packages (from tensorboard<2.3.0,>=2.2.0->tensorflow) (1.18.0)\n",
      "Requirement already satisfied: markdown>=2.6.8 in /opt/conda/lib/python3.7/site-packages (from tensorboard<2.3.0,>=2.2.0->tensorflow) (3.2.2)\n",
      "Requirement already satisfied: docutils<0.16,>=0.10 in /opt/conda/lib/python3.7/site-packages (from botocore>=1.12.91->s3fs) (0.15.2)\n",
      "Requirement already satisfied: urllib3<1.26,>=1.20 in /opt/conda/lib/python3.7/site-packages (from botocore>=1.12.91->s3fs) (1.25.9)\n",
      "Requirement already satisfied: jmespath<1.0.0,>=0.7.1 in /opt/conda/lib/python3.7/site-packages (from botocore>=1.12.91->s3fs) (0.10.0)\n",
      "Requirement already satisfied: certifi>=2017.4.17 in /opt/conda/lib/python3.7/site-packages (from requests<3,>=2.21.0->tensorboard<2.3.0,>=2.2.0->tensorflow) (2020.6.20)\n",
      "Requirement already satisfied: idna<3,>=2.5 in /opt/conda/lib/python3.7/site-packages (from requests<3,>=2.21.0->tensorboard<2.3.0,>=2.2.0->tensorflow) (2.9)\n",
      "Requirement already satisfied: chardet<4,>=3.0.2 in /opt/conda/lib/python3.7/site-packages (from requests<3,>=2.21.0->tensorboard<2.3.0,>=2.2.0->tensorflow) (3.0.4)\n",
      "Requirement already satisfied: requests-oauthlib>=0.7.0 in /opt/conda/lib/python3.7/site-packages (from google-auth-oauthlib<0.5,>=0.4.1->tensorboard<2.3.0,>=2.2.0->tensorflow) (1.3.0)\n",
      "Requirement already satisfied: rsa<5,>=3.1.4; python_version >= \"3\" in /opt/conda/lib/python3.7/site-packages (from google-auth<2,>=1.6.3->tensorboard<2.3.0,>=2.2.0->tensorflow) (4.6)\n",
      "Requirement already satisfied: cachetools<5.0,>=2.0.0 in /opt/conda/lib/python3.7/site-packages (from google-auth<2,>=1.6.3->tensorboard<2.3.0,>=2.2.0->tensorflow) (4.1.0)\n",
      "Requirement already satisfied: pyasn1-modules>=0.2.1 in /opt/conda/lib/python3.7/site-packages (from google-auth<2,>=1.6.3->tensorboard<2.3.0,>=2.2.0->tensorflow) (0.2.8)\n",
      "Requirement already satisfied: importlib-metadata; python_version < \"3.8\" in /opt/conda/lib/python3.7/site-packages (from markdown>=2.6.8->tensorboard<2.3.0,>=2.2.0->tensorflow) (1.6.1)\n",
      "Requirement already satisfied: oauthlib>=3.0.0 in /opt/conda/lib/python3.7/site-packages (from requests-oauthlib>=0.7.0->google-auth-oauthlib<0.5,>=0.4.1->tensorboard<2.3.0,>=2.2.0->tensorflow) (3.0.1)\n",
      "Requirement already satisfied: pyasn1>=0.1.3 in /opt/conda/lib/python3.7/site-packages (from rsa<5,>=3.1.4; python_version >= \"3\"->google-auth<2,>=1.6.3->tensorboard<2.3.0,>=2.2.0->tensorflow) (0.4.8)\n",
      "Requirement already satisfied: zipp>=0.5 in /opt/conda/lib/python3.7/site-packages (from importlib-metadata; python_version < \"3.8\"->markdown>=2.6.8->tensorboard<2.3.0,>=2.2.0->tensorflow) (3.1.0)\n"
     ]
    }
   ],
   "source": [
    "! pip install numpy scipy matplotlib xarray pandas netcdf4 h5netcdf tqdm tensorflow scikit-learn dask s3fs goes16ci seaborn"
   ]
  },
  {
   "cell_type": "code",
   "execution_count": 3,
   "metadata": {},
   "outputs": [
    {
     "name": "stdout",
     "output_type": "stream",
     "text": [
      "PhysicalDevice(name='/physical_device:GPU:0', device_type='GPU')\n"
     ]
    }
   ],
   "source": [
    "import numpy as np\n",
    "import pandas as pd\n",
    "import seaborn as sns\n",
    "import random\n",
    "import xarray as xr\n",
    "import tensorflow as tf\n",
    "import matplotlib.pyplot as plt\n",
    "from dask.distributed import Client, LocalCluster, progress\n",
    "from goes16ci.models import StandardConvNet, ResNet, MinMaxScaler2D\n",
    "import s3fs\n",
    "from glob import glob\n",
    "%matplotlib inline\n",
    "\n",
    "# Set random seed\n",
    "seed = 3985\n",
    "np.random.seed(seed)\n",
    "random.seed(seed)\n",
    "tf.random.set_seed(seed)\n",
    "\n",
    "gpus = tf.config.get_visible_devices(\"GPU\")\n",
    "for device in gpus:\n",
    "    print(device)\n",
    "    tf.config.experimental.set_memory_growth(device, True)"
   ]
  },
  {
   "cell_type": "code",
   "execution_count": 4,
   "metadata": {},
   "outputs": [],
   "source": [
    "# How to load the data from disk or cloud\n",
    "\n",
    "def split_data_files(dir_path=\"ncar-aiml-data-commons/goes/ABI_patches_32/\", file_prefix='abi_patches_', \n",
    "               start_date='20190302', end_date='20191001', seq_len=4, skip_len=1):\n",
    "    \"\"\"\n",
    "    Take daily ABI patch files and split into equal training/validation/testing\n",
    "    semi-contiguous partitions, skipping day(s) between chunks to isolate convective \n",
    "    cycles.\n",
    "    \n",
    "    Args: \n",
    "        dir_path: (str) Directory path to daily ABI files\n",
    "        file_prefix: (str) File prefix up to date \n",
    "        start_date: (str) Starting date to get files in format of YYYYMMDD\n",
    "        end_date: (str) Ending date to get files in format of YYYYMMDD\n",
    "        seq_len: (int) Length of days per 'chunk' of data\n",
    "        skip_len: (int) How many days to skip between data chunks\n",
    "        \n",
    "    Returns:\n",
    "        train_f, val_f, test_f: list of training/validation/test files\n",
    "    \"\"\"\n",
    "    \n",
    "    all_files = fs.ls(dir_path)\n",
    "    start_index = all_files.index('{}{}{}T000000.nc'.format(dir_path, file_prefix, start_date))\n",
    "    end_index = all_files.index('{}{}{}T000000.nc'.format(dir_path, file_prefix, end_date))\n",
    "    file_spread = all_files[start_index:end_index+1]\n",
    "    \n",
    "    train_files, val_files, test_files = [], [], []\n",
    "    \n",
    "    for i in np.arange(0, len(file_spread)+1, (seq_len+skip_len)*3):\n",
    "        \n",
    "        val_i = i + seq_len + skip_len\n",
    "        test_i = i + (seq_len + skip_len)*2\n",
    "        \n",
    "        train_files.append(file_spread[i:i+seq_len])\n",
    "        val_files.append(file_spread[val_i:val_i+seq_len])\n",
    "        test_files.append(file_spread[test_i:test_i+seq_len])\n",
    "        \n",
    "    train_f = [item for sublist in train_files for item in sublist]\n",
    "    val_f = [item for sublist in val_files for item in sublist]\n",
    "    test_f = [item for sublist in test_files for item in sublist]\n",
    "    \n",
    "    return train_f, val_f, test_f\n",
    "\n",
    "def fetch_data(file_number, file_list):\n",
    "    \"\"\"\n",
    "    Function to be distributed across a cluster to individually load files directly from an AWS S3 bucket \n",
    "    \n",
    "    Args:\n",
    "        file_number: index for file from file_list\n",
    "        file_list: List of files to index from\n",
    "    Returns:\n",
    "        ds: xarray dataset of daily file \n",
    "    \"\"\"\n",
    "    obj = fs.open(file_list[file_number])\n",
    "    ds = xr.open_dataset(obj, chunks={})\n",
    "    \n",
    "    return ds\n",
    "\n",
    "def merge_data(file_list):\n",
    "    \"\"\"\n",
    "    Take a list of files and distribute across a cluster to be loaded then gathered and concantenated\n",
    "    \n",
    "    Args:\n",
    "        file_list: List of files to be merged together (training, validation, or testing)\n",
    "    Returns:\n",
    "        merged_data: Concatenated xarray dataset of training, validation, or testing data \n",
    "    \"\"\"\n",
    "    futures = client.map(fetch_data, range(len(file_list)), [file_list]*len(file_list))\n",
    "    results = client.gather(futures)\n",
    "    merged_data = xr.concat(results, 'patch').compute()\n",
    "    \n",
    "    return merged_data\n",
    "\n",
    "def prepare_data(data):\n",
    "    \"\"\"\n",
    "    Take GOES netCDF data, filter out NaNs, reshape for tensorflow, convert flash_counts to binary,\n",
    "    and return filtered numpy arrays\n",
    "    Args:\n",
    "        data: GOES patch netCDF data including ABI bands and lightning flash counts\n",
    "    Returns:\n",
    "        good_imagery: NaN filtered numpy array with reshaped dimensions (patch, x, y, band)\n",
    "        binary_output: 1D numpy array of lightnin flash_counts\n",
    "    \"\"\"\n",
    "    \n",
    "    input_data = np.moveaxis(data['abi'].values, 1, -1)\n",
    "    output_data = data['flash_counts'].values\n",
    "    \n",
    "    nan_indices = np.unique(np.where(np.isnan(input_data))[0])\n",
    "    all_indices = np.arange(input_data.shape[0])\n",
    "    valid_indices = all_indices[np.isin(all_indices, nan_indices, assume_unique=True, invert=True)]\n",
    "    \n",
    "    good_imagery = input_data[valid_indices]\n",
    "    binary_output = np.where(output_data > 0, 1, 0)[valid_indices]\n",
    "    \n",
    "    return good_imagery, binary_output"
   ]
  },
  {
   "cell_type": "code",
   "execution_count": 5,
   "metadata": {},
   "outputs": [],
   "source": [
    "cluster = LocalCluster(processes=True, threads_per_worker=2)\n",
    "client = Client(cluster)\n",
    "fs = s3fs.S3FileSystem(anon=True)"
   ]
  },
  {
   "cell_type": "code",
   "execution_count": 6,
   "metadata": {},
   "outputs": [
    {
     "name": "stdout",
     "output_type": "stream",
     "text": [
      "CPU times: user 24.1 s, sys: 34.8 s, total: 58.8 s\n",
      "Wall time: 4min 58s\n"
     ]
    }
   ],
   "source": [
    "%%time\n",
    "# Split into training, validation, and test sets\n",
    "# We only load the train and val sets here to save a couple minutes\n",
    "train_files, val_files, test_files = split_data_files()\n",
    "train, val = map(merge_data, [train_files, val_files])"
   ]
  },
  {
   "cell_type": "code",
   "execution_count": 7,
   "metadata": {},
   "outputs": [],
   "source": [
    "client.shutdown()"
   ]
  },
  {
   "cell_type": "code",
   "execution_count": 8,
   "metadata": {},
   "outputs": [],
   "source": [
    "# Metric functions\n",
    "from sklearn.metrics import confusion_matrix, mean_squared_error, brier_score_loss, roc_auc_score\n",
    "\n",
    "import numpy as np\n",
    "\n",
    "def calc_pdf_hist(x, x_bins):\n",
    "    return np.histogram(x, x_bins, density=True)[0]\n",
    "\n",
    "def auc_score(y_true, y_pred):\n",
    "    return roc_auc_score(y_true, y_pred)\n",
    "\n",
    "def brier_score(y_true, y_pred):\n",
    "    return brier_score_loss(y_true, y_pred)\n",
    "\n",
    "def brier_skill_score(y_true, y_pred):\n",
    "    \n",
    "    model_brier_score = mean_squared_error(y_true, y_pred)\n",
    "    climo_brier_score = mean_squared_error(y_true, np.ones(y_true.size) * y_true.sum() / y_true.size)\n",
    "    model_brier_skill_score = 1 - model_brier_score / climo_brier_score\n",
    "    return model_brier_skill_score\n",
    "\n",
    "def hellinger(x, pdf_p, pdf_q):\n",
    "    pdf_distances = (np.sqrt(pdf_p) - np.sqrt(pdf_q)) ** 2\n",
    "    return np.trapz(pdf_distances, x) / 2\n",
    "\n",
    "def root_mean_squared_error(y_true, y_pred):\n",
    "    return np.sqrt(mean_squared_error(y_true, y_pred))\n",
    "\n",
    "def hellinger_distance(y_true, y_pred, bins=50):\n",
    "    bin_points = np.linspace(np.minimum(y_true.min(), y_pred.min()),\n",
    "                       np.maximum(y_true.max(), y_pred.max()),\n",
    "                       bins)\n",
    "    bin_centers = 0.5 * (bin_points[:-1] + bin_points[1:])\n",
    "    y_true_pdf = calc_pdf_hist(y_true, bin_points)\n",
    "    y_pred_pdf = calc_pdf_hist(y_pred, bin_points)\n",
    "    return hellinger(bin_centers, y_true_pdf, y_pred_pdf)\n",
    "\n",
    "def peirce_skill_score(y_true, y_pred):\n",
    "    cm = confusion_matrix(y_true, y_pred)\n",
    "    n = float(cm.sum())\n",
    "    nf = cm.sum(axis=0)\n",
    "    no = cm.sum(axis=1)\n",
    "    correct = float(cm.trace())\n",
    "    return (correct / n - (nf * no).sum() / n ** 2) / (1 - (no * no).sum() / n ** 2)\n",
    "\n",
    "def heidke_skill_score(y_true, y_pred):\n",
    "    cm = confusion_matrix(y_true, y_pred)\n",
    "    n = float(cm.sum())\n",
    "    nf = cm.sum(axis=0)\n",
    "    no = cm.sum(axis=1)\n",
    "    correct = float(cm.trace())\n",
    "    return (correct / n - (nf * no).sum() / n ** 2) / (1 - (nf * no).sum() / n ** 2)\n",
    "\n",
    "def r2_corr(y_true, y_pred):\n",
    "    return np.corrcoef(y_true, y_pred)[0, 1] ** 2"
   ]
  },
  {
   "cell_type": "code",
   "execution_count": 10,
   "metadata": {},
   "outputs": [
    {
     "name": "stdout",
     "output_type": "stream",
     "text": [
      "[0 0 0 0 0]\n",
      "[[1. 0.]\n",
      " [1. 0.]\n",
      " [1. 0.]\n",
      " [1. 0.]\n",
      " [1. 0.]]\n",
      "CPU times: user 16.9 s, sys: 6.16 s, total: 23.1 s\n",
      "Wall time: 22.9 s\n"
     ]
    }
   ],
   "source": [
    "%%time\n",
    "# get numpy arrays of patch data for each band (this also converts all flash_counts to binary classes)\n",
    "train_in, train_out = prepare_data(train) \n",
    "val_in, val_out = prepare_data(val)\n",
    "\n",
    "# scale data\n",
    "scaler = MinMaxScaler2D()\n",
    "scaled_train_in = scaler.fit_transform(train_in)\n",
    "scaled_val_in = scaler.transform(val_in)\n",
    "\n",
    "# Convert the labels to one-hot vectors\n",
    "print(train_out[0:5])\n",
    "train_out = tf.keras.utils.to_categorical(train_out, 2)  # 2 classes\n",
    "val_out = tf.keras.utils.to_categorical(val_out, 2)\n",
    "print(train_out[0:5])"
   ]
  },
  {
   "cell_type": "markdown",
   "metadata": {},
   "source": [
    "Start to build a CNN model"
   ]
  },
  {
   "cell_type": "code",
   "execution_count": 11,
   "metadata": {},
   "outputs": [],
   "source": [
    "def create_model():\n",
    "  model = tf.keras.Sequential()\n",
    "\n",
    "  model.add(tf.keras.layers.Conv2D(filters=64, kernel_size=3, padding='same', activation='relu', input_shape=(32,32,4))) \n",
    "  model.add(tf.keras.layers.MaxPooling2D(pool_size=2))\n",
    "\n",
    "  model.add(tf.keras.layers.Conv2D(filters=32, kernel_size=3, padding='same', activation='relu'))\n",
    "  model.add(tf.keras.layers.MaxPooling2D(pool_size=2))\n",
    "\n",
    "  #model.add(tf.keras.layers.Conv2D(filters=16, kernel_size=3, padding='same', activation='relu'))\n",
    "  #model.add(tf.keras.layers.MaxPooling2D(pool_size=2))\n",
    "\n",
    "  model.add(tf.keras.layers.Flatten())\n",
    "  model.add(tf.keras.layers.Dense(256, activation='relu')) \n",
    "  model.add(tf.keras.layers.Dropout(0.5))\n",
    "  model.add(tf.keras.layers.Dense(2, activation='softmax'))\n",
    "  \n",
    "  model.compile(loss='categorical_crossentropy',\n",
    "             optimizer='adam',\n",
    "             metrics=['accuracy'])\n",
    "  \n",
    "  return model"
   ]
  },
  {
   "cell_type": "code",
   "execution_count": 12,
   "metadata": {},
   "outputs": [],
   "source": [
    "# create the model \n",
    "\n",
    "model = create_model()"
   ]
  },
  {
   "cell_type": "code",
   "execution_count": 13,
   "metadata": {},
   "outputs": [
    {
     "name": "stdout",
     "output_type": "stream",
     "text": [
      "Model: \"sequential\"\n",
      "_________________________________________________________________\n",
      "Layer (type)                 Output Shape              Param #   \n",
      "=================================================================\n",
      "conv2d (Conv2D)              (None, 32, 32, 64)        2368      \n",
      "_________________________________________________________________\n",
      "max_pooling2d (MaxPooling2D) (None, 16, 16, 64)        0         \n",
      "_________________________________________________________________\n",
      "conv2d_1 (Conv2D)            (None, 16, 16, 32)        18464     \n",
      "_________________________________________________________________\n",
      "max_pooling2d_1 (MaxPooling2 (None, 8, 8, 32)          0         \n",
      "_________________________________________________________________\n",
      "conv2d_2 (Conv2D)            (None, 8, 8, 16)          4624      \n",
      "_________________________________________________________________\n",
      "max_pooling2d_2 (MaxPooling2 (None, 4, 4, 16)          0         \n",
      "_________________________________________________________________\n",
      "flatten (Flatten)            (None, 256)               0         \n",
      "_________________________________________________________________\n",
      "dense (Dense)                (None, 256)               65792     \n",
      "_________________________________________________________________\n",
      "dropout (Dropout)            (None, 256)               0         \n",
      "_________________________________________________________________\n",
      "dense_1 (Dense)              (None, 2)                 514       \n",
      "=================================================================\n",
      "Total params: 91,762\n",
      "Trainable params: 91,762\n",
      "Non-trainable params: 0\n",
      "_________________________________________________________________\n"
     ]
    }
   ],
   "source": [
    "# Take a look at the model summary\n",
    "model.summary()"
   ]
  },
  {
   "cell_type": "code",
   "execution_count": 14,
   "metadata": {},
   "outputs": [
    {
     "name": "stdout",
     "output_type": "stream",
     "text": [
      "Epoch 1/10\n",
      "3322/3322 [==============================] - 61s 18ms/step - loss: 0.2994 - accuracy: 0.8787\n",
      "Epoch 2/10\n",
      "3322/3322 [==============================] - 26s 8ms/step - loss: 0.2509 - accuracy: 0.9010\n",
      "Epoch 3/10\n",
      "3322/3322 [==============================] - 26s 8ms/step - loss: 0.2413 - accuracy: 0.9050\n",
      "Epoch 4/10\n",
      "3322/3322 [==============================] - 26s 8ms/step - loss: 0.2358 - accuracy: 0.9074\n",
      "Epoch 5/10\n",
      "3322/3322 [==============================] - 25s 8ms/step - loss: 0.2316 - accuracy: 0.9088\n",
      "Epoch 6/10\n",
      "3322/3322 [==============================] - 25s 8ms/step - loss: 0.2301 - accuracy: 0.9098\n",
      "Epoch 7/10\n",
      "3322/3322 [==============================] - 25s 8ms/step - loss: 0.2266 - accuracy: 0.9112\n",
      "Epoch 8/10\n",
      "3322/3322 [==============================] - 25s 8ms/step - loss: 0.2243 - accuracy: 0.9126\n",
      "Epoch 9/10\n",
      "3322/3322 [==============================] - 26s 8ms/step - loss: 0.2216 - accuracy: 0.9136\n",
      "Epoch 10/10\n",
      "3322/3322 [==============================] - 26s 8ms/step - loss: 0.2197 - accuracy: 0.9148\n",
      "{'loss': [0.29935523867607117, 0.25088709592819214, 0.24128125607967377, 0.23575809597969055, 0.2316075712442398, 0.23006828129291534, 0.22655485570430756, 0.2242521345615387, 0.22160455584526062, 0.21971799433231354], 'accuracy': [0.8787322640419006, 0.9009849429130554, 0.9049641489982605, 0.9073582887649536, 0.908797562122345, 0.9097759127616882, 0.9112246036529541, 0.9126356840133667, 0.9135622978210449, 0.9148463606834412]}\n"
     ]
    }
   ],
   "source": [
    "n_iteration = 10\n",
    "#was 10\n",
    "#model.fit(x_train, y_train, batch_size=64, epochs=n_iteration, shuffle=True)\n",
    "history = model.fit(scaled_train_in, train_out, batch_size=64, epochs=n_iteration, shuffle=True)\n",
    "print(history.history)\n",
    "all_loss = history.history['loss']"
   ]
  },
  {
   "cell_type": "code",
   "execution_count": 15,
   "metadata": {},
   "outputs": [
    {
     "name": "stdout",
     "output_type": "stream",
     "text": [
      "6232/6232 [==============================] - 43s 7ms/step - loss: 0.2518 - accuracy: 0.8975\n",
      "Test accuracy: 0.897497\n"
     ]
    }
   ],
   "source": [
    "test_loss, test_acc = model.evaluate(scaled_val_in, val_out)\n",
    "print('Test accuracy: %f' %test_acc)"
   ]
  },
  {
   "cell_type": "code",
   "execution_count": 16,
   "metadata": {},
   "outputs": [],
   "source": [
    "val_in, val_out = prepare_data(val)\n",
    "# set the probability threshold for binary classification; predict on validation; add binary preds\n",
    "binary_threshold = 0.5\n",
    "preds = model.predict(scaled_val_in) #.reshape(val_out.shape[0])\n",
    "binary_preds = np.zeros(preds.shape[0])\n",
    "preds_1=preds[:,1]\n",
    "binary_preds = np.where(preds_1 >= binary_threshold, 1, 0)"
   ]
  },
  {
   "cell_type": "code",
   "execution_count": 17,
   "metadata": {},
   "outputs": [
    {
     "name": "stdout",
     "output_type": "stream",
     "text": [
      "Heidke Skill Score: 0.788\n",
      "Pierce Skill Score: 0.797\n",
      "Brier Score: 0.103\n",
      "Brier Skill Score: 0.571\n",
      "AUC: 0.898\n"
     ]
    }
   ],
   "source": [
    "# Example regressed metrics\n",
    "# print('RMSE: {}'.format(np.round(root_mean_squared_error(val_out, preds),3)))\n",
    "# print('R squared: {}'.format(np.round(r2_corr(val_out, preds),3)))\n",
    "# print('Hellenger Distance: {}'.format(np.round(hellinger_distance(val_out, preds),3)))\n",
    "\n",
    "# Example classified metrics\n",
    "print('Heidke Skill Score: {}'.format(np.round(heidke_skill_score(val_out, binary_preds),3)))\n",
    "print('Pierce Skill Score: {}'.format(np.round(peirce_skill_score(val_out, binary_preds),3)))\n",
    "print('Brier Score: {}'.format(np.round(brier_score(val_out, binary_preds),3)))\n",
    "print('Brier Skill Score: {}'.format(np.round(brier_skill_score(val_out, binary_preds),3)))\n",
    "print('AUC: {}'.format(np.round(roc_auc_score(val_out, binary_preds),3)))"
   ]
  },
  {
   "cell_type": "markdown",
   "metadata": {},
   "source": [
    "-------------\n",
    "\n",
    "build an F-C NN model\n"
   ]
  },
  {
   "cell_type": "code",
   "execution_count": 26,
   "metadata": {},
   "outputs": [
    {
     "name": "stdout",
     "output_type": "stream",
     "text": [
      "[0 0 0 0 0]\n",
      "[[1. 0.]\n",
      " [1. 0.]\n",
      " [1. 0.]\n",
      " [1. 0.]\n",
      " [1. 0.]]\n",
      "CPU times: user 17 s, sys: 6.15 s, total: 23.2 s\n",
      "Wall time: 23 s\n"
     ]
    }
   ],
   "source": [
    "%%time\n",
    "# get numpy arrays of patch data for each band (this also converts all flash_counts to binary classes)\n",
    "train_in, train_out = prepare_data(train) \n",
    "val_in, val_out = prepare_data(val)\n",
    "\n",
    "# scale data\n",
    "scaler = MinMaxScaler2D()\n",
    "scaled_train_in = scaler.fit_transform(train_in)\n",
    "scaled_val_in = scaler.transform(val_in)\n",
    "\n",
    "# Convert the labels to one-hot vectors\n",
    "print(train_out[0:5])\n",
    "train_out = tf.keras.utils.to_categorical(train_out, 2)  # 2 classes\n",
    "val_out = tf.keras.utils.to_categorical(val_out, 2)\n",
    "print(train_out[0:5])"
   ]
  },
  {
   "cell_type": "code",
   "execution_count": 27,
   "metadata": {},
   "outputs": [],
   "source": [
    "def create_model2():\n",
    "    model = tf.keras.models.Sequential()\n",
    "    model.add(tf.keras.layers.Flatten(input_shape=(32,32,4)))\n",
    "    model.add(tf.keras.layers.Dense(256, activation='relu'))\n",
    "    model.add(tf.keras.layers.Dense(128, activation='relu'))\n",
    "    #model.add(tf.keras.layers.Dense(64, activation='relu'))\n",
    "    model.add(tf.keras.layers.Dropout(0.5))\n",
    "    model.add(tf.keras.layers.Dense(2))\n",
    "    return model"
   ]
  },
  {
   "cell_type": "code",
   "execution_count": 28,
   "metadata": {},
   "outputs": [
    {
     "name": "stdout",
     "output_type": "stream",
     "text": [
      "Model: \"sequential_2\"\n",
      "_________________________________________________________________\n",
      "Layer (type)                 Output Shape              Param #   \n",
      "=================================================================\n",
      "flatten_2 (Flatten)          (None, 4096)              0         \n",
      "_________________________________________________________________\n",
      "dense_5 (Dense)              (None, 256)               1048832   \n",
      "_________________________________________________________________\n",
      "dense_6 (Dense)              (None, 128)               32896     \n",
      "_________________________________________________________________\n",
      "dense_7 (Dense)              (None, 64)                8256      \n",
      "_________________________________________________________________\n",
      "dropout_2 (Dropout)          (None, 64)                0         \n",
      "_________________________________________________________________\n",
      "dense_8 (Dense)              (None, 2)                 130       \n",
      "=================================================================\n",
      "Total params: 1,090,114\n",
      "Trainable params: 1,090,114\n",
      "Non-trainable params: 0\n",
      "_________________________________________________________________\n"
     ]
    }
   ],
   "source": [
    "model2 = create_model2()\n",
    "model2.summary()"
   ]
  },
  {
   "cell_type": "code",
   "execution_count": 29,
   "metadata": {},
   "outputs": [],
   "source": [
    "model2.compile(optimizer='adam', \n",
    "              loss=tf.losses.CategoricalCrossentropy(from_logits=True),\n",
    "              metrics=['accuracy'])"
   ]
  },
  {
   "cell_type": "code",
   "execution_count": 30,
   "metadata": {},
   "outputs": [
    {
     "name": "stdout",
     "output_type": "stream",
     "text": [
      "Epoch 1/10\n",
      "3322/3322 [==============================] - 14s 4ms/step - loss: 0.4646 - accuracy: 0.8035\n",
      "Epoch 2/10\n",
      "3322/3322 [==============================] - 14s 4ms/step - loss: 0.4084 - accuracy: 0.8324\n",
      "Epoch 3/10\n",
      "3322/3322 [==============================] - 14s 4ms/step - loss: 0.3892 - accuracy: 0.8406\n",
      "Epoch 4/10\n",
      "3322/3322 [==============================] - 14s 4ms/step - loss: 0.3781 - accuracy: 0.8448\n",
      "Epoch 5/10\n",
      "3322/3322 [==============================] - 14s 4ms/step - loss: 0.3703 - accuracy: 0.8489\n",
      "Epoch 6/10\n",
      "3322/3322 [==============================] - 14s 4ms/step - loss: 0.3661 - accuracy: 0.8506\n",
      "Epoch 7/10\n",
      "3322/3322 [==============================] - 14s 4ms/step - loss: 0.3632 - accuracy: 0.8515\n",
      "Epoch 8/10\n",
      "3322/3322 [==============================] - 14s 4ms/step - loss: 0.3612 - accuracy: 0.8518\n",
      "Epoch 9/10\n",
      "3322/3322 [==============================] - 14s 4ms/step - loss: 0.3589 - accuracy: 0.8531\n",
      "Epoch 10/10\n",
      "3322/3322 [==============================] - 14s 4ms/step - loss: 0.3561 - accuracy: 0.8540\n",
      "{'loss': [0.4645897150039673, 0.40840134024620056, 0.3891577422618866, 0.37814822793006897, 0.3702731132507324, 0.36609315872192383, 0.3632112443447113, 0.36122000217437744, 0.3588770031929016, 0.3561069667339325], 'accuracy': [0.8034703135490417, 0.8324161171913147, 0.8406097888946533, 0.8448382616043091, 0.8488833904266357, 0.8505531549453735, 0.8514515161514282, 0.851823091506958, 0.853107213973999, 0.8540478944778442]}\n"
     ]
    }
   ],
   "source": [
    "n_iteration = 10\n",
    "history2 = model2.fit(scaled_train_in, train_out, batch_size=64, epochs=n_iteration, shuffle=True)\n",
    "print(history2.history)\n",
    "all_loss2 = history2.history['loss']"
   ]
  },
  {
   "cell_type": "code",
   "execution_count": 31,
   "metadata": {},
   "outputs": [
    {
     "name": "stdout",
     "output_type": "stream",
     "text": [
      "6232/6232 [==============================] - 17s 3ms/step - loss: 0.3878 - accuracy: 0.8424\n",
      "Test accuracy: 0.842371\n"
     ]
    }
   ],
   "source": [
    "test_loss2, test_acc2 = model2.evaluate(scaled_val_in, val_out)\n",
    "print('Test accuracy: %f' %test_acc2)"
   ]
  },
  {
   "cell_type": "code",
   "execution_count": 34,
   "metadata": {},
   "outputs": [],
   "source": [
    "val_in, val_out = prepare_data(val)\n",
    "# set the probability threshold for binary classification; predict on validation; add binary preds\n",
    "binary_threshold = 0.5\n",
    "preds = model2.predict(scaled_val_in) #.reshape(val_out.shape[0])\n",
    "binary_preds = np.zeros(preds.shape[0])\n",
    "preds_1=preds[:,1]\n",
    "binary_preds = np.where(preds_1 >= binary_threshold, 1, 0)"
   ]
  },
  {
   "cell_type": "code",
   "execution_count": 35,
   "metadata": {},
   "outputs": [
    {
     "name": "stdout",
     "output_type": "stream",
     "text": [
      "Heidke Skill Score: 0.0\n",
      "Pierce Skill Score: 0.0\n",
      "Brier Score: 0.395\n",
      "Brier Skill Score: -0.653\n",
      "AUC: 0.5\n"
     ]
    }
   ],
   "source": [
    "# Example regressed metrics\n",
    "# print('RMSE: {}'.format(np.round(root_mean_squared_error(val_out, preds),3)))\n",
    "# print('R squared: {}'.format(np.round(r2_corr(val_out, preds),3)))\n",
    "# print('Hellenger Distance: {}'.format(np.round(hellinger_distance(val_out, preds),3)))\n",
    "\n",
    "# Example classified metrics\n",
    "print('Heidke Skill Score: {}'.format(np.round(heidke_skill_score(val_out, binary_preds),3)))\n",
    "print('Pierce Skill Score: {}'.format(np.round(peirce_skill_score(val_out, binary_preds),3)))\n",
    "print('Brier Score: {}'.format(np.round(brier_score(val_out, binary_preds),3)))\n",
    "print('Brier Skill Score: {}'.format(np.round(brier_skill_score(val_out, binary_preds),3)))\n",
    "print('AUC: {}'.format(np.round(roc_auc_score(val_out, binary_preds),3)))"
   ]
  },
  {
   "cell_type": "markdown",
   "metadata": {},
   "source": [
    "-------------\n",
    "Another CNN model\n",
    "This part of the code was developed by K. Searight"
   ]
  },
  {
   "cell_type": "code",
   "execution_count": 36,
   "metadata": {},
   "outputs": [
    {
     "name": "stdout",
     "output_type": "stream",
     "text": [
      "CPU times: user 17.1 s, sys: 5.93 s, total: 23 s\n",
      "Wall time: 22.9 s\n"
     ]
    }
   ],
   "source": [
    "%%time\n",
    "# get numpy arrays of patch data for each band (this also converts all flash_counts to binary classes)\n",
    "train_in, train_out = prepare_data(train) \n",
    "val_in, val_out = prepare_data(val)\n",
    "\n",
    "# scale data\n",
    "scaler = MinMaxScaler2D()\n",
    "scaled_train_in = scaler.fit_transform(train_in)\n",
    "scaled_val_in = scaler.transform(val_in)"
   ]
  },
  {
   "cell_type": "code",
   "execution_count": 37,
   "metadata": {},
   "outputs": [
    {
     "name": "stdout",
     "output_type": "stream",
     "text": [
      "(212604, 32, 32)\n",
      "(199399, 32, 32)\n"
     ]
    }
   ],
   "source": [
    "nt_times = np.shape(scaled_train_in[:,:,:,0])\n",
    "print(nt_times)\n",
    "nv_times = np.shape(scaled_val_in[:,:,:,0])\n",
    "print(nv_times)"
   ]
  },
  {
   "cell_type": "code",
   "execution_count": 38,
   "metadata": {},
   "outputs": [
    {
     "data": {
      "text/plain": [
       "{'min_filters': 16,\n",
       " 'filter_width': 5,\n",
       " 'filter_growth_rate': 2,\n",
       " 'min_data_width': 4,\n",
       " 'hidden_activation': 'relu',\n",
       " 'output_activation': 'sigmoid',\n",
       " 'use_dropout': False,\n",
       " 'pooling': 'mean',\n",
       " 'dropout_alpha': 0.0,\n",
       " 'data_format': 'channels_last',\n",
       " 'optimizer': 'adam',\n",
       " 'learning_rate': 0.001,\n",
       " 'loss': 'mse',\n",
       " 'metrics': None,\n",
       " 'leaky_alpha': 0.1,\n",
       " 'batch_size': 1024,\n",
       " 'epochs': 5,\n",
       " 'sgd_momentum': 0.99,\n",
       " 'model': None,\n",
       " 'parallel_model': None,\n",
       " 'time_history': <goes16ci.models.TimeHistory at 0x7f09483c4410>,\n",
       " 'loss_history': <goes16ci.models.LossHistory at 0x7f09483c4190>,\n",
       " 'verbose': 0}"
      ]
     },
     "execution_count": 38,
     "metadata": {},
     "output_type": "execute_result"
    }
   ],
   "source": [
    "# CNN\n",
    "cnn = StandardConvNet(epochs=5)\n",
    "vars(cnn)"
   ]
  },
  {
   "cell_type": "code",
   "execution_count": null,
   "metadata": {},
   "outputs": [
    {
     "name": "stdout",
     "output_type": "stream",
     "text": [
      "{'loss': 0.13472598791122437, 'val_loss': 0.11272187530994415}\n",
      "{'loss': 0.1074197068810463, 'val_loss': 0.10887259244918823}\n",
      "{'loss': 0.10015366971492767, 'val_loss': 0.10080493241548538}\n"
     ]
    }
   ],
   "source": [
    "%%time\n",
    "# Fit model and print architecture\n",
    "cnn.fit(scaled_train_in, train_out, scaled_val_in, val_out)\n",
    "cnn.model.summary()"
   ]
  },
  {
   "cell_type": "code",
   "execution_count": 19,
   "metadata": {},
   "outputs": [],
   "source": [
    "# set the probability threshold for binary classification; predict on validation; add binary preds\n",
    "binary_threshold = 0.5\n",
    "preds = model2.predict(scaled_val_in).reshape(val_out.shape[0])\n",
    "binary_preds = np.where(preds >= binary_threshold, 1, 0)"
   ]
  },
  {
   "cell_type": "code",
   "execution_count": 15,
   "metadata": {},
   "outputs": [
    {
     "name": "stdout",
     "output_type": "stream",
     "text": [
      "RMSE: 0.312\n",
      "R squared: 0.603\n",
      "Hellenger Distance: 0.625\n",
      "Heidke Skill Score: 0.737\n",
      "Pierce Skill Score: 0.736\n",
      "Brier Score: 0.126\n",
      "Brier Skill Score: 0.473\n",
      "AUC: 0.868\n"
     ]
    }
   ],
   "source": [
    "# Example regressed metrics\n",
    "print('RMSE: {}'.format(np.round(root_mean_squared_error(val_out, preds),3)))\n",
    "print('R squared: {}'.format(np.round(r2_corr(val_out, preds),3)))\n",
    "print('Hellenger Distance: {}'.format(np.round(hellinger_distance(val_out, preds),3)))\n",
    "\n",
    "# Example classified metrics\n",
    "print('Heidke Skill Score: {}'.format(np.round(heidke_skill_score(val_out, binary_preds),3)))\n",
    "print('Pierce Skill Score: {}'.format(np.round(peirce_skill_score(val_out, binary_preds),3)))\n",
    "print('Brier Score: {}'.format(np.round(brier_score(val_out, binary_preds),3)))\n",
    "print('Brier Skill Score: {}'.format(np.round(brier_skill_score(val_out, binary_preds),3)))\n",
    "print('AUC: {}'.format(np.round(roc_auc_score(val_out, binary_preds),3)))"
   ]
  },
  {
   "cell_type": "code",
   "execution_count": null,
   "metadata": {},
   "outputs": [],
   "source": []
  },
  {
   "cell_type": "markdown",
   "metadata": {},
   "source": [
    "### Wednesday\n",
    "* Calculate three relevant evaluation metrics for each ML solution and baseline\n",
    "* Refine machine learning approaches and test additional hyperparameter settings"
   ]
  },
  {
   "cell_type": "raw",
   "metadata": {},
   "source": [
    "2-layer CNN\n",
    "Heidke Skill Score: 0.779\n",
    "Pierce Skill Score: 0.783\n",
    "Brier Score: 0.106\n",
    "Brier Skill Score: 0.555\n",
    "AUC: 0.892\n",
    "accuracy: 0.893600"
   ]
  },
  {
   "cell_type": "raw",
   "metadata": {},
   "source": [
    "3-layer CNN\n",
    "Heidke Skill Score: 0.788\n",
    "Pierce Skill Score: 0.797\n",
    "Brier Score: 0.103\n",
    "Brier Skill Score: 0.571\n",
    "AUC: 0.898\n",
    "accuracy: 0.897497"
   ]
  },
  {
   "cell_type": "raw",
   "metadata": {},
   "source": [
    "2-layer ANN\n",
    "Heidke Skill Score: 0.631\n",
    "Pierce Skill Score: 0.634\n",
    "Brier Score: 0.177\n",
    "Brier Skill Score: 0.26\n",
    "AUC: 0.817\n",
    "accuracy: 0.824628"
   ]
  },
  {
   "cell_type": "code",
   "execution_count": 20,
   "metadata": {},
   "outputs": [],
   "source": [
    "# Wednesday's code goes here\n",
    "# Code is updated in the Tuesday section\n"
   ]
  },
  {
   "cell_type": "markdown",
   "metadata": {},
   "source": [
    "### Thursday \n",
    "* Evaluate two interpretation methods for your machine learning solution\n",
    "* Compare interpretation of baseline with your approach\n",
    "* Submit best results on project to leaderboard\n",
    "* Prepare 2 Google Slides on team's approach and submit them "
   ]
  },
  {
   "cell_type": "code",
   "execution_count": 1,
   "metadata": {},
   "outputs": [
    {
     "name": "stdout",
     "output_type": "stream",
     "text": [
      "Requirement already satisfied: numpy in /opt/conda/lib/python3.7/site-packages (1.18.5)\n",
      "Requirement already satisfied: scipy in /opt/conda/lib/python3.7/site-packages (1.4.1)\n",
      "Requirement already satisfied: matplotlib in /opt/conda/lib/python3.7/site-packages (3.2.2)\n",
      "Requirement already satisfied: xarray in /opt/conda/lib/python3.7/site-packages (0.15.1)\n",
      "Requirement already satisfied: pandas in /opt/conda/lib/python3.7/site-packages (1.0.5)\n",
      "Requirement already satisfied: netcdf4 in /opt/conda/lib/python3.7/site-packages (1.5.3)\n",
      "Requirement already satisfied: h5netcdf in /opt/conda/lib/python3.7/site-packages (0.8.0)\n",
      "Requirement already satisfied: tqdm in /opt/conda/lib/python3.7/site-packages (4.46.1)\n",
      "Requirement already satisfied: tensorflow in /opt/conda/lib/python3.7/site-packages (2.2.0)\n",
      "Requirement already satisfied: scikit-learn in /opt/conda/lib/python3.7/site-packages (0.23.1)\n",
      "Requirement already satisfied: dask in /opt/conda/lib/python3.7/site-packages (2.19.0)\n",
      "Requirement already satisfied: s3fs in /opt/conda/lib/python3.7/site-packages (0.4.2)\n",
      "Requirement already satisfied: goes16ci in /opt/conda/lib/python3.7/site-packages (0.1.3)\n",
      "Requirement already satisfied: seaborn in /opt/conda/lib/python3.7/site-packages (0.10.1)\n",
      "Requirement already satisfied: cycler>=0.10 in /opt/conda/lib/python3.7/site-packages (from matplotlib) (0.10.0)\n",
      "Requirement already satisfied: python-dateutil>=2.1 in /opt/conda/lib/python3.7/site-packages (from matplotlib) (2.8.1)\n",
      "Requirement already satisfied: pyparsing!=2.0.4,!=2.1.2,!=2.1.6,>=2.0.1 in /opt/conda/lib/python3.7/site-packages (from matplotlib) (2.4.7)\n",
      "Requirement already satisfied: kiwisolver>=1.0.1 in /opt/conda/lib/python3.7/site-packages (from matplotlib) (1.2.0)\n",
      "Requirement already satisfied: setuptools>=41.2 in /opt/conda/lib/python3.7/site-packages (from xarray) (47.1.1.post20200529)\n",
      "Requirement already satisfied: pytz>=2017.2 in /opt/conda/lib/python3.7/site-packages (from pandas) (2020.1)\n",
      "Requirement already satisfied: cftime in /opt/conda/lib/python3.7/site-packages (from netcdf4) (1.1.3)\n",
      "Requirement already satisfied: h5py in /opt/conda/lib/python3.7/site-packages (from h5netcdf) (2.10.0)\n",
      "Requirement already satisfied: gast==0.3.3 in /opt/conda/lib/python3.7/site-packages (from tensorflow) (0.3.3)\n",
      "Requirement already satisfied: keras-preprocessing>=1.1.0 in /opt/conda/lib/python3.7/site-packages (from tensorflow) (1.1.2)\n",
      "Requirement already satisfied: protobuf>=3.8.0 in /opt/conda/lib/python3.7/site-packages (from tensorflow) (3.12.2)\n",
      "Requirement already satisfied: google-pasta>=0.1.8 in /opt/conda/lib/python3.7/site-packages (from tensorflow) (0.2.0)\n",
      "Requirement already satisfied: tensorflow-estimator<2.3.0,>=2.2.0 in /opt/conda/lib/python3.7/site-packages (from tensorflow) (2.2.0)\n",
      "Requirement already satisfied: opt-einsum>=2.3.2 in /opt/conda/lib/python3.7/site-packages (from tensorflow) (3.2.1)\n",
      "Requirement already satisfied: wrapt>=1.11.1 in /opt/conda/lib/python3.7/site-packages (from tensorflow) (1.12.1)\n",
      "Requirement already satisfied: astunparse==1.6.3 in /opt/conda/lib/python3.7/site-packages (from tensorflow) (1.6.3)\n",
      "Requirement already satisfied: termcolor>=1.1.0 in /opt/conda/lib/python3.7/site-packages (from tensorflow) (1.1.0)\n",
      "Requirement already satisfied: six>=1.12.0 in /opt/conda/lib/python3.7/site-packages (from tensorflow) (1.15.0)\n",
      "Requirement already satisfied: grpcio>=1.8.6 in /opt/conda/lib/python3.7/site-packages (from tensorflow) (1.30.0)\n",
      "Requirement already satisfied: wheel>=0.26; python_version >= \"3\" in /opt/conda/lib/python3.7/site-packages (from tensorflow) (0.34.2)\n",
      "Requirement already satisfied: absl-py>=0.7.0 in /opt/conda/lib/python3.7/site-packages (from tensorflow) (0.9.0)\n",
      "Requirement already satisfied: tensorboard<2.3.0,>=2.2.0 in /opt/conda/lib/python3.7/site-packages (from tensorflow) (2.2.2)\n",
      "Requirement already satisfied: threadpoolctl>=2.0.0 in /opt/conda/lib/python3.7/site-packages (from scikit-learn) (2.1.0)\n",
      "Requirement already satisfied: joblib>=0.11 in /opt/conda/lib/python3.7/site-packages (from scikit-learn) (0.15.1)\n",
      "Requirement already satisfied: pyyaml in /opt/conda/lib/python3.7/site-packages (from dask) (5.3.1)\n",
      "Requirement already satisfied: fsspec>=0.6.0 in /opt/conda/lib/python3.7/site-packages (from s3fs) (0.7.4)\n",
      "Requirement already satisfied: botocore>=1.12.91 in /opt/conda/lib/python3.7/site-packages (from s3fs) (1.17.9)\n",
      "Requirement already satisfied: markdown>=2.6.8 in /opt/conda/lib/python3.7/site-packages (from tensorboard<2.3.0,>=2.2.0->tensorflow) (3.2.2)\n",
      "Requirement already satisfied: tensorboard-plugin-wit>=1.6.0 in /opt/conda/lib/python3.7/site-packages (from tensorboard<2.3.0,>=2.2.0->tensorflow) (1.6.0.post3)\n",
      "Requirement already satisfied: google-auth<2,>=1.6.3 in /opt/conda/lib/python3.7/site-packages (from tensorboard<2.3.0,>=2.2.0->tensorflow) (1.18.0)\n",
      "Requirement already satisfied: google-auth-oauthlib<0.5,>=0.4.1 in /opt/conda/lib/python3.7/site-packages (from tensorboard<2.3.0,>=2.2.0->tensorflow) (0.4.1)\n",
      "Requirement already satisfied: requests<3,>=2.21.0 in /opt/conda/lib/python3.7/site-packages (from tensorboard<2.3.0,>=2.2.0->tensorflow) (2.23.0)\n",
      "Requirement already satisfied: werkzeug>=0.11.15 in /opt/conda/lib/python3.7/site-packages (from tensorboard<2.3.0,>=2.2.0->tensorflow) (1.0.1)\n",
      "Requirement already satisfied: docutils<0.16,>=0.10 in /opt/conda/lib/python3.7/site-packages (from botocore>=1.12.91->s3fs) (0.15.2)\n",
      "Requirement already satisfied: jmespath<1.0.0,>=0.7.1 in /opt/conda/lib/python3.7/site-packages (from botocore>=1.12.91->s3fs) (0.10.0)\n",
      "Requirement already satisfied: urllib3<1.26,>=1.20 in /opt/conda/lib/python3.7/site-packages (from botocore>=1.12.91->s3fs) (1.25.9)\n",
      "Requirement already satisfied: importlib-metadata; python_version < \"3.8\" in /opt/conda/lib/python3.7/site-packages (from markdown>=2.6.8->tensorboard<2.3.0,>=2.2.0->tensorflow) (1.6.1)\n",
      "Requirement already satisfied: pyasn1-modules>=0.2.1 in /opt/conda/lib/python3.7/site-packages (from google-auth<2,>=1.6.3->tensorboard<2.3.0,>=2.2.0->tensorflow) (0.2.8)\n",
      "Requirement already satisfied: rsa<5,>=3.1.4; python_version >= \"3\" in /opt/conda/lib/python3.7/site-packages (from google-auth<2,>=1.6.3->tensorboard<2.3.0,>=2.2.0->tensorflow) (4.6)\n",
      "Requirement already satisfied: cachetools<5.0,>=2.0.0 in /opt/conda/lib/python3.7/site-packages (from google-auth<2,>=1.6.3->tensorboard<2.3.0,>=2.2.0->tensorflow) (4.1.0)\n",
      "Requirement already satisfied: requests-oauthlib>=0.7.0 in /opt/conda/lib/python3.7/site-packages (from google-auth-oauthlib<0.5,>=0.4.1->tensorboard<2.3.0,>=2.2.0->tensorflow) (1.3.0)\n",
      "Requirement already satisfied: idna<3,>=2.5 in /opt/conda/lib/python3.7/site-packages (from requests<3,>=2.21.0->tensorboard<2.3.0,>=2.2.0->tensorflow) (2.9)\n",
      "Requirement already satisfied: certifi>=2017.4.17 in /opt/conda/lib/python3.7/site-packages (from requests<3,>=2.21.0->tensorboard<2.3.0,>=2.2.0->tensorflow) (2020.6.20)\n",
      "Requirement already satisfied: chardet<4,>=3.0.2 in /opt/conda/lib/python3.7/site-packages (from requests<3,>=2.21.0->tensorboard<2.3.0,>=2.2.0->tensorflow) (3.0.4)\n",
      "Requirement already satisfied: zipp>=0.5 in /opt/conda/lib/python3.7/site-packages (from importlib-metadata; python_version < \"3.8\"->markdown>=2.6.8->tensorboard<2.3.0,>=2.2.0->tensorflow) (3.1.0)\n",
      "Requirement already satisfied: pyasn1<0.5.0,>=0.4.6 in /opt/conda/lib/python3.7/site-packages (from pyasn1-modules>=0.2.1->google-auth<2,>=1.6.3->tensorboard<2.3.0,>=2.2.0->tensorflow) (0.4.8)\n",
      "Requirement already satisfied: oauthlib>=3.0.0 in /opt/conda/lib/python3.7/site-packages (from requests-oauthlib>=0.7.0->google-auth-oauthlib<0.5,>=0.4.1->tensorboard<2.3.0,>=2.2.0->tensorflow) (3.0.1)\n"
     ]
    }
   ],
   "source": [
    "! pip install numpy scipy matplotlib xarray pandas netcdf4 h5netcdf tqdm tensorflow scikit-learn dask s3fs goes16ci seaborn"
   ]
  },
  {
   "cell_type": "code",
   "execution_count": 2,
   "metadata": {},
   "outputs": [
    {
     "name": "stdout",
     "output_type": "stream",
     "text": [
      "PhysicalDevice(name='/physical_device:GPU:0', device_type='GPU')\n"
     ]
    }
   ],
   "source": [
    "import numpy as np\n",
    "import pandas as pd\n",
    "import seaborn as sns\n",
    "import random\n",
    "import xarray as xr\n",
    "import tensorflow as tf\n",
    "import matplotlib.pyplot as plt\n",
    "from dask.distributed import Client, LocalCluster, progress\n",
    "from goes16ci.models import StandardConvNet, ResNet, MinMaxScaler2D\n",
    "import s3fs\n",
    "from glob import glob\n",
    "%matplotlib inline\n",
    "\n",
    "# Set random seed\n",
    "seed = 3985\n",
    "np.random.seed(seed)\n",
    "random.seed(seed)\n",
    "tf.random.set_seed(seed)\n",
    "\n",
    "gpus = tf.config.get_visible_devices(\"GPU\")\n",
    "for device in gpus:\n",
    "    print(device)\n",
    "    tf.config.experimental.set_memory_growth(device, True)"
   ]
  },
  {
   "cell_type": "code",
   "execution_count": 3,
   "metadata": {},
   "outputs": [],
   "source": [
    "# Thursday's code goes here\n",
    "\n",
    "# 2-layer ANN\n",
    "all_accuracy_1=np.array( [0.8034703135490417, 0.8324161171913147, 0.8406097888946533, \n",
    "                        0.8448382616043091, 0.8488833904266357, 0.8505531549453735, \n",
    "                        0.8514515161514282, 0.851823091506958, 0.853107213973999, 0.8540478944778442])\n",
    "\n",
    "all_loss_1=np.array( [0.4645897150039673, 0.40840134024620056, 0.3891577422618866, \n",
    "                      0.37814822793006897, 0.3702731132507324, 0.36609315872192383, \n",
    "                      0.3632112443447113, 0.36122000217437744, 0.3588770031929016, 0.3561069667339325])\n",
    "\n",
    "# 2-layer CNN\n",
    "all_accuracy_2=np.array( [0.8729798197746277, 0.893957793712616, 0.8988118767738342, \n",
    "                        0.9013612270355225, 0.9047948122024536, 0.9056462049484253, \n",
    "                        0.9074711799621582, 0.9086846709251404, 0.9098699688911438, 0.9115726947784424])\n",
    "\n",
    "\n",
    "all_loss_2=np.array( [0.3157445788383484, 0.2662068009376526, 0.255046546459198, \n",
    "                      0.24804221093654633, 0.24226537346839905, 0.2389853596687317, \n",
    "                      0.23506499826908112, 0.2324257344007492, 0.22975461184978485, 0.22690463066101074])\n",
    "\n",
    "# 3-layer CNN\n",
    "all_accuracy_3=np.array( [0.8787322640419006, 0.9009849429130554, 0.9049641489982605, \n",
    "                        0.9073582887649536, 0.908797562122345, 0.9097759127616882, \n",
    "                        0.9112246036529541, 0.9126356840133667, 0.9135622978210449, 0.9148463606834412])\n",
    "\n",
    "all_loss_3=np.array( [0.29935523867607117, 0.25088709592819214, 0.24128125607967377, \n",
    "                      0.23575809597969055, 0.2316075712442398, 0.23006828129291534, \n",
    "                      0.22655485570430756, 0.2242521345615387, 0.22160455584526062, 0.21971799433231354])\n",
    "\n",
    "\n",
    "\n",
    "xaxis=range(1,11)\n"
   ]
  },
  {
   "cell_type": "code",
   "execution_count": 4,
   "metadata": {},
   "outputs": [
    {
     "data": {
      "image/png": "[encoded data removed]",
      "text/plain": [
       "<Figure size 432x288 with 1 Axes>"
      ]
     },
     "metadata": {
      "needs_background": "light"
     },
     "output_type": "display_data"
    }
   ],
   "source": [
    "plt.plot(xaxis, all_accuracy_1, '.-', xaxis, all_accuracy_2, '.-',  xaxis, all_accuracy_3, '.-') #2ANN, 2CNN, 3CNN\n",
    "plt.xlabel('iterations', fontsize=12)\n",
    "plt.xticks(xaxis)\n",
    "plt.title('Accuracy', fontsize=14)\n",
    "plt.legend(('2-layer ANN','2-layer CNN','3-layer CNN'))\n",
    "plt.show()"
   ]
  },
  {
   "cell_type": "code",
   "execution_count": 39,
   "metadata": {},
   "outputs": [
    {
     "data": {
      "image/png": "[encoded data removed]",
      "text/plain": [
       "<Figure size 432x288 with 1 Axes>"
      ]
     },
     "metadata": {
      "needs_background": "light"
     },
     "output_type": "display_data"
    }
   ],
   "source": [
    "alldata=[\n",
    "        [0, 0.824628, 0.893600, 0.897497],\n",
    "        [0.510, 0.26, 0.555, 0.571],\n",
    "        [0.739, 0.634, 0.783, 0.797],\n",
    "        [0.869, 0.871, 0.892, 0.898]\n",
    "        ]\n",
    "X = np.arange(4)\n",
    "Y = np.arange(0.0,1.1,0.1)\n",
    "strY = [\"%.1f\" % Ys for Ys in Y]\n",
    "fig = plt.figure()\n",
    "\n",
    "ax = fig.add_axes([0,0,1,1])\n",
    "ax.set_xticks([0.3,1.3, 2.3, 3.3])\n",
    "ax.set_xticklabels([\"ResNet\", \"2-layer ANN\",\"2-layer CNN\",\"3-layer CNN\"], fontsize=12)\n",
    "ax.set_ylim(0,1)\n",
    "ax.set_yticks(Y)\n",
    "ax.set_yticklabels(strY, fontsize=12)\n",
    "ax.bar(X + 0.0, alldata[0], width = 0.17, zorder=3)\n",
    "ax.bar(X + 0.2, alldata[1], width = 0.17, zorder=3)\n",
    "ax.bar(X + 0.4, alldata[2], width = 0.17, zorder=3)\n",
    "ax.bar(X + 0.6, alldata[3], width = 0.17, color='grey', zorder=3)\n",
    "fig.legend((\"Accuracy\",\"Brier SS\",\"Pierce SS\", \"AUC\"), loc='upper center', bbox_to_anchor=(0.57, 1.2), fontsize=12, ncol = 4)\n",
    "ax.grid(axis='y', zorder=0, linestyle='--')"
   ]
  },
  {
   "cell_type": "markdown",
   "metadata": {},
   "source": [
    "## Ultimate Submission Code\n",
    "Please insert your full data processing and machine learning pipeline code in the cell below."
   ]
  },
  {
   "cell_type": "code",
   "execution_count": null,
   "metadata": {},
   "outputs": [],
   "source": []
  }
 ],
 "metadata": {
  "kernelspec": {
   "display_name": "Python 3",
   "language": "python",
   "name": "python3"
  },
  "language_info": {
   "codemirror_mode": {
    "name": "ipython",
    "version": 3
   },
   "file_extension": ".py",
   "mimetype": "text/x-python",
   "name": "python",
   "nbconvert_exporter": "python",
   "pygments_lexer": "ipython3",
   "version": "3.7.6"
  }
 },
 "nbformat": 4,
 "nbformat_minor": 4
}

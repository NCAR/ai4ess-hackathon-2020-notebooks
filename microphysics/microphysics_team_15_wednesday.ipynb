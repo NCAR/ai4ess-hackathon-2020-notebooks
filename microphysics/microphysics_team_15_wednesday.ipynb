{
  "nbformat": 4,
  "nbformat_minor": 0,
  "metadata": {
    "colab": {
      "name": "Team 15 - Notebook - June 24.ipynb",
      "provenance": [],
      "collapsed_sections": []
    },
    "kernelspec": {
      "display_name": "Python 3",
      "language": "python",
      "name": "python3"
    },
    "language_info": {
      "codemirror_mode": {
        "name": "ipython",
        "version": 3
      },
      "file_extension": ".py",
      "mimetype": "text/x-python",
      "name": "python",
      "nbconvert_exporter": "python",
      "pygments_lexer": "ipython3",
      "version": "3.7.6"
    }
  },
  "cells": [
    {
      "cell_type": "markdown",
      "metadata": {
        "colab_type": "text",
        "id": "gDrLTTZtX9oG"
      },
      "source": [
        "### Load data\n"
      ]
    },
    {
      "cell_type": "code",
      "metadata": {
        "colab_type": "code",
        "id": "DH14knkpbezw",
        "colab": {}
      },
      "source": [
        "!pip install --user mlmicrophysics==0.1.1"
      ],
      "execution_count": null,
      "outputs": []
    },
    {
      "cell_type": "code",
      "metadata": {
        "colab_type": "code",
        "id": "V_6xAH8hX9oH",
        "colab": {}
      },
      "source": [
        "import argparse\n",
        "import random\n",
        "import sys\n",
        "import yaml\n",
        "from os.path import join, exists\n",
        "import os\n",
        "import s3fs\n",
        "import numpy as np\n",
        "import pandas as pd\n",
        "import matplotlib.pyplot as plt\n",
        "from sklearn.preprocessing import StandardScaler, MinMaxScaler, MaxAbsScaler, RobustScaler\n",
        "from sklearn.metrics import confusion_matrix, accuracy_score, mean_absolute_error\n",
        "from sklearn.linear_model import LinearRegression\n",
        "from sklearn import tree\n",
        "import tensorflow as tf\n",
        "\n",
        "from mlmicrophysics.metrics import heidke_skill_score, peirce_skill_score, hellinger_distance, root_mean_squared_error, r2_corr\n",
        "from mlmicrophysics.models import DenseNeuralNetwork\n",
        "from mlmicrophysics.data import subset_data_files_by_date, assemble_data_files\n",
        "\n",
        "\n",
        "# set random seed\n",
        "seed = 328942\n",
        "np.random.seed(seed)\n",
        "random.seed(seed)\n",
        "tf.random.set_seed(seed)\n"
      ],
      "execution_count": null,
      "outputs": []
    },
    {
      "cell_type": "code",
      "metadata": {
        "colab_type": "code",
        "id": "wyJHBskbX9oQ",
        "scrolled": true,
        "colab": {}
      },
      "source": [
        "# define data parameters\n",
        "\n",
        "data_path = \"ncar-aiml-data-commons/microphysics\"\n",
        "IN_COLAB = 'google.colab' in sys.modules\n",
        "if IN_COLAB:\n",
        "    out_path = \"/content/gdrive/My Drive/micro_models/base\"\n",
        "else:\n",
        "    out_path = \"./micro_models/base/\"\n",
        "if not exists(out_path):\n",
        "    os.makedirs(out_path)\n",
        "subsample = 0.1\n",
        "input_cols = [\"QC_TAU_in\", \"NC_TAU_in\", \"QR_TAU_in\", \"NR_TAU_in\", \"RHO_CLUBB_lev\"]\n",
        "output_cols = [\"qrtend_TAU\", \"nctend_TAU\", \"nrtend_TAU\"]\n",
        "\n",
        "subset_data = {\"train_date_start\" : 0,\n",
        "               \"train_date_end\" : 11000,\n",
        "               \"test_date_start\" : 11100,\n",
        "               \"test_date_end\" : 17500}\n",
        "\n",
        "input_scaler = StandardScaler()\n",
        "input_transforms = {\"QC_TAU_in\" : \"log10_transform\",\n",
        "                    \"NC_TAU_in\" : \"log10_transform\",\n",
        "                    \"QR_TAU_in\" : \"log10_transform\",\n",
        "                    \"NR_TAU_in\" : \"log10_transform\"}\n",
        "\n",
        "output_transforms = {\"qrtend_TAU\" : {0: [\"<=\", 1e-18, \"zero_transform\", \"None\"],\n",
        "                                   1: [\">\", 1e-18, \"log10_transform\", \"StandardScaler\"]},\n",
        "                     \"nctend_TAU\" : {0: [\">=\", -1e-18, \"zero_transform\", \"None\"],\n",
        "                                   1: [\"<\", -1e-18, \"neg_log10_transform\", \"StandardScaler\"]},\n",
        "                     \"nrtend_TAU\" : {-1: [\"<\", 0, \"neg_log10_transform\", \"StandardScaler\"],\n",
        "                                   0: [\"==\", 0, \"zero_transform\", \"None\"],\n",
        "                                   1: [\">\", 0, \"log10_transform\", \"StandardScaler\"]}}\n"
      ],
      "execution_count": null,
      "outputs": []
    },
    {
      "cell_type": "code",
      "metadata": {
        "colab_type": "code",
        "id": "Dp3aqJ5YX9oW",
        "colab": {
          "base_uri": "https://localhost:8080/",
          "height": 248
        },
        "outputId": "3dfac8e1-0c01-487c-9ade-308c31a78d21"
      },
      "source": [
        "# Load data from disk or cloud\n",
        "# Separate input, output and meta data\n",
        "# Split into training, validation, and test sets\n",
        "\n",
        "print(\"Subsetting file paths by train, validation, and test\")\n",
        "train_files, val_files, test_files = subset_data_files_by_date(data_path, **subset_data)\n",
        "\n",
        "print(\"\\nLoading training data\")\n",
        "scaled_input_train, \\\n",
        "labels_train, \\\n",
        "transformed_out_train, \\\n",
        "scaled_out_train, \\\n",
        "output_scalers, \\\n",
        "meta_train = assemble_data_files(train_files, input_cols, output_cols, input_transforms,\n",
        "                                 output_transforms, input_scaler, subsample=subsample)\n",
        "\n",
        "print(\"\\nLoading testing data\")\n",
        "scaled_input_test, \\\n",
        "labels_test, \\\n",
        "transformed_out_test, \\\n",
        "scaled_out_test, \\\n",
        "output_scalers_test, \\\n",
        "meta_test = assemble_data_files(test_files, input_cols, output_cols, input_transforms,\n",
        "                                output_transforms, input_scaler, output_scalers=output_scalers,\n",
        "                                train=False, subsample=subsample)\n"
      ],
      "execution_count": null,
      "outputs": [
        {
          "output_type": "stream",
          "text": [
            "Subsetting file paths by train, validation, and test\n"
          ],
          "name": "stdout"
        },
        {
          "output_type": "error",
          "ename": "NameError",
          "evalue": "ignored",
          "traceback": [
            "\u001b[0;31m---------------------------------------------------------------------------\u001b[0m",
            "\u001b[0;31mNameError\u001b[0m                                 Traceback (most recent call last)",
            "\u001b[0;32m<ipython-input-4-beb044eeb7e6>\u001b[0m in \u001b[0;36m<module>\u001b[0;34m()\u001b[0m\n\u001b[1;32m      4\u001b[0m \u001b[0;34m\u001b[0m\u001b[0m\n\u001b[1;32m      5\u001b[0m \u001b[0mprint\u001b[0m\u001b[0;34m(\u001b[0m\u001b[0;34m\"Subsetting file paths by train, validation, and test\"\u001b[0m\u001b[0;34m)\u001b[0m\u001b[0;34m\u001b[0m\u001b[0;34m\u001b[0m\u001b[0m\n\u001b[0;32m----> 6\u001b[0;31m \u001b[0mtrain_files\u001b[0m\u001b[0;34m,\u001b[0m \u001b[0mval_files\u001b[0m\u001b[0;34m,\u001b[0m \u001b[0mtest_files\u001b[0m \u001b[0;34m=\u001b[0m \u001b[0msubset_data_files_by_date\u001b[0m\u001b[0;34m(\u001b[0m\u001b[0mdata_path\u001b[0m\u001b[0;34m,\u001b[0m \u001b[0;34m**\u001b[0m\u001b[0msubset_data\u001b[0m\u001b[0;34m)\u001b[0m\u001b[0;34m\u001b[0m\u001b[0;34m\u001b[0m\u001b[0m\n\u001b[0m\u001b[1;32m      7\u001b[0m \u001b[0;34m\u001b[0m\u001b[0m\n\u001b[1;32m      8\u001b[0m \u001b[0mprint\u001b[0m\u001b[0;34m(\u001b[0m\u001b[0;34m\"\\nLoading training data\"\u001b[0m\u001b[0;34m)\u001b[0m\u001b[0;34m\u001b[0m\u001b[0;34m\u001b[0m\u001b[0m\n",
            "\u001b[0;31mNameError\u001b[0m: name 'subset_data_files_by_date' is not defined"
          ]
        }
      ]
    },
    {
      "cell_type": "code",
      "metadata": {
        "colab_type": "code",
        "id": "bqQkZcurX9oe",
        "colab": {},
        "outputId": "28b10040-d2c2-44f4-8f4a-f397c8fa9a25"
      },
      "source": [
        "# save meta data, input scalers, and output scalers\n",
        "    \n",
        "meta_test.to_csv(join(out_path, \"meta_test.csv\"), index_label=\"index\")\n",
        "\n",
        "input_scaler_df = pd.DataFrame({\"mean\": input_scaler.mean_, \"scale\": input_scaler.scale_},\n",
        "                               index=input_cols)\n",
        "input_scaler_df.to_csv(join(out_path, \"input_scale_values.csv\"), index_label=\"input\")\n",
        "\n",
        "out_scales_list = []\n",
        "for var in output_scalers.keys():\n",
        "    for out_class in output_scalers[var].keys():\n",
        "        if output_scalers[var][out_class] is not None:\n",
        "            out_scales_list.append(pd.DataFrame({\"mean\": output_scalers[var][out_class].mean_,\n",
        "                                                 \"scale\": output_scalers[var][out_class].scale_},\n",
        "                                                index=[var + \"_\" + str(out_class)]))\n",
        "out_scales_df = pd.concat(out_scales_list)\n",
        "out_scales_df.to_csv(join(out_path, \"output_scale_values.csv\"),\n",
        "                     index_label=\"output\")\n",
        "out_scales_df"
      ],
      "execution_count": null,
      "outputs": [
        {
          "output_type": "execute_result",
          "data": {
            "text/html": [
              "<div>\n",
              "<style scoped>\n",
              "    .dataframe tbody tr th:only-of-type {\n",
              "        vertical-align: middle;\n",
              "    }\n",
              "\n",
              "    .dataframe tbody tr th {\n",
              "        vertical-align: top;\n",
              "    }\n",
              "\n",
              "    .dataframe thead th {\n",
              "        text-align: right;\n",
              "    }\n",
              "</style>\n",
              "<table border=\"1\" class=\"dataframe\">\n",
              "  <thead>\n",
              "    <tr style=\"text-align: right;\">\n",
              "      <th></th>\n",
              "      <th>mean</th>\n",
              "      <th>scale</th>\n",
              "    </tr>\n",
              "  </thead>\n",
              "  <tbody>\n",
              "    <tr>\n",
              "      <th>qrtend_TAU_1</th>\n",
              "      <td>-11.190049</td>\n",
              "      <td>2.089005</td>\n",
              "    </tr>\n",
              "    <tr>\n",
              "      <th>nctend_TAU_1</th>\n",
              "      <td>-0.172256</td>\n",
              "      <td>2.584713</td>\n",
              "    </tr>\n",
              "    <tr>\n",
              "      <th>nrtend_TAU_-1</th>\n",
              "      <td>-3.434289</td>\n",
              "      <td>2.271458</td>\n",
              "    </tr>\n",
              "    <tr>\n",
              "      <th>nrtend_TAU_1</th>\n",
              "      <td>-2.084925</td>\n",
              "      <td>1.801713</td>\n",
              "    </tr>\n",
              "  </tbody>\n",
              "</table>\n",
              "</div>"
            ],
            "text/plain": [
              "                    mean     scale\n",
              "qrtend_TAU_1  -11.190049  2.089005\n",
              "nctend_TAU_1   -0.172256  2.584713\n",
              "nrtend_TAU_-1  -3.434289  2.271458\n",
              "nrtend_TAU_1   -2.084925  1.801713"
            ]
          },
          "metadata": {
            "tags": []
          },
          "execution_count": 4
        }
      ]
    },
    {
      "cell_type": "markdown",
      "metadata": {
        "colab_type": "text",
        "id": "78fgdM4mZKjc"
      },
      "source": [
        "## Monday: Create an exploratory visualization of the data"
      ]
    },
    {
      "cell_type": "code",
      "metadata": {
        "colab_type": "code",
        "id": "oGhq3P7CX9on",
        "colab": {
          "base_uri": "https://localhost:8080/",
          "height": 231
        },
        "outputId": "efe2cfbf-ad1f-49cc-8d46-7cc055b664da"
      },
      "source": [
        "# Histograms of original training input data by column\n",
        "\n",
        "fig, axes = plt.subplots(1,5, figsize=(20, 3))\n",
        "transformed_input_train = pd.DataFrame(input_scaler.inverse_transform(scaled_input_train), columns=input_cols)\n",
        "for a, ax in enumerate(axes.ravel()):\n",
        "    if a < len(input_cols):\n",
        "        ax.set_yscale(\"log\")\n",
        "        ax.hist(transformed_input_train[input_cols[a]], bins=20)\n",
        "        ax.set_title(input_cols[a])\n",
        "        "
      ],
      "execution_count": null,
      "outputs": [
        {
          "output_type": "error",
          "ename": "NameError",
          "evalue": "ignored",
          "traceback": [
            "\u001b[0;31m---------------------------------------------------------------------------\u001b[0m",
            "\u001b[0;31mNameError\u001b[0m                                 Traceback (most recent call last)",
            "\u001b[0;32m<ipython-input-3-1df8c78ad40f>\u001b[0m in \u001b[0;36m<module>\u001b[0;34m()\u001b[0m\n\u001b[1;32m      1\u001b[0m \u001b[0;31m# Histograms of original training input data by column\u001b[0m\u001b[0;34m\u001b[0m\u001b[0;34m\u001b[0m\u001b[0;34m\u001b[0m\u001b[0m\n\u001b[1;32m      2\u001b[0m \u001b[0;34m\u001b[0m\u001b[0m\n\u001b[0;32m----> 3\u001b[0;31m \u001b[0mfig\u001b[0m\u001b[0;34m,\u001b[0m \u001b[0maxes\u001b[0m \u001b[0;34m=\u001b[0m \u001b[0mplt\u001b[0m\u001b[0;34m.\u001b[0m\u001b[0msubplots\u001b[0m\u001b[0;34m(\u001b[0m\u001b[0;36m1\u001b[0m\u001b[0;34m,\u001b[0m\u001b[0;36m5\u001b[0m\u001b[0;34m,\u001b[0m \u001b[0mfigsize\u001b[0m\u001b[0;34m=\u001b[0m\u001b[0;34m(\u001b[0m\u001b[0;36m20\u001b[0m\u001b[0;34m,\u001b[0m \u001b[0;36m3\u001b[0m\u001b[0;34m)\u001b[0m\u001b[0;34m)\u001b[0m\u001b[0;34m\u001b[0m\u001b[0;34m\u001b[0m\u001b[0m\n\u001b[0m\u001b[1;32m      4\u001b[0m \u001b[0mtransformed_input_train\u001b[0m \u001b[0;34m=\u001b[0m \u001b[0mpd\u001b[0m\u001b[0;34m.\u001b[0m\u001b[0mDataFrame\u001b[0m\u001b[0;34m(\u001b[0m\u001b[0minput_scaler\u001b[0m\u001b[0;34m.\u001b[0m\u001b[0minverse_transform\u001b[0m\u001b[0;34m(\u001b[0m\u001b[0mscaled_input_train\u001b[0m\u001b[0;34m)\u001b[0m\u001b[0;34m,\u001b[0m \u001b[0mcolumns\u001b[0m\u001b[0;34m=\u001b[0m\u001b[0minput_cols\u001b[0m\u001b[0;34m)\u001b[0m\u001b[0;34m\u001b[0m\u001b[0;34m\u001b[0m\u001b[0m\n\u001b[1;32m      5\u001b[0m \u001b[0;32mfor\u001b[0m \u001b[0ma\u001b[0m\u001b[0;34m,\u001b[0m \u001b[0max\u001b[0m \u001b[0;32min\u001b[0m \u001b[0menumerate\u001b[0m\u001b[0;34m(\u001b[0m\u001b[0maxes\u001b[0m\u001b[0;34m.\u001b[0m\u001b[0mravel\u001b[0m\u001b[0;34m(\u001b[0m\u001b[0;34m)\u001b[0m\u001b[0;34m)\u001b[0m\u001b[0;34m:\u001b[0m\u001b[0;34m\u001b[0m\u001b[0;34m\u001b[0m\u001b[0m\n",
            "\u001b[0;31mNameError\u001b[0m: name 'plt' is not defined"
          ]
        }
      ]
    },
    {
      "cell_type": "code",
      "metadata": {
        "colab_type": "code",
        "id": "dHP9U4qmX9ot",
        "colab": {},
        "outputId": "7063e93f-2c16-455c-8da1-6a11182f5e5d"
      },
      "source": [
        "# output visualizations\n",
        "\n",
        "f, (ax1, ax2, ax3) = plt.subplots(1, 3, figsize=(16,4))\n",
        "for output_col, ax in zip(output_cols, (ax1, ax2, ax3)):\n",
        "    original_out_train_nc = np.zeros(scaled_out_train.shape[0])\n",
        "    original_out_train_nc[labels_train[output_col] == 1] = -10 ** output_scalers[output_col][1].inverse_transform(\n",
        "        scaled_out_train.loc[labels_train[output_col] == 1, [output_col]]).ravel()\n",
        "    original_out_train_nc[labels_train[output_col] == -1] = -10 ** output_scalers[output_col][1].inverse_transform(\n",
        "        scaled_out_train.loc[labels_train[output_col] == -1, [output_col]]).ravel()\n",
        "    ax.hist(np.log10(-original_out_train_nc[original_out_train_nc < 0]), bins=50)\n",
        "    ax.set_xlabel(output_col)\n",
        "    ax.set_ylabel('log10')\n",
        "    ax.title.set_text(f\"log10-transformed {output_col} output data\\nfiltered by output_transform ops\")\n",
        "    ax.set_yscale('log')\n"
      ],
      "execution_count": null,
      "outputs": [
        {
          "output_type": "display_data",
          "data": {
            "image/png": "[encoded data removed]",
            "text/plain": [
              "<Figure size 1152x288 with 3 Axes>"
            ]
          },
          "metadata": {
            "tags": [],
            "needs_background": "light"
          }
        }
      ]
    },
    {
      "cell_type": "code",
      "metadata": {
        "colab_type": "code",
        "id": "iibOJBo5X9o0",
        "colab": {}
      },
      "source": [
        "# Inverse transform and scaling of scaled train data\n",
        "\n",
        "original_out_train_nr = np.zeros(scaled_out_train.shape[0])\n",
        "original_out_train_nr[labels_train[\"nrtend_TAU\"] == 1] = 10 ** output_scalers[\"nrtend_TAU\"][1].inverse_transform(\n",
        "    scaled_out_train.loc[labels_train[\"nrtend_TAU\"] == 1, [\"nrtend_TAU\"]]).ravel()\n",
        "original_out_train_nr[labels_train[\"nrtend_TAU\"] == -1] = -10 ** output_scalers[output_col][1].inverse_transform(\n",
        "    scaled_out_train.loc[labels_train[\"nrtend_TAU\"] == -1, [\"nrtend_TAU\"]]).ravel()\n",
        "\n",
        "\n",
        "original_out_train_nc = np.zeros(scaled_out_train.shape[0])\n",
        "original_out_train_nc[labels_train[\"nctend_TAU\"] == 1] = -10 ** output_scalers[output_col][1].inverse_transform(\n",
        "    scaled_out_train.loc[labels_train[\"nctend_TAU\"] == 1, [\"nctend_TAU\"]]).ravel()\n",
        "\n",
        "original_out_train_qr = np.zeros(scaled_out_train.shape[0])\n",
        "original_out_train_qr[labels_train[\"qrtend_TAU\"] == 1] = 10 ** output_scalers[output_col][1].inverse_transform(\n",
        "    scaled_out_train.loc[labels_train[\"qrtend_TAU\"] == 1, [\"qrtend_TAU\"]]).ravel()\n"
      ],
      "execution_count": null,
      "outputs": []
    },
    {
      "cell_type": "code",
      "metadata": {
        "colab_type": "code",
        "id": "P3y5OPJWX9o5",
        "colab": {},
        "outputId": "6a826001-816e-41be-e416-00d8025be0af"
      },
      "source": [
        "# output visualizations\n",
        "\n",
        "f, (ax1, ax2, ax3) = plt.subplots(1, 3, figsize=(16,4))\n",
        "\n",
        "output_col = \"nrtend_TAU\"\n",
        "ax1.hist(np.log10(-original_out_train_nr[original_out_train_nr < 0]), bins=50, label=\"<0\")\n",
        "ax1.hist(np.log10(original_out_train_nr[original_out_train_nr > 0]), bins=50, label=\">0\")\n",
        "ax1.set_xlabel(output_col)\n",
        "ax1.set_ylabel('log10')\n",
        "ax1.title.set_text(f\"log10-transformed {output_col} output data\\nfiltered by output_transform ops\")\n",
        "ax1.set_yscale('log')\n",
        "ax1.legend()\n",
        "\n",
        "output_col = \"nctend_TAU\"\n",
        "ax2.hist(np.log10(-original_out_train_nc[original_out_train_nc < 0]), bins=50)\n",
        "ax2.set_xlabel(output_col)\n",
        "ax2.set_ylabel('log10')\n",
        "ax2.title.set_text(f\"log10-transformed {output_col} output data\\nfiltered by output_transform ops\")\n",
        "ax2.set_yscale('log')\n",
        "\n",
        "output_col = \"qrtend_TAU\"\n",
        "ax3.hist(np.log10(original_out_train_qr[original_out_train_qr > 0]), bins=50)\n",
        "ax3.set_xlabel(output_col)\n",
        "ax3.set_ylabel('log10')\n",
        "ax3.title.set_text(f\"log10-transformed {output_col} output data\\nfiltered by output_transform ops\")\n",
        "ax3.set_yscale('log')\n",
        "\n",
        "plt.show()\n"
      ],
      "execution_count": null,
      "outputs": [
        {
          "output_type": "display_data",
          "data": {
            "image/png": "[encoded data removed]",
            "text/plain": [
              "<Figure size 1152x288 with 3 Axes>"
            ]
          },
          "metadata": {
            "tags": [],
            "needs_background": "light"
          }
        }
      ]
    },
    {
      "cell_type": "code",
      "metadata": {
        "colab_type": "code",
        "id": "G6bkDdlDX9pB",
        "colab": {}
      },
      "source": [
        "# load and view a single file\n",
        "\n",
        "fs = s3fs.S3FileSystem(anon=True)\n",
        "filenames = fs.ls(\"s3://ncar-aiml-data-commons/microphysics\")\n",
        "fobj = fs.open(filenames[0])\n",
        "single_file = pd.read_parquet(fobj).set_index('Index')\n",
        "single_file.head()"
      ],
      "execution_count": null,
      "outputs": []
    },
    {
      "cell_type": "markdown",
      "metadata": {
        "id": "rzOypWdb7_wf",
        "colab_type": "text"
      },
      "source": [
        "## Tuesday's Modeling"
      ]
    },
    {
      "cell_type": "code",
      "metadata": {
        "colab_type": "code",
        "id": "lP57nxMx1rRs",
        "colab": {},
        "outputId": "ad2fe8d1-d538-41bc-e772-d93ae31fbb6f"
      },
      "source": [
        "# Tuesday's code goes here\n",
        "\n",
        "!pip install keras\n",
        "\n",
        "#Dependencies\n",
        "import keras\n",
        "from keras.models import Sequential\n",
        "from keras.layers import Dense\n",
        "from keras.wrappers.scikit_learn import KerasRegressor\n",
        "from sklearn.model_selection import cross_val_score\n",
        "from sklearn.model_selection import KFold\n",
        "\n",
        "# specify model with 2 hidden layers\n",
        "model = Sequential()\n",
        "model.add(Dense(4, input_dim=5, activation='relu'))\n",
        "#model.add(Dense(4, activation='relu'))\n",
        "model.add(Dense(3, activation='relu'))\n",
        "\n",
        "model.compile(loss='mean_squared_error', optimizer='adam', metrics=['accuracy'])\n",
        "\n",
        "# train\n",
        "history = model.fit(scaled_input_train, scaled_out_train, epochs=100, batch_size=1000)"
      ],
      "execution_count": null,
      "outputs": [
        {
          "output_type": "execute_result",
          "data": {
            "text/html": [
              "<div>\n",
              "<style scoped>\n",
              "    .dataframe tbody tr th:only-of-type {\n",
              "        vertical-align: middle;\n",
              "    }\n",
              "\n",
              "    .dataframe tbody tr th {\n",
              "        vertical-align: top;\n",
              "    }\n",
              "\n",
              "    .dataframe thead th {\n",
              "        text-align: right;\n",
              "    }\n",
              "</style>\n",
              "<table border=\"1\" class=\"dataframe\">\n",
              "  <thead>\n",
              "    <tr style=\"text-align: right;\">\n",
              "      <th></th>\n",
              "      <th>lat</th>\n",
              "      <th>lev</th>\n",
              "      <th>lon</th>\n",
              "      <th>P0</th>\n",
              "      <th>PS</th>\n",
              "      <th>depth</th>\n",
              "      <th>row</th>\n",
              "      <th>col</th>\n",
              "      <th>hyam</th>\n",
              "      <th>hybm</th>\n",
              "      <th>...</th>\n",
              "      <th>precip_frac</th>\n",
              "      <th>qctend_MG2</th>\n",
              "      <th>qctend_TAU</th>\n",
              "      <th>nctend_MG2</th>\n",
              "      <th>nctend_TAU</th>\n",
              "      <th>qrtend_MG2</th>\n",
              "      <th>qrtend_TAU</th>\n",
              "      <th>nrtend_MG2</th>\n",
              "      <th>nrtend_TAU</th>\n",
              "      <th>time</th>\n",
              "    </tr>\n",
              "    <tr>\n",
              "      <th>Index</th>\n",
              "      <th></th>\n",
              "      <th></th>\n",
              "      <th></th>\n",
              "      <th></th>\n",
              "      <th></th>\n",
              "      <th></th>\n",
              "      <th></th>\n",
              "      <th></th>\n",
              "      <th></th>\n",
              "      <th></th>\n",
              "      <th></th>\n",
              "      <th></th>\n",
              "      <th></th>\n",
              "      <th></th>\n",
              "      <th></th>\n",
              "      <th></th>\n",
              "      <th></th>\n",
              "      <th></th>\n",
              "      <th></th>\n",
              "      <th></th>\n",
              "      <th></th>\n",
              "    </tr>\n",
              "  </thead>\n",
              "  <tbody>\n",
              "    <tr>\n",
              "      <th>0</th>\n",
              "      <td>-88.115183</td>\n",
              "      <td>957.48548</td>\n",
              "      <td>28.75</td>\n",
              "      <td>100000.0</td>\n",
              "      <td>68814.664</td>\n",
              "      <td>29</td>\n",
              "      <td>2</td>\n",
              "      <td>23</td>\n",
              "      <td>0.006255</td>\n",
              "      <td>0.951231</td>\n",
              "      <td>...</td>\n",
              "      <td>0.5</td>\n",
              "      <td>-1.315998e-15</td>\n",
              "      <td>-2.864113e-25</td>\n",
              "      <td>-0.012213</td>\n",
              "      <td>-0.000461</td>\n",
              "      <td>1.315998e-15</td>\n",
              "      <td>0.0</td>\n",
              "      <td>0.000020</td>\n",
              "      <td>0.0</td>\n",
              "      <td>0.0</td>\n",
              "    </tr>\n",
              "    <tr>\n",
              "      <th>1</th>\n",
              "      <td>-88.115183</td>\n",
              "      <td>957.48548</td>\n",
              "      <td>30.00</td>\n",
              "      <td>100000.0</td>\n",
              "      <td>68741.100</td>\n",
              "      <td>29</td>\n",
              "      <td>2</td>\n",
              "      <td>24</td>\n",
              "      <td>0.006255</td>\n",
              "      <td>0.951231</td>\n",
              "      <td>...</td>\n",
              "      <td>0.5</td>\n",
              "      <td>-2.648823e-14</td>\n",
              "      <td>-5.759241e-25</td>\n",
              "      <td>-0.072859</td>\n",
              "      <td>-0.026884</td>\n",
              "      <td>2.648823e-14</td>\n",
              "      <td>0.0</td>\n",
              "      <td>0.000405</td>\n",
              "      <td>0.0</td>\n",
              "      <td>0.0</td>\n",
              "    </tr>\n",
              "    <tr>\n",
              "      <th>2</th>\n",
              "      <td>-88.115183</td>\n",
              "      <td>957.48548</td>\n",
              "      <td>31.25</td>\n",
              "      <td>100000.0</td>\n",
              "      <td>68667.195</td>\n",
              "      <td>29</td>\n",
              "      <td>2</td>\n",
              "      <td>25</td>\n",
              "      <td>0.006255</td>\n",
              "      <td>0.951231</td>\n",
              "      <td>...</td>\n",
              "      <td>1.0</td>\n",
              "      <td>-3.268663e-14</td>\n",
              "      <td>3.867864e-25</td>\n",
              "      <td>-0.108811</td>\n",
              "      <td>-0.059724</td>\n",
              "      <td>3.268663e-14</td>\n",
              "      <td>0.0</td>\n",
              "      <td>0.000499</td>\n",
              "      <td>0.0</td>\n",
              "      <td>0.0</td>\n",
              "    </tr>\n",
              "    <tr>\n",
              "      <th>3</th>\n",
              "      <td>-88.115183</td>\n",
              "      <td>957.48548</td>\n",
              "      <td>32.50</td>\n",
              "      <td>100000.0</td>\n",
              "      <td>68593.090</td>\n",
              "      <td>29</td>\n",
              "      <td>2</td>\n",
              "      <td>26</td>\n",
              "      <td>0.006255</td>\n",
              "      <td>0.951231</td>\n",
              "      <td>...</td>\n",
              "      <td>1.0</td>\n",
              "      <td>-8.188127e-14</td>\n",
              "      <td>-2.839463e-24</td>\n",
              "      <td>-0.187248</td>\n",
              "      <td>-0.176943</td>\n",
              "      <td>8.188127e-14</td>\n",
              "      <td>0.0</td>\n",
              "      <td>0.001251</td>\n",
              "      <td>0.0</td>\n",
              "      <td>0.0</td>\n",
              "    </tr>\n",
              "    <tr>\n",
              "      <th>4</th>\n",
              "      <td>-88.115183</td>\n",
              "      <td>957.48548</td>\n",
              "      <td>33.75</td>\n",
              "      <td>100000.0</td>\n",
              "      <td>68518.980</td>\n",
              "      <td>29</td>\n",
              "      <td>2</td>\n",
              "      <td>27</td>\n",
              "      <td>0.006255</td>\n",
              "      <td>0.951231</td>\n",
              "      <td>...</td>\n",
              "      <td>1.0</td>\n",
              "      <td>-1.991433e-13</td>\n",
              "      <td>2.097941e-24</td>\n",
              "      <td>-0.301633</td>\n",
              "      <td>-0.443875</td>\n",
              "      <td>1.991433e-13</td>\n",
              "      <td>0.0</td>\n",
              "      <td>0.003043</td>\n",
              "      <td>0.0</td>\n",
              "      <td>0.0</td>\n",
              "    </tr>\n",
              "  </tbody>\n",
              "</table>\n",
              "<p>5 rows × 34 columns</p>\n",
              "</div>"
            ],
            "text/plain": [
              "             lat        lev    lon        P0         PS  depth  row  col  \\\n",
              "Index                                                                      \n",
              "0     -88.115183  957.48548  28.75  100000.0  68814.664     29    2   23   \n",
              "1     -88.115183  957.48548  30.00  100000.0  68741.100     29    2   24   \n",
              "2     -88.115183  957.48548  31.25  100000.0  68667.195     29    2   25   \n",
              "3     -88.115183  957.48548  32.50  100000.0  68593.090     29    2   26   \n",
              "4     -88.115183  957.48548  33.75  100000.0  68518.980     29    2   27   \n",
              "\n",
              "           hyam      hybm  ...  precip_frac    qctend_MG2    qctend_TAU  \\\n",
              "Index                      ...                                            \n",
              "0      0.006255  0.951231  ...          0.5 -1.315998e-15 -2.864113e-25   \n",
              "1      0.006255  0.951231  ...          0.5 -2.648823e-14 -5.759241e-25   \n",
              "2      0.006255  0.951231  ...          1.0 -3.268663e-14  3.867864e-25   \n",
              "3      0.006255  0.951231  ...          1.0 -8.188127e-14 -2.839463e-24   \n",
              "4      0.006255  0.951231  ...          1.0 -1.991433e-13  2.097941e-24   \n",
              "\n",
              "       nctend_MG2  nctend_TAU    qrtend_MG2  qrtend_TAU  nrtend_MG2  \\\n",
              "Index                                                                 \n",
              "0       -0.012213   -0.000461  1.315998e-15         0.0    0.000020   \n",
              "1       -0.072859   -0.026884  2.648823e-14         0.0    0.000405   \n",
              "2       -0.108811   -0.059724  3.268663e-14         0.0    0.000499   \n",
              "3       -0.187248   -0.176943  8.188127e-14         0.0    0.001251   \n",
              "4       -0.301633   -0.443875  1.991433e-13         0.0    0.003043   \n",
              "\n",
              "       nrtend_TAU  time  \n",
              "Index                    \n",
              "0             0.0   0.0  \n",
              "1             0.0   0.0  \n",
              "2             0.0   0.0  \n",
              "3             0.0   0.0  \n",
              "4             0.0   0.0  \n",
              "\n",
              "[5 rows x 34 columns]"
            ]
          },
          "metadata": {
            "tags": []
          },
          "execution_count": 14
        }
      ]
    },
    {
      "cell_type": "markdown",
      "metadata": {
        "id": "ZWoycKu4mzt9",
        "colab_type": "text"
      },
      "source": [
        "## Wednesday: Relevant Metrics\n",
        "1. A confusion matrix of outputs from the original model."
      ]
    },
    {
      "cell_type": "code",
      "metadata": {
        "id": "42o-X5RxnGZ_",
        "colab_type": "code",
        "colab": {}
      },
      "source": [
        "# Wednesday's code goes here\n",
        "\n",
        "def plot_confusion_matrices(confusion_matrix_dict):\n",
        "    import seaborn as sns\n",
        "\n",
        "    titles = list(confusion_matrix_dict.keys())\n",
        "    N_plots = len(titles)\n",
        "    fig, axes = plt.subplots(1, N_plots, figsize=(5*N_plots+1,4))\n",
        "    # Get labels from variables above.\n",
        "    labels_dict = {'qrtend_TAU':[0,1], 'nctend_TAU':[0,1], 'nrtend_TAU':[-1,0,1]}\n",
        "    for ax, title in zip(axes, titles):\n",
        "        matrix = confusion_matrix_dict[title]\n",
        "        labels = labels_dict[title]\n",
        "        \n",
        "        df_cm = pd.DataFrame(matrix, index = labels, columns = labels)\n",
        "        sns.heatmap(df_cm, annot=True, cbar=True, ax=ax, fmt=\",\")\n",
        "        ax.set_title(title)\n",
        "        ax.set_xlabel(\"Predicted\")\n",
        "        ax.set_ylabel(\"True\")\n",
        "\n",
        "if DAY == 3:\n",
        "    # Plot confusion matrices for the original model run provided with the exercise.\n",
        "    plot_confusion_matrices(confusion_matrices)"
      ],
      "execution_count": null,
      "outputs": []
    }
  ]
}
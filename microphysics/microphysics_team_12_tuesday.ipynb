{
 "cells": [
  {
   "cell_type": "markdown",
   "metadata": {},
   "source": [
    "# AI for Earth System Science Hackathon 2020\n",
    "# Microphysics Machine Learning Challenge Problem\n",
    "\n",
    "Andrew Gettelman, Jack Chen, David John Gagne\n",
    "\n",
    "## Introduction\n",
    "Cloud processes are perhaps the most critical and uncertain processes for weather and climate prediction. The complex nature of sub grid scale clouds makes traceable simulation of clouds across scales difficult (or impossible). There exist many observations and detailed simulations of clouds that are used to develop and evaluate larger scale models. Many times these models and measurements are used to develop empirical relationships for large scale models to be computationally efficient. Machine learning provides another potential tool to improve our empirical parameterizations of clouds. Here we present a comprehensive investigation of replacing the warm rain formation process in an earth system model with emulators that use detailed treatments from small scale and idealized models to represent key cloud microphysical processes. \n",
    "\n",
    "The warm rain formation process is critical for weather and climate prediction. When rain forms governs the location, intensity and duration of rainfall events, critical for weather and the hydrologic cycle. Rain formation also affects cloud lifetime and the radiative properties of low clouds, making it critical for predicting climate (twomey1977,albrecht1989) The specific process of rain formation is altered by the microphysical properties of clouds, making rain formation susceptible to the size distribution of cloud drops, and ultimately to the distribution of aerosol particles that act as Cloud Condensation Nuclei. \n",
    "\n",
    "Ice of course will complicate the precipitation process. Supercooled liquid drops can exist, and these will either precipitation in a similar manner to warm precipitation (with no ice involved) and subsequently may freeze once they are rain drops. Or cloud droplets may freeze and form ice crystals, which precipitate and collect liquid, freezing or riming as they fall. We will not concern ourselves in this work with processes involving (or potentially involving) ice. This of course is a critical issue for weather (forbes2014)and climate (gettelman2019b,bodas-salcedo2019)prediction. \n",
    "\n",
    "The representation of rain formation in clouds involves the interaction of a population of hydrometeors. For warm clouds, the process is one of collision and coalescence, usually defined with a detailed process of stochastic collection (pruppacher1997). The stochastic collection process describes how each size particle interacts with other sizes. Usually there is a distribution of small cloud drops with an extension or separate distribution of rain drops whose interactions are evaluated. \n",
    "\n",
    "The stochastic collection process is computationally expensive to treat directly in large scale global models for weather and climate prediction. It requires the pre-computation of a collection kernel for how different sizes of hydrometeors will interact due to differential fall speeds, and it requires tracking populations discretized by bins. This tracking and advection of the order of 60 different bins for liquid and ice combined makes it computationally expensive. So traditionally, large scale models with bulk microphysics treat the stochastic collection process of warm rain formation in a heavily parameterized fashion (khairoutdinov2000,seifert200) For conceptual simplicity, the process is often broken up into two processes. Autoconversion is the transition of cloud drops into rain as part of a cloud droplet distribution grows to large sizes. Methods for determining autoconversion and accretion are varied. Because they are the major loss mechanism for cloud water different descriptions of the processes result in very different model evolution and climates (michibata2015).\n",
    "\n",
    "Because many methods for autoconversion and accretion are just empirical fits to data or other models, they are readily applicable to replacement with more sophisticated tools. Neural Networks are multivariate emulators that allow many more degrees of freedom than traditional polynomial methods for example.\n"
   ]
  },
  {
   "cell_type": "markdown",
   "metadata": {},
   "source": [
    "## Software Requirements\n",
    "This notebook requires Python >= 3.7. The following libraries are required:\n",
    "* numpy\n",
    "* scipy\n",
    "* pandas\n",
    "* matplotlib\n",
    "* xarray\n",
    "* scikit-learn\n",
    "* tensorflow >= 2.1\n",
    "* netcdf4\n",
    "* h5netcdf\n",
    "* tqdm\n",
    "* pyyaml\n",
    "* s3fs\n",
    "* pyarrow"
   ]
  },
  {
   "cell_type": "code",
   "execution_count": 2,
   "metadata": {},
   "outputs": [
    {
     "name": "stdout",
     "output_type": "stream",
     "text": [
      "Requirement already satisfied: numpy in /opt/conda/lib/python3.7/site-packages (1.17.5)\n",
      "Requirement already satisfied: scipy in /opt/conda/lib/python3.7/site-packages (1.4.1)\n",
      "Requirement already satisfied: pandas in /opt/conda/lib/python3.7/site-packages (1.0.5)\n",
      "Requirement already satisfied: matplotlib in /opt/conda/lib/python3.7/site-packages (3.2.2)\n",
      "Requirement already satisfied: xarray in /opt/conda/lib/python3.7/site-packages (0.15.1)\n",
      "Requirement already satisfied: scikit-learn in /opt/conda/lib/python3.7/site-packages (0.23.1)\n",
      "Requirement already satisfied: tensorflow in /opt/conda/lib/python3.7/site-packages (2.2.0)\n",
      "Requirement already satisfied: netcdf4 in /opt/conda/lib/python3.7/site-packages (1.5.3)\n",
      "Requirement already satisfied: h5netcdf in /opt/conda/lib/python3.7/site-packages (0.8.0)\n",
      "Requirement already satisfied: tqdm in /opt/conda/lib/python3.7/site-packages (4.46.1)\n",
      "Requirement already satisfied: pyyaml in /opt/conda/lib/python3.7/site-packages (5.3.1)\n",
      "Requirement already satisfied: s3fs in /opt/conda/lib/python3.7/site-packages (0.4.2)\n",
      "Requirement already satisfied: pyarrow in /opt/conda/lib/python3.7/site-packages (0.17.1)\n",
      "Requirement already satisfied: mlmicrophysics in /home/jovyan/.local/lib/python3.7/site-packages (0.1.1)\n",
      "Requirement already satisfied: python-dateutil>=2.6.1 in /opt/conda/lib/python3.7/site-packages (from pandas) (2.8.1)\n",
      "Requirement already satisfied: pytz>=2017.2 in /opt/conda/lib/python3.7/site-packages (from pandas) (2020.1)\n",
      "Requirement already satisfied: kiwisolver>=1.0.1 in /opt/conda/lib/python3.7/site-packages (from matplotlib) (1.2.0)\n",
      "Requirement already satisfied: cycler>=0.10 in /opt/conda/lib/python3.7/site-packages (from matplotlib) (0.10.0)\n",
      "Requirement already satisfied: pyparsing!=2.0.4,!=2.1.2,!=2.1.6,>=2.0.1 in /opt/conda/lib/python3.7/site-packages (from matplotlib) (2.4.7)\n",
      "Requirement already satisfied: setuptools>=41.2 in /opt/conda/lib/python3.7/site-packages (from xarray) (47.1.1.post20200529)\n",
      "Requirement already satisfied: threadpoolctl>=2.0.0 in /opt/conda/lib/python3.7/site-packages (from scikit-learn) (2.1.0)\n",
      "Requirement already satisfied: joblib>=0.11 in /opt/conda/lib/python3.7/site-packages (from scikit-learn) (0.15.1)\n",
      "Requirement already satisfied: opt-einsum>=2.3.2 in /opt/conda/lib/python3.7/site-packages (from tensorflow) (3.2.1)\n",
      "Requirement already satisfied: astunparse==1.6.3 in /opt/conda/lib/python3.7/site-packages (from tensorflow) (1.6.3)\n",
      "Requirement already satisfied: termcolor>=1.1.0 in /opt/conda/lib/python3.7/site-packages (from tensorflow) (1.1.0)\n",
      "Requirement already satisfied: protobuf>=3.8.0 in /opt/conda/lib/python3.7/site-packages (from tensorflow) (3.12.2)\n",
      "Requirement already satisfied: tensorboard<2.3.0,>=2.2.0 in /opt/conda/lib/python3.7/site-packages (from tensorflow) (2.2.2)\n",
      "Requirement already satisfied: six>=1.12.0 in /opt/conda/lib/python3.7/site-packages (from tensorflow) (1.15.0)\n",
      "Requirement already satisfied: gast==0.3.3 in /opt/conda/lib/python3.7/site-packages (from tensorflow) (0.3.3)\n",
      "Requirement already satisfied: grpcio>=1.8.6 in /opt/conda/lib/python3.7/site-packages (from tensorflow) (1.29.0)\n",
      "Requirement already satisfied: tensorflow-estimator<2.3.0,>=2.2.0 in /opt/conda/lib/python3.7/site-packages (from tensorflow) (2.2.0)\n",
      "Requirement already satisfied: keras-preprocessing>=1.1.0 in /opt/conda/lib/python3.7/site-packages (from tensorflow) (1.1.2)\n",
      "Requirement already satisfied: wheel>=0.26; python_version >= \"3\" in /opt/conda/lib/python3.7/site-packages (from tensorflow) (0.34.2)\n",
      "Requirement already satisfied: wrapt>=1.11.1 in /opt/conda/lib/python3.7/site-packages (from tensorflow) (1.12.1)\n",
      "Requirement already satisfied: google-pasta>=0.1.8 in /opt/conda/lib/python3.7/site-packages (from tensorflow) (0.2.0)\n",
      "Requirement already satisfied: absl-py>=0.7.0 in /opt/conda/lib/python3.7/site-packages (from tensorflow) (0.9.0)\n",
      "Requirement already satisfied: h5py<2.11.0,>=2.10.0 in /opt/conda/lib/python3.7/site-packages (from tensorflow) (2.10.0)\n",
      "Requirement already satisfied: cftime in /opt/conda/lib/python3.7/site-packages (from netcdf4) (1.1.3)\n",
      "Requirement already satisfied: botocore>=1.12.91 in /opt/conda/lib/python3.7/site-packages (from s3fs) (1.17.7)\n",
      "Requirement already satisfied: fsspec>=0.6.0 in /opt/conda/lib/python3.7/site-packages (from s3fs) (0.7.4)\n",
      "Requirement already satisfied: markdown>=2.6.8 in /opt/conda/lib/python3.7/site-packages (from tensorboard<2.3.0,>=2.2.0->tensorflow) (3.2.2)\n",
      "Requirement already satisfied: werkzeug>=0.11.15 in /opt/conda/lib/python3.7/site-packages (from tensorboard<2.3.0,>=2.2.0->tensorflow) (1.0.1)\n",
      "Requirement already satisfied: requests<3,>=2.21.0 in /opt/conda/lib/python3.7/site-packages (from tensorboard<2.3.0,>=2.2.0->tensorflow) (2.23.0)\n",
      "Requirement already satisfied: tensorboard-plugin-wit>=1.6.0 in /opt/conda/lib/python3.7/site-packages (from tensorboard<2.3.0,>=2.2.0->tensorflow) (1.6.0.post3)\n",
      "Requirement already satisfied: google-auth<2,>=1.6.3 in /opt/conda/lib/python3.7/site-packages (from tensorboard<2.3.0,>=2.2.0->tensorflow) (1.18.0)\n",
      "Requirement already satisfied: google-auth-oauthlib<0.5,>=0.4.1 in /opt/conda/lib/python3.7/site-packages (from tensorboard<2.3.0,>=2.2.0->tensorflow) (0.4.1)\n",
      "Requirement already satisfied: urllib3<1.26,>=1.20 in /opt/conda/lib/python3.7/site-packages (from botocore>=1.12.91->s3fs) (1.25.9)\n",
      "Requirement already satisfied: docutils<0.16,>=0.10 in /opt/conda/lib/python3.7/site-packages (from botocore>=1.12.91->s3fs) (0.15.2)\n",
      "Requirement already satisfied: jmespath<1.0.0,>=0.7.1 in /opt/conda/lib/python3.7/site-packages (from botocore>=1.12.91->s3fs) (0.10.0)\n",
      "Requirement already satisfied: importlib-metadata; python_version < \"3.8\" in /opt/conda/lib/python3.7/site-packages (from markdown>=2.6.8->tensorboard<2.3.0,>=2.2.0->tensorflow) (1.6.1)\n",
      "Requirement already satisfied: certifi>=2017.4.17 in /opt/conda/lib/python3.7/site-packages (from requests<3,>=2.21.0->tensorboard<2.3.0,>=2.2.0->tensorflow) (2020.6.20)\n",
      "Requirement already satisfied: chardet<4,>=3.0.2 in /opt/conda/lib/python3.7/site-packages (from requests<3,>=2.21.0->tensorboard<2.3.0,>=2.2.0->tensorflow) (3.0.4)\n",
      "Requirement already satisfied: idna<3,>=2.5 in /opt/conda/lib/python3.7/site-packages (from requests<3,>=2.21.0->tensorboard<2.3.0,>=2.2.0->tensorflow) (2.9)\n",
      "Requirement already satisfied: cachetools<5.0,>=2.0.0 in /opt/conda/lib/python3.7/site-packages (from google-auth<2,>=1.6.3->tensorboard<2.3.0,>=2.2.0->tensorflow) (4.1.0)\n",
      "Requirement already satisfied: rsa<5,>=3.1.4; python_version >= \"3\" in /opt/conda/lib/python3.7/site-packages (from google-auth<2,>=1.6.3->tensorboard<2.3.0,>=2.2.0->tensorflow) (4.6)\n",
      "Requirement already satisfied: pyasn1-modules>=0.2.1 in /opt/conda/lib/python3.7/site-packages (from google-auth<2,>=1.6.3->tensorboard<2.3.0,>=2.2.0->tensorflow) (0.2.8)\n",
      "Requirement already satisfied: requests-oauthlib>=0.7.0 in /opt/conda/lib/python3.7/site-packages (from google-auth-oauthlib<0.5,>=0.4.1->tensorboard<2.3.0,>=2.2.0->tensorflow) (1.3.0)\n",
      "Requirement already satisfied: zipp>=0.5 in /opt/conda/lib/python3.7/site-packages (from importlib-metadata; python_version < \"3.8\"->markdown>=2.6.8->tensorboard<2.3.0,>=2.2.0->tensorflow) (3.1.0)\n",
      "Requirement already satisfied: pyasn1>=0.1.3 in /opt/conda/lib/python3.7/site-packages (from rsa<5,>=3.1.4; python_version >= \"3\"->google-auth<2,>=1.6.3->tensorboard<2.3.0,>=2.2.0->tensorflow) (0.4.8)\n",
      "Requirement already satisfied: oauthlib>=3.0.0 in /opt/conda/lib/python3.7/site-packages (from requests-oauthlib>=0.7.0->google-auth-oauthlib<0.5,>=0.4.1->tensorboard<2.3.0,>=2.2.0->tensorflow) (3.0.1)\n"
     ]
    }
   ],
   "source": [
    "!pip install numpy scipy pandas matplotlib xarray scikit-learn tensorflow netcdf4 h5netcdf tqdm pyyaml s3fs pyarrow mlmicrophysics"
   ]
  },
  {
   "cell_type": "code",
   "execution_count": 3,
   "metadata": {},
   "outputs": [
    {
     "name": "stdout",
     "output_type": "stream",
     "text": [
      "Requirement already up-to-date: pandas in /opt/conda/lib/python3.7/site-packages (1.0.5)\n",
      "Requirement already satisfied, skipping upgrade: pytz>=2017.2 in /opt/conda/lib/python3.7/site-packages (from pandas) (2020.1)\n",
      "Requirement already satisfied, skipping upgrade: numpy>=1.13.3 in /opt/conda/lib/python3.7/site-packages (from pandas) (1.17.5)\n",
      "Requirement already satisfied, skipping upgrade: python-dateutil>=2.6.1 in /opt/conda/lib/python3.7/site-packages (from pandas) (2.8.1)\n",
      "Requirement already satisfied, skipping upgrade: six>=1.5 in /opt/conda/lib/python3.7/site-packages (from python-dateutil>=2.6.1->pandas) (1.15.0)\n"
     ]
    }
   ],
   "source": [
    "! pip install --upgrade pandas"
   ]
  },
  {
   "cell_type": "markdown",
   "metadata": {},
   "source": [
    "# if working on google colab\n",
    "! pip install -U -q PyDrive\n",
    "from google.colab import drive\n",
    "drive.mount('/content/gdrive')"
   ]
  },
  {
   "cell_type": "markdown",
   "metadata": {},
   "source": [
    "## Data\n",
    "\n",
    "The Community Atmosphere Model version 6 (CAM6) is the atmospheric component of the Community Earth System Model version 2 (danabasoglu2020). CAM6 features a two-moment stratiform cloud microphysics scheme [hereafter MG2](gettelman2015b,gettelman2015a) with prognostic liquid, ice, rain and snow hydrometeor classes. MG2 permits ice supersaturation. CAM6 includes a physically based ice mixed phase dust ice nucleation scheme (hoose2010) with modifications for a distribution of contact angles (wang2014), and accounts for preexisting ice in the cirrus ice nucleation of (liu2005) as described by (shi2015).\n",
    "\n",
    "MG2 is coupled to a unified moist turbulence scheme, Cloud Layers Unified by Binormals (CLUBB), developed by (golaz2002) and (larson2002) and implemented in CAM by (bogenschutz2013). CLUBB handles stratiform clouds, boundary layer moist turbulence and shallow convective motions. CAM6 also has an ensemble plume mass flux deep convection scheme described by (zhang1995) and (neale2008), which has very simple microphysics. The radiation scheme is The Rapid Radiative Transfer Model for General Circulation Models (RRTMG) (iacono2000).\n",
    "\n",
    "Within the MG2 parameterization, the warm rain formation process is represented by equations for autoconversion and accretion from (khairoutdinov2000), hereafter KK2000. KK2000 uses empirical fits to a large eddy simulation with bin-resolved microphysics to define:\n",
    "\\begin{equation}\n",
    "    \\left(\\frac{\\partial q_r}{\\partial t} \\right)_{AUTO} = 13.5 q_c^{2.47} N_c^{-1.1}\n",
    "\\end{equation}\n",
    "\\begin{equation}\n",
    "    \\left(\\frac{\\partial q_r}{\\partial t} \\right)_{ACCRE} = 67 (q_c q_r)^{1.15}\n",
    "\\end{equation}\n",
    "Where $q_c$ and $q_r$ are mass mixing ratios for condensate and rain, and $N_c$ is the number concentration of condensate. For CAM6 the autconversion rate exponent and prefactor has been adjusted from the original (khairoutdinov2000) scheme to better match observations (gettelman2019b).\n",
    "\n",
    "#### Stochastic Collection\n",
    "\n",
    "We replace the KK2000 process rate equations with an estimate of the stochastic collection process from the Tel Aviv University (TAU) model. The TAU model uses a \"bin\" or \"sectional\" approach, where the drop size distribution is resolved into 35 size bins. It differs from most other microphysical codes in that it solves for two  moments of the drop size distribution in each of the bins. This allows for a more accurate transfer of mass between bins and alleviates anomalous drop growth. The original components were developed by Tzivion et al. (1987), (1989), Feingold et al. (1988) with later applications and development documented in Reisin et al. (1996), Stevens et al. (1996), Feingold et al. (1999), Tzivion et al. (1999), Yin et al (2000) and Harrington et al. (2000). \n",
    "\n",
    "Cloud Parcel Model Documentation here: https://www.esrl.noaa.gov/csl/staff/graham.feingold/code/readme.html\n",
    "\n",
    "First we convert the size distributions for liquid and rain into number concentrations in individual size bins. Liquid and rain are put in the same continuous distribution of 32 size bins for the TAU code. Then we use this as input to the TAU code, running the stochastic collection kernel. The result is a revised set of 32 bins with number concentration in each bin. We the find a minimum in the distribution if present: this is always found in the case where there is rain and condensate present at the end of the calculation. The minimum is typically between 40 and 100 microns (diameter). This minimium is used to divide the bins into liquid and rain. The total number and mass in each is defined, and tendencies calculated as the final mass and number minus the initial mass and number divided by the timestep. A limiter is applied to ensure that the mass and number are non-zero, and tendencies limited to ensure this. This estimated stochastic collection tendency is then applied instead of the accretion and autoconversion tendencies.\n",
    "\n",
    "The code does run the accretion and autoconversion from MG2 on the same state, and we can save this off as a diagnostic, so we can directly compare the original MG2 tendency (autoconversion + accretion) with the stochastic collection tendency from the TAU code. \n",
    "\n",
    "The microphysics datasets contains 176 files containing \n"
   ]
  },
  {
   "cell_type": "markdown",
   "metadata": {},
   "source": [
    "### Time span of the dataset\n",
    "|  | Datetime |\n",
    "| ---- | :----:|\n",
    "| Start    | Jan 1     |\n",
    "| Length   | 2 years   |\n",
    "\n",
    "### Geographic Coverage of Dataset\n",
    "|  | Latitude | Longitude |\n",
    "| ------------- | :----:|:----------- |\n",
    "| Max      | 90     | 358.75 |\n",
    "| Min      | -90    | 0 |\n",
    "\n",
    "### Potential Input Variables\n",
    "| Variable Name | Units | Description |\n",
    "| ------------- | :----:|:----------- |\n",
    "| QC_TAU_in      | kg/kg     | cloud water mixing ratio |\n",
    "| NC_TAU_in      | kg<sup>-1</sup>     | cloud droplet column concentration |\n",
    "| QR_TAU_in      | kg/kg     | rain water mixing ratio |\n",
    "| NR_TAU_in      | kg<sup>-1</sup>     | rain droplet column concentration |\n",
    "| RHO_CLUBB_lev  | kg/m<sup>3</sup>     | air density at center of grid cell |\n",
    "\n",
    "### Output Variables\n",
    "| Variable Name | Units | Description |\n",
    "| ------------- | :----:|:----------- |\n",
    "| qrtend_TAU      | kg/kg/s     | qr tendency due to autoconversion & accretion in TAU bin |\n",
    "| nrtend_TAU      | kg/kg/s     | nr tendency due to autoconversion & accretion in TAU bin |\n",
    "| nctend_TAU      | kg/kg/s     | nc tendency due to autoconversion & accretion in TAU bin |\n",
    "\n",
    "### Meta Variables\n",
    "| Variable Name | Units | Description |\n",
    "| ------------- | :----:|:----------- |\n",
    "| lat      | degrees_north     | latitude |\n",
    "| lev      | hPa     | atmospheric level |\n",
    "| lon      | degrees_east     | longitude |\n",
    "| depth      | arbitrary     | depth index |\n",
    "| row      | arbitrary     | row index |\n",
    "| col      | arbitrary     | column index |\n",
    "| pressure      | Pa     | atmospheric pressure |\n",
    "| temperature      | K     | temperature derived from pressure and density |\n",
    "| time      | days     | time in days |\n",
    "| qrtend_MG2      | kg/kg/s     | qr tendency due to autoconversion & accretion in MG2 |\n",
    "| nrtend_MG2      | kg/kg/s     | nr tendency due to autoconversion & accretion in MG2 |\n",
    "| nctend_MG2      | kg/kg/s     | nc tendency due to autoconversion & accretion in MG2 |\n"
   ]
  },
  {
   "cell_type": "markdown",
   "metadata": {},
   "source": [
    "### Training, Validation, and Test Datasets\n",
    "\n",
    "There are 176 files that will be split into training, validation, and test datsets via indices found in the `subset_data` variable defined below. In total, these files contain 85,263,948 data points and is randomly sampled using the `subsample` variable below.\n"
   ]
  },
  {
   "cell_type": "code",
   "execution_count": 4,
   "metadata": {},
   "outputs": [],
   "source": [
    "import argparse\n",
    "import random\n",
    "import sys\n",
    "import yaml\n",
    "from os.path import join, exists\n",
    "import os\n",
    "import s3fs\n",
    "import numpy as np\n",
    "import pandas as pd\n",
    "import matplotlib.pyplot as plt\n",
    "from sklearn.preprocessing import StandardScaler, MinMaxScaler, MaxAbsScaler, RobustScaler\n",
    "from sklearn.metrics import confusion_matrix, accuracy_score, mean_absolute_error\n",
    "import tensorflow as tf\n",
    "\n",
    "from mlmicrophysics.metrics import heidke_skill_score, peirce_skill_score, hellinger_distance, root_mean_squared_error, r2_corr\n",
    "from mlmicrophysics.models import DenseNeuralNetwork\n",
    "from mlmicrophysics.data import subset_data_files_by_date, assemble_data_files\n",
    "\n",
    "\n",
    "# set random seed\n",
    "seed = 328942\n",
    "np.random.seed(seed)\n",
    "random.seed(seed)\n",
    "tf.random.set_seed(seed)\n"
   ]
  },
  {
   "cell_type": "code",
   "execution_count": 5,
   "metadata": {
    "scrolled": true
   },
   "outputs": [],
   "source": [
    "# define data parameters\n",
    "\n",
    "data_path = \"ncar-aiml-data-commons/microphysics\"\n",
    "IN_COLAB = 'google.colab' in sys.modules\n",
    "if IN_COLAB:\n",
    "    out_path = \"/content/gdrive/My Drive/micro_models/base\"\n",
    "else:\n",
    "    out_path = \"./micro_models/base/\"\n",
    "if not exists(out_path):\n",
    "    os.makedirs(out_path)\n",
    "subsample = 0.1\n",
    "input_cols = [\"QC_TAU_in\", \"NC_TAU_in\", \"QR_TAU_in\", \"NR_TAU_in\", \"RHO_CLUBB_lev\"]\n",
    "output_cols = [\"qrtend_TAU\", \"nctend_TAU\", \"nrtend_TAU\"]\n",
    "\n",
    "subset_data = {\"train_date_start\" : 0,\n",
    "               \"train_date_end\" : 11000,\n",
    "               \"test_date_start\" : 11100,\n",
    "               \"test_date_end\" : 17500}\n",
    "\n",
    "input_scaler = StandardScaler()\n",
    "input_transforms = {\"QC_TAU_in\" : \"log10_transform\",\n",
    "                    \"NC_TAU_in\" : \"log10_transform\",\n",
    "                    \"QR_TAU_in\" : \"log10_transform\",\n",
    "                    \"NR_TAU_in\" : \"log10_transform\"}\n",
    "\n",
    "output_transforms = {\"qrtend_TAU\" : {0: [\"<=\", 1e-18, \"zero_transform\", \"None\"],\n",
    "                                   1: [\">\", 1e-18, \"log10_transform\", \"StandardScaler\"]},\n",
    "                     \"nctend_TAU\" : {0: [\">=\", -1e-18, \"zero_transform\", \"None\"],\n",
    "                                   1: [\"<\", -1e-18, \"neg_log10_transform\", \"StandardScaler\"]},\n",
    "                     \"nrtend_TAU\" : {-1: [\"<\", 0, \"neg_log10_transform\", \"StandardScaler\"],\n",
    "                                   0: [\"==\", 0, \"zero_transform\", \"None\"],\n",
    "                                   1: [\">\", 0, \"log10_transform\", \"StandardScaler\"]}}\n"
   ]
  },
  {
   "cell_type": "code",
   "execution_count": 6,
   "metadata": {},
   "outputs": [
    {
     "name": "stdout",
     "output_type": "stream",
     "text": [
      "Subsetting file paths by train, validation, and test\n",
      "File times:\n",
      " [    0   100   200   300   400   500   600   700   800   900  1000  1100\n",
      "  1200  1300  1400  1500  1600  1700  1800  1900  2000  2100  2200  2300\n",
      "  2400  2500  2600  2700  2800  2900  3000  3100  3200  3300  3400  3500\n",
      "  3600  3700  3800  3900  4000  4100  4200  4300  4400  4500  4600  4700\n",
      "  4800  4900  5000  5100  5200  5300  5400  5500  5600  5700  5800  5900\n",
      "  6000  6100  6200  6300  6400  6500  6600  6700  6800  6900  7000  7100\n",
      "  7200  7300  7400  7500  7600  7700  7800  7900  8000  8100  8200  8300\n",
      "  8400  8500  8600  8700  8800  8900  9000  9100  9200  9300  9400  9500\n",
      "  9600  9700  9800  9900 10000 10100 10200 10300 10400 10500 10600 10700\n",
      " 10800 10900 11000 11100 11200 11300 11400 11500 11600 11700 11800 11900\n",
      " 12000 12100 12200 12300 12400 12500 12600 12700 12800 12900 13000 13100\n",
      " 13200 13300 13400 13500 13600 13700 13800 13900 14000 14100 14200 14300\n",
      " 14400 14500 14600 14700 14800 14900 15000 15100 15200 15300 15400 15500\n",
      " 15600 15700 15800 15900 16000 16100 16200 16300 16400 16500 16600 16700\n",
      " 16800 16900 17000 17100 17200 17300 17400 17500]\n",
      "\n",
      "Loading training data\n",
      "Finished loading 0/74 files... opening file ncar-aiml-data-commons/microphysics/cam_mp_data_run5_000100.parquet\n",
      "Finished loading 10/74 files... opening file ncar-aiml-data-commons/microphysics/cam_mp_data_run5_001600.parquet\n",
      "Finished loading 20/74 files... opening file ncar-aiml-data-commons/microphysics/cam_mp_data_run5_003100.parquet\n",
      "Finished loading 30/74 files... opening file ncar-aiml-data-commons/microphysics/cam_mp_data_run5_004600.parquet\n",
      "Finished loading 40/74 files... opening file ncar-aiml-data-commons/microphysics/cam_mp_data_run5_006100.parquet\n",
      "Finished loading 50/74 files... opening file ncar-aiml-data-commons/microphysics/cam_mp_data_run5_007600.parquet\n",
      "Finished loading 60/74 files... opening file ncar-aiml-data-commons/microphysics/cam_mp_data_run5_009100.parquet\n",
      "Finished loading 70/74 files... opening file ncar-aiml-data-commons/microphysics/cam_mp_data_run5_010600.parquet\n",
      "Combining data\n",
      "Combined Data Size (3562915, 5)\n",
      "Transforming data\n",
      "\n",
      "Loading testing data\n",
      "Finished loading 0/65 files... opening file ncar-aiml-data-commons/microphysics/cam_mp_data_run5_011100.parquet\n",
      "Finished loading 10/65 files... opening file ncar-aiml-data-commons/microphysics/cam_mp_data_run5_012100.parquet\n",
      "Finished loading 20/65 files... opening file ncar-aiml-data-commons/microphysics/cam_mp_data_run5_013100.parquet\n",
      "Finished loading 30/65 files... opening file ncar-aiml-data-commons/microphysics/cam_mp_data_run5_014100.parquet\n",
      "Finished loading 40/65 files... opening file ncar-aiml-data-commons/microphysics/cam_mp_data_run5_015100.parquet\n",
      "Finished loading 50/65 files... opening file ncar-aiml-data-commons/microphysics/cam_mp_data_run5_016100.parquet\n",
      "Finished loading 60/65 files... opening file ncar-aiml-data-commons/microphysics/cam_mp_data_run5_017100.parquet\n",
      "Combining data\n",
      "Combined Data Size (3188152, 5)\n",
      "Transforming data\n"
     ]
    }
   ],
   "source": [
    "# Load data from disk or cloud\n",
    "# Separate input, output and meta data\n",
    "# Split into training, validation, and test sets\n",
    "\n",
    "print(\"Subsetting file paths by train, validation, and test\")\n",
    "train_files, val_files, test_files = subset_data_files_by_date(data_path, **subset_data)\n",
    "\n",
    "print(\"\\nLoading training data\")\n",
    "scaled_input_train, \\\n",
    "labels_train, \\\n",
    "transformed_out_train, \\\n",
    "scaled_out_train, \\\n",
    "output_scalers, \\\n",
    "meta_train = assemble_data_files(train_files, input_cols, output_cols, input_transforms,\n",
    "                                 output_transforms, input_scaler, subsample=subsample)\n",
    "\n",
    "print(\"\\nLoading testing data\")\n",
    "scaled_input_test, \\\n",
    "labels_test, \\\n",
    "transformed_out_test, \\\n",
    "scaled_out_test, \\\n",
    "output_scalers_test, \\\n",
    "meta_test = assemble_data_files(test_files, input_cols, output_cols, input_transforms,\n",
    "                                output_transforms, input_scaler, output_scalers=output_scalers,\n",
    "                                train=False, subsample=subsample)\n"
   ]
  },
  {
   "cell_type": "code",
   "execution_count": 7,
   "metadata": {},
   "outputs": [
    {
     "data": {
      "text/html": [
       "<div>\n",
       "<style scoped>\n",
       "    .dataframe tbody tr th:only-of-type {\n",
       "        vertical-align: middle;\n",
       "    }\n",
       "\n",
       "    .dataframe tbody tr th {\n",
       "        vertical-align: top;\n",
       "    }\n",
       "\n",
       "    .dataframe thead th {\n",
       "        text-align: right;\n",
       "    }\n",
       "</style>\n",
       "<table border=\"1\" class=\"dataframe\">\n",
       "  <thead>\n",
       "    <tr style=\"text-align: right;\">\n",
       "      <th></th>\n",
       "      <th>mean</th>\n",
       "      <th>scale</th>\n",
       "    </tr>\n",
       "  </thead>\n",
       "  <tbody>\n",
       "    <tr>\n",
       "      <th>qrtend_TAU_1</th>\n",
       "      <td>-11.190049</td>\n",
       "      <td>2.089005</td>\n",
       "    </tr>\n",
       "    <tr>\n",
       "      <th>nctend_TAU_1</th>\n",
       "      <td>-0.172256</td>\n",
       "      <td>2.584713</td>\n",
       "    </tr>\n",
       "    <tr>\n",
       "      <th>nrtend_TAU_-1</th>\n",
       "      <td>-3.434289</td>\n",
       "      <td>2.271458</td>\n",
       "    </tr>\n",
       "    <tr>\n",
       "      <th>nrtend_TAU_1</th>\n",
       "      <td>-2.084925</td>\n",
       "      <td>1.801713</td>\n",
       "    </tr>\n",
       "  </tbody>\n",
       "</table>\n",
       "</div>"
      ],
      "text/plain": [
       "                    mean     scale\n",
       "qrtend_TAU_1  -11.190049  2.089005\n",
       "nctend_TAU_1   -0.172256  2.584713\n",
       "nrtend_TAU_-1  -3.434289  2.271458\n",
       "nrtend_TAU_1   -2.084925  1.801713"
      ]
     },
     "execution_count": 7,
     "metadata": {},
     "output_type": "execute_result"
    }
   ],
   "source": [
    "# save meta data, input scalers, and output scalers\n",
    "    \n",
    "meta_test.to_csv(join(out_path, \"meta_test.csv\"), index_label=\"index\")\n",
    "\n",
    "input_scaler_df = pd.DataFrame({\"mean\": input_scaler.mean_, \"scale\": input_scaler.scale_},\n",
    "                               index=input_cols)\n",
    "input_scaler_df.to_csv(join(out_path, \"input_scale_values.csv\"), index_label=\"input\")\n",
    "\n",
    "out_scales_list = []\n",
    "for var in output_scalers.keys():\n",
    "    for out_class in output_scalers[var].keys():\n",
    "        if output_scalers[var][out_class] is not None:\n",
    "            out_scales_list.append(pd.DataFrame({\"mean\": output_scalers[var][out_class].mean_,\n",
    "                                                 \"scale\": output_scalers[var][out_class].scale_},\n",
    "                                                index=[var + \"_\" + str(out_class)]))\n",
    "out_scales_df = pd.concat(out_scales_list)\n",
    "out_scales_df.to_csv(join(out_path, \"output_scale_values.csv\"),\n",
    "                     index_label=\"output\")\n",
    "out_scales_df"
   ]
  },
  {
   "cell_type": "code",
   "execution_count": 8,
   "metadata": {},
   "outputs": [
    {
     "data": {
      "image/png": "[encoded data removed]",
      "text/plain": [
       "<Figure size 1440x216 with 5 Axes>"
      ]
     },
     "metadata": {
      "needs_background": "light"
     },
     "output_type": "display_data"
    }
   ],
   "source": [
    "# Histograms of original training input data by column\n",
    "\n",
    "fig, axes = plt.subplots(1,5, figsize=(20, 3))\n",
    "transformed_input_train = pd.DataFrame(input_scaler.inverse_transform(scaled_input_train), columns=input_cols)\n",
    "for a, ax in enumerate(axes.ravel()):\n",
    "    if a < len(input_cols):\n",
    "        ax.set_yscale(\"log\")\n",
    "        ax.hist(transformed_input_train[input_cols[a]], bins=20)\n",
    "        ax.set_title(input_cols[a])\n",
    "        "
   ]
  },
  {
   "cell_type": "code",
   "execution_count": 9,
   "metadata": {},
   "outputs": [
    {
     "data": {
      "image/png": "[encoded data removed]",
      "text/plain": [
       "<Figure size 1152x288 with 3 Axes>"
      ]
     },
     "metadata": {
      "needs_background": "light"
     },
     "output_type": "display_data"
    }
   ],
   "source": [
    "# output visualizations\n",
    "\n",
    "f, (ax1, ax2, ax3) = plt.subplots(1, 3, figsize=(16,4))\n",
    "for output_col, ax in zip(output_cols, (ax1, ax2, ax3)):\n",
    "    original_out_train_nc = np.zeros(scaled_out_train.shape[0])\n",
    "    original_out_train_nc[labels_train[output_col] == 1] = -10 ** output_scalers[output_col][1].inverse_transform(\n",
    "        scaled_out_train.loc[labels_train[output_col] == 1, [output_col]]).ravel()\n",
    "    original_out_train_nc[labels_train[output_col] == -1] = -10 ** output_scalers[output_col][1].inverse_transform(\n",
    "        scaled_out_train.loc[labels_train[output_col] == -1, [output_col]]).ravel()\n",
    "    ax.hist(np.log10(-original_out_train_nc[original_out_train_nc < 0]), bins=50)\n",
    "    ax.set_xlabel(output_col)\n",
    "    ax.set_ylabel('log10')\n",
    "    ax.title.set_text(f\"log10-transformed {output_col} output data\\nfiltered by output_transform ops\")\n",
    "    ax.set_yscale('log')\n"
   ]
  },
  {
   "cell_type": "code",
   "execution_count": 10,
   "metadata": {},
   "outputs": [],
   "source": [
    "# Inverse transform and scaling of scaled train data\n",
    "\n",
    "original_out_train_nr = np.zeros(scaled_out_train.shape[0])\n",
    "original_out_train_nr[labels_train[\"nrtend_TAU\"] == 1] = 10 ** output_scalers[\"nrtend_TAU\"][1].inverse_transform(\n",
    "    scaled_out_train.loc[labels_train[\"nrtend_TAU\"] == 1, [\"nrtend_TAU\"]]).ravel()\n",
    "original_out_train_nr[labels_train[\"nrtend_TAU\"] == -1] = -10 ** output_scalers[\"nrtend_TAU\"][1].inverse_transform(\n",
    "    scaled_out_train.loc[labels_train[\"nrtend_TAU\"] == -1, [\"nrtend_TAU\"]]).ravel()\n",
    "\n",
    "\n",
    "original_out_train_nc = np.zeros(scaled_out_train.shape[0])\n",
    "original_out_train_nc[labels_train[\"nctend_TAU\"] == 1] = -10 ** output_scalers[\"nctend_TAU\"][1].inverse_transform(\n",
    "    scaled_out_train.loc[labels_train[\"nctend_TAU\"] == 1, [\"nctend_TAU\"]]).ravel()\n",
    "\n",
    "original_out_train_qr = np.zeros(scaled_out_train.shape[0])\n",
    "original_out_train_qr[labels_train[\"qrtend_TAU\"] == 1] = 10 ** output_scalers[\"qrtend_TAU\"][1].inverse_transform(\n",
    "    scaled_out_train.loc[labels_train[\"qrtend_TAU\"] == 1, [\"qrtend_TAU\"]]).ravel()\n"
   ]
  },
  {
   "cell_type": "code",
   "execution_count": 11,
   "metadata": {},
   "outputs": [
    {
     "data": {
      "image/png": "[encoded data removed]",
      "text/plain": [
       "<Figure size 1152x288 with 3 Axes>"
      ]
     },
     "metadata": {
      "needs_background": "light"
     },
     "output_type": "display_data"
    }
   ],
   "source": [
    "# output visualizations\n",
    "\n",
    "f, (ax1, ax2, ax3) = plt.subplots(1, 3, figsize=(16,4))\n",
    "\n",
    "output_col = \"nrtend_TAU\"\n",
    "ax1.hist(np.log10(-original_out_train_nr[original_out_train_nr < 0]), bins=50, label=\"<0\")\n",
    "ax1.hist(np.log10(original_out_train_nr[original_out_train_nr > 0]), bins=50, label=\">0\")\n",
    "ax1.set_xlabel(output_col)\n",
    "ax1.set_ylabel('log10')\n",
    "ax1.title.set_text(f\"log10-transformed {output_col} output data\\nfiltered by output_transform ops\")\n",
    "ax1.set_yscale('log')\n",
    "ax1.legend()\n",
    "\n",
    "output_col = \"nctend_TAU\"\n",
    "ax2.hist(np.log10(-original_out_train_nc[original_out_train_nc < 0]), bins=50)\n",
    "ax2.set_xlabel(output_col)\n",
    "ax2.set_ylabel('log10')\n",
    "ax2.title.set_text(f\"log10-transformed {output_col} output data\\nfiltered by output_transform ops\")\n",
    "ax2.set_yscale('log')\n",
    "\n",
    "output_col = \"qrtend_TAU\"\n",
    "ax3.hist(np.log10(original_out_train_qr[original_out_train_qr > 0]), bins=50)\n",
    "ax3.set_xlabel(output_col)\n",
    "ax3.set_ylabel('log10')\n",
    "ax3.title.set_text(f\"log10-transformed {output_col} output data\\nfiltered by output_transform ops\")\n",
    "ax3.set_yscale('log')\n",
    "\n",
    "plt.show()\n"
   ]
  },
  {
   "cell_type": "code",
   "execution_count": 12,
   "metadata": {},
   "outputs": [
    {
     "data": {
      "text/html": [
       "<div>\n",
       "<style scoped>\n",
       "    .dataframe tbody tr th:only-of-type {\n",
       "        vertical-align: middle;\n",
       "    }\n",
       "\n",
       "    .dataframe tbody tr th {\n",
       "        vertical-align: top;\n",
       "    }\n",
       "\n",
       "    .dataframe thead th {\n",
       "        text-align: right;\n",
       "    }\n",
       "</style>\n",
       "<table border=\"1\" class=\"dataframe\">\n",
       "  <thead>\n",
       "    <tr style=\"text-align: right;\">\n",
       "      <th></th>\n",
       "      <th>lat</th>\n",
       "      <th>lev</th>\n",
       "      <th>lon</th>\n",
       "      <th>P0</th>\n",
       "      <th>PS</th>\n",
       "      <th>depth</th>\n",
       "      <th>row</th>\n",
       "      <th>col</th>\n",
       "      <th>hyam</th>\n",
       "      <th>hybm</th>\n",
       "      <th>...</th>\n",
       "      <th>precip_frac</th>\n",
       "      <th>qctend_MG2</th>\n",
       "      <th>qctend_TAU</th>\n",
       "      <th>nctend_MG2</th>\n",
       "      <th>nctend_TAU</th>\n",
       "      <th>qrtend_MG2</th>\n",
       "      <th>qrtend_TAU</th>\n",
       "      <th>nrtend_MG2</th>\n",
       "      <th>nrtend_TAU</th>\n",
       "      <th>time</th>\n",
       "    </tr>\n",
       "    <tr>\n",
       "      <th>Index</th>\n",
       "      <th></th>\n",
       "      <th></th>\n",
       "      <th></th>\n",
       "      <th></th>\n",
       "      <th></th>\n",
       "      <th></th>\n",
       "      <th></th>\n",
       "      <th></th>\n",
       "      <th></th>\n",
       "      <th></th>\n",
       "      <th></th>\n",
       "      <th></th>\n",
       "      <th></th>\n",
       "      <th></th>\n",
       "      <th></th>\n",
       "      <th></th>\n",
       "      <th></th>\n",
       "      <th></th>\n",
       "      <th></th>\n",
       "      <th></th>\n",
       "      <th></th>\n",
       "    </tr>\n",
       "  </thead>\n",
       "  <tbody>\n",
       "    <tr>\n",
       "      <th>0</th>\n",
       "      <td>-88.115183</td>\n",
       "      <td>957.48548</td>\n",
       "      <td>28.75</td>\n",
       "      <td>100000.0</td>\n",
       "      <td>68814.664</td>\n",
       "      <td>29</td>\n",
       "      <td>2</td>\n",
       "      <td>23</td>\n",
       "      <td>0.006255</td>\n",
       "      <td>0.951231</td>\n",
       "      <td>...</td>\n",
       "      <td>0.5</td>\n",
       "      <td>-1.315998e-15</td>\n",
       "      <td>-2.864113e-25</td>\n",
       "      <td>-0.012213</td>\n",
       "      <td>-0.000461</td>\n",
       "      <td>1.315998e-15</td>\n",
       "      <td>0.0</td>\n",
       "      <td>0.000020</td>\n",
       "      <td>0.0</td>\n",
       "      <td>0.0</td>\n",
       "    </tr>\n",
       "    <tr>\n",
       "      <th>1</th>\n",
       "      <td>-88.115183</td>\n",
       "      <td>957.48548</td>\n",
       "      <td>30.00</td>\n",
       "      <td>100000.0</td>\n",
       "      <td>68741.100</td>\n",
       "      <td>29</td>\n",
       "      <td>2</td>\n",
       "      <td>24</td>\n",
       "      <td>0.006255</td>\n",
       "      <td>0.951231</td>\n",
       "      <td>...</td>\n",
       "      <td>0.5</td>\n",
       "      <td>-2.648823e-14</td>\n",
       "      <td>-5.759241e-25</td>\n",
       "      <td>-0.072859</td>\n",
       "      <td>-0.026884</td>\n",
       "      <td>2.648823e-14</td>\n",
       "      <td>0.0</td>\n",
       "      <td>0.000405</td>\n",
       "      <td>0.0</td>\n",
       "      <td>0.0</td>\n",
       "    </tr>\n",
       "    <tr>\n",
       "      <th>2</th>\n",
       "      <td>-88.115183</td>\n",
       "      <td>957.48548</td>\n",
       "      <td>31.25</td>\n",
       "      <td>100000.0</td>\n",
       "      <td>68667.195</td>\n",
       "      <td>29</td>\n",
       "      <td>2</td>\n",
       "      <td>25</td>\n",
       "      <td>0.006255</td>\n",
       "      <td>0.951231</td>\n",
       "      <td>...</td>\n",
       "      <td>1.0</td>\n",
       "      <td>-3.268663e-14</td>\n",
       "      <td>3.867864e-25</td>\n",
       "      <td>-0.108811</td>\n",
       "      <td>-0.059724</td>\n",
       "      <td>3.268663e-14</td>\n",
       "      <td>0.0</td>\n",
       "      <td>0.000499</td>\n",
       "      <td>0.0</td>\n",
       "      <td>0.0</td>\n",
       "    </tr>\n",
       "    <tr>\n",
       "      <th>3</th>\n",
       "      <td>-88.115183</td>\n",
       "      <td>957.48548</td>\n",
       "      <td>32.50</td>\n",
       "      <td>100000.0</td>\n",
       "      <td>68593.090</td>\n",
       "      <td>29</td>\n",
       "      <td>2</td>\n",
       "      <td>26</td>\n",
       "      <td>0.006255</td>\n",
       "      <td>0.951231</td>\n",
       "      <td>...</td>\n",
       "      <td>1.0</td>\n",
       "      <td>-8.188127e-14</td>\n",
       "      <td>-2.839463e-24</td>\n",
       "      <td>-0.187248</td>\n",
       "      <td>-0.176943</td>\n",
       "      <td>8.188127e-14</td>\n",
       "      <td>0.0</td>\n",
       "      <td>0.001251</td>\n",
       "      <td>0.0</td>\n",
       "      <td>0.0</td>\n",
       "    </tr>\n",
       "    <tr>\n",
       "      <th>4</th>\n",
       "      <td>-88.115183</td>\n",
       "      <td>957.48548</td>\n",
       "      <td>33.75</td>\n",
       "      <td>100000.0</td>\n",
       "      <td>68518.980</td>\n",
       "      <td>29</td>\n",
       "      <td>2</td>\n",
       "      <td>27</td>\n",
       "      <td>0.006255</td>\n",
       "      <td>0.951231</td>\n",
       "      <td>...</td>\n",
       "      <td>1.0</td>\n",
       "      <td>-1.991433e-13</td>\n",
       "      <td>2.097941e-24</td>\n",
       "      <td>-0.301633</td>\n",
       "      <td>-0.443875</td>\n",
       "      <td>1.991433e-13</td>\n",
       "      <td>0.0</td>\n",
       "      <td>0.003043</td>\n",
       "      <td>0.0</td>\n",
       "      <td>0.0</td>\n",
       "    </tr>\n",
       "  </tbody>\n",
       "</table>\n",
       "<p>5 rows × 34 columns</p>\n",
       "</div>"
      ],
      "text/plain": [
       "             lat        lev    lon        P0         PS  depth  row  col  \\\n",
       "Index                                                                      \n",
       "0     -88.115183  957.48548  28.75  100000.0  68814.664     29    2   23   \n",
       "1     -88.115183  957.48548  30.00  100000.0  68741.100     29    2   24   \n",
       "2     -88.115183  957.48548  31.25  100000.0  68667.195     29    2   25   \n",
       "3     -88.115183  957.48548  32.50  100000.0  68593.090     29    2   26   \n",
       "4     -88.115183  957.48548  33.75  100000.0  68518.980     29    2   27   \n",
       "\n",
       "           hyam      hybm  ...  precip_frac    qctend_MG2    qctend_TAU  \\\n",
       "Index                      ...                                            \n",
       "0      0.006255  0.951231  ...          0.5 -1.315998e-15 -2.864113e-25   \n",
       "1      0.006255  0.951231  ...          0.5 -2.648823e-14 -5.759241e-25   \n",
       "2      0.006255  0.951231  ...          1.0 -3.268663e-14  3.867864e-25   \n",
       "3      0.006255  0.951231  ...          1.0 -8.188127e-14 -2.839463e-24   \n",
       "4      0.006255  0.951231  ...          1.0 -1.991433e-13  2.097941e-24   \n",
       "\n",
       "       nctend_MG2  nctend_TAU    qrtend_MG2  qrtend_TAU  nrtend_MG2  \\\n",
       "Index                                                                 \n",
       "0       -0.012213   -0.000461  1.315998e-15         0.0    0.000020   \n",
       "1       -0.072859   -0.026884  2.648823e-14         0.0    0.000405   \n",
       "2       -0.108811   -0.059724  3.268663e-14         0.0    0.000499   \n",
       "3       -0.187248   -0.176943  8.188127e-14         0.0    0.001251   \n",
       "4       -0.301633   -0.443875  1.991433e-13         0.0    0.003043   \n",
       "\n",
       "       nrtend_TAU  time  \n",
       "Index                    \n",
       "0             0.0   0.0  \n",
       "1             0.0   0.0  \n",
       "2             0.0   0.0  \n",
       "3             0.0   0.0  \n",
       "4             0.0   0.0  \n",
       "\n",
       "[5 rows x 34 columns]"
      ]
     },
     "execution_count": 12,
     "metadata": {},
     "output_type": "execute_result"
    }
   ],
   "source": [
    "# load and view a single file\n",
    "\n",
    "fs = s3fs.S3FileSystem(anon=True)\n",
    "filenames = fs.ls(\"s3://ncar-aiml-data-commons/microphysics\")\n",
    "fobj = fs.open(filenames[0])\n",
    "single_file = pd.read_parquet(fobj).set_index('Index')\n",
    "single_file.head()\n"
   ]
  },
  {
   "cell_type": "markdown",
   "metadata": {},
   "source": [
    "## Baseline Machine Learning Model\n",
    "Description of baseline ML approach should include:\n",
    "* Choice of ML software\n",
    "* Type of ML model\n",
    "* Hyperparameter choices and justification\n",
    "\n",
    "A baseline model for solving this problem uses an in-series classifier to regressor neural network architecture implemented in Keras.  Initially, there are three classifier networks that feed into four regressor networks. Each classifier and regressor network has 4 hidden layers of 30 neurons each and relu activation. Those hidden layers then feed into a final output layer of size 2 or 3 for classification (1 and 0 or 1, 0, and -1) and of size 1 for regression. The classifier models are trained using the categorial crosstenropy loss function while the regression models are trained using the mean squared error loss function.\n",
    "\n",
    "<center><img src='micro_images/mlmicrophysics_nn.png'><center>\n"
   ]
  },
  {
   "cell_type": "code",
   "execution_count": 13,
   "metadata": {},
   "outputs": [],
   "source": [
    "# define model hyper parameters\n",
    "\n",
    "classifier_metrics = [\"acc\", \"pss\", \"hss\"]\n",
    "regressor_metrics = [\"mse\", \"mae\", \"r2\", \"hellinger\"]\n",
    "\n",
    "classifier_networks = {\"hidden_layers\" : 4,\n",
    "                       \"hidden_neurons\" : 30,\n",
    "                       \"loss\" : \"categorical_crossentropy\",\n",
    "                       \"output_activation\" : \"softmax\",\n",
    "                       \"activation\" : \"relu\",\n",
    "                       \"epochs\" : 5,\n",
    "                       \"batch_size\" : 1024,\n",
    "                       \"verbose\" : 1,\n",
    "                       \"lr\" : 0.0001,\n",
    "                       \"l2_weight\" : 1.0e-5,\n",
    "                       \"classifier\" : 1}\n",
    "\n",
    "regressor_networks = {\"hidden_layers\" : 4,\n",
    "                      \"hidden_neurons\" : 30,\n",
    "                      \"loss\" : \"mse\",\n",
    "                      \"output_activation\" : \"linear\",\n",
    "                      \"activation\" : \"relu\",\n",
    "                      \"epochs\" : 5,\n",
    "                      \"batch_size\" : 1024,\n",
    "                      \"verbose\" : 1,\n",
    "                      \"lr\" : 0.0001,\n",
    "                      \"l2_weight\" : 1.0e-5,\n",
    "                      \"classifier\" : 0}\n",
    "\n",
    "# hyperparameter dictionaries\n",
    "class_metrics = {\"accuracy\": accuracy_score,\n",
    "                 \"heidke\": heidke_skill_score,\n",
    "                 \"peirce\": peirce_skill_score}\n",
    "\n",
    "reg_metrics = {\"rmse\": root_mean_squared_error,\n",
    "               \"mae\": mean_absolute_error,\n",
    "               \"r2\": r2_corr,\n",
    "               \"hellinger\": hellinger_distance}\n"
   ]
  },
  {
   "cell_type": "code",
   "execution_count": 14,
   "metadata": {},
   "outputs": [
    {
     "name": "stdout",
     "output_type": "stream",
     "text": [
      "Train Classifer  qrtend_TAU\n",
      "Model: \"model\"\n",
      "_________________________________________________________________\n",
      "Layer (type)                 Output Shape              Param #   \n",
      "=================================================================\n",
      "input (InputLayer)           [(None, 5)]               0         \n",
      "_________________________________________________________________\n",
      "dense_00 (Dense)             (None, 30)                180       \n",
      "_________________________________________________________________\n",
      "dense_01 (Dense)             (None, 30)                930       \n",
      "_________________________________________________________________\n",
      "dense_02 (Dense)             (None, 30)                930       \n",
      "_________________________________________________________________\n",
      "dense_03 (Dense)             (None, 30)                930       \n",
      "_________________________________________________________________\n",
      "dense_04 (Dense)             (None, 2)                 62        \n",
      "=================================================================\n",
      "Total params: 3,032\n",
      "Trainable params: 3,032\n",
      "Non-trainable params: 0\n",
      "_________________________________________________________________\n",
      "Epoch 1/5\n",
      "3480/3480 [==============================] - 18s 5ms/step - loss: 0.1248 - val_loss: 0.0998\n",
      "Epoch 2/5\n",
      "3480/3480 [==============================] - 18s 5ms/step - loss: 0.0931 - val_loss: 0.0881\n",
      "Epoch 3/5\n",
      "3480/3480 [==============================] - 18s 5ms/step - loss: 0.0835 - val_loss: 0.0889\n",
      "Epoch 4/5\n",
      "3480/3480 [==============================] - 18s 5ms/step - loss: 0.0784 - val_loss: 0.0735\n",
      "Epoch 5/5\n",
      "3480/3480 [==============================] - 18s 5ms/step - loss: 0.0760 - val_loss: 0.0712\n",
      "Evaluate Classifier qrtend_TAU\n",
      "accuracy    0.970244\n",
      "heidke      0.939137\n",
      "peirce      0.938307\n",
      "Name: qrtend_TAU, dtype: float64\n",
      "Train Regressor  qrtend_TAU 1\n",
      "Model: \"model_1\"\n",
      "_________________________________________________________________\n",
      "Layer (type)                 Output Shape              Param #   \n",
      "=================================================================\n",
      "input (InputLayer)           [(None, 5)]               0         \n",
      "_________________________________________________________________\n",
      "dense_00 (Dense)             (None, 30)                180       \n",
      "_________________________________________________________________\n",
      "dense_01 (Dense)             (None, 30)                930       \n",
      "_________________________________________________________________\n",
      "dense_02 (Dense)             (None, 30)                930       \n",
      "_________________________________________________________________\n",
      "dense_03 (Dense)             (None, 30)                930       \n",
      "_________________________________________________________________\n",
      "dense_04 (Dense)             (None, 1)                 31        \n",
      "=================================================================\n",
      "Total params: 3,001\n",
      "Trainable params: 3,001\n",
      "Non-trainable params: 0\n",
      "_________________________________________________________________\n",
      "Epoch 1/5\n",
      "1476/1476 [==============================] - 7s 5ms/step - loss: 0.0818 - val_loss: 0.0330\n",
      "Epoch 2/5\n",
      "1476/1476 [==============================] - 7s 4ms/step - loss: 0.0305 - val_loss: 0.0257\n",
      "Epoch 3/5\n",
      "1476/1476 [==============================] - 7s 4ms/step - loss: 0.0257 - val_loss: 0.0236\n",
      "Epoch 4/5\n",
      "1476/1476 [==============================] - 7s 4ms/step - loss: 0.0238 - val_loss: 0.0249\n",
      "Epoch 5/5\n",
      "1476/1476 [==============================] - 7s 4ms/step - loss: 0.0227 - val_loss: 0.0231\n",
      "Test Regressor qrtend_TAU 1\n",
      "rmse         0.308846\n",
      "mae          0.198490\n",
      "r2           0.979925\n",
      "hellinger    0.001956\n",
      "Name: qrtend_TAU_1, dtype: float64\n",
      "Train Classifer  nctend_TAU\n",
      "Model: \"model_2\"\n",
      "_________________________________________________________________\n",
      "Layer (type)                 Output Shape              Param #   \n",
      "=================================================================\n",
      "input (InputLayer)           [(None, 5)]               0         \n",
      "_________________________________________________________________\n",
      "dense_00 (Dense)             (None, 30)                180       \n",
      "_________________________________________________________________\n",
      "dense_01 (Dense)             (None, 30)                930       \n",
      "_________________________________________________________________\n",
      "dense_02 (Dense)             (None, 30)                930       \n",
      "_________________________________________________________________\n",
      "dense_03 (Dense)             (None, 30)                930       \n",
      "_________________________________________________________________\n",
      "dense_04 (Dense)             (None, 2)                 62        \n",
      "=================================================================\n",
      "Total params: 3,032\n",
      "Trainable params: 3,032\n",
      "Non-trainable params: 0\n",
      "_________________________________________________________________\n",
      "Epoch 1/5\n",
      "3480/3480 [==============================] - 19s 5ms/step - loss: 0.0525 - val_loss: 0.0356\n",
      "Epoch 2/5\n",
      "3480/3480 [==============================] - 18s 5ms/step - loss: 0.0341 - val_loss: 0.0313\n",
      "Epoch 3/5\n",
      "3480/3480 [==============================] - 18s 5ms/step - loss: 0.0307 - val_loss: 0.0305\n",
      "Epoch 4/5\n",
      "3480/3480 [==============================] - 18s 5ms/step - loss: 0.0289 - val_loss: 0.0287\n",
      "Epoch 5/5\n",
      "3480/3480 [==============================] - 19s 5ms/step - loss: 0.0278 - val_loss: 0.0262\n",
      "Evaluate Classifier nctend_TAU\n",
      "accuracy    0.989952\n",
      "heidke      0.979830\n",
      "peirce      0.979875\n",
      "Name: nctend_TAU, dtype: float64\n",
      "Train Regressor  nctend_TAU 1\n",
      "Model: \"model_3\"\n",
      "_________________________________________________________________\n",
      "Layer (type)                 Output Shape              Param #   \n",
      "=================================================================\n",
      "input (InputLayer)           [(None, 5)]               0         \n",
      "_________________________________________________________________\n",
      "dense_00 (Dense)             (None, 30)                180       \n",
      "_________________________________________________________________\n",
      "dense_01 (Dense)             (None, 30)                930       \n",
      "_________________________________________________________________\n",
      "dense_02 (Dense)             (None, 30)                930       \n",
      "_________________________________________________________________\n",
      "dense_03 (Dense)             (None, 30)                930       \n",
      "_________________________________________________________________\n",
      "dense_04 (Dense)             (None, 1)                 31        \n",
      "=================================================================\n",
      "Total params: 3,001\n",
      "Trainable params: 3,001\n",
      "Non-trainable params: 0\n",
      "_________________________________________________________________\n",
      "Epoch 1/5\n",
      "1859/1859 [==============================] - 8s 4ms/step - loss: 0.0488 - val_loss: 0.0143\n",
      "Epoch 2/5\n",
      "1859/1859 [==============================] - 8s 4ms/step - loss: 0.0144 - val_loss: 0.0129\n",
      "Epoch 3/5\n",
      "1859/1859 [==============================] - 8s 4ms/step - loss: 0.0134 - val_loss: 0.0126\n",
      "Epoch 4/5\n",
      "1859/1859 [==============================] - 8s 4ms/step - loss: 0.0129 - val_loss: 0.0119\n",
      "Epoch 5/5\n",
      "1859/1859 [==============================] - 8s 5ms/step - loss: 0.0125 - val_loss: 0.0122\n",
      "Test Regressor nctend_TAU 1\n",
      "rmse         0.273114\n",
      "mae          0.152226\n",
      "r2           0.989164\n",
      "hellinger    0.000970\n",
      "Name: nctend_TAU_1, dtype: float64\n",
      "Train Classifer  nrtend_TAU\n",
      "Model: \"model_4\"\n",
      "_________________________________________________________________\n",
      "Layer (type)                 Output Shape              Param #   \n",
      "=================================================================\n",
      "input (InputLayer)           [(None, 5)]               0         \n",
      "_________________________________________________________________\n",
      "dense_00 (Dense)             (None, 30)                180       \n",
      "_________________________________________________________________\n",
      "dense_01 (Dense)             (None, 30)                930       \n",
      "_________________________________________________________________\n",
      "dense_02 (Dense)             (None, 30)                930       \n",
      "_________________________________________________________________\n",
      "dense_03 (Dense)             (None, 30)                930       \n",
      "_________________________________________________________________\n",
      "dense_04 (Dense)             (None, 3)                 93        \n",
      "=================================================================\n",
      "Total params: 3,063\n",
      "Trainable params: 3,063\n",
      "Non-trainable params: 0\n",
      "_________________________________________________________________\n",
      "Epoch 1/5\n",
      "3480/3480 [==============================] - 18s 5ms/step - loss: 0.1437 - val_loss: 0.1008\n",
      "Epoch 2/5\n",
      "3480/3480 [==============================] - 18s 5ms/step - loss: 0.1018 - val_loss: 0.0955\n",
      "Epoch 3/5\n",
      "3480/3480 [==============================] - 18s 5ms/step - loss: 0.0963 - val_loss: 0.0907\n",
      "Epoch 4/5\n",
      "3480/3480 [==============================] - 18s 5ms/step - loss: 0.0922 - val_loss: 0.0929\n",
      "Epoch 5/5\n",
      "3480/3480 [==============================] - 18s 5ms/step - loss: 0.0896 - val_loss: 0.0840\n",
      "Evaluate Classifier nrtend_TAU\n",
      "accuracy    0.965098\n",
      "heidke      0.945544\n",
      "peirce      0.944944\n",
      "Name: nrtend_TAU, dtype: float64\n",
      "Train Regressor  nrtend_TAU -1\n",
      "Model: \"model_5\"\n",
      "_________________________________________________________________\n",
      "Layer (type)                 Output Shape              Param #   \n",
      "=================================================================\n",
      "input (InputLayer)           [(None, 5)]               0         \n",
      "_________________________________________________________________\n",
      "dense_00 (Dense)             (None, 30)                180       \n",
      "_________________________________________________________________\n",
      "dense_01 (Dense)             (None, 30)                930       \n",
      "_________________________________________________________________\n",
      "dense_02 (Dense)             (None, 30)                930       \n",
      "_________________________________________________________________\n",
      "dense_03 (Dense)             (None, 30)                930       \n",
      "_________________________________________________________________\n",
      "dense_04 (Dense)             (None, 1)                 31        \n",
      "=================================================================\n",
      "Total params: 3,001\n",
      "Trainable params: 3,001\n",
      "Non-trainable params: 0\n",
      "_________________________________________________________________\n",
      "Epoch 1/5\n",
      "1218/1218 [==============================] - 5s 5ms/step - loss: 0.0658 - val_loss: 0.0247\n",
      "Epoch 2/5\n",
      "1218/1218 [==============================] - 6s 5ms/step - loss: 0.0241 - val_loss: 0.0215\n",
      "Epoch 3/5\n",
      "1218/1218 [==============================] - 6s 5ms/step - loss: 0.0217 - val_loss: 0.0205\n",
      "Epoch 4/5\n",
      "1218/1218 [==============================] - 5s 5ms/step - loss: 0.0207 - val_loss: 0.0210\n",
      "Epoch 5/5\n",
      "1218/1218 [==============================] - 5s 5ms/step - loss: 0.0201 - val_loss: 0.0195\n",
      "Test Regressor nrtend_TAU -1\n",
      "rmse         0.307038\n",
      "mae          0.182359\n",
      "r2           0.981942\n",
      "hellinger    0.001744\n",
      "Name: nrtend_TAU_-1, dtype: float64\n",
      "Train Regressor  nrtend_TAU 1\n",
      "Model: \"model_6\"\n",
      "_________________________________________________________________\n",
      "Layer (type)                 Output Shape              Param #   \n",
      "=================================================================\n",
      "input (InputLayer)           [(None, 5)]               0         \n",
      "_________________________________________________________________\n",
      "dense_00 (Dense)             (None, 30)                180       \n",
      "_________________________________________________________________\n",
      "dense_01 (Dense)             (None, 30)                930       \n",
      "_________________________________________________________________\n",
      "dense_02 (Dense)             (None, 30)                930       \n",
      "_________________________________________________________________\n",
      "dense_03 (Dense)             (None, 30)                930       \n",
      "_________________________________________________________________\n",
      "dense_04 (Dense)             (None, 1)                 31        \n",
      "=================================================================\n",
      "Total params: 3,001\n",
      "Trainable params: 3,001\n",
      "Non-trainable params: 0\n",
      "_________________________________________________________________\n",
      "Epoch 1/5\n",
      "735/735 [==============================] - 3s 5ms/step - loss: 0.2058 - val_loss: 0.0935\n",
      "Epoch 2/5\n",
      "735/735 [==============================] - 3s 4ms/step - loss: 0.0876 - val_loss: 0.0789\n",
      "Epoch 3/5\n",
      "735/735 [==============================] - 3s 4ms/step - loss: 0.0748 - val_loss: 0.0742\n",
      "Epoch 4/5\n",
      "735/735 [==============================] - 3s 4ms/step - loss: 0.0669 - val_loss: 0.0611\n",
      "Epoch 5/5\n",
      "735/735 [==============================] - 3s 4ms/step - loss: 0.0608 - val_loss: 0.0588\n",
      "Test Regressor nrtend_TAU 1\n",
      "rmse         0.432322\n",
      "mae          0.299055\n",
      "r2           0.946726\n",
      "hellinger    0.001431\n",
      "Name: nrtend_TAU_1, dtype: float64\n",
      "Saving data\n"
     ]
    }
   ],
   "source": [
    "# build and fit the model\n",
    "\n",
    "histories = {\"classifiers\": {}, \"regressors\": {}}\n",
    "classifiers = dict()\n",
    "regressors = dict()\n",
    "reg_index = []\n",
    "for output_col in output_cols:\n",
    "    for label in list(output_transforms[output_col].keys()):\n",
    "        if label != 0:\n",
    "            reg_index.append(output_col + f\"_{label:d}\")\n",
    "test_prediction_values = np.zeros((scaled_out_test.shape[0], len(reg_index)))\n",
    "test_prediction_labels = np.zeros(scaled_out_test.shape)\n",
    "classifier_scores = pd.DataFrame(0, index=output_cols, columns=[\"accuracy\", \"heidke\", \"peirce\"])\n",
    "confusion_matrices = dict()\n",
    "reg_cols = [\"rmse\", \"mae\", \"r2\", \"hellinger\"]\n",
    "reg_scores = pd.DataFrame(0, index=reg_index, columns=reg_cols)\n",
    "l = 0\n",
    "\n",
    "for o, output_col in enumerate(output_cols):\n",
    "    print(\"Train Classifer \", output_col)\n",
    "    classifiers[output_col] = DenseNeuralNetwork(**classifier_networks)\n",
    "    hist = classifiers[output_col].fit(scaled_input_train,\n",
    "                                       labels_train[output_col],\n",
    "                                       scaled_input_test,\n",
    "                                       labels_test[output_col])\n",
    "    histories[\"classifiers\"][output_col] = hist\n",
    "    classifiers[output_col].save_fortran_model(join(out_path,\n",
    "                                                    \"dnn_{0}_class_fortran.nc\".format(output_col[0:2])))\n",
    "    classifiers[output_col].model.save(join(out_path,\"dnn_{0}_class.h5\".format(output_col[0:2])))\n",
    "    regressors[output_col] = dict()\n",
    "    histories[\"regressors\"][output_col] = dict()\n",
    "    print(\"Evaluate Classifier\", output_col)\n",
    "    test_prediction_labels[:, o] = classifiers[output_col].predict(scaled_input_test)\n",
    "    confusion_matrices[output_col] = confusion_matrix(labels_test[output_col],\n",
    "                                                      test_prediction_labels  [:, o])\n",
    "    for class_score in classifier_scores.columns:\n",
    "        classifier_scores.loc[output_col, class_score] = class_metrics[class_score](labels_test[output_col],\n",
    "                                                                                    test_prediction_labels[:, o])\n",
    "    print(classifier_scores.loc[output_col])\n",
    "    for label in list(output_transforms[output_col].keys()):\n",
    "        if label != 0:\n",
    "            print(\"Train Regressor \", output_col, label)\n",
    "            regressors[output_col][label] = DenseNeuralNetwork(**regressor_networks)\n",
    "            hist = regressors[output_col][label].fit(scaled_input_train.loc[labels_train[output_col] == label],\n",
    "                                                     scaled_out_train.loc[labels_train[output_col] == label, output_col],\n",
    "                                                     scaled_input_test.loc[labels_test[output_col] == label],\n",
    "                                                     scaled_out_test.loc[labels_test[output_col] == label, output_col])\n",
    "            histories[\"regressors\"][output_col][label] = hist\n",
    "\n",
    "            if label > 0:\n",
    "                out_label = \"pos\"\n",
    "            else:\n",
    "                out_label = \"neg\"\n",
    "            regressors[output_col][label].save_fortran_model(join(out_path,\n",
    "                                                                  \"dnn_{0}_{1}_fortran.nc\".format(output_col[0:2],\n",
    "                                                                                                  out_label)))\n",
    "            regressors[output_col][label].model.save(join(out_path,\n",
    "                                                          \"dnn_{0}_{1}.h5\".format(output_col[0:2], out_label)))\n",
    "            print(\"Test Regressor\", output_col, label)\n",
    "            test_prediction_values[:, l] = output_scalers[output_col][label].inverse_transform(regressors[output_col][label].predict(scaled_input_test))\n",
    "            reg_label = output_col + f\"_{label:d}\"\n",
    "            for reg_col in reg_cols:\n",
    "                reg_scores.loc[reg_label,\n",
    "                               reg_col] = reg_metrics[reg_col](transformed_out_test.loc[labels_test[output_col] == label,\n",
    "                                                                                        output_col],\n",
    "                                                                test_prediction_values[labels_test[output_col] == label, l])\n",
    "            print(reg_scores.loc[reg_label])\n",
    "            l += 1\n",
    "print(\"Saving data\")\n",
    "classifier_scores.to_csv(join(out_path, \"dnn_classifier_scores.csv\"), index_label=\"Output\")\n",
    "reg_scores.to_csv(join(out_path, \"dnn_regressor_scores.csv\"), index_label=\"Output\")\n",
    "test_pred_values_df = pd.DataFrame(test_prediction_values, columns=reg_index)\n",
    "test_pred_labels_df = pd.DataFrame(test_prediction_labels, columns=output_cols)\n",
    "test_pred_values_df.to_csv(join(out_path, \"test_prediction_values.csv\"), index_label=\"index\")\n",
    "test_pred_labels_df.to_csv(join(out_path, \"test_prediction_labels.csv\"), index_label=\"index\")\n",
    "labels_test.to_csv(join(out_path, \"test_cam_labels.csv\"), index_label=\"index\")\n",
    "transformed_out_test.to_csv(join(out_path, \"test_cam_values.csv\"), index_label=\"index\")\n"
   ]
  },
  {
   "cell_type": "code",
   "execution_count": 15,
   "metadata": {},
   "outputs": [
    {
     "data": {
      "image/png": "[encoded data removed]",
      "text/plain": [
       "<Figure size 720x432 with 1 Axes>"
      ]
     },
     "metadata": {
      "needs_background": "light"
     },
     "output_type": "display_data"
    }
   ],
   "source": [
    "# visualize classifier model performance\n",
    "\n",
    "plt.figure(figsize=(10,6))\n",
    "for k in histories['classifiers'].keys():\n",
    "    plt.plot(histories['classifiers'][k]['loss'], label=f\"{k} loss\")\n",
    "    plt.plot(histories['classifiers'][k]['val_loss'], label=f\"{k} val_loss\")\n",
    "plt.title('Classifier model loss')\n",
    "plt.ylabel('loss')\n",
    "plt.xlabel('epoch')\n",
    "plt.legend(loc='upper right')\n",
    "plt.show()\n"
   ]
  },
  {
   "cell_type": "code",
   "execution_count": 16,
   "metadata": {},
   "outputs": [
    {
     "data": {
      "image/png": "[encoded data removed]",
      "text/plain": [
       "<Figure size 720x432 with 1 Axes>"
      ]
     },
     "metadata": {
      "needs_background": "light"
     },
     "output_type": "display_data"
    }
   ],
   "source": [
    "# visualize regressor model performance\n",
    "\n",
    "plt.figure(figsize=(10,6))\n",
    "for k in histories['regressors'].keys():\n",
    "    for l in histories['regressors'][k].keys():\n",
    "        plt.plot(histories['regressors'][k][l]['loss'], label=f\"{k} label {l} loss\")\n",
    "        plt.plot(histories['regressors'][k][l]['val_loss'], label=f\"{k} label {l} val_loss\")\n",
    "plt.title('regressor model loss')\n",
    "plt.ylabel('loss')\n",
    "plt.xlabel('epoch')\n",
    "plt.legend(loc='upper right')\n",
    "plt.show()\n"
   ]
  },
  {
   "cell_type": "markdown",
   "metadata": {},
   "source": [
    "## Metrics\n",
    "\n",
    "Prediction metrics by output variable for classifier networks:\n",
    "\n",
    "| Variable Name | accuracy | heidke | peirce |\n",
    "| ------------- |:----------- |:----------- |:----------- |\n",
    "| qrtend_TAU  |  0.98     | 0.97 | 0.99 | \n",
    "| nctend_TAU  |  0.99     | 0.99 | 0.97 |\n",
    "| nrtend_TAU  |  0.98     | 0.97 | 0.99 |\n",
    "\n",
    "Prediction metrics by output variable for regression networks:\n",
    "\n",
    "| Variable Name | rmse | mae | r2 | hellinger |\n",
    "| ------------- |:----------- |:----------- |:----------- |:----------- |\n",
    "| qrtend_TAU_1  |  0.20     | 0.10 | 0.99 | 0.00056 |\n",
    "| nctend_TAU_1  |  0.17     | 0.08 | 1.00 | 0.00099 |\n",
    "| nrtend_TAU_-1  |  0.20     | 0.11 | 0.99 | 0.00056 |\n",
    "| nrtend_TAU_1 | 0.25 | 0.16 | 0.98 | 0.00018 |\n",
    "\n"
   ]
  },
  {
   "cell_type": "code",
   "execution_count": 17,
   "metadata": {},
   "outputs": [],
   "source": [
    "# unscaled predicted output values\n",
    "\n",
    "pred_tendencies = pd.DataFrame(0, index=scaled_out_test.index, columns=output_cols, dtype=float)\n",
    "\n",
    "nr_pred_values = np.zeros(scaled_input_test.shape[0])\n",
    "nr_pred_values[test_pred_labels_df[\"nrtend_TAU\"] == 1] = (10 ** output_scalers[\"nrtend_TAU\"][1].inverse_transform(\n",
    "    test_pred_values_df.loc[test_pred_labels_df[\"nrtend_TAU\"] == 1, [\"nrtend_TAU_1\"]])).flatten()\n",
    "nr_pred_values[test_pred_labels_df[\"nrtend_TAU\"] == -1] = (-10 ** output_scalers[\"nrtend_TAU\"][-1].inverse_transform(\n",
    "    test_pred_values_df.loc[test_pred_labels_df[\"nrtend_TAU\"] == -1, [\"nrtend_TAU_-1\"]])).flatten()\n",
    "pred_tendencies.loc[:, \"nrtend_TAU\"] = nr_pred_values\n",
    "\n",
    "pred_tendencies.loc[test_pred_labels_df[\"nctend_TAU\"] == 1, \"nctend_TAU\"] = (-10 ** output_scalers[\"nctend_TAU\"][1].inverse_transform(\n",
    "    test_pred_values_df.loc[test_pred_labels_df[\"nctend_TAU\"] == 1, [\"nctend_TAU_1\"]])).ravel()\n",
    "\n",
    "pred_tendencies.loc[test_pred_labels_df[\"qrtend_TAU\"] == 1, \"qrtend_TAU\"] = (10 ** output_scalers[\"qrtend_TAU\"][1].inverse_transform(\n",
    "    test_pred_values_df.loc[test_pred_labels_df[\"qrtend_TAU\"] == 1, [\"qrtend_TAU_1\"]])).ravel()\n"
   ]
  },
  {
   "cell_type": "code",
   "execution_count": 18,
   "metadata": {},
   "outputs": [],
   "source": [
    "# unscaled actual output values\n",
    "\n",
    "unscaled_tendencies = pd.DataFrame(0, index=scaled_out_test.index, columns=output_cols, dtype=float)\n",
    "\n",
    "nr_values = np.zeros(scaled_input_test.shape[0])\n",
    "nr_values[labels_test[\"nrtend_TAU\"] == 1] = (10 ** output_scalers[\"nrtend_TAU\"][1].inverse_transform(\n",
    "    scaled_out_test.loc[labels_test[\"nrtend_TAU\"] == 1, [\"nrtend_TAU\"]])).flatten()\n",
    "nr_values[labels_test[\"nrtend_TAU\"] == -1] = (-10 ** output_scalers[\"nrtend_TAU\"][-1].inverse_transform(\n",
    "    scaled_out_test.loc[labels_test[\"nrtend_TAU\"] == -1, [\"nrtend_TAU\"]])).flatten()\n",
    "unscaled_tendencies.loc[:, \"nrtend_TAU\"] = nr_values\n",
    "\n",
    "unscaled_tendencies.loc[labels_test[\"nctend_TAU\"] == 1, \"nctend_TAU\"] = (-10 ** output_scalers[\"nctend_TAU\"][1].inverse_transform(\n",
    "    scaled_out_test.loc[labels_test[\"nctend_TAU\"] == 1, [\"nctend_TAU\"]])).ravel()\n",
    "\n",
    "unscaled_tendencies.loc[labels_test[\"qrtend_TAU\"] == 1, \"qrtend_TAU\"] = (10 ** output_scalers[\"qrtend_TAU\"][1].inverse_transform(\n",
    "    scaled_out_test.loc[labels_test[\"qrtend_TAU\"] == 1, [\"qrtend_TAU\"]])).ravel()"
   ]
  },
  {
   "cell_type": "code",
   "execution_count": 19,
   "metadata": {},
   "outputs": [
    {
     "data": {
      "image/png": "[encoded data removed]",
      "text/plain": [
       "<Figure size 1152x288 with 3 Axes>"
      ]
     },
     "metadata": {
      "needs_background": "light"
     },
     "output_type": "display_data"
    }
   ],
   "source": [
    "# output visualizations\n",
    "\n",
    "f, (ax1, ax2, ax3) = plt.subplots(1, 3, figsize=(16,4))\n",
    "all_bins = [np.linspace(-16, -4, 50), np.linspace(-10, 6, 50), np.linspace(-200, 300, 50)]\n",
    "\n",
    "output_col = \"nrtend_TAU\"\n",
    "colp = unscaled_tendencies[output_col]\n",
    "col = pred_tendencies[output_col]\n",
    "ax1.hist(np.log10(-colp[colp < 0]), label=\"<0 pred\", bins=all_bins[0], color='skyblue')\n",
    "ax1.hist(np.log10(colp[colp > 0]), label=\">0 pred\", bins=all_bins[0], color='pink')\n",
    "ax1.hist(np.log10(-col[col < 0]), label=\"<0 true\", bins=all_bins[0], histtype=\"step\", color=\"navy\", lw=3)\n",
    "ax1.hist(np.log10(col[col > 0]), label=\">0 true\", bins=all_bins[0], histtype=\"step\", color=\"purple\", lw=3)\n",
    "ax1.set_xlabel(output_col)\n",
    "ax1.set_ylabel('log10')\n",
    "ax1.title.set_text(f\"log10-transformed {output_col} output data\\nfiltered by output_transform ops\")\n",
    "ax1.set_yscale('log')\n",
    "ax1.legend()\n",
    "\n",
    "output_col = \"nctend_TAU\"\n",
    "colp = unscaled_tendencies[output_col]\n",
    "col = pred_tendencies[output_col]\n",
    "ax2.hist(np.log10(-colp[colp < 0]), label=\"pred\", bins=all_bins[1], color='skyblue')\n",
    "ax2.hist(np.log10(-col[col < 0]), label=\"true\", bins=all_bins[1], histtype=\"step\", color=\"navy\", lw=3)\n",
    "ax2.set_xlabel(output_col)\n",
    "ax2.set_ylabel('log10')\n",
    "ax2.title.set_text(f\"log10-transformed {output_col} output data\\nfiltered by output_transform ops\")\n",
    "ax2.set_yscale('log')\n",
    "\n",
    "output_col = \"qrtend_TAU\"\n",
    "colp = unscaled_tendencies[output_col]\n",
    "col = pred_tendencies[output_col]\n",
    "ax3.hist(np.log10(colp[colp > 0]), label=\"pred\", color='skyblue')\n",
    "ax3.hist(np.log10(col[col > 0]), label=\"true\", histtype=\"step\", color=\"navy\", lw=3)\n",
    "ax3.set_xlabel(output_col)\n",
    "ax3.set_ylabel('log10')\n",
    "ax3.title.set_text(f\"log10-transformed {output_col} output data\\nfiltered by output_transform ops\")\n",
    "ax3.set_yscale('log')\n",
    "\n",
    "plt.show()\n"
   ]
  },
  {
   "cell_type": "markdown",
   "metadata": {},
   "source": [
    "### References\n",
    "\n",
    "\n",
    "Albrecht, B. A.  (1989).  Aerosols, cloud microphysics and fractional cloudiness.Sci-449ence,245, 1227–1230.\n",
    "\n",
    "Bodas-Salcedo, A., Mulcahy, J. P., Andrews, T., Williams, K. D., Ringer, M. A.,455Field, P. R., & Elsaesser, G. S.(2019).Strong Dependence of Atmospheric456Feedbacks on Mixed-Phase Microphysics and Aerosol-Cloud Interactions in457HadGEM3.Journal of Advances in Modeling Earth Systems,11(6), 1735–1758.458doi:  10.1029/2019MS001688\n",
    "\n",
    "Bogenschutz, P. A., Gettelman, A., Morrison, H., Larson, V. E., Craig, C., & Scha-460nen, D. P.(2013).Higher-order turbulence closure and its impact on Climate461Simulation in the Community Atmosphere Model.Journal of Climate,26(23),4629655–9676.  doi:  10.1175/JCLI-D-13-00075.1\n",
    "\n",
    "Danabasoglu, G., Lamarque, J.-F., Bacmeister, J., Bailey, D. A., DuVivier, A. K.,471Edwards, J., . . .  Strand, W. G.(2020).The Community Earth System Model472Version 2 (CESM2).Journal of Advances in Modeling Earth Systems,12(2),473e2019MS001916.  doi:  10.1029/2019MS001916\n",
    "\n",
    "Forbes, R. M., & Ahlgrimm, M.(2014, September).On the Representation of475High-Latitude Boundary Layer Mixed-Phase Cloud in the ECMWF Global Model.476Monthly Weather Review,142(9), 3425–3445.  doi:  10.1175/MWR-D-13-00325.1\n",
    "\n",
    "Gettelman, A.(2015, November).Putting the clouds back in aerosol–cloud inter-478actions.Atmos. Chem. Phys.,15(21), 12397–12411.doi:  10.5194/acp-15-12397479-2015480\n",
    "\n",
    "Gettelman, A., Bardeen, C. G., McCluskey, C. S., & Jarvinen, E.    (2020).    Simulat-481ing Observations of Southern Ocean Clouds and Implications for Climate.J. Adv.482Model. Earth Syst..  doi:  10.1029/2020JD032619483\n",
    "\n",
    "Gettelman, A., Hannay, C., Bacmeister, J. T., Neale, R. B., Pendergrass, A. G.,484Danabasoglu, G., . . .  Mills, M. J.(2019).High Climate Sensitivity in the Com-485munity Earth System Model Version 2 (CESM2).Geophysical Research Letters,48646(14), 8329–8337.  doi:  10.1029/2019GL083978487\n",
    "\n",
    "Gettelman, A., & Morrison, H.   (2015).   Advanced Two-Moment Bulk Microphysics488for Global Models. Part I: Off-Line Tests and Comparison with Other Schemes.J.489Climate,28(3), 1268–1287.  doi:  10.1175/JCLI-D-14-00102.1490\n",
    "\n",
    "Gettelman, A., Morrison, H., Santos, S., Bogenschutz, P., & Caldwell, P. M.   (2015).491Advanced Two-Moment Bulk Microphysics for Global Models. Part II: Global492Model Solutions and Aerosol–Cloud Interactions.J. Climate,28(3), 1288–1307.493doi:  10.1175/JCLI-D-14-00103.1494\n",
    "\n",
    "Gettelman, A., & Sherwood, S. C.  (2016, October).  Processes Responsible for Cloud495Feedback.Curr Clim Change Rep, 1–11.  doi:  10.1007/s40641-016-0052-8\n",
    "\n",
    "Golaz, J.-C., Larson, V. E., & Cotton, W. R.(2002).A PDF-Based Model for497Boundary Layer Clouds. Part II: Model Results.J. Atmos. Sci.,59, 3552–3571.\n",
    "\n",
    "Hoose, C., Kristj ́ansson, J. E., Chen, J.-P., & Hazra, A.  (2010, March).  A Classical-499Theory-Based Parameterization of Heterogeneous Ice Nucleation by Mineral Dust,500Soot, and Biological Particles in a Global Climate Model.J. Atmos. Sci.,67(8),5012483–2503.  doi:  10.1175/2010JAS3425.1\n",
    "\n",
    "Iacono, M. J., Mlawer, E. J., Clough, S. A., & Morcrette, J.-J.  (2000).  Impact of an503improved longwave radiation model, RRTM, on the energy budget and thermody-504namic properties of the NCAR community climate model, CCM3.jgr,105(D11),50514,873–14,890.\n",
    "\n",
    "Khairoutdinov, M. F., & Kogan, Y.  (2000).  A new cloud physics parameterization in507a large-eddy simulation model of marine stratocumulus.Monthly Weather Review,508128, 229–243.\n",
    "\n",
    "Larson, V. E., Golaz, J.-C., & Cotton, W. R.(2002, December).Small-Scale and510Mesoscale Variability in Cloudy Boundary Layers:  Joint Probability Density Func-511tions.J. Atmos. Sci.,59(24), 3519–3539.   doi:  10.1175/1520-0469(2002)059〈3519:512SSAMVI〉2.0.CO;2\n",
    "\n",
    "Liu, X., & Penner, J. E.  (2005).  Ice Nucleation Parameterization for Global Models.514Meteor. Z.,14(499-514).\n",
    "\n",
    "Michibata, T., & Takemura, T.(2015, September).Evaluation of autoconversion520schemes in a single model framework with satellite observations.J. Geophys. Res.521Atmos.,120(18), 2015JD023818.  doi:  10.1002/2015JD023818\n",
    "\n",
    "Neale, R. B., Richter, J. H., & Jochum, M.(2008).The Impact of Convection on523ENSO: From a Delayed Oscillator to a Series of Events.J. Climate,21, 5904-+.doi:  10.1175/2008JCLI2244.1\n",
    "\n",
    "Pruppacher, H. R., & Klett, J. D.   (1997).Microphysics of Clouds and Precipitation526(Second ed.).  Kluwer Academic.\n",
    "\n",
    "Seifert, A., & Beheng, K. D.  (2001).  A double-moment parameterization for simulat-531ing autoconversion, accretion and selfcollection.Atmos. Res.,59-60, 265–281.\n",
    "\n",
    "Shi, X., Liu, X., & Zhang, K.  (2015, February).  Effects of pre-existing ice crystals on536cirrus clouds and comparison between different ice nucleation parameterizations537with the Community Atmosphere Model (CAM5).Atmospheric Chemistry and538Physics,15(3), 1503–1520.  doi:  10.5194/acp-15-1503-2015\n",
    "\n",
    "Twomey, S.  (1977).  The influence of pollution on the shortwave albedo of clouds.J.553Atmos. Sci.,34(7), 1149–1152.\n",
    "\n",
    "Wang, Y., Liu, X., Hoose, C., & Wang, B.(2014, October).Different contact555angle distributions for heterogeneous ice nucleation in the Community Atmo-556spheric Model version 5.Atmos. Chem. Phys.,14(19), 10411–10430.doi:55710.5194/acp-14-10411-2014\n",
    "\n",
    "Zhang, G. J., & McFarlane, N. A.    (1995).    Sensitivity of climate simulations to the559parameterization of cumulus convection in the Canadian Climate Center general560circulation model.Atmos. Ocean,33, 407–446."
   ]
  },
  {
   "cell_type": "markdown",
   "metadata": {},
   "source": [
    "## Hackathon Challenges\n",
    "\n",
    "### Monday\n",
    "* Load the data\n",
    "* Create an exploratory visualization of the data\n",
    "* Test two different transformation and scaling methods\n",
    "* Test one dimensionality reduction method\n",
    "* Train a linear model\n",
    "* Train a decision tree ensemble method of your choice"
   ]
  },
  {
   "cell_type": "code",
   "execution_count": 20,
   "metadata": {},
   "outputs": [],
   "source": [
    "# Monday's code starts here\n",
    "\n",
    "# Import transform methods to test\n",
    "from mlmicrophysics.data import log10_transform, categorize_output_values\n",
    "from sklearn.preprocessing import power_transform"
   ]
  },
  {
   "cell_type": "markdown",
   "metadata": {},
   "source": [
    "Read in files, modified from code in data.py to drop application of transform step"
   ]
  },
  {
   "cell_type": "code",
   "execution_count": 21,
   "metadata": {},
   "outputs": [],
   "source": [
    "# New version of assemble that reads in data without applying scaling or transformation, so that they can be tested without \n",
    "# reloading every time\n",
    "def assemble_data_files_no_transform(files, input_cols, output_cols,train=True, subsample=1,\n",
    "                        meta_cols=(\"lat\", \"lon\", \"lev\", \"depth\", \"row\", \"col\", \"pressure\", \"temperature\",\n",
    "                                   \"time\", \"qrtend_MG2\", \"nrtend_MG2\", \"nctend_MG2\")):\n",
    "    \"\"\"\n",
    "    This function loads data from a list of files\n",
    "    Args:\n",
    "        files: List of files being loaded\n",
    "        input_cols: List of input columns for training the neural networks\n",
    "        output_cols: List of output columns\n",
    "        train: Whether to fit the Scaler objects or\n",
    "        subsample:\n",
    "        meta_cols:\n",
    "    Returns:\n",
    "    \"\"\"\n",
    "    all_input_data = []\n",
    "    all_output_data = []\n",
    "    all_meta_data = []\n",
    "    for i,filename in enumerate(files):\n",
    "        if i%10 == 0:\n",
    "            print(f\"Finished loading {i}/{len(files)} files... opening file {filename}\")\n",
    "        data = open_data_file(filename)\n",
    "        if subsample < 1:\n",
    "            sample_index = int(np.round(data.shape[0] * subsample))\n",
    "            sample_indices = np.sort(np.random.permutation(np.arange(data.shape[0]))[:sample_index])\n",
    "        else:\n",
    "            sample_indices = np.arange(data.shape[0])\n",
    "        all_input_data.append(data.loc[sample_indices, input_cols])\n",
    "        all_output_data.append(data.loc[sample_indices, output_cols])\n",
    "        all_meta_data.append(data.loc[sample_indices, meta_cols])\n",
    "        del data\n",
    "    print(\"Combining data\")\n",
    "    combined_input_data = pd.concat(all_input_data, ignore_index=True)\n",
    "    combined_output_data = pd.concat(all_output_data, ignore_index=True)\n",
    "    combined_meta_data = pd.concat(all_meta_data, ignore_index=True)\n",
    "    print(\"Combined Data Size\", combined_input_data.shape)\n",
    "    del all_input_data[:]\n",
    "    del all_output_data[:]\n",
    "    \n",
    "    return combined_input_data, combined_output_data, combined_meta_data"
   ]
  },
  {
   "cell_type": "markdown",
   "metadata": {},
   "source": [
    "Function to read in parquet files"
   ]
  },
  {
   "cell_type": "code",
   "execution_count": 22,
   "metadata": {},
   "outputs": [],
   "source": [
    "def open_data_file(filename):\n",
    "    if \"ncar-aiml-data-commons/microphysics\" in filename:\n",
    "        fs = s3fs.S3FileSystem(anon=True)\n",
    "        fobj = fs.open(filename)\n",
    "        ds = pd.read_parquet(fobj).set_index('Index')\n",
    "        return ds\n",
    "    else:\n",
    "        ds = pd.read_csv(filename, index_col=\"Index\")\n",
    "        return ds"
   ]
  },
  {
   "cell_type": "code",
   "execution_count": 23,
   "metadata": {},
   "outputs": [
    {
     "name": "stdout",
     "output_type": "stream",
     "text": [
      "Finished loading 0/74 files... opening file ncar-aiml-data-commons/microphysics/cam_mp_data_run5_000100.parquet\n",
      "Finished loading 10/74 files... opening file ncar-aiml-data-commons/microphysics/cam_mp_data_run5_001600.parquet\n",
      "Finished loading 20/74 files... opening file ncar-aiml-data-commons/microphysics/cam_mp_data_run5_003100.parquet\n",
      "Finished loading 30/74 files... opening file ncar-aiml-data-commons/microphysics/cam_mp_data_run5_004600.parquet\n",
      "Finished loading 40/74 files... opening file ncar-aiml-data-commons/microphysics/cam_mp_data_run5_006100.parquet\n",
      "Finished loading 50/74 files... opening file ncar-aiml-data-commons/microphysics/cam_mp_data_run5_007600.parquet\n",
      "Finished loading 60/74 files... opening file ncar-aiml-data-commons/microphysics/cam_mp_data_run5_009100.parquet\n",
      "Finished loading 70/74 files... opening file ncar-aiml-data-commons/microphysics/cam_mp_data_run5_010600.parquet\n",
      "Combining data\n",
      "Combined Data Size (35629120, 5)\n"
     ]
    }
   ],
   "source": [
    "input_train, output_train, meta_train = assemble_data_files_no_transform(train_files, input_cols, output_cols)"
   ]
  },
  {
   "cell_type": "code",
   "execution_count": 24,
   "metadata": {},
   "outputs": [
    {
     "name": "stdout",
     "output_type": "stream",
     "text": [
      "Finished loading 0/65 files... opening file ncar-aiml-data-commons/microphysics/cam_mp_data_run5_011100.parquet\n",
      "Finished loading 10/65 files... opening file ncar-aiml-data-commons/microphysics/cam_mp_data_run5_012100.parquet\n",
      "Finished loading 20/65 files... opening file ncar-aiml-data-commons/microphysics/cam_mp_data_run5_013100.parquet\n",
      "Finished loading 30/65 files... opening file ncar-aiml-data-commons/microphysics/cam_mp_data_run5_014100.parquet\n",
      "Finished loading 40/65 files... opening file ncar-aiml-data-commons/microphysics/cam_mp_data_run5_015100.parquet\n",
      "Finished loading 50/65 files... opening file ncar-aiml-data-commons/microphysics/cam_mp_data_run5_016100.parquet\n",
      "Finished loading 60/65 files... opening file ncar-aiml-data-commons/microphysics/cam_mp_data_run5_017100.parquet\n",
      "Combining data\n",
      "Combined Data Size (31881524, 5)\n"
     ]
    }
   ],
   "source": [
    "input_test, output_test, meta_test = assemble_data_files_no_transform(test_files, input_cols, output_cols)"
   ]
  },
  {
   "cell_type": "markdown",
   "metadata": {},
   "source": [
    "Let's take a look at the input training data without any kind of transformation or scaling"
   ]
  },
  {
   "cell_type": "code",
   "execution_count": 25,
   "metadata": {},
   "outputs": [
    {
     "data": {
      "image/png": "[encoded data removed]",
      "text/plain": [
       "<Figure size 1440x216 with 5 Axes>"
      ]
     },
     "metadata": {
      "needs_background": "light"
     },
     "output_type": "display_data"
    }
   ],
   "source": [
    "# Histograms of training input data by column\n",
    "fig, axes = plt.subplots(1,5, figsize=(20, 3))\n",
    "for a, ax in enumerate(axes.ravel()):\n",
    "    if a < len(input_cols):\n",
    "        ax.set_yscale(\"log\")\n",
    "        ax.hist(input_train[input_cols[a]], bins=20)\n",
    "        ax.set_title(input_cols[a])\n",
    "        "
   ]
  },
  {
   "cell_type": "markdown",
   "metadata": {},
   "source": [
    "Let's take a look at the input test data to make sure that our sample isn't pathological in some fashion"
   ]
  },
  {
   "cell_type": "code",
   "execution_count": 26,
   "metadata": {},
   "outputs": [
    {
     "data": {
      "image/png": "[encoded data removed]",
      "text/plain": [
       "<Figure size 1440x216 with 5 Axes>"
      ]
     },
     "metadata": {
      "needs_background": "light"
     },
     "output_type": "display_data"
    }
   ],
   "source": [
    "# Histograms of test input data by column\n",
    "\n",
    "fig, axes = plt.subplots(1,5, figsize=(20, 3))\n",
    "for a, ax in enumerate(axes.ravel()):\n",
    "    if a < len(input_cols):\n",
    "        ax.set_yscale(\"log\")\n",
    "        ax.hist(input_test[input_cols[a]], bins=20)\n",
    "        ax.set_title(input_cols[a])\n",
    "        "
   ]
  },
  {
   "cell_type": "markdown",
   "metadata": {},
   "source": [
    "Plot a comparison of the histograms in the nput training and test data to confirm that there isn't something pathological going on"
   ]
  },
  {
   "cell_type": "code",
   "execution_count": 27,
   "metadata": {},
   "outputs": [
    {
     "data": {
      "image/png": "[encoded data removed]",
      "text/plain": [
       "<Figure size 1440x216 with 5 Axes>"
      ]
     },
     "metadata": {
      "needs_background": "light"
     },
     "output_type": "display_data"
    }
   ],
   "source": [
    "# Histograms of training-test input data by column\n",
    "\n",
    "fig, axes = plt.subplots(1,5, figsize=(20, 3))\n",
    "for a, ax in enumerate(axes.ravel()):\n",
    "    if a < len(input_cols):\n",
    "        ax.set_yscale(\"log\")\n",
    "        ax.hist(input_train[input_cols[a]], bins=20)\n",
    "        ax.hist(input_test[input_cols[a]], bins=20)\n",
    "        ax.set_title(input_cols[a])\n",
    "        "
   ]
  },
  {
   "cell_type": "markdown",
   "metadata": {},
   "source": [
    "Now we will repeat those sanity checks for the output data"
   ]
  },
  {
   "cell_type": "code",
   "execution_count": 28,
   "metadata": {},
   "outputs": [
    {
     "data": {
      "image/png": "[encoded data removed]",
      "text/plain": [
       "<Figure size 1440x216 with 3 Axes>"
      ]
     },
     "metadata": {
      "needs_background": "light"
     },
     "output_type": "display_data"
    }
   ],
   "source": [
    "# Histograms of output training data by column\n",
    "\n",
    "fig, axes = plt.subplots(1,3, figsize=(20, 3))\n",
    "for a, ax in enumerate(axes.ravel()):\n",
    "    if a < len(output_cols):\n",
    "        ax.set_yscale(\"log\")\n",
    "        ax.hist(output_train[output_cols[a]], bins=50)\n",
    "        ax.set_title(output_cols[a])\n",
    "        "
   ]
  },
  {
   "cell_type": "code",
   "execution_count": 29,
   "metadata": {},
   "outputs": [
    {
     "data": {
      "image/png": "[encoded data removed]",
      "text/plain": [
       "<Figure size 1440x216 with 3 Axes>"
      ]
     },
     "metadata": {
      "needs_background": "light"
     },
     "output_type": "display_data"
    }
   ],
   "source": [
    "# Histograms of output test data by column\n",
    "\n",
    "fig, axes = plt.subplots(1,3, figsize=(20, 3))\n",
    "for a, ax in enumerate(axes.ravel()):\n",
    "    if a < len(output_cols):\n",
    "        ax.set_yscale(\"log\")\n",
    "        ax.hist(output_test[output_cols[a]], bins=50)\n",
    "        ax.set_title(output_cols[a])\n",
    "        "
   ]
  },
  {
   "cell_type": "code",
   "execution_count": 30,
   "metadata": {},
   "outputs": [
    {
     "data": {
      "image/png": "[encoded data removed]",
      "text/plain": [
       "<Figure size 1440x216 with 3 Axes>"
      ]
     },
     "metadata": {
      "needs_background": "light"
     },
     "output_type": "display_data"
    }
   ],
   "source": [
    "# Histograms of training-test input data by column\n",
    "\n",
    "fig, axes = plt.subplots(1,3, figsize=(20, 3))\n",
    "for a, ax in enumerate(axes.ravel()):\n",
    "    if a < len(output_cols):\n",
    "        ax.set_yscale(\"log\")\n",
    "        ax.hist(output_test[output_cols[a]], bins=50)\n",
    "        ax.hist(output_train[output_cols[a]], bins=50)\n",
    "        ax.set_title(output_cols[a])"
   ]
  },
  {
   "cell_type": "markdown",
   "metadata": {},
   "source": [
    "Let's test two different tranformation strategies on the input data"
   ]
  },
  {
   "cell_type": "code",
   "execution_count": 31,
   "metadata": {},
   "outputs": [],
   "source": [
    "input_train_log10 = log10_transform(input_train+1) # Since we have a lot of values near zero, we add 1"
   ]
  },
  {
   "cell_type": "code",
   "execution_count": 32,
   "metadata": {},
   "outputs": [
    {
     "data": {
      "image/png": "[encoded data removed]",
      "text/plain": [
       "<Figure size 1440x216 with 5 Axes>"
      ]
     },
     "metadata": {
      "needs_background": "light"
     },
     "output_type": "display_data"
    }
   ],
   "source": [
    "# Histograms of log10 transformed training input data by column\n",
    "fig, axes = plt.subplots(1,5, figsize=(20, 3))\n",
    "for a, ax in enumerate(axes.ravel()):\n",
    "    if a < len(input_cols):\n",
    "        ax.set_yscale(\"log\")\n",
    "        ax.hist(input_train_log10[input_cols[a]], bins=20)\n",
    "        ax.set_title(input_cols[a])"
   ]
  },
  {
   "cell_type": "code",
   "execution_count": 33,
   "metadata": {},
   "outputs": [],
   "source": [
    "input_train_power = power_transform(input_train) # This is a LOT slower! So much so that it is basically fired"
   ]
  },
  {
   "cell_type": "code",
   "execution_count": 34,
   "metadata": {},
   "outputs": [
    {
     "data": {
      "image/png": "[encoded data removed]",
      "text/plain": [
       "<Figure size 1440x216 with 5 Axes>"
      ]
     },
     "metadata": {
      "needs_background": "light"
     },
     "output_type": "display_data"
    }
   ],
   "source": [
    "# Histograms of power transformed training input data by column\n",
    "fig, axes = plt.subplots(1,5, figsize=(20, 3))\n",
    "for a, ax in enumerate(axes.ravel()):\n",
    "    if a < len(input_cols):\n",
    "        ax.set_yscale(\"log\")\n",
    "        ax.hist(input_train_power[:,a], bins=20)\n",
    "        ax.set_title(input_cols[a])"
   ]
  },
  {
   "cell_type": "code",
   "execution_count": 35,
   "metadata": {},
   "outputs": [],
   "source": [
    "input_test_log10 = log10_transform(input_test+1)"
   ]
  },
  {
   "cell_type": "markdown",
   "metadata": {},
   "source": [
    "Test two different scaling strategies on our transformed data"
   ]
  },
  {
   "cell_type": "code",
   "execution_count": 36,
   "metadata": {},
   "outputs": [],
   "source": [
    "input_train_robust = RobustScaler().fit_transform(input_train_log10)"
   ]
  },
  {
   "cell_type": "code",
   "execution_count": 37,
   "metadata": {},
   "outputs": [
    {
     "data": {
      "image/png": "[encoded data removed]",
      "text/plain": [
       "<Figure size 1440x216 with 5 Axes>"
      ]
     },
     "metadata": {
      "needs_background": "light"
     },
     "output_type": "display_data"
    }
   ],
   "source": [
    "# Histograms of Robust scaled log10(x+1) training input data by column\n",
    "fig, axes = plt.subplots(1,5, figsize=(20, 3))\n",
    "for a, ax in enumerate(axes.ravel()):\n",
    "    if a < len(input_cols):\n",
    "        ax.set_yscale(\"log\")\n",
    "        ax.hist(input_train_robust[:,a], bins=20)\n",
    "        ax.set_title(input_cols[a])\n",
    "        "
   ]
  },
  {
   "cell_type": "code",
   "execution_count": 38,
   "metadata": {},
   "outputs": [],
   "source": [
    "input_train_standard = StandardScaler().fit_transform(input_train_log10)"
   ]
  },
  {
   "cell_type": "code",
   "execution_count": 39,
   "metadata": {},
   "outputs": [
    {
     "data": {
      "image/png": "[encoded data removed]",
      "text/plain": [
       "<Figure size 1440x216 with 5 Axes>"
      ]
     },
     "metadata": {
      "needs_background": "light"
     },
     "output_type": "display_data"
    }
   ],
   "source": [
    "# Histograms of Standard scaled log10(x+1) training input data by column\n",
    "fig, axes = plt.subplots(1,5, figsize=(20, 3))\n",
    "for a, ax in enumerate(axes.ravel()):\n",
    "    if a < len(input_cols):\n",
    "        ax.set_yscale(\"log\")\n",
    "        ax.hist(input_train_standard[:,a], bins=20)\n",
    "        ax.set_title(input_cols[a])\n",
    "        "
   ]
  },
  {
   "cell_type": "code",
   "execution_count": 40,
   "metadata": {},
   "outputs": [],
   "source": [
    "input_test_standard = StandardScaler().fit_transform(input_test_log10)"
   ]
  },
  {
   "cell_type": "markdown",
   "metadata": {},
   "source": [
    "Now we need to process the output variables. For this we will use the function from data"
   ]
  },
  {
   "cell_type": "code",
   "execution_count": 41,
   "metadata": {},
   "outputs": [],
   "source": [
    "output_train_labels = pd.DataFrame(0,\n",
    "                                 columns=output_train.columns,\n",
    "                                 index=output_train.index,\n",
    "                                 dtype=np.int32)\n",
    "output_train_trans = {}\n",
    "output_train_scale = {}\n",
    "output_train_scalers = {}\n",
    "for output_var in output_cols:\n",
    "    output_train_labels[output_var],\\\n",
    "            output_train_trans[output_var],\\\n",
    "            output_train_scale[output_var],\\\n",
    "            output_train_scalers[output_var] = categorize_output_values(output_train[output_var].values.reshape(-1,1), output_transforms[output_var])"
   ]
  },
  {
   "cell_type": "code",
   "execution_count": 42,
   "metadata": {},
   "outputs": [],
   "source": [
    "output_test_labels = pd.DataFrame(0,\n",
    "                                 columns=output_test.columns,\n",
    "                                 index=output_test.index,\n",
    "                                 dtype=np.int32)\n",
    "output_test_trans = {}\n",
    "output_test_scale = {}\n",
    "output_test_scalers = {}\n",
    "for output_var in output_cols:\n",
    "    output_test_labels[output_var],\\\n",
    "            output_test_trans[output_var],\\\n",
    "            output_test_scale[output_var],\\\n",
    "            output_test_scalers[output_var] = categorize_output_values(output_test[output_var].values.reshape(-1,1), output_transforms[output_var])"
   ]
  },
  {
   "cell_type": "code",
   "execution_count": 43,
   "metadata": {},
   "outputs": [
    {
     "data": {
      "image/png": "[encoded data removed]",
      "text/plain": [
       "<Figure size 2160x216 with 3 Axes>"
      ]
     },
     "metadata": {
      "needs_background": "light"
     },
     "output_type": "display_data"
    }
   ],
   "source": [
    "# Histograms of categorized output\n",
    "fig, axes = plt.subplots(1,3, figsize=(30, 3))\n",
    "for a, ax in enumerate(axes.ravel()):\n",
    "    if a < len(output_cols):\n",
    "        ax.set_yscale(\"log\")\n",
    "        ax.hist(output_test_trans[output_cols[a]], bins=50)\n",
    "        ax.set_title(output_cols[a])\n",
    "\n",
    "        # Something looks off about this transformed data...\n",
    "        "
   ]
  },
  {
   "cell_type": "code",
   "execution_count": 44,
   "metadata": {},
   "outputs": [],
   "source": [
    "from sklearn.ensemble import RandomForestClassifier"
   ]
  },
  {
   "cell_type": "code",
   "execution_count": 45,
   "metadata": {},
   "outputs": [
    {
     "data": {
      "text/html": [
       "<div>\n",
       "<style scoped>\n",
       "    .dataframe tbody tr th:only-of-type {\n",
       "        vertical-align: middle;\n",
       "    }\n",
       "\n",
       "    .dataframe tbody tr th {\n",
       "        vertical-align: top;\n",
       "    }\n",
       "\n",
       "    .dataframe thead th {\n",
       "        text-align: right;\n",
       "    }\n",
       "</style>\n",
       "<table border=\"1\" class=\"dataframe\">\n",
       "  <thead>\n",
       "    <tr style=\"text-align: right;\">\n",
       "      <th></th>\n",
       "      <th>qrtend_TAU</th>\n",
       "      <th>nctend_TAU</th>\n",
       "      <th>nrtend_TAU</th>\n",
       "    </tr>\n",
       "  </thead>\n",
       "  <tbody>\n",
       "    <tr>\n",
       "      <th>0</th>\n",
       "      <td>0</td>\n",
       "      <td>0</td>\n",
       "      <td>0</td>\n",
       "    </tr>\n",
       "    <tr>\n",
       "      <th>1</th>\n",
       "      <td>0</td>\n",
       "      <td>0</td>\n",
       "      <td>0</td>\n",
       "    </tr>\n",
       "    <tr>\n",
       "      <th>2</th>\n",
       "      <td>0</td>\n",
       "      <td>0</td>\n",
       "      <td>0</td>\n",
       "    </tr>\n",
       "    <tr>\n",
       "      <th>3</th>\n",
       "      <td>0</td>\n",
       "      <td>0</td>\n",
       "      <td>0</td>\n",
       "    </tr>\n",
       "    <tr>\n",
       "      <th>4</th>\n",
       "      <td>0</td>\n",
       "      <td>0</td>\n",
       "      <td>0</td>\n",
       "    </tr>\n",
       "    <tr>\n",
       "      <th>...</th>\n",
       "      <td>...</td>\n",
       "      <td>...</td>\n",
       "      <td>...</td>\n",
       "    </tr>\n",
       "    <tr>\n",
       "      <th>35629115</th>\n",
       "      <td>0</td>\n",
       "      <td>0</td>\n",
       "      <td>0</td>\n",
       "    </tr>\n",
       "    <tr>\n",
       "      <th>35629116</th>\n",
       "      <td>0</td>\n",
       "      <td>0</td>\n",
       "      <td>0</td>\n",
       "    </tr>\n",
       "    <tr>\n",
       "      <th>35629117</th>\n",
       "      <td>0</td>\n",
       "      <td>0</td>\n",
       "      <td>0</td>\n",
       "    </tr>\n",
       "    <tr>\n",
       "      <th>35629118</th>\n",
       "      <td>0</td>\n",
       "      <td>0</td>\n",
       "      <td>0</td>\n",
       "    </tr>\n",
       "    <tr>\n",
       "      <th>35629119</th>\n",
       "      <td>0</td>\n",
       "      <td>0</td>\n",
       "      <td>0</td>\n",
       "    </tr>\n",
       "  </tbody>\n",
       "</table>\n",
       "<p>35629120 rows × 3 columns</p>\n",
       "</div>"
      ],
      "text/plain": [
       "          qrtend_TAU  nctend_TAU  nrtend_TAU\n",
       "0                  0           0           0\n",
       "1                  0           0           0\n",
       "2                  0           0           0\n",
       "3                  0           0           0\n",
       "4                  0           0           0\n",
       "...              ...         ...         ...\n",
       "35629115           0           0           0\n",
       "35629116           0           0           0\n",
       "35629117           0           0           0\n",
       "35629118           0           0           0\n",
       "35629119           0           0           0\n",
       "\n",
       "[35629120 rows x 3 columns]"
      ]
     },
     "execution_count": 45,
     "metadata": {},
     "output_type": "execute_result"
    }
   ],
   "source": [
    "output_train_labels"
   ]
  },
  {
   "cell_type": "code",
   "execution_count": 46,
   "metadata": {},
   "outputs": [
    {
     "data": {
      "text/html": [
       "<div>\n",
       "<style scoped>\n",
       "    .dataframe tbody tr th:only-of-type {\n",
       "        vertical-align: middle;\n",
       "    }\n",
       "\n",
       "    .dataframe tbody tr th {\n",
       "        vertical-align: top;\n",
       "    }\n",
       "\n",
       "    .dataframe thead th {\n",
       "        text-align: right;\n",
       "    }\n",
       "</style>\n",
       "<table border=\"1\" class=\"dataframe\">\n",
       "  <thead>\n",
       "    <tr style=\"text-align: right;\">\n",
       "      <th></th>\n",
       "      <th>QC_TAU_in</th>\n",
       "      <th>NC_TAU_in</th>\n",
       "      <th>QR_TAU_in</th>\n",
       "      <th>NR_TAU_in</th>\n",
       "      <th>RHO_CLUBB_lev</th>\n",
       "    </tr>\n",
       "  </thead>\n",
       "  <tbody>\n",
       "    <tr>\n",
       "      <th>0</th>\n",
       "      <td>-0.365734</td>\n",
       "      <td>-0.885089</td>\n",
       "      <td>-0.200028</td>\n",
       "      <td>-0.964007</td>\n",
       "      <td>-1.266085</td>\n",
       "    </tr>\n",
       "    <tr>\n",
       "      <th>1</th>\n",
       "      <td>-0.365734</td>\n",
       "      <td>-0.885089</td>\n",
       "      <td>-0.200028</td>\n",
       "      <td>-0.964007</td>\n",
       "      <td>-1.266085</td>\n",
       "    </tr>\n",
       "    <tr>\n",
       "      <th>2</th>\n",
       "      <td>-0.365734</td>\n",
       "      <td>-0.885089</td>\n",
       "      <td>-0.200028</td>\n",
       "      <td>-0.964007</td>\n",
       "      <td>-1.266085</td>\n",
       "    </tr>\n",
       "    <tr>\n",
       "      <th>3</th>\n",
       "      <td>-0.365734</td>\n",
       "      <td>-0.885089</td>\n",
       "      <td>-0.200028</td>\n",
       "      <td>-0.964007</td>\n",
       "      <td>-1.266085</td>\n",
       "    </tr>\n",
       "    <tr>\n",
       "      <th>4</th>\n",
       "      <td>-0.365734</td>\n",
       "      <td>-0.885089</td>\n",
       "      <td>-0.200028</td>\n",
       "      <td>-0.964007</td>\n",
       "      <td>-1.266085</td>\n",
       "    </tr>\n",
       "    <tr>\n",
       "      <th>...</th>\n",
       "      <td>...</td>\n",
       "      <td>...</td>\n",
       "      <td>...</td>\n",
       "      <td>...</td>\n",
       "      <td>...</td>\n",
       "    </tr>\n",
       "    <tr>\n",
       "      <th>35629115</th>\n",
       "      <td>-0.365729</td>\n",
       "      <td>-0.727928</td>\n",
       "      <td>-0.200028</td>\n",
       "      <td>-0.964007</td>\n",
       "      <td>1.820451</td>\n",
       "    </tr>\n",
       "    <tr>\n",
       "      <th>35629116</th>\n",
       "      <td>-0.365734</td>\n",
       "      <td>-0.885071</td>\n",
       "      <td>-0.200028</td>\n",
       "      <td>-0.964007</td>\n",
       "      <td>1.818080</td>\n",
       "    </tr>\n",
       "    <tr>\n",
       "      <th>35629117</th>\n",
       "      <td>-0.365734</td>\n",
       "      <td>-0.885089</td>\n",
       "      <td>-0.200028</td>\n",
       "      <td>-0.964007</td>\n",
       "      <td>1.815517</td>\n",
       "    </tr>\n",
       "    <tr>\n",
       "      <th>35629118</th>\n",
       "      <td>-0.365734</td>\n",
       "      <td>-0.885089</td>\n",
       "      <td>-0.200028</td>\n",
       "      <td>-0.964007</td>\n",
       "      <td>1.812813</td>\n",
       "    </tr>\n",
       "    <tr>\n",
       "      <th>35629119</th>\n",
       "      <td>-0.365734</td>\n",
       "      <td>-0.885089</td>\n",
       "      <td>-0.200028</td>\n",
       "      <td>-0.964007</td>\n",
       "      <td>1.809983</td>\n",
       "    </tr>\n",
       "  </tbody>\n",
       "</table>\n",
       "<p>35629120 rows × 5 columns</p>\n",
       "</div>"
      ],
      "text/plain": [
       "          QC_TAU_in  NC_TAU_in  QR_TAU_in  NR_TAU_in  RHO_CLUBB_lev\n",
       "0         -0.365734  -0.885089  -0.200028  -0.964007      -1.266085\n",
       "1         -0.365734  -0.885089  -0.200028  -0.964007      -1.266085\n",
       "2         -0.365734  -0.885089  -0.200028  -0.964007      -1.266085\n",
       "3         -0.365734  -0.885089  -0.200028  -0.964007      -1.266085\n",
       "4         -0.365734  -0.885089  -0.200028  -0.964007      -1.266085\n",
       "...             ...        ...        ...        ...            ...\n",
       "35629115  -0.365729  -0.727928  -0.200028  -0.964007       1.820451\n",
       "35629116  -0.365734  -0.885071  -0.200028  -0.964007       1.818080\n",
       "35629117  -0.365734  -0.885089  -0.200028  -0.964007       1.815517\n",
       "35629118  -0.365734  -0.885089  -0.200028  -0.964007       1.812813\n",
       "35629119  -0.365734  -0.885089  -0.200028  -0.964007       1.809983\n",
       "\n",
       "[35629120 rows x 5 columns]"
      ]
     },
     "execution_count": 46,
     "metadata": {},
     "output_type": "execute_result"
    }
   ],
   "source": [
    "pd.DataFrame(input_train_standard,columns=input_cols)"
   ]
  },
  {
   "cell_type": "code",
   "execution_count": 47,
   "metadata": {},
   "outputs": [],
   "source": [
    "clf = RandomForestClassifier(max_depth=2, random_state=0)"
   ]
  },
  {
   "cell_type": "code",
   "execution_count": null,
   "metadata": {},
   "outputs": [],
   "source": [
    "output_col = \"nctend_TAU\""
   ]
  },
  {
   "cell_type": "code",
   "execution_count": 48,
   "metadata": {},
   "outputs": [
    {
     "data": {
      "text/plain": [
       "RandomForestClassifier(max_depth=2, random_state=0)"
      ]
     },
     "execution_count": 48,
     "metadata": {},
     "output_type": "execute_result"
    }
   ],
   "source": [
    "clf.fit(pd.DataFrame(input_train_standard,columns=input_cols),output_train_labels[output_col])"
   ]
  },
  {
   "cell_type": "code",
   "execution_count": null,
   "metadata": {},
   "outputs": [],
   "source": [
    "clf.score(input_test_standard,output_test_labels[output_col])"
   ]
  },
  {
   "cell_type": "markdown",
   "metadata": {},
   "source": [
    "Create linear model"
   ]
  },
  {
   "cell_type": "code",
   "execution_count": null,
   "metadata": {},
   "outputs": [],
   "source": [
    "from sklearn.linear_model import LinearRegression"
   ]
  },
  {
   "cell_type": "code",
   "execution_count": null,
   "metadata": {},
   "outputs": [],
   "source": [
    "reg = LinearRegression().fit(input_train_standard,output_train_scale[output_col])"
   ]
  },
  {
   "cell_type": "code",
   "execution_count": null,
   "metadata": {},
   "outputs": [],
   "source": [
    "reg.score(scaled_input_test,labels_test[output_col])"
   ]
  },
  {
   "cell_type": "markdown",
   "metadata": {},
   "source": [
    "Test simple PCA data reduction"
   ]
  },
  {
   "cell_type": "code",
   "execution_count": null,
   "metadata": {},
   "outputs": [],
   "source": [
    "from sklearn.decomposition import PCA"
   ]
  },
  {
   "cell_type": "code",
   "execution_count": null,
   "metadata": {},
   "outputs": [],
   "source": [
    "pca = PCA(ncomponents=5)"
   ]
  },
  {
   "cell_type": "code",
   "execution_count": null,
   "metadata": {},
   "outputs": [],
   "source": [
    "print(pca.explained_variance_ratio_)"
   ]
  },
  {
   "cell_type": "markdown",
   "metadata": {},
   "source": [
    "### Tuesday\n",
    "* Train a densely connected neural network\n",
    "* Train a convolutional or recurrent neural network (depends on problem)\n",
    "* Experiment with different architectures"
   ]
  },
  {
   "cell_type": "code",
   "execution_count": null,
   "metadata": {},
   "outputs": [],
   "source": [
    "# Tuesday's code goes here\n",
    "# The ANN used in the base model is a densely connected network, so we do that above\n",
    "# Here we start with an RNN\n",
    "\n",
    "import tensorflow as tf\n",
    "from tensorflow import keras\n",
    "from tensorflow.keras import layers\n",
    "from tensorflow.keras.layers import GRU, LSTM"
   ]
  },
  {
   "cell_type": "code",
   "execution_count": null,
   "metadata": {},
   "outputs": [],
   "source": [
    "gru = GRU(4)"
   ]
  },
  {
   "cell_type": "code",
   "execution_count": null,
   "metadata": {},
   "outputs": [],
   "source": [
    "outputs = {}\n",
    "outputs['GRU'] = gru(input_train_standard)"
   ]
  },
  {
   "cell_type": "code",
   "execution_count": null,
   "metadata": {},
   "outputs": [],
   "source": [
    "lstm = tf.keras.layers.LSTM(4)"
   ]
  },
  {
   "cell_type": "code",
   "execution_count": null,
   "metadata": {},
   "outputs": [],
   "source": [
    "outputs['LSTM'] = lstm(input_train_standard)"
   ]
  },
  {
   "cell_type": "markdown",
   "metadata": {},
   "source": [
    "### Wednesday\n",
    "* Calculate three relevant evaluation metrics for each ML solution and baseline\n",
    "* Refine machine learning approaches and test additional hyperparameter settings"
   ]
  },
  {
   "cell_type": "code",
   "execution_count": null,
   "metadata": {},
   "outputs": [],
   "source": [
    "# Wednesday's code goes here\n"
   ]
  },
  {
   "cell_type": "markdown",
   "metadata": {},
   "source": [
    "### Thursday \n",
    "* Evaluate two interpretation methods for your machine learning solution\n",
    "* Compare interpretation of baseline with your approach\n",
    "* Submit best results on project to leaderboard\n",
    "* Prepare 2 Google Slides on team's approach and submit them "
   ]
  },
  {
   "cell_type": "code",
   "execution_count": null,
   "metadata": {},
   "outputs": [],
   "source": [
    "# Thursday's code goes here\n"
   ]
  },
  {
   "cell_type": "markdown",
   "metadata": {},
   "source": [
    "## Ultimate Submission Code\n",
    "Please insert your full data processing and machine learning pipeline code in the cell below."
   ]
  },
  {
   "cell_type": "code",
   "execution_count": null,
   "metadata": {},
   "outputs": [],
   "source": []
  }
 ],
 "metadata": {
  "kernelspec": {
   "display_name": "Python 3",
   "language": "python",
   "name": "python3"
  },
  "language_info": {
   "codemirror_mode": {
    "name": "ipython",
    "version": 3
   },
   "file_extension": ".py",
   "mimetype": "text/x-python",
   "name": "python",
   "nbconvert_exporter": "python",
   "pygments_lexer": "ipython3",
   "version": "3.7.6"
  }
 },
 "nbformat": 4,
 "nbformat_minor": 4
}

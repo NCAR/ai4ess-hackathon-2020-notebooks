{
 "cells": [
  {
   "cell_type": "code",
   "execution_count": null,
   "metadata": {
    "colab": {
     "base_uri": "https://localhost:8080/",
     "height": 1000
    },
    "colab_type": "code",
    "executionInfo": {
     "elapsed": 3414,
     "status": "ok",
     "timestamp": 1592944269433,
     "user": {
      "displayName": "Alyson Douglas",
      "photoUrl": "",
      "userId": "09630862883378432363"
     },
     "user_tz": 300
    },
    "id": "2lL34oHTU1ZP",
    "outputId": "b37d00e3-3a8f-4d83-b02d-378bff76db2d"
   },
   "outputs": [
    {
     "name": "stdout",
     "output_type": "stream",
     "text": [
      "Requirement already satisfied: numpy in /usr/local/lib/python3.6/dist-packages (1.18.5)\n",
      "Requirement already satisfied: scipy in /usr/local/lib/python3.6/dist-packages (1.4.1)\n",
      "Requirement already satisfied: matplotlib in /usr/local/lib/python3.6/dist-packages (3.2.2)\n",
      "Requirement already satisfied: xarray in /usr/local/lib/python3.6/dist-packages (0.15.1)\n",
      "Requirement already satisfied: pandas in /usr/local/lib/python3.6/dist-packages (1.0.5)\n",
      "Requirement already satisfied: scikit-learn in /usr/local/lib/python3.6/dist-packages (0.22.2.post1)\n",
      "Requirement already satisfied: tensorflow in /usr/local/lib/python3.6/dist-packages (2.2.0)\n",
      "Requirement already satisfied: netcdf4 in /usr/local/lib/python3.6/dist-packages (1.5.3)\n",
      "Requirement already satisfied: h5netcdf in /usr/local/lib/python3.6/dist-packages (0.8.0)\n",
      "Requirement already satisfied: tqdm in /usr/local/lib/python3.6/dist-packages (4.41.1)\n",
      "Requirement already satisfied: s3fs in /usr/local/lib/python3.6/dist-packages (0.4.2)\n",
      "Requirement already satisfied: zarr in /usr/local/lib/python3.6/dist-packages (2.4.0)\n",
      "Requirement already satisfied: kiwisolver>=1.0.1 in /usr/local/lib/python3.6/dist-packages (from matplotlib) (1.2.0)\n",
      "Requirement already satisfied: cycler>=0.10 in /usr/local/lib/python3.6/dist-packages (from matplotlib) (0.10.0)\n",
      "Requirement already satisfied: python-dateutil>=2.1 in /usr/local/lib/python3.6/dist-packages (from matplotlib) (2.8.1)\n",
      "Requirement already satisfied: pyparsing!=2.0.4,!=2.1.2,!=2.1.6,>=2.0.1 in /usr/local/lib/python3.6/dist-packages (from matplotlib) (2.4.7)\n",
      "Requirement already satisfied: setuptools>=41.2 in /usr/local/lib/python3.6/dist-packages (from xarray) (47.3.1)\n",
      "Requirement already satisfied: pytz>=2017.2 in /usr/local/lib/python3.6/dist-packages (from pandas) (2018.9)\n",
      "Requirement already satisfied: joblib>=0.11 in /usr/local/lib/python3.6/dist-packages (from scikit-learn) (0.15.1)\n",
      "Requirement already satisfied: tensorflow-estimator<2.3.0,>=2.2.0 in /usr/local/lib/python3.6/dist-packages (from tensorflow) (2.2.0)\n",
      "Requirement already satisfied: protobuf>=3.8.0 in /usr/local/lib/python3.6/dist-packages (from tensorflow) (3.10.0)\n",
      "Requirement already satisfied: tensorboard<2.3.0,>=2.2.0 in /usr/local/lib/python3.6/dist-packages (from tensorflow) (2.2.2)\n",
      "Requirement already satisfied: absl-py>=0.7.0 in /usr/local/lib/python3.6/dist-packages (from tensorflow) (0.9.0)\n",
      "Requirement already satisfied: gast==0.3.3 in /usr/local/lib/python3.6/dist-packages (from tensorflow) (0.3.3)\n",
      "Requirement already satisfied: grpcio>=1.8.6 in /usr/local/lib/python3.6/dist-packages (from tensorflow) (1.29.0)\n",
      "Requirement already satisfied: wheel>=0.26; python_version >= \"3\" in /usr/local/lib/python3.6/dist-packages (from tensorflow) (0.34.2)\n",
      "Requirement already satisfied: wrapt>=1.11.1 in /usr/local/lib/python3.6/dist-packages (from tensorflow) (1.12.1)\n",
      "Requirement already satisfied: six>=1.12.0 in /usr/local/lib/python3.6/dist-packages (from tensorflow) (1.12.0)\n",
      "Requirement already satisfied: opt-einsum>=2.3.2 in /usr/local/lib/python3.6/dist-packages (from tensorflow) (3.2.1)\n",
      "Requirement already satisfied: astunparse==1.6.3 in /usr/local/lib/python3.6/dist-packages (from tensorflow) (1.6.3)\n",
      "Requirement already satisfied: google-pasta>=0.1.8 in /usr/local/lib/python3.6/dist-packages (from tensorflow) (0.2.0)\n",
      "Requirement already satisfied: termcolor>=1.1.0 in /usr/local/lib/python3.6/dist-packages (from tensorflow) (1.1.0)\n",
      "Requirement already satisfied: keras-preprocessing>=1.1.0 in /usr/local/lib/python3.6/dist-packages (from tensorflow) (1.1.2)\n",
      "Requirement already satisfied: h5py<2.11.0,>=2.10.0 in /usr/local/lib/python3.6/dist-packages (from tensorflow) (2.10.0)\n",
      "Requirement already satisfied: cftime in /usr/local/lib/python3.6/dist-packages (from netcdf4) (1.1.3)\n",
      "Requirement already satisfied: fsspec>=0.6.0 in /usr/local/lib/python3.6/dist-packages (from s3fs) (0.7.4)\n",
      "Requirement already satisfied: botocore>=1.12.91 in /usr/local/lib/python3.6/dist-packages (from s3fs) (1.17.5)\n",
      "Requirement already satisfied: asciitree in /usr/local/lib/python3.6/dist-packages (from zarr) (0.3.3)\n",
      "Requirement already satisfied: numcodecs>=0.6.4 in /usr/local/lib/python3.6/dist-packages (from zarr) (0.6.4)\n",
      "Requirement already satisfied: fasteners in /usr/local/lib/python3.6/dist-packages (from zarr) (0.15)\n",
      "Requirement already satisfied: requests<3,>=2.21.0 in /usr/local/lib/python3.6/dist-packages (from tensorboard<2.3.0,>=2.2.0->tensorflow) (2.23.0)\n",
      "Requirement already satisfied: google-auth-oauthlib<0.5,>=0.4.1 in /usr/local/lib/python3.6/dist-packages (from tensorboard<2.3.0,>=2.2.0->tensorflow) (0.4.1)\n",
      "Requirement already satisfied: google-auth<2,>=1.6.3 in /usr/local/lib/python3.6/dist-packages (from tensorboard<2.3.0,>=2.2.0->tensorflow) (1.17.2)\n",
      "Requirement already satisfied: markdown>=2.6.8 in /usr/local/lib/python3.6/dist-packages (from tensorboard<2.3.0,>=2.2.0->tensorflow) (3.2.2)\n",
      "Requirement already satisfied: tensorboard-plugin-wit>=1.6.0 in /usr/local/lib/python3.6/dist-packages (from tensorboard<2.3.0,>=2.2.0->tensorflow) (1.6.0.post3)\n",
      "Requirement already satisfied: werkzeug>=0.11.15 in /usr/local/lib/python3.6/dist-packages (from tensorboard<2.3.0,>=2.2.0->tensorflow) (1.0.1)\n",
      "Requirement already satisfied: jmespath<1.0.0,>=0.7.1 in /usr/local/lib/python3.6/dist-packages (from botocore>=1.12.91->s3fs) (0.10.0)\n",
      "Requirement already satisfied: docutils<0.16,>=0.10 in /usr/local/lib/python3.6/dist-packages (from botocore>=1.12.91->s3fs) (0.15.2)\n",
      "Requirement already satisfied: urllib3<1.26,>=1.20; python_version != \"3.4\" in /usr/local/lib/python3.6/dist-packages (from botocore>=1.12.91->s3fs) (1.24.3)\n",
      "Requirement already satisfied: monotonic>=0.1 in /usr/local/lib/python3.6/dist-packages (from fasteners->zarr) (1.5)\n",
      "Requirement already satisfied: certifi>=2017.4.17 in /usr/local/lib/python3.6/dist-packages (from requests<3,>=2.21.0->tensorboard<2.3.0,>=2.2.0->tensorflow) (2020.4.5.2)\n",
      "Requirement already satisfied: idna<3,>=2.5 in /usr/local/lib/python3.6/dist-packages (from requests<3,>=2.21.0->tensorboard<2.3.0,>=2.2.0->tensorflow) (2.9)\n",
      "Requirement already satisfied: chardet<4,>=3.0.2 in /usr/local/lib/python3.6/dist-packages (from requests<3,>=2.21.0->tensorboard<2.3.0,>=2.2.0->tensorflow) (3.0.4)\n",
      "Requirement already satisfied: requests-oauthlib>=0.7.0 in /usr/local/lib/python3.6/dist-packages (from google-auth-oauthlib<0.5,>=0.4.1->tensorboard<2.3.0,>=2.2.0->tensorflow) (1.3.0)\n",
      "Requirement already satisfied: cachetools<5.0,>=2.0.0 in /usr/local/lib/python3.6/dist-packages (from google-auth<2,>=1.6.3->tensorboard<2.3.0,>=2.2.0->tensorflow) (4.1.0)\n",
      "Requirement already satisfied: rsa<5,>=3.1.4; python_version >= \"3\" in /usr/local/lib/python3.6/dist-packages (from google-auth<2,>=1.6.3->tensorboard<2.3.0,>=2.2.0->tensorflow) (4.6)\n",
      "Requirement already satisfied: pyasn1-modules>=0.2.1 in /usr/local/lib/python3.6/dist-packages (from google-auth<2,>=1.6.3->tensorboard<2.3.0,>=2.2.0->tensorflow) (0.2.8)\n",
      "Requirement already satisfied: importlib-metadata; python_version < \"3.8\" in /usr/local/lib/python3.6/dist-packages (from markdown>=2.6.8->tensorboard<2.3.0,>=2.2.0->tensorflow) (1.6.1)\n",
      "Requirement already satisfied: oauthlib>=3.0.0 in /usr/local/lib/python3.6/dist-packages (from requests-oauthlib>=0.7.0->google-auth-oauthlib<0.5,>=0.4.1->tensorboard<2.3.0,>=2.2.0->tensorflow) (3.1.0)\n",
      "Requirement already satisfied: pyasn1>=0.1.3 in /usr/local/lib/python3.6/dist-packages (from rsa<5,>=3.1.4; python_version >= \"3\"->google-auth<2,>=1.6.3->tensorboard<2.3.0,>=2.2.0->tensorflow) (0.4.8)\n",
      "Requirement already satisfied: zipp>=0.5 in /usr/local/lib/python3.6/dist-packages (from importlib-metadata; python_version < \"3.8\"->markdown>=2.6.8->tensorboard<2.3.0,>=2.2.0->tensorflow) (3.1.0)\n"
     ]
    }
   ],
   "source": [
    "!pip install numpy scipy matplotlib xarray pandas scikit-learn tensorflow netcdf4 h5netcdf tqdm s3fs zarr"
   ]
  },
  {
   "cell_type": "code",
   "execution_count": null,
   "metadata": {
    "colab": {
     "base_uri": "https://localhost:8080/",
     "height": 34
    },
    "colab_type": "code",
    "executionInfo": {
     "elapsed": 6570,
     "status": "ok",
     "timestamp": 1592944272640,
     "user": {
      "displayName": "Alyson Douglas",
      "photoUrl": "",
      "userId": "09630862883378432363"
     },
     "user_tz": 300
    },
    "id": "sePkHOd6U8Kp",
    "outputId": "21448172-0f95-404b-ee80-e40cafbfdd83"
   },
   "outputs": [
    {
     "name": "stdout",
     "output_type": "stream",
     "text": [
      "Drive already mounted at /content/gdrive; to attempt to forcibly remount, call drive.mount(\"/content/gdrive\", force_remount=True).\n"
     ]
    }
   ],
   "source": [
    "# if working on google colab\n",
    "! pip install -U -q PyDrive\n",
    "from google.colab import drive\n",
    "drive.mount('/content/gdrive')"
   ]
  },
  {
   "cell_type": "code",
   "execution_count": null,
   "metadata": {
    "colab": {},
    "colab_type": "code",
    "id": "7YXcaAreU-cs"
   },
   "outputs": [],
   "source": [
    "# Module imports \n",
    "import argparse\n",
    "import random\n",
    "import os\n",
    "from os.path import join, exists\n",
    "import sys\n",
    "import s3fs\n",
    "import yaml\n",
    "import zarr\n",
    "import xarray as xr\n",
    "import numpy as np\n",
    "import pandas as pd\n",
    "from datetime import datetime\n",
    "import matplotlib.pyplot as plt\n",
    "%matplotlib inline\n",
    "\n",
    "from sklearn.preprocessing import StandardScaler, MinMaxScaler, MaxAbsScaler, RobustScaler\n",
    "from sklearn.metrics import mean_absolute_error, max_error\n",
    "import tensorflow as tf\n",
    "from tensorflow.keras.layers import Input, Conv2D, Dense, Flatten, MaxPool2D\n",
    "from tensorflow.keras.models import Model, save_model\n",
    "from tensorflow.keras.optimizers import Adam, SGD\n",
    "\n",
    "seed = 328942\n",
    "np.random.seed(seed)\n",
    "random.seed(seed)\n",
    "tf.random.set_seed(seed)"
   ]
  },
  {
   "cell_type": "code",
   "execution_count": null,
   "metadata": {
    "colab": {
     "base_uri": "https://localhost:8080/",
     "height": 34
    },
    "colab_type": "code",
    "executionInfo": {
     "elapsed": 8166,
     "status": "ok",
     "timestamp": 1592944274266,
     "user": {
      "displayName": "Alyson Douglas",
      "photoUrl": "",
      "userId": "09630862883378432363"
     },
     "user_tz": 300
    },
    "id": "OHxSNMPmVBfJ",
    "outputId": "4f37fab8-c901-47c3-e8ad-17a6889d3da5"
   },
   "outputs": [
    {
     "name": "stdout",
     "output_type": "stream",
     "text": [
      "PhysicalDevice(name='/physical_device:GPU:0', device_type='GPU')\n"
     ]
    }
   ],
   "source": [
    "# Limit GPU memory usage\n",
    "gpus = tf.config.get_visible_devices(\"GPU\")\n",
    "for device in gpus:\n",
    "    print(device)\n",
    "    tf.config.experimental.set_memory_growth(device, True)"
   ]
  },
  {
   "cell_type": "code",
   "execution_count": null,
   "metadata": {
    "colab": {},
    "colab_type": "code",
    "id": "whzI6IovVDM-"
   },
   "outputs": [],
   "source": [
    "# define some datset helper functions\n",
    "\n",
    "num_particles_dict = {\n",
    "    1 : '1particle',\n",
    "    3 : '3particle',\n",
    "    'multi': 'multiparticle'}\n",
    "\n",
    "split_dict = {\n",
    "    'train' : 'training',\n",
    "    'test'   : 'test',\n",
    "    'valid': 'validation'}\n",
    "\n",
    "def dataset_name(num_particles, split, file_extension='zarr'):\n",
    "    \"\"\"\n",
    "    Return the dataset filename given user inputs\n",
    "    \n",
    "    Args: \n",
    "        num_particles: (int or str) Number of particles per hologram (1, 3, or 'multi')\n",
    "        split: (str) Dataset split of either 'train', 'valid', or 'test'\n",
    "        file_extension: (str) Dataset file extension\n",
    "    \n",
    "    Returns:\n",
    "        dataset: (str) Dataset name\n",
    "    \"\"\"\n",
    "    \n",
    "    valid = [1,3,'multi']\n",
    "    if num_particles not in valid:\n",
    "        raise ValueError(\"results: num_particles must be one of %r.\" % valid)\n",
    "    num_particles = num_particles_dict[num_particles]\n",
    "    \n",
    "    valid = ['train','test','valid']\n",
    "    if split not in valid:\n",
    "        raise ValueError(\"results: split must be one of %r.\" % valid)\n",
    "    split = split_dict[split]\n",
    "    \n",
    "    return f'synthetic_holograms_{num_particles}_{split}_small.{file_extension}'\n",
    "\n",
    "def open_zarr(path_data, num_particles, split):\n",
    "    \"\"\"\n",
    "    Open a HOLODEC Zarr file hosted on AWS\n",
    "    \n",
    "    Args: \n",
    "        path_data: (str) Path to directory containing datset\n",
    "        num_particles: (int or str) Number of particles per hologram (1, 3, or 'multi')\n",
    "        split: (str) Dataset split of either 'train', 'valid', or 'test'\n",
    "    \n",
    "    Returns:\n",
    "        dataset: (xarray Dataset) Opened dataset\n",
    "    \"\"\"\n",
    "    path_data = os.path.join(path_data, dataset_name(num_particles, split))\n",
    "    fs = s3fs.S3FileSystem(anon=True, default_fill_cache=False)\n",
    "    store = s3fs.S3Map(root=path_data, s3=fs, check=False)\n",
    "    dataset = xr.open_zarr(store=store)\n",
    "    return dataset\n",
    "\n",
    "def scale_images(images, scaler_vals=None):\n",
    "    \"\"\"\n",
    "    Takes in array of images and scales pixel values between 0 and 1\n",
    "    \n",
    "    Args: \n",
    "        images: (np array) Array of images \n",
    "        scaler_vals: (dict) Image scaler 'max' and 'min' values\n",
    "        \n",
    "    Returns:\n",
    "        images_scaled: (np array) Scaled array of images with pixel values between 0 and 1\n",
    "        scaler_vals: (dict) Image scaler 'max' and 'min' values\n",
    "    \"\"\"\n",
    "    \n",
    "    if scaler_vals == None:\n",
    "        scaler_vals = {}\n",
    "        scaler_vals[\"min\"] = images.min()\n",
    "        scaler_vals[\"max\"] = images.max()\n",
    "    images_scaled = (images.astype(np.float32) - scaler_vals[\"min\"]) / (scaler_vals[\"max\"] - scaler_vals[\"min\"])\n",
    "    return images_scaled, scaler_vals\n",
    "\n",
    "def load_scaled_datasets(path_data, num_particles, output_cols, slice_idx,\n",
    "                         split='train', scaler_vals=None):\n",
    "    \"\"\"\n",
    "    Given a path to training or validation datset, the number of particles per\n",
    "    hologram, and output columns, returns scaled inputs and raw outputs.\n",
    "    \n",
    "    Args: \n",
    "        path_data: (str) Path to directory containing training and validation datsets\n",
    "        num_particles: (int or str) Number of particles per hologram (1, 3, or 'multi') \n",
    "        output_cols: (list of strings) List of feature columns to be used\n",
    "        \n",
    "    Returns:\n",
    "        inputs_scaled: (np array) Input data scaled between 0 and 1\n",
    "        outputs: (df) Output data specified by output_cols\n",
    "        scaler_vals: (dict) list of training/validation/test files\n",
    "    \"\"\"\n",
    "    \n",
    "    if split == 'valid':\n",
    "      slice_idx = int(slice_idx/3)\n",
    "    print(\"Slicing data into inputs/outputs\")\n",
    "    ds = open_zarr(path_data, num_particles, split)\n",
    "    inputs = ds[\"image\"].values[:slice_idx]\n",
    "    outputs = ds[output_cols].to_dataframe().loc[:slice_idx-1,:]\n",
    "    ds.close()\n",
    "    print(f\"\\t- outputs.shape: {outputs.shape}\")\n",
    "\n",
    "    print(\"Scaling input data\")\n",
    "    if split == 'train':\n",
    "      inputs_scaled, scaler_vals = scale_images(inputs)\n",
    "    else:\n",
    "      slice_idx = int(slice_idx/3)\n",
    "      inputs_scaled, _ = scale_images(inputs, scaler_vals)\n",
    "  \n",
    "    inputs_scaled = np.expand_dims(inputs_scaled, -1)\n",
    "    print(f\"\\t- inputs_scaled.shape: {inputs_scaled.shape}\")\n",
    "\n",
    "    return inputs_scaled, outputs, scaler_vals"
   ]
  },
  {
   "cell_type": "code",
   "execution_count": null,
   "metadata": {
    "colab": {},
    "colab_type": "code",
    "id": "GRYEaF_qVHyE"
   },
   "outputs": [],
   "source": [
    "# data definitions\n",
    "\n",
    "path_data = \"ncar-aiml-data-commons/holodec/\"\n",
    "num_particles = 1\n",
    "output_cols_one  = [\"x\", \"y\", \"z\", \"d\"]\n",
    "scaler_one = MinMaxScaler()\n",
    "slice_idx = 3000"
   ]
  },
  {
   "cell_type": "code",
   "execution_count": null,
   "metadata": {
    "colab": {
     "base_uri": "https://localhost:8080/",
     "height": 158
    },
    "colab_type": "code",
    "executionInfo": {
     "elapsed": 361337,
     "status": "ok",
     "timestamp": 1592944627490,
     "user": {
      "displayName": "Alyson Douglas",
      "photoUrl": "",
      "userId": "09630862883378432363"
     },
     "user_tz": 300
    },
    "id": "tOg7L40hWiic",
    "outputId": "a8beb186-2ece-485b-a0ca-a5eedf759b7d"
   },
   "outputs": [
    {
     "name": "stdout",
     "output_type": "stream",
     "text": [
      "Slicing data into inputs/outputs\n",
      "\t- outputs.shape: (3000, 4)\n",
      "Scaling input data\n",
      "\t- inputs_scaled.shape: (3000, 600, 400, 1)\n",
      "Slicing data into inputs/outputs\n",
      "\t- outputs.shape: (1000, 4)\n",
      "Scaling input data\n",
      "\t- inputs_scaled.shape: (1000, 600, 400, 1)\n"
     ]
    }
   ],
   "source": [
    "# load and normalize data (this takes approximately 2 minutes)\n",
    "train_inputs_scaled_one,\\\n",
    "train_outputs_one,\\\n",
    "scaler_vals_one = load_scaled_datasets(path_data,\n",
    "                                   num_particles,\n",
    "                                   output_cols_one,\n",
    "                                   slice_idx)\n",
    "\n",
    "valid_inputs_scaled_one,\\\n",
    "valid_outputs_one, _ = load_scaled_datasets(path_data,\n",
    "                                        num_particles,\n",
    "                                        output_cols_one,\n",
    "                                        slice_idx,\n",
    "                                        split='valid',\n",
    "                                        scaler_vals=scaler_vals_one)\n",
    "\n",
    "# extra transform step for output_cols_one in lieu of z mass\n",
    "\n",
    "train_outputs_scaled_one = scaler_one.fit_transform(train_outputs_one[output_cols_one])\n",
    "valid_outputs_scaled_one = scaler_one.transform(valid_outputs_one[output_cols_one])\n"
   ]
  },
  {
   "cell_type": "code",
   "execution_count": null,
   "metadata": {
    "colab": {},
    "colab_type": "code",
    "id": "1xhjAKJ-WmUO"
   },
   "outputs": [],
   "source": [
    "class Conv2DNeuralNetwork(object):\n",
    "    \"\"\"2D\n",
    "    A Conv2D Neural Network Model that can support arbitrary numbers of layers.\n",
    "\n",
    "    Attributes:\n",
    "        filters: List of number of filters in each Conv2D layer\n",
    "        kernel_sizes: List of kernel sizes in each Conv2D layer\n",
    "        conv2d_activation: Type of activation function for conv2d layers\n",
    "        pool_sizes: List of Max Pool sizes\n",
    "        dense_sizes: Sizes of dense layers\n",
    "        dense_activation: Type of activation function for dense layers\n",
    "        output_activation: Type of activation function for output layer\n",
    "        lr: Optimizer learning rate\n",
    "        optimizer: Name of optimizer or optimizer object.\n",
    "        adam_beta_1: Exponential decay rate for the first moment estimates\n",
    "        adam_beta_2: Exponential decay rate for the first moment estimates\n",
    "        sgd_momentum: Stochastic Gradient Descent momentum\n",
    "        decay: Optimizer decay\n",
    "        loss: Name of loss function or loss object\n",
    "        batch_size: Number of examples per batch\n",
    "        epochs: Number of epochs to train\n",
    "        verbose: Level of detail to provide during training\n",
    "        model: Keras Model object\n",
    "    \"\"\"\n",
    "    def __init__(self, filters=(8,), kernel_sizes=(5,), conv2d_activation=\"relu\",\n",
    "                 pool_sizes=(4,), dense_sizes=(64,), dense_activation=\"relu\", output_activation=\"softmax\",\n",
    "                 lr=0.001, optimizer=\"adam\",  adam_beta_1=0.9, adam_beta_2=0.999,\n",
    "                 sgd_momentum=0.9, decay=0, loss=\"mse\", batch_size=32, epochs=2, verbose=0):\n",
    "        self.filters = filters\n",
    "        self.kernel_sizes = [tuple((v,v)) for v in kernel_sizes]\n",
    "        self.conv2d_activation = conv2d_activation\n",
    "        self.pool_sizes = [tuple((v,v)) for v in pool_sizes]\n",
    "        self.dense_sizes = dense_sizes\n",
    "        self.dense_activation = dense_activation\n",
    "        self.output_activation = output_activation\n",
    "        self.lr = lr\n",
    "        self.optimizer = optimizer\n",
    "        self.optimizer_obj = None\n",
    "        self.adam_beta_1 = adam_beta_1\n",
    "        self.adam_beta_2 = adam_beta_2\n",
    "        self.sgd_momentum = sgd_momentum\n",
    "        self.decay = decay\n",
    "        self.loss = loss\n",
    "        self.batch_size = batch_size\n",
    "        self.epochs = epochs\n",
    "        self.verbose = verbose\n",
    "        self.model = None\n",
    "\n",
    "    def build_neural_network(self, input_shape, output_shape):\n",
    "        \"\"\"Create Keras neural network model and compile it.\"\"\"\n",
    "        conv_input = Input(shape=(input_shape), name=\"input\")\n",
    "        nn_model = conv_input\n",
    "        for h in range(len(self.filters)):\n",
    "            nn_model = Conv2D(self.filters[h], self.kernel_sizes[h], padding=\"same\",\n",
    "                              activation=self.conv2d_activation, name=f\"conv2D_{h:02d}\")(nn_model)\n",
    "            nn_model = MaxPool2D(self.pool_sizes[h], name=f\"maxpool2D_{h:02d}\")(nn_model)\n",
    "        nn_model = Flatten()(nn_model)\n",
    "        for h in range(len(self.dense_sizes)):\n",
    "            nn_model = Dense(self.dense_sizes[h], activation=self.dense_activation, name=f\"dense_{h:02d}\")(nn_model)\n",
    "        nn_model = Dense(output_shape, activation=self.output_activation, name=f\"dense_output\")(nn_model)\n",
    "        self.model = Model(conv_input, nn_model)\n",
    "        if self.optimizer == \"adam\":\n",
    "            self.optimizer_obj = Adam(lr=self.lr, beta_1=self.adam_beta_1, beta_2=self.adam_beta_2, decay=self.decay)\n",
    "        elif self.optimizer == \"sgd\":\n",
    "            self.optimizer_obj = SGD(lr=self.lr, momentum=self.sgd_momentum, decay=self.decay)\n",
    "        \n",
    "        self.model.compile(optimizer=self.optimizer, loss=self.loss)\n",
    "        self.model.summary()\n",
    "\n",
    "    def fit(self, x, y, xv, yv):\n",
    "        if len(y.shape) == 1:\n",
    "            output_shape = 1\n",
    "        else:\n",
    "            output_shape = y.shape[1]\n",
    "        input_shape = x.shape[1:]\n",
    "        self.build_neural_network(input_shape, output_shape)\n",
    "        self.model.fit(x, y, batch_size=self.batch_size, epochs=self.epochs,\n",
    "                       verbose=self.verbose, validation_data=(xv, yv))\n",
    "        return self.model.history.history\n",
    "\n",
    "    def predict(self, x):\n",
    "        y_out = self.model.predict(x, batch_size=self.batch_size)\n",
    "        return y_out\n",
    "\n",
    "    def predict_proba(self, x):\n",
    "        y_prob = self.model.predict(x, batch_size=self.batch_size)\n",
    "        return y_prob"
   ]
  },
  {
   "cell_type": "code",
   "execution_count": null,
   "metadata": {
    "colab": {},
    "colab_type": "code",
    "id": "T72RJJHODyaB"
   },
   "outputs": [],
   "source": [
    "model_histories = []"
   ]
  },
  {
   "cell_type": "code",
   "execution_count": null,
   "metadata": {
    "colab": {},
    "colab_type": "code",
    "id": "DGXDCzmzXYrW"
   },
   "outputs": [],
   "source": [
    "# conv2d_network definitions for 1 particle 4D solution\n",
    "#we updated and tuned the hyperparameters to minimize loss\n",
    "#this included adding more layers to the CNN, changing the optimizer and loss, and changing batch size to 1\n",
    "#with this tuning, the loss is less sensitive to learning rate and does not reach overfitting\n",
    "IN_COLAB = 'google.colab' in sys.modules\n",
    "path_out = \"/content/gdrive/My Drive/micro_models/1particle_base\"\n",
    "if not exists(path_out):\n",
    "    os.makedirs(path_out)\n",
    "model_name = \"cnn\"\n",
    "filters = [16, 24, 32, 44]\n",
    "kernel_sizes = [5, 5, 5, 5]\n",
    "conv2d_activation = \"relu\"\n",
    "pool_sizes = [4, 4, 4, 4]\n",
    "dense_sizes = [64, 32, 24]\n",
    "dense_activation = \"relu\"\n",
    "lr = 0.001\n",
    "optimizer = \"Adamax\"\n",
    "loss = \"mse\"\n",
    "batch_size = 1\n",
    "epochs = 40\n",
    "verbose = 1\n",
    "\n",
    "if not exists(path_out):\n",
    "    os.makedirs(path_out)"
   ]
  },
  {
   "cell_type": "code",
   "execution_count": null,
   "metadata": {
    "colab": {
     "base_uri": "https://localhost:8080/",
     "height": 1000
    },
    "colab_type": "code",
    "executionInfo": {
     "elapsed": 298241,
     "status": "ok",
     "timestamp": 1592948592944,
     "user": {
      "displayName": "Alyson Douglas",
      "photoUrl": "",
      "userId": "09630862883378432363"
     },
     "user_tz": 300
    },
    "id": "V-fuamXRXjDc",
    "outputId": "3f3f2011-d5a3-4dbc-b1cb-d9bcba369332"
   },
   "outputs": [
    {
     "name": "stdout",
     "output_type": "stream",
     "text": [
      "Model: \"model_14\"\n",
      "_________________________________________________________________\n",
      "Layer (type)                 Output Shape              Param #   \n",
      "=================================================================\n",
      "input (InputLayer)           [(None, 600, 400, 1)]     0         \n",
      "_________________________________________________________________\n",
      "conv2D_00 (Conv2D)           (None, 600, 400, 16)      416       \n",
      "_________________________________________________________________\n",
      "maxpool2D_00 (MaxPooling2D)  (None, 150, 100, 16)      0         \n",
      "_________________________________________________________________\n",
      "conv2D_01 (Conv2D)           (None, 150, 100, 24)      9624      \n",
      "_________________________________________________________________\n",
      "maxpool2D_01 (MaxPooling2D)  (None, 37, 25, 24)        0         \n",
      "_________________________________________________________________\n",
      "conv2D_02 (Conv2D)           (None, 37, 25, 32)        19232     \n",
      "_________________________________________________________________\n",
      "maxpool2D_02 (MaxPooling2D)  (None, 9, 6, 32)          0         \n",
      "_________________________________________________________________\n",
      "conv2D_03 (Conv2D)           (None, 9, 6, 44)          35244     \n",
      "_________________________________________________________________\n",
      "maxpool2D_03 (MaxPooling2D)  (None, 2, 1, 44)          0         \n",
      "_________________________________________________________________\n",
      "flatten_14 (Flatten)         (None, 88)                0         \n",
      "_________________________________________________________________\n",
      "dense_00 (Dense)             (None, 64)                5696      \n",
      "_________________________________________________________________\n",
      "dense_01 (Dense)             (None, 32)                2080      \n",
      "_________________________________________________________________\n",
      "dense_02 (Dense)             (None, 24)                792       \n",
      "_________________________________________________________________\n",
      "dense_output (Dense)         (None, 4)                 100       \n",
      "=================================================================\n",
      "Total params: 73,184\n",
      "Trainable params: 73,184\n",
      "Non-trainable params: 0\n",
      "_________________________________________________________________\n",
      "Epoch 1/20\n",
      "3000/3000 [==============================] - 15s 5ms/step - loss: 0.1328 - val_loss: 0.1057\n",
      "Epoch 2/20\n",
      "3000/3000 [==============================] - 14s 5ms/step - loss: 0.1021 - val_loss: 0.0968\n",
      "Epoch 3/20\n",
      "3000/3000 [==============================] - 15s 5ms/step - loss: 0.0963 - val_loss: 0.0919\n",
      "Epoch 4/20\n",
      "3000/3000 [==============================] - 14s 5ms/step - loss: 0.0937 - val_loss: 0.0892\n",
      "Epoch 5/20\n",
      "3000/3000 [==============================] - 14s 5ms/step - loss: 0.0924 - val_loss: 0.0894\n",
      "Epoch 6/20\n",
      "3000/3000 [==============================] - 14s 5ms/step - loss: 0.0913 - val_loss: 0.0877\n",
      "Epoch 7/20\n",
      "3000/3000 [==============================] - 14s 5ms/step - loss: 0.0908 - val_loss: 0.0880\n",
      "Epoch 8/20\n",
      "3000/3000 [==============================] - 14s 5ms/step - loss: 0.0904 - val_loss: 0.0874\n",
      "Epoch 9/20\n",
      "3000/3000 [==============================] - 15s 5ms/step - loss: 0.0900 - val_loss: 0.0868\n",
      "Epoch 10/20\n",
      "3000/3000 [==============================] - 14s 5ms/step - loss: 0.0899 - val_loss: 0.0864\n",
      "Epoch 11/20\n",
      "3000/3000 [==============================] - 14s 5ms/step - loss: 0.0896 - val_loss: 0.0861\n",
      "Epoch 12/20\n",
      "3000/3000 [==============================] - 14s 5ms/step - loss: 0.0894 - val_loss: 0.0860\n",
      "Epoch 13/20\n",
      "3000/3000 [==============================] - 15s 5ms/step - loss: 0.0893 - val_loss: 0.0857\n",
      "Epoch 14/20\n",
      "3000/3000 [==============================] - 15s 5ms/step - loss: 0.0892 - val_loss: 0.0860\n",
      "Epoch 15/20\n",
      "3000/3000 [==============================] - 14s 5ms/step - loss: 0.0891 - val_loss: 0.0860\n",
      "Epoch 16/20\n",
      "3000/3000 [==============================] - 15s 5ms/step - loss: 0.0890 - val_loss: 0.0858\n",
      "Epoch 17/20\n",
      "3000/3000 [==============================] - 14s 5ms/step - loss: 0.0889 - val_loss: 0.0859\n",
      "Epoch 18/20\n",
      "3000/3000 [==============================] - 15s 5ms/step - loss: 0.0889 - val_loss: 0.0855\n",
      "Epoch 19/20\n",
      "3000/3000 [==============================] - 15s 5ms/step - loss: 0.0888 - val_loss: 0.0856\n",
      "Epoch 20/20\n",
      "3000/3000 [==============================] - 15s 5ms/step - loss: 0.0887 - val_loss: 0.0856\n",
      "Running model took 0:04:57.310155 time\n"
     ]
    }
   ],
   "source": [
    "# 1 particle 4D model build, compile, fit, and predict\n",
    "\n",
    "one_start = datetime.now()\n",
    "with tf.device('/device:GPU:0'):\n",
    "    mod = Conv2DNeuralNetwork(filters=filters, kernel_sizes=kernel_sizes, conv2d_activation=conv2d_activation,\n",
    "                     pool_sizes=pool_sizes, dense_sizes=dense_sizes, dense_activation=dense_activation,\n",
    "                     lr=lr, optimizer=optimizer, loss=loss, batch_size=batch_size, epochs=epochs, verbose=verbose)\n",
    "    hist = mod.fit(train_inputs_scaled_one, train_outputs_scaled_one, valid_inputs_scaled_one, valid_outputs_scaled_one)\n",
    "    \n",
    "    train_preds_scaled_one = pd.DataFrame(mod.predict(train_inputs_scaled_one), columns=output_cols_one)\n",
    "    valid_preds_scaled_one = pd.DataFrame(mod.predict(valid_inputs_scaled_one), columns=output_cols_one)\n",
    "print(f\"Running model took {datetime.now() - one_start} time\")\n",
    "model_histories.append(hist)"
   ]
  },
  {
   "cell_type": "code",
   "execution_count": null,
   "metadata": {
    "colab": {
     "base_uri": "https://localhost:8080/",
     "height": 316
    },
    "colab_type": "code",
    "executionInfo": {
     "elapsed": 1031,
     "status": "ok",
     "timestamp": 1592948623641,
     "user": {
      "displayName": "Alyson Douglas",
      "photoUrl": "",
      "userId": "09630862883378432363"
     },
     "user_tz": 300
    },
    "id": "V4ciOyOJ7VmO",
    "outputId": "4222bcc9-eba3-4563-8939-8316fd5e2664"
   },
   "outputs": [
    {
     "name": "stdout",
     "output_type": "stream",
     "text": [
      "[{'loss': [0.14606048166751862, 0.12128443270921707, 0.10289492458105087, 0.09852700680494308, 0.09533362090587616, 0.09335126727819443, 0.09200030565261841, 0.09110025316476822, 0.09062621742486954, 0.0901823341846466, 0.08999761193990707, 0.08978533744812012, 0.08961872011423111, 0.08945808559656143, 0.08931206166744232, 0.0891931876540184, 0.08909051865339279, 0.08905240148305893, 0.08897840231657028, 0.08894898742437363], 'val_loss': [0.14189746975898743, 0.10538791865110397, 0.1002257689833641, 0.09486272931098938, 0.0917251706123352, 0.09043538570404053, 0.08864177763462067, 0.08828555047512054, 0.08734402805566788, 0.08750437200069427, 0.08640124648809433, 0.08662179112434387, 0.08596350997686386, 0.08620478212833405, 0.08601756393909454, 0.08591266721487045, 0.08581479638814926, 0.0856587141752243, 0.08573529869318008, 0.08571992814540863]}, {'loss': [0.11949414759874344, 0.1001715287566185, 0.0968429297208786, 0.09486785531044006, 0.09336967766284943, 0.09232126921415329, 0.0914519652724266, 0.09086235612630844, 0.09033721685409546, 0.08996909856796265, 0.08964967727661133, 0.08937407284975052, 0.08930410444736481, 0.08919848501682281, 0.08900921791791916, 0.0889129638671875, 0.0888376533985138, 0.08877987414598465, 0.08872485160827637, 0.0886409729719162], 'val_loss': [0.10746539384126663, 0.09353030472993851, 0.09274537116289139, 0.09015549719333649, 0.09061744809150696, 0.08921879529953003, 0.08838563412427902, 0.08721321821212769, 0.0869317278265953, 0.087276890873909, 0.08613962680101395, 0.08586238324642181, 0.08573208004236221, 0.08573539555072784, 0.08577236533164978, 0.08555931597948074, 0.0868336409330368, 0.08549785614013672, 0.0856955498456955, 0.08528582006692886]}, {'loss': [0.1444743424654007, 0.10921894013881683, 0.10012822598218918, 0.09695092588663101, 0.09470824152231216, 0.09298750013113022, 0.09182143211364746, 0.0910799652338028, 0.09055103361606598, 0.09012752026319504, 0.08989746868610382, 0.0896226316690445, 0.08943050354719162, 0.08932170271873474, 0.08916818350553513, 0.0891125351190567, 0.08896389603614807, 0.08893417567014694, 0.08884819597005844, 0.08879771083593369], 'val_loss': [0.12178540974855423, 0.09780211001634598, 0.09451164305210114, 0.09497392177581787, 0.09141696989536285, 0.0886884331703186, 0.08894124627113342, 0.08913099765777588, 0.08688769489526749, 0.0876544713973999, 0.08634378015995026, 0.08669960498809814, 0.08581281453371048, 0.08639632165431976, 0.08596872538328171, 0.08576228469610214, 0.08561910688877106, 0.0854712724685669, 0.08540722727775574, 0.08553440868854523]}, {'loss': [0.13279913365840912, 0.10213631391525269, 0.09627185761928558, 0.09371389448642731, 0.09243381768465042, 0.09130889922380447, 0.0908358171582222, 0.09043789654970169, 0.09004093706607819, 0.08985499292612076, 0.08961720019578934, 0.08941580355167389, 0.08927155286073685, 0.08919226378202438, 0.08909525722265244, 0.08899593353271484, 0.08890867233276367, 0.08887402713298798, 0.08878644555807114, 0.08870723098516464], 'val_loss': [0.10573609918355942, 0.09676769375801086, 0.09189345687627792, 0.08921924233436584, 0.08936712145805359, 0.08771190792322159, 0.08798960596323013, 0.08742723613977432, 0.0867997258901596, 0.0864391028881073, 0.08614315092563629, 0.08604437112808228, 0.08573898673057556, 0.08597647398710251, 0.08596322685480118, 0.0857919305562973, 0.08593476563692093, 0.08552015572786331, 0.08556675165891647, 0.08560337871313095]}]\n"
     ]
    },
    {
     "data": {
      "image/png": "[encoded data removed]",
      "text/plain": [
       "<Figure size 432x288 with 1 Axes>"
      ]
     },
     "metadata": {
      "needs_background": "light",
      "tags": []
     },
     "output_type": "display_data"
    }
   ],
   "source": [
    "\n",
    "for hist in model_histories:\n",
    "  #plt.plot(hist['loss'], label = 'training')\n",
    "  plt.plot(hist['val_loss'])\n",
    "  plt.ylabel('loss')\n",
    "  plt.xlabel('epoch')\n",
    "plt.legend()\n",
    "plt.show()"
   ]
  },
  {
   "cell_type": "code",
   "execution_count": null,
   "metadata": {
    "colab": {},
    "colab_type": "code",
    "id": "1IrRDj8xX2Ue"
   },
   "outputs": [],
   "source": [
    "# inverse transform of scaled predictions\n",
    "\n",
    "train_preds_one = pd.DataFrame(scaler_one.inverse_transform(train_preds_scaled_one.values), columns=output_cols_one)\n",
    "valid_preds_one = pd.DataFrame(scaler_one.inverse_transform(valid_preds_scaled_one.values), columns=output_cols_one)"
   ]
  },
  {
   "cell_type": "code",
   "execution_count": null,
   "metadata": {
    "colab": {
     "base_uri": "https://localhost:8080/",
     "height": 87
    },
    "colab_type": "code",
    "executionInfo": {
     "elapsed": 792,
     "status": "ok",
     "timestamp": 1592948709051,
     "user": {
      "displayName": "Alyson Douglas",
      "photoUrl": "",
      "userId": "09630862883378432363"
     },
     "user_tz": 300
    },
    "id": "W01LybSyyJBe",
    "outputId": "60d99595-ff7f-48e4-b8c7-71f3976ac905"
   },
   "outputs": [
    {
     "name": "stdout",
     "output_type": "stream",
     "text": [
      "x MAE: 439 µm \t\t Max Error: 1,081 µm\n",
      "y MAE: 305 µm \t\t Max Error: 747 µm\n",
      "z MAE: 35,832 µm \t\t Max Error: 103,686 µm\n",
      "d MAE: 12 µm \t\t Max Error: 34 µm\n"
     ]
    }
   ],
   "source": [
    "\n",
    "valid_maes_one = np.zeros(len(output_cols_one))\n",
    "max_errors_one = np.zeros(len(output_cols_one))\n",
    "for o, output_col in enumerate(output_cols_one):\n",
    "    valid_maes_one[o] = mean_absolute_error(valid_outputs_one[output_col], valid_preds_one[output_col])\n",
    "    max_errors_one[o] = max_error(valid_outputs_one[output_col], valid_preds_one[output_col])\n",
    "\n",
    "    print(f\"{output_col} MAE: {valid_maes_one[o]:,.0f} µm \\t\\t Max Error: {max_errors_one[o]:,.0f} µm\")"
   ]
  },
  {
   "cell_type": "code",
   "execution_count": null,
   "metadata": {
    "colab": {},
    "colab_type": "code",
    "id": "NETQeisWyLDX"
   },
   "outputs": [],
   "source": []
  },
  {
   "cell_type": "markdown",
   "metadata": {},
   "source": [
    "# CNN for a single particle\n",
    "## Using this structure and tuning hyperparameters\n",
    "\n",
    "### conv2d_network definitions for 1 particle 4D solution\n",
    "\n",
    "IN_COLAB = 'google.colab' in sys.modules\n",
    "if IN_COLAB:\n",
    "    path_out = \"/content/gdrive/My Drive/micro_models/1particle_base\"\n",
    "else:\n",
    "    path_out = \"./holodec_models/1particle_base/\"\n",
    "if not exists(path_out):\n",
    "    os.makedirs(path_out)\n",
    "model_name = \"cnn\"\n",
    "filters = [16, 24, 32]\n",
    "kernel_sizes = [5, 5, 5]\n",
    "conv2d_activation = \"relu\"\n",
    "pool_sizes = [4, 4, 4]\n",
    "dense_sizes = [64, 32]\n",
    "dense_activation = \"relu\"\n",
    "lr = 0.001\n",
    "optimizer = \"Adamax\"\n",
    "loss = \"mse\"\n",
    "batch_size = 64\n",
    "epochs = 20\n",
    "verbose = 1\n",
    "\n",
    "if not exists(path_out):\n",
    "    os.makedirs(path_out)\n",
    "\n"
   ]
  },
  {
   "cell_type": "markdown",
   "metadata": {},
   "source": [
    "#### We got some results\n",
    "Ps.: learning rate(LR)\n",
    "\n",
    "test 0: LR = 0.001, optimizer = adam, loss = mse, batch_size = 64 \n",
    "\n",
    "test 1: LR = 0.001, optimizer = adam, loss = mse, batch_size = 32\n",
    "\n",
    "test 2: LR = 0.001, optimizer = rmsprop, loss = mse, batch_size = 64\n",
    "\n",
    "test 3: LR = 0.001, optimizer = adamax, loss = mse, batch_size = 64\n",
    "\n",
    "<center><img src='more_tests.png'><center>"
   ]
  },
  {
   "cell_type": "code",
   "execution_count": null,
   "metadata": {},
   "outputs": [],
   "source": []
  }
 ],
 "metadata": {
  "accelerator": "GPU",
  "colab": {
   "authorship_tag": "ABX9TyPIM0keED+6etQnzzBdTlDR",
   "collapsed_sections": [],
   "name": "Holodec_Day2.ipynb",
   "provenance": []
  },
  "kernelspec": {
   "display_name": "Python 3",
   "language": "python",
   "name": "python3"
  },
  "language_info": {
   "codemirror_mode": {
    "name": "ipython",
    "version": 3
   },
   "file_extension": ".py",
   "mimetype": "text/x-python",
   "name": "python",
   "nbconvert_exporter": "python",
   "pygments_lexer": "ipython3",
   "version": "3.7.6"
  }
 },
 "nbformat": 4,
 "nbformat_minor": 4
}
